{
 "cells": [
  {
   "cell_type": "code",
   "execution_count": 3,
   "metadata": {},
   "outputs": [
    {
     "data": {
      "text/html": [
       "<div>\n",
       "<style scoped>\n",
       "    .dataframe tbody tr th:only-of-type {\n",
       "        vertical-align: middle;\n",
       "    }\n",
       "\n",
       "    .dataframe tbody tr th {\n",
       "        vertical-align: top;\n",
       "    }\n",
       "\n",
       "    .dataframe thead th {\n",
       "        text-align: right;\n",
       "    }\n",
       "</style>\n",
       "<table border=\"1\" class=\"dataframe\">\n",
       "  <thead>\n",
       "    <tr style=\"text-align: right;\">\n",
       "      <th></th>\n",
       "      <th>사용월</th>\n",
       "      <th>연도</th>\n",
       "      <th>월</th>\n",
       "      <th>지하철역</th>\n",
       "      <th>04시-05시 승차인원</th>\n",
       "      <th>05시-06시 승차인원</th>\n",
       "      <th>06시-07시 승차인원</th>\n",
       "      <th>07시-08시 승차인원</th>\n",
       "      <th>08시-09시 승차인원</th>\n",
       "      <th>09시-10시 승차인원</th>\n",
       "      <th>...</th>\n",
       "      <th>18시-19시 승차인원</th>\n",
       "      <th>19시-20시 승차인원</th>\n",
       "      <th>20시-21시 승차인원</th>\n",
       "      <th>21시-22시 승차인원</th>\n",
       "      <th>22시-23시 승차인원</th>\n",
       "      <th>23시-24시 승차인원</th>\n",
       "      <th>00시-01시 승차인원</th>\n",
       "      <th>01시-02시 승차인원</th>\n",
       "      <th>02시-03시 승차인원</th>\n",
       "      <th>03시-04시 승차인원</th>\n",
       "    </tr>\n",
       "  </thead>\n",
       "  <tbody>\n",
       "    <tr>\n",
       "      <th>0</th>\n",
       "      <td>202307</td>\n",
       "      <td>2023</td>\n",
       "      <td>7</td>\n",
       "      <td>강남</td>\n",
       "      <td>120</td>\n",
       "      <td>9359</td>\n",
       "      <td>18503</td>\n",
       "      <td>40112</td>\n",
       "      <td>64256</td>\n",
       "      <td>52713</td>\n",
       "      <td>...</td>\n",
       "      <td>327480</td>\n",
       "      <td>215011</td>\n",
       "      <td>172551</td>\n",
       "      <td>196756</td>\n",
       "      <td>177694</td>\n",
       "      <td>80992</td>\n",
       "      <td>13773</td>\n",
       "      <td>3</td>\n",
       "      <td>0</td>\n",
       "      <td>0</td>\n",
       "    </tr>\n",
       "    <tr>\n",
       "      <th>1</th>\n",
       "      <td>202307</td>\n",
       "      <td>2023</td>\n",
       "      <td>7</td>\n",
       "      <td>강변</td>\n",
       "      <td>27</td>\n",
       "      <td>8936</td>\n",
       "      <td>28877</td>\n",
       "      <td>78164</td>\n",
       "      <td>117728</td>\n",
       "      <td>82763</td>\n",
       "      <td>...</td>\n",
       "      <td>61291</td>\n",
       "      <td>43557</td>\n",
       "      <td>32792</td>\n",
       "      <td>27539</td>\n",
       "      <td>19267</td>\n",
       "      <td>7874</td>\n",
       "      <td>1058</td>\n",
       "      <td>1</td>\n",
       "      <td>0</td>\n",
       "      <td>0</td>\n",
       "    </tr>\n",
       "    <tr>\n",
       "      <th>2</th>\n",
       "      <td>202307</td>\n",
       "      <td>2023</td>\n",
       "      <td>7</td>\n",
       "      <td>건대입구</td>\n",
       "      <td>290</td>\n",
       "      <td>16965</td>\n",
       "      <td>22074</td>\n",
       "      <td>53127</td>\n",
       "      <td>91248</td>\n",
       "      <td>61438</td>\n",
       "      <td>...</td>\n",
       "      <td>85337</td>\n",
       "      <td>64419</td>\n",
       "      <td>65838</td>\n",
       "      <td>72636</td>\n",
       "      <td>74202</td>\n",
       "      <td>45555</td>\n",
       "      <td>7559</td>\n",
       "      <td>3</td>\n",
       "      <td>0</td>\n",
       "      <td>0</td>\n",
       "    </tr>\n",
       "    <tr>\n",
       "      <th>3</th>\n",
       "      <td>202307</td>\n",
       "      <td>2023</td>\n",
       "      <td>7</td>\n",
       "      <td>교대</td>\n",
       "      <td>15</td>\n",
       "      <td>2693</td>\n",
       "      <td>11535</td>\n",
       "      <td>25250</td>\n",
       "      <td>36820</td>\n",
       "      <td>27461</td>\n",
       "      <td>...</td>\n",
       "      <td>133358</td>\n",
       "      <td>62654</td>\n",
       "      <td>51239</td>\n",
       "      <td>53658</td>\n",
       "      <td>42819</td>\n",
       "      <td>15754</td>\n",
       "      <td>3171</td>\n",
       "      <td>2</td>\n",
       "      <td>0</td>\n",
       "      <td>0</td>\n",
       "    </tr>\n",
       "    <tr>\n",
       "      <th>4</th>\n",
       "      <td>202307</td>\n",
       "      <td>2023</td>\n",
       "      <td>7</td>\n",
       "      <td>구로디지털단지</td>\n",
       "      <td>369</td>\n",
       "      <td>38505</td>\n",
       "      <td>53882</td>\n",
       "      <td>144838</td>\n",
       "      <td>184498</td>\n",
       "      <td>112257</td>\n",
       "      <td>...</td>\n",
       "      <td>210532</td>\n",
       "      <td>101581</td>\n",
       "      <td>65184</td>\n",
       "      <td>55202</td>\n",
       "      <td>41572</td>\n",
       "      <td>18845</td>\n",
       "      <td>3463</td>\n",
       "      <td>6</td>\n",
       "      <td>0</td>\n",
       "      <td>0</td>\n",
       "    </tr>\n",
       "  </tbody>\n",
       "</table>\n",
       "<p>5 rows × 28 columns</p>\n",
       "</div>"
      ],
      "text/plain": [
       "      사용월    연도  월     지하철역  04시-05시 승차인원  05시-06시 승차인원  06시-07시 승차인원  \\\n",
       "0  202307  2023  7       강남           120          9359         18503   \n",
       "1  202307  2023  7       강변            27          8936         28877   \n",
       "2  202307  2023  7     건대입구           290         16965         22074   \n",
       "3  202307  2023  7       교대            15          2693         11535   \n",
       "4  202307  2023  7  구로디지털단지           369         38505         53882   \n",
       "\n",
       "   07시-08시 승차인원  08시-09시 승차인원  09시-10시 승차인원  ...  18시-19시 승차인원  19시-20시 승차인원  \\\n",
       "0         40112         64256         52713  ...        327480        215011   \n",
       "1         78164        117728         82763  ...         61291         43557   \n",
       "2         53127         91248         61438  ...         85337         64419   \n",
       "3         25250         36820         27461  ...        133358         62654   \n",
       "4        144838        184498        112257  ...        210532        101581   \n",
       "\n",
       "   20시-21시 승차인원  21시-22시 승차인원  22시-23시 승차인원  23시-24시 승차인원  00시-01시 승차인원  \\\n",
       "0        172551        196756        177694         80992         13773   \n",
       "1         32792         27539         19267          7874          1058   \n",
       "2         65838         72636         74202         45555          7559   \n",
       "3         51239         53658         42819         15754          3171   \n",
       "4         65184         55202         41572         18845          3463   \n",
       "\n",
       "   01시-02시 승차인원  02시-03시 승차인원  03시-04시 승차인원  \n",
       "0             3             0             0  \n",
       "1             1             0             0  \n",
       "2             3             0             0  \n",
       "3             2             0             0  \n",
       "4             6             0             0  \n",
       "\n",
       "[5 rows x 28 columns]"
      ]
     },
     "execution_count": 3,
     "metadata": {},
     "output_type": "execute_result"
    }
   ],
   "source": [
    "import pandas as pd\n",
    "import plotly.express as px\n",
    "\n",
    "import warnings\n",
    "warnings.filterwarnings('ignore')\n",
    "\n",
    "df = pd.read_csv('../data/서울시 지하철 호선별 역별 시간대별 승하차 인원 정보_final.csv')\n",
    "df.head()"
   ]
  },
  {
   "cell_type": "markdown",
   "metadata": {},
   "source": [
    "### [1] 승차 인원이 가장 많은 역은?"
   ]
  },
  {
   "cell_type": "code",
   "execution_count": 7,
   "metadata": {},
   "outputs": [
    {
     "data": {
      "text/html": [
       "<div>\n",
       "<style scoped>\n",
       "    .dataframe tbody tr th:only-of-type {\n",
       "        vertical-align: middle;\n",
       "    }\n",
       "\n",
       "    .dataframe tbody tr th {\n",
       "        vertical-align: top;\n",
       "    }\n",
       "\n",
       "    .dataframe thead th {\n",
       "        text-align: right;\n",
       "    }\n",
       "</style>\n",
       "<table border=\"1\" class=\"dataframe\">\n",
       "  <thead>\n",
       "    <tr style=\"text-align: right;\">\n",
       "      <th></th>\n",
       "      <th>사용월</th>\n",
       "      <th>연도</th>\n",
       "      <th>월</th>\n",
       "      <th>지하철역</th>\n",
       "      <th>04시-05시 승차인원</th>\n",
       "      <th>05시-06시 승차인원</th>\n",
       "      <th>06시-07시 승차인원</th>\n",
       "      <th>07시-08시 승차인원</th>\n",
       "      <th>08시-09시 승차인원</th>\n",
       "      <th>09시-10시 승차인원</th>\n",
       "      <th>...</th>\n",
       "      <th>19시-20시 승차인원</th>\n",
       "      <th>20시-21시 승차인원</th>\n",
       "      <th>21시-22시 승차인원</th>\n",
       "      <th>22시-23시 승차인원</th>\n",
       "      <th>23시-24시 승차인원</th>\n",
       "      <th>00시-01시 승차인원</th>\n",
       "      <th>01시-02시 승차인원</th>\n",
       "      <th>02시-03시 승차인원</th>\n",
       "      <th>03시-04시 승차인원</th>\n",
       "      <th>합계</th>\n",
       "    </tr>\n",
       "  </thead>\n",
       "  <tbody>\n",
       "    <tr>\n",
       "      <th>0</th>\n",
       "      <td>202307</td>\n",
       "      <td>2023</td>\n",
       "      <td>7</td>\n",
       "      <td>강남</td>\n",
       "      <td>120</td>\n",
       "      <td>9359</td>\n",
       "      <td>18503</td>\n",
       "      <td>40112</td>\n",
       "      <td>64256</td>\n",
       "      <td>52713</td>\n",
       "      <td>...</td>\n",
       "      <td>215011</td>\n",
       "      <td>172551</td>\n",
       "      <td>196756</td>\n",
       "      <td>177694</td>\n",
       "      <td>80992</td>\n",
       "      <td>13773</td>\n",
       "      <td>3</td>\n",
       "      <td>0</td>\n",
       "      <td>0</td>\n",
       "      <td>2408376</td>\n",
       "    </tr>\n",
       "    <tr>\n",
       "      <th>1</th>\n",
       "      <td>202307</td>\n",
       "      <td>2023</td>\n",
       "      <td>7</td>\n",
       "      <td>강변</td>\n",
       "      <td>27</td>\n",
       "      <td>8936</td>\n",
       "      <td>28877</td>\n",
       "      <td>78164</td>\n",
       "      <td>117728</td>\n",
       "      <td>82763</td>\n",
       "      <td>...</td>\n",
       "      <td>43557</td>\n",
       "      <td>32792</td>\n",
       "      <td>27539</td>\n",
       "      <td>19267</td>\n",
       "      <td>7874</td>\n",
       "      <td>1058</td>\n",
       "      <td>1</td>\n",
       "      <td>0</td>\n",
       "      <td>0</td>\n",
       "      <td>933338</td>\n",
       "    </tr>\n",
       "    <tr>\n",
       "      <th>2</th>\n",
       "      <td>202307</td>\n",
       "      <td>2023</td>\n",
       "      <td>7</td>\n",
       "      <td>건대입구</td>\n",
       "      <td>290</td>\n",
       "      <td>16965</td>\n",
       "      <td>22074</td>\n",
       "      <td>53127</td>\n",
       "      <td>91248</td>\n",
       "      <td>61438</td>\n",
       "      <td>...</td>\n",
       "      <td>64419</td>\n",
       "      <td>65838</td>\n",
       "      <td>72636</td>\n",
       "      <td>74202</td>\n",
       "      <td>45555</td>\n",
       "      <td>7559</td>\n",
       "      <td>3</td>\n",
       "      <td>0</td>\n",
       "      <td>0</td>\n",
       "      <td>1060476</td>\n",
       "    </tr>\n",
       "    <tr>\n",
       "      <th>3</th>\n",
       "      <td>202307</td>\n",
       "      <td>2023</td>\n",
       "      <td>7</td>\n",
       "      <td>교대</td>\n",
       "      <td>15</td>\n",
       "      <td>2693</td>\n",
       "      <td>11535</td>\n",
       "      <td>25250</td>\n",
       "      <td>36820</td>\n",
       "      <td>27461</td>\n",
       "      <td>...</td>\n",
       "      <td>62654</td>\n",
       "      <td>51239</td>\n",
       "      <td>53658</td>\n",
       "      <td>42819</td>\n",
       "      <td>15754</td>\n",
       "      <td>3171</td>\n",
       "      <td>2</td>\n",
       "      <td>0</td>\n",
       "      <td>0</td>\n",
       "      <td>852909</td>\n",
       "    </tr>\n",
       "    <tr>\n",
       "      <th>4</th>\n",
       "      <td>202307</td>\n",
       "      <td>2023</td>\n",
       "      <td>7</td>\n",
       "      <td>구로디지털단지</td>\n",
       "      <td>369</td>\n",
       "      <td>38505</td>\n",
       "      <td>53882</td>\n",
       "      <td>144838</td>\n",
       "      <td>184498</td>\n",
       "      <td>112257</td>\n",
       "      <td>...</td>\n",
       "      <td>101581</td>\n",
       "      <td>65184</td>\n",
       "      <td>55202</td>\n",
       "      <td>41572</td>\n",
       "      <td>18845</td>\n",
       "      <td>3463</td>\n",
       "      <td>6</td>\n",
       "      <td>0</td>\n",
       "      <td>0</td>\n",
       "      <td>1629379</td>\n",
       "    </tr>\n",
       "  </tbody>\n",
       "</table>\n",
       "<p>5 rows × 29 columns</p>\n",
       "</div>"
      ],
      "text/plain": [
       "      사용월    연도  월     지하철역  04시-05시 승차인원  05시-06시 승차인원  06시-07시 승차인원  \\\n",
       "0  202307  2023  7       강남           120          9359         18503   \n",
       "1  202307  2023  7       강변            27          8936         28877   \n",
       "2  202307  2023  7     건대입구           290         16965         22074   \n",
       "3  202307  2023  7       교대            15          2693         11535   \n",
       "4  202307  2023  7  구로디지털단지           369         38505         53882   \n",
       "\n",
       "   07시-08시 승차인원  08시-09시 승차인원  09시-10시 승차인원  ...  19시-20시 승차인원  20시-21시 승차인원  \\\n",
       "0         40112         64256         52713  ...        215011        172551   \n",
       "1         78164        117728         82763  ...         43557         32792   \n",
       "2         53127         91248         61438  ...         64419         65838   \n",
       "3         25250         36820         27461  ...         62654         51239   \n",
       "4        144838        184498        112257  ...        101581         65184   \n",
       "\n",
       "   21시-22시 승차인원  22시-23시 승차인원  23시-24시 승차인원  00시-01시 승차인원  01시-02시 승차인원  \\\n",
       "0        196756        177694         80992         13773             3   \n",
       "1         27539         19267          7874          1058             1   \n",
       "2         72636         74202         45555          7559             3   \n",
       "3         53658         42819         15754          3171             2   \n",
       "4         55202         41572         18845          3463             6   \n",
       "\n",
       "   02시-03시 승차인원  03시-04시 승차인원       합계  \n",
       "0             0             0  2408376  \n",
       "1             0             0   933338  \n",
       "2             0             0  1060476  \n",
       "3             0             0   852909  \n",
       "4             0             0  1629379  \n",
       "\n",
       "[5 rows x 29 columns]"
      ]
     },
     "execution_count": 7,
     "metadata": {},
     "output_type": "execute_result"
    }
   ],
   "source": [
    "df['합계'] = df[df.columns[4:]].sum(axis = 1)\n",
    "df.head()"
   ]
  },
  {
   "cell_type": "markdown",
   "metadata": {},
   "source": [
    "지하철역별 월평균 승차 인원"
   ]
  },
  {
   "cell_type": "code",
   "execution_count": 13,
   "metadata": {},
   "outputs": [
    {
     "data": {
      "text/html": [
       "<div>\n",
       "<style scoped>\n",
       "    .dataframe tbody tr th:only-of-type {\n",
       "        vertical-align: middle;\n",
       "    }\n",
       "\n",
       "    .dataframe tbody tr th {\n",
       "        vertical-align: top;\n",
       "    }\n",
       "\n",
       "    .dataframe thead th {\n",
       "        text-align: right;\n",
       "    }\n",
       "</style>\n",
       "<table border=\"1\" class=\"dataframe\">\n",
       "  <thead>\n",
       "    <tr style=\"text-align: right;\">\n",
       "      <th></th>\n",
       "      <th>지하철역</th>\n",
       "      <th>월평균</th>\n",
       "    </tr>\n",
       "  </thead>\n",
       "  <tbody>\n",
       "    <tr>\n",
       "      <th>0</th>\n",
       "      <td>강남</td>\n",
       "      <td>2.475218e+06</td>\n",
       "    </tr>\n",
       "    <tr>\n",
       "      <th>42</th>\n",
       "      <td>잠실</td>\n",
       "      <td>2.185502e+06</td>\n",
       "    </tr>\n",
       "    <tr>\n",
       "      <th>49</th>\n",
       "      <td>홍대입구</td>\n",
       "      <td>1.895644e+06</td>\n",
       "    </tr>\n",
       "    <tr>\n",
       "      <th>27</th>\n",
       "      <td>신림</td>\n",
       "      <td>1.815902e+06</td>\n",
       "    </tr>\n",
       "    <tr>\n",
       "      <th>4</th>\n",
       "      <td>구로디지털단지</td>\n",
       "      <td>1.656332e+06</td>\n",
       "    </tr>\n",
       "  </tbody>\n",
       "</table>\n",
       "</div>"
      ],
      "text/plain": [
       "       지하철역           월평균\n",
       "0        강남  2.475218e+06\n",
       "42       잠실  2.185502e+06\n",
       "49     홍대입구  1.895644e+06\n",
       "27       신림  1.815902e+06\n",
       "4   구로디지털단지  1.656332e+06"
      ]
     },
     "execution_count": 13,
     "metadata": {},
     "output_type": "execute_result"
    }
   ],
   "source": [
    "df_mean = df.groupby('지하철역')[['합계']].mean().reset_index().rename(columns={'합계' : '월평균'}).sort_values('월평균', ascending=False)\n",
    "df_mean.head()"
   ]
  },
  {
   "cell_type": "code",
   "execution_count": 14,
   "metadata": {},
   "outputs": [
    {
     "data": {
      "application/vnd.plotly.v1+json": {
       "config": {
        "plotlyServerURL": "https://plot.ly"
       },
       "data": [
        {
         "alignmentgroup": "True",
         "hovertemplate": "지하철역=%{x}<br>월평균=%{y}<extra></extra>",
         "legendgroup": "",
         "marker": {
          "color": "#636efa",
          "pattern": {
           "shape": ""
          }
         },
         "name": "",
         "offsetgroup": "",
         "orientation": "v",
         "showlegend": false,
         "textposition": "auto",
         "type": "bar",
         "x": [
          "강남",
          "잠실",
          "홍대입구",
          "신림",
          "구로디지털단지",
          "삼성",
          "신도림",
          "선릉",
          "서울대입구",
          "역삼",
          "을지로입구",
          "신촌",
          "사당",
          "건대입구",
          "강변",
          "교대",
          "합정",
          "성수",
          "낙성대",
          "신대방",
          "대림",
          "봉천",
          "구의",
          "시청",
          "잠실새내",
          "서초",
          "을지로3가",
          "영등포구청",
          "문래",
          "뚝섬",
          "당산",
          "방배",
          "왕십리",
          "이대",
          "동대문역사문화공원",
          "잠실나루",
          "신당",
          "상왕십리",
          "을지로4가",
          "종합운동장",
          "아현",
          "충정로",
          "신정네거리",
          "한양대",
          "양천구청",
          "신설동",
          "용답",
          "용두",
          "신답",
          "도림천"
         ],
         "xaxis": "x",
         "y": [
          2475217.6716417912,
          2185501.925373134,
          1895643.6417910447,
          1815902.4029850746,
          1656331.8955223882,
          1496685.119402985,
          1481449.865671642,
          1463946.4328358208,
          1390678.014925373,
          1286968.8955223882,
          1210663.552238806,
          1120330.4925373134,
          1106370.8358208956,
          1101436.3880597015,
          1051275.3731343283,
          927320.328358209,
          901391.6865671641,
          881951.7611940298,
          797358.5522388059,
          761301.0447761194,
          738446.6417910447,
          674512.6119402985,
          657423.9850746269,
          644775.2089552239,
          640829.8656716418,
          604179.104477612,
          598718.0597014925,
          597942.7611940298,
          559896.8358208955,
          553334.6119402985,
          546903.8208955224,
          497457.46268656716,
          492330.74626865675,
          448621.0447761194,
          420266.2388059702,
          414413.2686567164,
          402560.9253731343,
          391726.7164179105,
          345867.67164179106,
          316693.9552238806,
          291353.3582089552,
          282412.19402985077,
          276586.7164179105,
          267828.552238806,
          189857.223880597,
          109320.04477611941,
          77611.71641791044,
          65791.01492537314,
          43818.53731343283,
          34522.298507462685
         ],
         "yaxis": "y"
        }
       ],
       "layout": {
        "barmode": "relative",
        "legend": {
         "tracegroupgap": 0
        },
        "template": {
         "data": {
          "bar": [
           {
            "error_x": {
             "color": "#2a3f5f"
            },
            "error_y": {
             "color": "#2a3f5f"
            },
            "marker": {
             "line": {
              "color": "#E5ECF6",
              "width": 0.5
             },
             "pattern": {
              "fillmode": "overlay",
              "size": 10,
              "solidity": 0.2
             }
            },
            "type": "bar"
           }
          ],
          "barpolar": [
           {
            "marker": {
             "line": {
              "color": "#E5ECF6",
              "width": 0.5
             },
             "pattern": {
              "fillmode": "overlay",
              "size": 10,
              "solidity": 0.2
             }
            },
            "type": "barpolar"
           }
          ],
          "carpet": [
           {
            "aaxis": {
             "endlinecolor": "#2a3f5f",
             "gridcolor": "white",
             "linecolor": "white",
             "minorgridcolor": "white",
             "startlinecolor": "#2a3f5f"
            },
            "baxis": {
             "endlinecolor": "#2a3f5f",
             "gridcolor": "white",
             "linecolor": "white",
             "minorgridcolor": "white",
             "startlinecolor": "#2a3f5f"
            },
            "type": "carpet"
           }
          ],
          "choropleth": [
           {
            "colorbar": {
             "outlinewidth": 0,
             "ticks": ""
            },
            "type": "choropleth"
           }
          ],
          "contour": [
           {
            "colorbar": {
             "outlinewidth": 0,
             "ticks": ""
            },
            "colorscale": [
             [
              0,
              "#0d0887"
             ],
             [
              0.1111111111111111,
              "#46039f"
             ],
             [
              0.2222222222222222,
              "#7201a8"
             ],
             [
              0.3333333333333333,
              "#9c179e"
             ],
             [
              0.4444444444444444,
              "#bd3786"
             ],
             [
              0.5555555555555556,
              "#d8576b"
             ],
             [
              0.6666666666666666,
              "#ed7953"
             ],
             [
              0.7777777777777778,
              "#fb9f3a"
             ],
             [
              0.8888888888888888,
              "#fdca26"
             ],
             [
              1,
              "#f0f921"
             ]
            ],
            "type": "contour"
           }
          ],
          "contourcarpet": [
           {
            "colorbar": {
             "outlinewidth": 0,
             "ticks": ""
            },
            "type": "contourcarpet"
           }
          ],
          "heatmap": [
           {
            "colorbar": {
             "outlinewidth": 0,
             "ticks": ""
            },
            "colorscale": [
             [
              0,
              "#0d0887"
             ],
             [
              0.1111111111111111,
              "#46039f"
             ],
             [
              0.2222222222222222,
              "#7201a8"
             ],
             [
              0.3333333333333333,
              "#9c179e"
             ],
             [
              0.4444444444444444,
              "#bd3786"
             ],
             [
              0.5555555555555556,
              "#d8576b"
             ],
             [
              0.6666666666666666,
              "#ed7953"
             ],
             [
              0.7777777777777778,
              "#fb9f3a"
             ],
             [
              0.8888888888888888,
              "#fdca26"
             ],
             [
              1,
              "#f0f921"
             ]
            ],
            "type": "heatmap"
           }
          ],
          "heatmapgl": [
           {
            "colorbar": {
             "outlinewidth": 0,
             "ticks": ""
            },
            "colorscale": [
             [
              0,
              "#0d0887"
             ],
             [
              0.1111111111111111,
              "#46039f"
             ],
             [
              0.2222222222222222,
              "#7201a8"
             ],
             [
              0.3333333333333333,
              "#9c179e"
             ],
             [
              0.4444444444444444,
              "#bd3786"
             ],
             [
              0.5555555555555556,
              "#d8576b"
             ],
             [
              0.6666666666666666,
              "#ed7953"
             ],
             [
              0.7777777777777778,
              "#fb9f3a"
             ],
             [
              0.8888888888888888,
              "#fdca26"
             ],
             [
              1,
              "#f0f921"
             ]
            ],
            "type": "heatmapgl"
           }
          ],
          "histogram": [
           {
            "marker": {
             "pattern": {
              "fillmode": "overlay",
              "size": 10,
              "solidity": 0.2
             }
            },
            "type": "histogram"
           }
          ],
          "histogram2d": [
           {
            "colorbar": {
             "outlinewidth": 0,
             "ticks": ""
            },
            "colorscale": [
             [
              0,
              "#0d0887"
             ],
             [
              0.1111111111111111,
              "#46039f"
             ],
             [
              0.2222222222222222,
              "#7201a8"
             ],
             [
              0.3333333333333333,
              "#9c179e"
             ],
             [
              0.4444444444444444,
              "#bd3786"
             ],
             [
              0.5555555555555556,
              "#d8576b"
             ],
             [
              0.6666666666666666,
              "#ed7953"
             ],
             [
              0.7777777777777778,
              "#fb9f3a"
             ],
             [
              0.8888888888888888,
              "#fdca26"
             ],
             [
              1,
              "#f0f921"
             ]
            ],
            "type": "histogram2d"
           }
          ],
          "histogram2dcontour": [
           {
            "colorbar": {
             "outlinewidth": 0,
             "ticks": ""
            },
            "colorscale": [
             [
              0,
              "#0d0887"
             ],
             [
              0.1111111111111111,
              "#46039f"
             ],
             [
              0.2222222222222222,
              "#7201a8"
             ],
             [
              0.3333333333333333,
              "#9c179e"
             ],
             [
              0.4444444444444444,
              "#bd3786"
             ],
             [
              0.5555555555555556,
              "#d8576b"
             ],
             [
              0.6666666666666666,
              "#ed7953"
             ],
             [
              0.7777777777777778,
              "#fb9f3a"
             ],
             [
              0.8888888888888888,
              "#fdca26"
             ],
             [
              1,
              "#f0f921"
             ]
            ],
            "type": "histogram2dcontour"
           }
          ],
          "mesh3d": [
           {
            "colorbar": {
             "outlinewidth": 0,
             "ticks": ""
            },
            "type": "mesh3d"
           }
          ],
          "parcoords": [
           {
            "line": {
             "colorbar": {
              "outlinewidth": 0,
              "ticks": ""
             }
            },
            "type": "parcoords"
           }
          ],
          "pie": [
           {
            "automargin": true,
            "type": "pie"
           }
          ],
          "scatter": [
           {
            "fillpattern": {
             "fillmode": "overlay",
             "size": 10,
             "solidity": 0.2
            },
            "type": "scatter"
           }
          ],
          "scatter3d": [
           {
            "line": {
             "colorbar": {
              "outlinewidth": 0,
              "ticks": ""
             }
            },
            "marker": {
             "colorbar": {
              "outlinewidth": 0,
              "ticks": ""
             }
            },
            "type": "scatter3d"
           }
          ],
          "scattercarpet": [
           {
            "marker": {
             "colorbar": {
              "outlinewidth": 0,
              "ticks": ""
             }
            },
            "type": "scattercarpet"
           }
          ],
          "scattergeo": [
           {
            "marker": {
             "colorbar": {
              "outlinewidth": 0,
              "ticks": ""
             }
            },
            "type": "scattergeo"
           }
          ],
          "scattergl": [
           {
            "marker": {
             "colorbar": {
              "outlinewidth": 0,
              "ticks": ""
             }
            },
            "type": "scattergl"
           }
          ],
          "scattermapbox": [
           {
            "marker": {
             "colorbar": {
              "outlinewidth": 0,
              "ticks": ""
             }
            },
            "type": "scattermapbox"
           }
          ],
          "scatterpolar": [
           {
            "marker": {
             "colorbar": {
              "outlinewidth": 0,
              "ticks": ""
             }
            },
            "type": "scatterpolar"
           }
          ],
          "scatterpolargl": [
           {
            "marker": {
             "colorbar": {
              "outlinewidth": 0,
              "ticks": ""
             }
            },
            "type": "scatterpolargl"
           }
          ],
          "scatterternary": [
           {
            "marker": {
             "colorbar": {
              "outlinewidth": 0,
              "ticks": ""
             }
            },
            "type": "scatterternary"
           }
          ],
          "surface": [
           {
            "colorbar": {
             "outlinewidth": 0,
             "ticks": ""
            },
            "colorscale": [
             [
              0,
              "#0d0887"
             ],
             [
              0.1111111111111111,
              "#46039f"
             ],
             [
              0.2222222222222222,
              "#7201a8"
             ],
             [
              0.3333333333333333,
              "#9c179e"
             ],
             [
              0.4444444444444444,
              "#bd3786"
             ],
             [
              0.5555555555555556,
              "#d8576b"
             ],
             [
              0.6666666666666666,
              "#ed7953"
             ],
             [
              0.7777777777777778,
              "#fb9f3a"
             ],
             [
              0.8888888888888888,
              "#fdca26"
             ],
             [
              1,
              "#f0f921"
             ]
            ],
            "type": "surface"
           }
          ],
          "table": [
           {
            "cells": {
             "fill": {
              "color": "#EBF0F8"
             },
             "line": {
              "color": "white"
             }
            },
            "header": {
             "fill": {
              "color": "#C8D4E3"
             },
             "line": {
              "color": "white"
             }
            },
            "type": "table"
           }
          ]
         },
         "layout": {
          "annotationdefaults": {
           "arrowcolor": "#2a3f5f",
           "arrowhead": 0,
           "arrowwidth": 1
          },
          "autotypenumbers": "strict",
          "coloraxis": {
           "colorbar": {
            "outlinewidth": 0,
            "ticks": ""
           }
          },
          "colorscale": {
           "diverging": [
            [
             0,
             "#8e0152"
            ],
            [
             0.1,
             "#c51b7d"
            ],
            [
             0.2,
             "#de77ae"
            ],
            [
             0.3,
             "#f1b6da"
            ],
            [
             0.4,
             "#fde0ef"
            ],
            [
             0.5,
             "#f7f7f7"
            ],
            [
             0.6,
             "#e6f5d0"
            ],
            [
             0.7,
             "#b8e186"
            ],
            [
             0.8,
             "#7fbc41"
            ],
            [
             0.9,
             "#4d9221"
            ],
            [
             1,
             "#276419"
            ]
           ],
           "sequential": [
            [
             0,
             "#0d0887"
            ],
            [
             0.1111111111111111,
             "#46039f"
            ],
            [
             0.2222222222222222,
             "#7201a8"
            ],
            [
             0.3333333333333333,
             "#9c179e"
            ],
            [
             0.4444444444444444,
             "#bd3786"
            ],
            [
             0.5555555555555556,
             "#d8576b"
            ],
            [
             0.6666666666666666,
             "#ed7953"
            ],
            [
             0.7777777777777778,
             "#fb9f3a"
            ],
            [
             0.8888888888888888,
             "#fdca26"
            ],
            [
             1,
             "#f0f921"
            ]
           ],
           "sequentialminus": [
            [
             0,
             "#0d0887"
            ],
            [
             0.1111111111111111,
             "#46039f"
            ],
            [
             0.2222222222222222,
             "#7201a8"
            ],
            [
             0.3333333333333333,
             "#9c179e"
            ],
            [
             0.4444444444444444,
             "#bd3786"
            ],
            [
             0.5555555555555556,
             "#d8576b"
            ],
            [
             0.6666666666666666,
             "#ed7953"
            ],
            [
             0.7777777777777778,
             "#fb9f3a"
            ],
            [
             0.8888888888888888,
             "#fdca26"
            ],
            [
             1,
             "#f0f921"
            ]
           ]
          },
          "colorway": [
           "#636efa",
           "#EF553B",
           "#00cc96",
           "#ab63fa",
           "#FFA15A",
           "#19d3f3",
           "#FF6692",
           "#B6E880",
           "#FF97FF",
           "#FECB52"
          ],
          "font": {
           "color": "#2a3f5f"
          },
          "geo": {
           "bgcolor": "white",
           "lakecolor": "white",
           "landcolor": "#E5ECF6",
           "showlakes": true,
           "showland": true,
           "subunitcolor": "white"
          },
          "hoverlabel": {
           "align": "left"
          },
          "hovermode": "closest",
          "mapbox": {
           "style": "light"
          },
          "paper_bgcolor": "white",
          "plot_bgcolor": "#E5ECF6",
          "polar": {
           "angularaxis": {
            "gridcolor": "white",
            "linecolor": "white",
            "ticks": ""
           },
           "bgcolor": "#E5ECF6",
           "radialaxis": {
            "gridcolor": "white",
            "linecolor": "white",
            "ticks": ""
           }
          },
          "scene": {
           "xaxis": {
            "backgroundcolor": "#E5ECF6",
            "gridcolor": "white",
            "gridwidth": 2,
            "linecolor": "white",
            "showbackground": true,
            "ticks": "",
            "zerolinecolor": "white"
           },
           "yaxis": {
            "backgroundcolor": "#E5ECF6",
            "gridcolor": "white",
            "gridwidth": 2,
            "linecolor": "white",
            "showbackground": true,
            "ticks": "",
            "zerolinecolor": "white"
           },
           "zaxis": {
            "backgroundcolor": "#E5ECF6",
            "gridcolor": "white",
            "gridwidth": 2,
            "linecolor": "white",
            "showbackground": true,
            "ticks": "",
            "zerolinecolor": "white"
           }
          },
          "shapedefaults": {
           "line": {
            "color": "#2a3f5f"
           }
          },
          "ternary": {
           "aaxis": {
            "gridcolor": "white",
            "linecolor": "white",
            "ticks": ""
           },
           "baxis": {
            "gridcolor": "white",
            "linecolor": "white",
            "ticks": ""
           },
           "bgcolor": "#E5ECF6",
           "caxis": {
            "gridcolor": "white",
            "linecolor": "white",
            "ticks": ""
           }
          },
          "title": {
           "x": 0.05
          },
          "xaxis": {
           "automargin": true,
           "gridcolor": "white",
           "linecolor": "white",
           "ticks": "",
           "title": {
            "standoff": 15
           },
           "zerolinecolor": "white",
           "zerolinewidth": 2
          },
          "yaxis": {
           "automargin": true,
           "gridcolor": "white",
           "linecolor": "white",
           "ticks": "",
           "title": {
            "standoff": 15
           },
           "zerolinecolor": "white",
           "zerolinewidth": 2
          }
         }
        },
        "title": {
         "text": "지하철역별 월평균 승차인원"
        },
        "xaxis": {
         "anchor": "y",
         "domain": [
          0,
          1
         ],
         "title": {
          "text": "지하철역"
         }
        },
        "yaxis": {
         "anchor": "x",
         "domain": [
          0,
          1
         ],
         "title": {
          "text": "월평균"
         }
        }
       }
      }
     },
     "metadata": {},
     "output_type": "display_data"
    }
   ],
   "source": [
    "fig = px.bar(data_frame=df_mean, x='지하철역', y='월평균', title='지하철역별 월평균 승차인원')\n",
    "fig.show()"
   ]
  },
  {
   "cell_type": "code",
   "execution_count": null,
   "metadata": {},
   "outputs": [],
   "source": []
  },
  {
   "cell_type": "markdown",
   "metadata": {},
   "source": [
    "### [2] 연도별 또는 월별 승차 인원 추이에 차이가 있는가?"
   ]
  },
  {
   "cell_type": "code",
   "execution_count": 18,
   "metadata": {},
   "outputs": [
    {
     "data": {
      "text/html": [
       "<div>\n",
       "<style scoped>\n",
       "    .dataframe tbody tr th:only-of-type {\n",
       "        vertical-align: middle;\n",
       "    }\n",
       "\n",
       "    .dataframe tbody tr th {\n",
       "        vertical-align: top;\n",
       "    }\n",
       "\n",
       "    .dataframe thead th {\n",
       "        text-align: right;\n",
       "    }\n",
       "</style>\n",
       "<table border=\"1\" class=\"dataframe\">\n",
       "  <thead>\n",
       "    <tr style=\"text-align: right;\">\n",
       "      <th></th>\n",
       "      <th>연도</th>\n",
       "      <th>합계</th>\n",
       "    </tr>\n",
       "  </thead>\n",
       "  <tbody>\n",
       "    <tr>\n",
       "      <th>0</th>\n",
       "      <td>2018</td>\n",
       "      <td>556124147</td>\n",
       "    </tr>\n",
       "    <tr>\n",
       "      <th>1</th>\n",
       "      <td>2019</td>\n",
       "      <td>559488134</td>\n",
       "    </tr>\n",
       "    <tr>\n",
       "      <th>2</th>\n",
       "      <td>2020</td>\n",
       "      <td>397139151</td>\n",
       "    </tr>\n",
       "    <tr>\n",
       "      <th>3</th>\n",
       "      <td>2021</td>\n",
       "      <td>391591285</td>\n",
       "    </tr>\n",
       "    <tr>\n",
       "      <th>4</th>\n",
       "      <td>2022</td>\n",
       "      <td>441861856</td>\n",
       "    </tr>\n",
       "  </tbody>\n",
       "</table>\n",
       "</div>"
      ],
      "text/plain": [
       "     연도         합계\n",
       "0  2018  556124147\n",
       "1  2019  559488134\n",
       "2  2020  397139151\n",
       "3  2021  391591285\n",
       "4  2022  441861856"
      ]
     },
     "execution_count": 18,
     "metadata": {},
     "output_type": "execute_result"
    }
   ],
   "source": [
    "year_sum = df.query('연도 <= 2022').groupby('연도')[['합계']].sum().reset_index()\n",
    "year_sum"
   ]
  },
  {
   "cell_type": "code",
   "execution_count": 19,
   "metadata": {},
   "outputs": [
    {
     "data": {
      "application/vnd.plotly.v1+json": {
       "config": {
        "plotlyServerURL": "https://plot.ly"
       },
       "data": [
        {
         "hovertemplate": "연도=%{x}<br>합계=%{y}<extra></extra>",
         "legendgroup": "",
         "line": {
          "color": "#636efa",
          "dash": "solid"
         },
         "marker": {
          "symbol": "circle"
         },
         "mode": "lines",
         "name": "",
         "orientation": "v",
         "showlegend": false,
         "type": "scatter",
         "x": [
          2018,
          2019,
          2020,
          2021,
          2022
         ],
         "xaxis": "x",
         "y": [
          556124147,
          559488134,
          397139151,
          391591285,
          441861856
         ],
         "yaxis": "y"
        }
       ],
       "layout": {
        "legend": {
         "tracegroupgap": 0
        },
        "template": {
         "data": {
          "bar": [
           {
            "error_x": {
             "color": "#2a3f5f"
            },
            "error_y": {
             "color": "#2a3f5f"
            },
            "marker": {
             "line": {
              "color": "#E5ECF6",
              "width": 0.5
             },
             "pattern": {
              "fillmode": "overlay",
              "size": 10,
              "solidity": 0.2
             }
            },
            "type": "bar"
           }
          ],
          "barpolar": [
           {
            "marker": {
             "line": {
              "color": "#E5ECF6",
              "width": 0.5
             },
             "pattern": {
              "fillmode": "overlay",
              "size": 10,
              "solidity": 0.2
             }
            },
            "type": "barpolar"
           }
          ],
          "carpet": [
           {
            "aaxis": {
             "endlinecolor": "#2a3f5f",
             "gridcolor": "white",
             "linecolor": "white",
             "minorgridcolor": "white",
             "startlinecolor": "#2a3f5f"
            },
            "baxis": {
             "endlinecolor": "#2a3f5f",
             "gridcolor": "white",
             "linecolor": "white",
             "minorgridcolor": "white",
             "startlinecolor": "#2a3f5f"
            },
            "type": "carpet"
           }
          ],
          "choropleth": [
           {
            "colorbar": {
             "outlinewidth": 0,
             "ticks": ""
            },
            "type": "choropleth"
           }
          ],
          "contour": [
           {
            "colorbar": {
             "outlinewidth": 0,
             "ticks": ""
            },
            "colorscale": [
             [
              0,
              "#0d0887"
             ],
             [
              0.1111111111111111,
              "#46039f"
             ],
             [
              0.2222222222222222,
              "#7201a8"
             ],
             [
              0.3333333333333333,
              "#9c179e"
             ],
             [
              0.4444444444444444,
              "#bd3786"
             ],
             [
              0.5555555555555556,
              "#d8576b"
             ],
             [
              0.6666666666666666,
              "#ed7953"
             ],
             [
              0.7777777777777778,
              "#fb9f3a"
             ],
             [
              0.8888888888888888,
              "#fdca26"
             ],
             [
              1,
              "#f0f921"
             ]
            ],
            "type": "contour"
           }
          ],
          "contourcarpet": [
           {
            "colorbar": {
             "outlinewidth": 0,
             "ticks": ""
            },
            "type": "contourcarpet"
           }
          ],
          "heatmap": [
           {
            "colorbar": {
             "outlinewidth": 0,
             "ticks": ""
            },
            "colorscale": [
             [
              0,
              "#0d0887"
             ],
             [
              0.1111111111111111,
              "#46039f"
             ],
             [
              0.2222222222222222,
              "#7201a8"
             ],
             [
              0.3333333333333333,
              "#9c179e"
             ],
             [
              0.4444444444444444,
              "#bd3786"
             ],
             [
              0.5555555555555556,
              "#d8576b"
             ],
             [
              0.6666666666666666,
              "#ed7953"
             ],
             [
              0.7777777777777778,
              "#fb9f3a"
             ],
             [
              0.8888888888888888,
              "#fdca26"
             ],
             [
              1,
              "#f0f921"
             ]
            ],
            "type": "heatmap"
           }
          ],
          "heatmapgl": [
           {
            "colorbar": {
             "outlinewidth": 0,
             "ticks": ""
            },
            "colorscale": [
             [
              0,
              "#0d0887"
             ],
             [
              0.1111111111111111,
              "#46039f"
             ],
             [
              0.2222222222222222,
              "#7201a8"
             ],
             [
              0.3333333333333333,
              "#9c179e"
             ],
             [
              0.4444444444444444,
              "#bd3786"
             ],
             [
              0.5555555555555556,
              "#d8576b"
             ],
             [
              0.6666666666666666,
              "#ed7953"
             ],
             [
              0.7777777777777778,
              "#fb9f3a"
             ],
             [
              0.8888888888888888,
              "#fdca26"
             ],
             [
              1,
              "#f0f921"
             ]
            ],
            "type": "heatmapgl"
           }
          ],
          "histogram": [
           {
            "marker": {
             "pattern": {
              "fillmode": "overlay",
              "size": 10,
              "solidity": 0.2
             }
            },
            "type": "histogram"
           }
          ],
          "histogram2d": [
           {
            "colorbar": {
             "outlinewidth": 0,
             "ticks": ""
            },
            "colorscale": [
             [
              0,
              "#0d0887"
             ],
             [
              0.1111111111111111,
              "#46039f"
             ],
             [
              0.2222222222222222,
              "#7201a8"
             ],
             [
              0.3333333333333333,
              "#9c179e"
             ],
             [
              0.4444444444444444,
              "#bd3786"
             ],
             [
              0.5555555555555556,
              "#d8576b"
             ],
             [
              0.6666666666666666,
              "#ed7953"
             ],
             [
              0.7777777777777778,
              "#fb9f3a"
             ],
             [
              0.8888888888888888,
              "#fdca26"
             ],
             [
              1,
              "#f0f921"
             ]
            ],
            "type": "histogram2d"
           }
          ],
          "histogram2dcontour": [
           {
            "colorbar": {
             "outlinewidth": 0,
             "ticks": ""
            },
            "colorscale": [
             [
              0,
              "#0d0887"
             ],
             [
              0.1111111111111111,
              "#46039f"
             ],
             [
              0.2222222222222222,
              "#7201a8"
             ],
             [
              0.3333333333333333,
              "#9c179e"
             ],
             [
              0.4444444444444444,
              "#bd3786"
             ],
             [
              0.5555555555555556,
              "#d8576b"
             ],
             [
              0.6666666666666666,
              "#ed7953"
             ],
             [
              0.7777777777777778,
              "#fb9f3a"
             ],
             [
              0.8888888888888888,
              "#fdca26"
             ],
             [
              1,
              "#f0f921"
             ]
            ],
            "type": "histogram2dcontour"
           }
          ],
          "mesh3d": [
           {
            "colorbar": {
             "outlinewidth": 0,
             "ticks": ""
            },
            "type": "mesh3d"
           }
          ],
          "parcoords": [
           {
            "line": {
             "colorbar": {
              "outlinewidth": 0,
              "ticks": ""
             }
            },
            "type": "parcoords"
           }
          ],
          "pie": [
           {
            "automargin": true,
            "type": "pie"
           }
          ],
          "scatter": [
           {
            "fillpattern": {
             "fillmode": "overlay",
             "size": 10,
             "solidity": 0.2
            },
            "type": "scatter"
           }
          ],
          "scatter3d": [
           {
            "line": {
             "colorbar": {
              "outlinewidth": 0,
              "ticks": ""
             }
            },
            "marker": {
             "colorbar": {
              "outlinewidth": 0,
              "ticks": ""
             }
            },
            "type": "scatter3d"
           }
          ],
          "scattercarpet": [
           {
            "marker": {
             "colorbar": {
              "outlinewidth": 0,
              "ticks": ""
             }
            },
            "type": "scattercarpet"
           }
          ],
          "scattergeo": [
           {
            "marker": {
             "colorbar": {
              "outlinewidth": 0,
              "ticks": ""
             }
            },
            "type": "scattergeo"
           }
          ],
          "scattergl": [
           {
            "marker": {
             "colorbar": {
              "outlinewidth": 0,
              "ticks": ""
             }
            },
            "type": "scattergl"
           }
          ],
          "scattermapbox": [
           {
            "marker": {
             "colorbar": {
              "outlinewidth": 0,
              "ticks": ""
             }
            },
            "type": "scattermapbox"
           }
          ],
          "scatterpolar": [
           {
            "marker": {
             "colorbar": {
              "outlinewidth": 0,
              "ticks": ""
             }
            },
            "type": "scatterpolar"
           }
          ],
          "scatterpolargl": [
           {
            "marker": {
             "colorbar": {
              "outlinewidth": 0,
              "ticks": ""
             }
            },
            "type": "scatterpolargl"
           }
          ],
          "scatterternary": [
           {
            "marker": {
             "colorbar": {
              "outlinewidth": 0,
              "ticks": ""
             }
            },
            "type": "scatterternary"
           }
          ],
          "surface": [
           {
            "colorbar": {
             "outlinewidth": 0,
             "ticks": ""
            },
            "colorscale": [
             [
              0,
              "#0d0887"
             ],
             [
              0.1111111111111111,
              "#46039f"
             ],
             [
              0.2222222222222222,
              "#7201a8"
             ],
             [
              0.3333333333333333,
              "#9c179e"
             ],
             [
              0.4444444444444444,
              "#bd3786"
             ],
             [
              0.5555555555555556,
              "#d8576b"
             ],
             [
              0.6666666666666666,
              "#ed7953"
             ],
             [
              0.7777777777777778,
              "#fb9f3a"
             ],
             [
              0.8888888888888888,
              "#fdca26"
             ],
             [
              1,
              "#f0f921"
             ]
            ],
            "type": "surface"
           }
          ],
          "table": [
           {
            "cells": {
             "fill": {
              "color": "#EBF0F8"
             },
             "line": {
              "color": "white"
             }
            },
            "header": {
             "fill": {
              "color": "#C8D4E3"
             },
             "line": {
              "color": "white"
             }
            },
            "type": "table"
           }
          ]
         },
         "layout": {
          "annotationdefaults": {
           "arrowcolor": "#2a3f5f",
           "arrowhead": 0,
           "arrowwidth": 1
          },
          "autotypenumbers": "strict",
          "coloraxis": {
           "colorbar": {
            "outlinewidth": 0,
            "ticks": ""
           }
          },
          "colorscale": {
           "diverging": [
            [
             0,
             "#8e0152"
            ],
            [
             0.1,
             "#c51b7d"
            ],
            [
             0.2,
             "#de77ae"
            ],
            [
             0.3,
             "#f1b6da"
            ],
            [
             0.4,
             "#fde0ef"
            ],
            [
             0.5,
             "#f7f7f7"
            ],
            [
             0.6,
             "#e6f5d0"
            ],
            [
             0.7,
             "#b8e186"
            ],
            [
             0.8,
             "#7fbc41"
            ],
            [
             0.9,
             "#4d9221"
            ],
            [
             1,
             "#276419"
            ]
           ],
           "sequential": [
            [
             0,
             "#0d0887"
            ],
            [
             0.1111111111111111,
             "#46039f"
            ],
            [
             0.2222222222222222,
             "#7201a8"
            ],
            [
             0.3333333333333333,
             "#9c179e"
            ],
            [
             0.4444444444444444,
             "#bd3786"
            ],
            [
             0.5555555555555556,
             "#d8576b"
            ],
            [
             0.6666666666666666,
             "#ed7953"
            ],
            [
             0.7777777777777778,
             "#fb9f3a"
            ],
            [
             0.8888888888888888,
             "#fdca26"
            ],
            [
             1,
             "#f0f921"
            ]
           ],
           "sequentialminus": [
            [
             0,
             "#0d0887"
            ],
            [
             0.1111111111111111,
             "#46039f"
            ],
            [
             0.2222222222222222,
             "#7201a8"
            ],
            [
             0.3333333333333333,
             "#9c179e"
            ],
            [
             0.4444444444444444,
             "#bd3786"
            ],
            [
             0.5555555555555556,
             "#d8576b"
            ],
            [
             0.6666666666666666,
             "#ed7953"
            ],
            [
             0.7777777777777778,
             "#fb9f3a"
            ],
            [
             0.8888888888888888,
             "#fdca26"
            ],
            [
             1,
             "#f0f921"
            ]
           ]
          },
          "colorway": [
           "#636efa",
           "#EF553B",
           "#00cc96",
           "#ab63fa",
           "#FFA15A",
           "#19d3f3",
           "#FF6692",
           "#B6E880",
           "#FF97FF",
           "#FECB52"
          ],
          "font": {
           "color": "#2a3f5f"
          },
          "geo": {
           "bgcolor": "white",
           "lakecolor": "white",
           "landcolor": "#E5ECF6",
           "showlakes": true,
           "showland": true,
           "subunitcolor": "white"
          },
          "hoverlabel": {
           "align": "left"
          },
          "hovermode": "closest",
          "mapbox": {
           "style": "light"
          },
          "paper_bgcolor": "white",
          "plot_bgcolor": "#E5ECF6",
          "polar": {
           "angularaxis": {
            "gridcolor": "white",
            "linecolor": "white",
            "ticks": ""
           },
           "bgcolor": "#E5ECF6",
           "radialaxis": {
            "gridcolor": "white",
            "linecolor": "white",
            "ticks": ""
           }
          },
          "scene": {
           "xaxis": {
            "backgroundcolor": "#E5ECF6",
            "gridcolor": "white",
            "gridwidth": 2,
            "linecolor": "white",
            "showbackground": true,
            "ticks": "",
            "zerolinecolor": "white"
           },
           "yaxis": {
            "backgroundcolor": "#E5ECF6",
            "gridcolor": "white",
            "gridwidth": 2,
            "linecolor": "white",
            "showbackground": true,
            "ticks": "",
            "zerolinecolor": "white"
           },
           "zaxis": {
            "backgroundcolor": "#E5ECF6",
            "gridcolor": "white",
            "gridwidth": 2,
            "linecolor": "white",
            "showbackground": true,
            "ticks": "",
            "zerolinecolor": "white"
           }
          },
          "shapedefaults": {
           "line": {
            "color": "#2a3f5f"
           }
          },
          "ternary": {
           "aaxis": {
            "gridcolor": "white",
            "linecolor": "white",
            "ticks": ""
           },
           "baxis": {
            "gridcolor": "white",
            "linecolor": "white",
            "ticks": ""
           },
           "bgcolor": "#E5ECF6",
           "caxis": {
            "gridcolor": "white",
            "linecolor": "white",
            "ticks": ""
           }
          },
          "title": {
           "x": 0.05
          },
          "xaxis": {
           "automargin": true,
           "gridcolor": "white",
           "linecolor": "white",
           "ticks": "",
           "title": {
            "standoff": 15
           },
           "zerolinecolor": "white",
           "zerolinewidth": 2
          },
          "yaxis": {
           "automargin": true,
           "gridcolor": "white",
           "linecolor": "white",
           "ticks": "",
           "title": {
            "standoff": 15
           },
           "zerolinecolor": "white",
           "zerolinewidth": 2
          }
         }
        },
        "title": {
         "text": "연도별 승차 인원 추이"
        },
        "xaxis": {
         "anchor": "y",
         "domain": [
          0,
          1
         ],
         "title": {
          "text": "연도"
         }
        },
        "yaxis": {
         "anchor": "x",
         "domain": [
          0,
          1
         ],
         "title": {
          "text": "합계"
         }
        }
       }
      }
     },
     "metadata": {},
     "output_type": "display_data"
    }
   ],
   "source": [
    "fig1 = px.line(data_frame=year_sum, x='연도', y='합계', title='연도별 승차 인원 추이')\n",
    "fig1.show()"
   ]
  },
  {
   "cell_type": "code",
   "execution_count": 20,
   "metadata": {},
   "outputs": [
    {
     "data": {
      "text/html": [
       "<div>\n",
       "<style scoped>\n",
       "    .dataframe tbody tr th:only-of-type {\n",
       "        vertical-align: middle;\n",
       "    }\n",
       "\n",
       "    .dataframe tbody tr th {\n",
       "        vertical-align: top;\n",
       "    }\n",
       "\n",
       "    .dataframe thead th {\n",
       "        text-align: right;\n",
       "    }\n",
       "</style>\n",
       "<table border=\"1\" class=\"dataframe\">\n",
       "  <thead>\n",
       "    <tr style=\"text-align: right;\">\n",
       "      <th></th>\n",
       "      <th>월</th>\n",
       "      <th>합계</th>\n",
       "    </tr>\n",
       "  </thead>\n",
       "  <tbody>\n",
       "    <tr>\n",
       "      <th>0</th>\n",
       "      <td>1</td>\n",
       "      <td>197568705</td>\n",
       "    </tr>\n",
       "    <tr>\n",
       "      <th>1</th>\n",
       "      <td>2</td>\n",
       "      <td>172253236</td>\n",
       "    </tr>\n",
       "    <tr>\n",
       "      <th>2</th>\n",
       "      <td>3</td>\n",
       "      <td>193395303</td>\n",
       "    </tr>\n",
       "    <tr>\n",
       "      <th>3</th>\n",
       "      <td>4</td>\n",
       "      <td>196594379</td>\n",
       "    </tr>\n",
       "    <tr>\n",
       "      <th>4</th>\n",
       "      <td>5</td>\n",
       "      <td>204107190</td>\n",
       "    </tr>\n",
       "    <tr>\n",
       "      <th>5</th>\n",
       "      <td>6</td>\n",
       "      <td>198015879</td>\n",
       "    </tr>\n",
       "    <tr>\n",
       "      <th>6</th>\n",
       "      <td>7</td>\n",
       "      <td>202871770</td>\n",
       "    </tr>\n",
       "    <tr>\n",
       "      <th>7</th>\n",
       "      <td>8</td>\n",
       "      <td>189574073</td>\n",
       "    </tr>\n",
       "    <tr>\n",
       "      <th>8</th>\n",
       "      <td>9</td>\n",
       "      <td>181278072</td>\n",
       "    </tr>\n",
       "    <tr>\n",
       "      <th>9</th>\n",
       "      <td>10</td>\n",
       "      <td>203345066</td>\n",
       "    </tr>\n",
       "    <tr>\n",
       "      <th>10</th>\n",
       "      <td>11</td>\n",
       "      <td>206327025</td>\n",
       "    </tr>\n",
       "    <tr>\n",
       "      <th>11</th>\n",
       "      <td>12</td>\n",
       "      <td>200873875</td>\n",
       "    </tr>\n",
       "  </tbody>\n",
       "</table>\n",
       "</div>"
      ],
      "text/plain": [
       "     월         합계\n",
       "0    1  197568705\n",
       "1    2  172253236\n",
       "2    3  193395303\n",
       "3    4  196594379\n",
       "4    5  204107190\n",
       "5    6  198015879\n",
       "6    7  202871770\n",
       "7    8  189574073\n",
       "8    9  181278072\n",
       "9   10  203345066\n",
       "10  11  206327025\n",
       "11  12  200873875"
      ]
     },
     "execution_count": 20,
     "metadata": {},
     "output_type": "execute_result"
    }
   ],
   "source": [
    "month_sum = df.query('연도 <= 2022').groupby('월')[['합계']].sum().reset_index()\n",
    "month_sum"
   ]
  },
  {
   "cell_type": "code",
   "execution_count": 21,
   "metadata": {},
   "outputs": [
    {
     "data": {
      "application/vnd.plotly.v1+json": {
       "config": {
        "plotlyServerURL": "https://plot.ly"
       },
       "data": [
        {
         "hovertemplate": "월=%{x}<br>합계=%{y}<extra></extra>",
         "legendgroup": "",
         "line": {
          "color": "#636efa",
          "dash": "solid"
         },
         "marker": {
          "symbol": "circle"
         },
         "mode": "lines",
         "name": "",
         "orientation": "v",
         "showlegend": false,
         "type": "scatter",
         "x": [
          1,
          2,
          3,
          4,
          5,
          6,
          7,
          8,
          9,
          10,
          11,
          12
         ],
         "xaxis": "x",
         "y": [
          197568705,
          172253236,
          193395303,
          196594379,
          204107190,
          198015879,
          202871770,
          189574073,
          181278072,
          203345066,
          206327025,
          200873875
         ],
         "yaxis": "y"
        }
       ],
       "layout": {
        "legend": {
         "tracegroupgap": 0
        },
        "template": {
         "data": {
          "bar": [
           {
            "error_x": {
             "color": "#2a3f5f"
            },
            "error_y": {
             "color": "#2a3f5f"
            },
            "marker": {
             "line": {
              "color": "#E5ECF6",
              "width": 0.5
             },
             "pattern": {
              "fillmode": "overlay",
              "size": 10,
              "solidity": 0.2
             }
            },
            "type": "bar"
           }
          ],
          "barpolar": [
           {
            "marker": {
             "line": {
              "color": "#E5ECF6",
              "width": 0.5
             },
             "pattern": {
              "fillmode": "overlay",
              "size": 10,
              "solidity": 0.2
             }
            },
            "type": "barpolar"
           }
          ],
          "carpet": [
           {
            "aaxis": {
             "endlinecolor": "#2a3f5f",
             "gridcolor": "white",
             "linecolor": "white",
             "minorgridcolor": "white",
             "startlinecolor": "#2a3f5f"
            },
            "baxis": {
             "endlinecolor": "#2a3f5f",
             "gridcolor": "white",
             "linecolor": "white",
             "minorgridcolor": "white",
             "startlinecolor": "#2a3f5f"
            },
            "type": "carpet"
           }
          ],
          "choropleth": [
           {
            "colorbar": {
             "outlinewidth": 0,
             "ticks": ""
            },
            "type": "choropleth"
           }
          ],
          "contour": [
           {
            "colorbar": {
             "outlinewidth": 0,
             "ticks": ""
            },
            "colorscale": [
             [
              0,
              "#0d0887"
             ],
             [
              0.1111111111111111,
              "#46039f"
             ],
             [
              0.2222222222222222,
              "#7201a8"
             ],
             [
              0.3333333333333333,
              "#9c179e"
             ],
             [
              0.4444444444444444,
              "#bd3786"
             ],
             [
              0.5555555555555556,
              "#d8576b"
             ],
             [
              0.6666666666666666,
              "#ed7953"
             ],
             [
              0.7777777777777778,
              "#fb9f3a"
             ],
             [
              0.8888888888888888,
              "#fdca26"
             ],
             [
              1,
              "#f0f921"
             ]
            ],
            "type": "contour"
           }
          ],
          "contourcarpet": [
           {
            "colorbar": {
             "outlinewidth": 0,
             "ticks": ""
            },
            "type": "contourcarpet"
           }
          ],
          "heatmap": [
           {
            "colorbar": {
             "outlinewidth": 0,
             "ticks": ""
            },
            "colorscale": [
             [
              0,
              "#0d0887"
             ],
             [
              0.1111111111111111,
              "#46039f"
             ],
             [
              0.2222222222222222,
              "#7201a8"
             ],
             [
              0.3333333333333333,
              "#9c179e"
             ],
             [
              0.4444444444444444,
              "#bd3786"
             ],
             [
              0.5555555555555556,
              "#d8576b"
             ],
             [
              0.6666666666666666,
              "#ed7953"
             ],
             [
              0.7777777777777778,
              "#fb9f3a"
             ],
             [
              0.8888888888888888,
              "#fdca26"
             ],
             [
              1,
              "#f0f921"
             ]
            ],
            "type": "heatmap"
           }
          ],
          "heatmapgl": [
           {
            "colorbar": {
             "outlinewidth": 0,
             "ticks": ""
            },
            "colorscale": [
             [
              0,
              "#0d0887"
             ],
             [
              0.1111111111111111,
              "#46039f"
             ],
             [
              0.2222222222222222,
              "#7201a8"
             ],
             [
              0.3333333333333333,
              "#9c179e"
             ],
             [
              0.4444444444444444,
              "#bd3786"
             ],
             [
              0.5555555555555556,
              "#d8576b"
             ],
             [
              0.6666666666666666,
              "#ed7953"
             ],
             [
              0.7777777777777778,
              "#fb9f3a"
             ],
             [
              0.8888888888888888,
              "#fdca26"
             ],
             [
              1,
              "#f0f921"
             ]
            ],
            "type": "heatmapgl"
           }
          ],
          "histogram": [
           {
            "marker": {
             "pattern": {
              "fillmode": "overlay",
              "size": 10,
              "solidity": 0.2
             }
            },
            "type": "histogram"
           }
          ],
          "histogram2d": [
           {
            "colorbar": {
             "outlinewidth": 0,
             "ticks": ""
            },
            "colorscale": [
             [
              0,
              "#0d0887"
             ],
             [
              0.1111111111111111,
              "#46039f"
             ],
             [
              0.2222222222222222,
              "#7201a8"
             ],
             [
              0.3333333333333333,
              "#9c179e"
             ],
             [
              0.4444444444444444,
              "#bd3786"
             ],
             [
              0.5555555555555556,
              "#d8576b"
             ],
             [
              0.6666666666666666,
              "#ed7953"
             ],
             [
              0.7777777777777778,
              "#fb9f3a"
             ],
             [
              0.8888888888888888,
              "#fdca26"
             ],
             [
              1,
              "#f0f921"
             ]
            ],
            "type": "histogram2d"
           }
          ],
          "histogram2dcontour": [
           {
            "colorbar": {
             "outlinewidth": 0,
             "ticks": ""
            },
            "colorscale": [
             [
              0,
              "#0d0887"
             ],
             [
              0.1111111111111111,
              "#46039f"
             ],
             [
              0.2222222222222222,
              "#7201a8"
             ],
             [
              0.3333333333333333,
              "#9c179e"
             ],
             [
              0.4444444444444444,
              "#bd3786"
             ],
             [
              0.5555555555555556,
              "#d8576b"
             ],
             [
              0.6666666666666666,
              "#ed7953"
             ],
             [
              0.7777777777777778,
              "#fb9f3a"
             ],
             [
              0.8888888888888888,
              "#fdca26"
             ],
             [
              1,
              "#f0f921"
             ]
            ],
            "type": "histogram2dcontour"
           }
          ],
          "mesh3d": [
           {
            "colorbar": {
             "outlinewidth": 0,
             "ticks": ""
            },
            "type": "mesh3d"
           }
          ],
          "parcoords": [
           {
            "line": {
             "colorbar": {
              "outlinewidth": 0,
              "ticks": ""
             }
            },
            "type": "parcoords"
           }
          ],
          "pie": [
           {
            "automargin": true,
            "type": "pie"
           }
          ],
          "scatter": [
           {
            "fillpattern": {
             "fillmode": "overlay",
             "size": 10,
             "solidity": 0.2
            },
            "type": "scatter"
           }
          ],
          "scatter3d": [
           {
            "line": {
             "colorbar": {
              "outlinewidth": 0,
              "ticks": ""
             }
            },
            "marker": {
             "colorbar": {
              "outlinewidth": 0,
              "ticks": ""
             }
            },
            "type": "scatter3d"
           }
          ],
          "scattercarpet": [
           {
            "marker": {
             "colorbar": {
              "outlinewidth": 0,
              "ticks": ""
             }
            },
            "type": "scattercarpet"
           }
          ],
          "scattergeo": [
           {
            "marker": {
             "colorbar": {
              "outlinewidth": 0,
              "ticks": ""
             }
            },
            "type": "scattergeo"
           }
          ],
          "scattergl": [
           {
            "marker": {
             "colorbar": {
              "outlinewidth": 0,
              "ticks": ""
             }
            },
            "type": "scattergl"
           }
          ],
          "scattermapbox": [
           {
            "marker": {
             "colorbar": {
              "outlinewidth": 0,
              "ticks": ""
             }
            },
            "type": "scattermapbox"
           }
          ],
          "scatterpolar": [
           {
            "marker": {
             "colorbar": {
              "outlinewidth": 0,
              "ticks": ""
             }
            },
            "type": "scatterpolar"
           }
          ],
          "scatterpolargl": [
           {
            "marker": {
             "colorbar": {
              "outlinewidth": 0,
              "ticks": ""
             }
            },
            "type": "scatterpolargl"
           }
          ],
          "scatterternary": [
           {
            "marker": {
             "colorbar": {
              "outlinewidth": 0,
              "ticks": ""
             }
            },
            "type": "scatterternary"
           }
          ],
          "surface": [
           {
            "colorbar": {
             "outlinewidth": 0,
             "ticks": ""
            },
            "colorscale": [
             [
              0,
              "#0d0887"
             ],
             [
              0.1111111111111111,
              "#46039f"
             ],
             [
              0.2222222222222222,
              "#7201a8"
             ],
             [
              0.3333333333333333,
              "#9c179e"
             ],
             [
              0.4444444444444444,
              "#bd3786"
             ],
             [
              0.5555555555555556,
              "#d8576b"
             ],
             [
              0.6666666666666666,
              "#ed7953"
             ],
             [
              0.7777777777777778,
              "#fb9f3a"
             ],
             [
              0.8888888888888888,
              "#fdca26"
             ],
             [
              1,
              "#f0f921"
             ]
            ],
            "type": "surface"
           }
          ],
          "table": [
           {
            "cells": {
             "fill": {
              "color": "#EBF0F8"
             },
             "line": {
              "color": "white"
             }
            },
            "header": {
             "fill": {
              "color": "#C8D4E3"
             },
             "line": {
              "color": "white"
             }
            },
            "type": "table"
           }
          ]
         },
         "layout": {
          "annotationdefaults": {
           "arrowcolor": "#2a3f5f",
           "arrowhead": 0,
           "arrowwidth": 1
          },
          "autotypenumbers": "strict",
          "coloraxis": {
           "colorbar": {
            "outlinewidth": 0,
            "ticks": ""
           }
          },
          "colorscale": {
           "diverging": [
            [
             0,
             "#8e0152"
            ],
            [
             0.1,
             "#c51b7d"
            ],
            [
             0.2,
             "#de77ae"
            ],
            [
             0.3,
             "#f1b6da"
            ],
            [
             0.4,
             "#fde0ef"
            ],
            [
             0.5,
             "#f7f7f7"
            ],
            [
             0.6,
             "#e6f5d0"
            ],
            [
             0.7,
             "#b8e186"
            ],
            [
             0.8,
             "#7fbc41"
            ],
            [
             0.9,
             "#4d9221"
            ],
            [
             1,
             "#276419"
            ]
           ],
           "sequential": [
            [
             0,
             "#0d0887"
            ],
            [
             0.1111111111111111,
             "#46039f"
            ],
            [
             0.2222222222222222,
             "#7201a8"
            ],
            [
             0.3333333333333333,
             "#9c179e"
            ],
            [
             0.4444444444444444,
             "#bd3786"
            ],
            [
             0.5555555555555556,
             "#d8576b"
            ],
            [
             0.6666666666666666,
             "#ed7953"
            ],
            [
             0.7777777777777778,
             "#fb9f3a"
            ],
            [
             0.8888888888888888,
             "#fdca26"
            ],
            [
             1,
             "#f0f921"
            ]
           ],
           "sequentialminus": [
            [
             0,
             "#0d0887"
            ],
            [
             0.1111111111111111,
             "#46039f"
            ],
            [
             0.2222222222222222,
             "#7201a8"
            ],
            [
             0.3333333333333333,
             "#9c179e"
            ],
            [
             0.4444444444444444,
             "#bd3786"
            ],
            [
             0.5555555555555556,
             "#d8576b"
            ],
            [
             0.6666666666666666,
             "#ed7953"
            ],
            [
             0.7777777777777778,
             "#fb9f3a"
            ],
            [
             0.8888888888888888,
             "#fdca26"
            ],
            [
             1,
             "#f0f921"
            ]
           ]
          },
          "colorway": [
           "#636efa",
           "#EF553B",
           "#00cc96",
           "#ab63fa",
           "#FFA15A",
           "#19d3f3",
           "#FF6692",
           "#B6E880",
           "#FF97FF",
           "#FECB52"
          ],
          "font": {
           "color": "#2a3f5f"
          },
          "geo": {
           "bgcolor": "white",
           "lakecolor": "white",
           "landcolor": "#E5ECF6",
           "showlakes": true,
           "showland": true,
           "subunitcolor": "white"
          },
          "hoverlabel": {
           "align": "left"
          },
          "hovermode": "closest",
          "mapbox": {
           "style": "light"
          },
          "paper_bgcolor": "white",
          "plot_bgcolor": "#E5ECF6",
          "polar": {
           "angularaxis": {
            "gridcolor": "white",
            "linecolor": "white",
            "ticks": ""
           },
           "bgcolor": "#E5ECF6",
           "radialaxis": {
            "gridcolor": "white",
            "linecolor": "white",
            "ticks": ""
           }
          },
          "scene": {
           "xaxis": {
            "backgroundcolor": "#E5ECF6",
            "gridcolor": "white",
            "gridwidth": 2,
            "linecolor": "white",
            "showbackground": true,
            "ticks": "",
            "zerolinecolor": "white"
           },
           "yaxis": {
            "backgroundcolor": "#E5ECF6",
            "gridcolor": "white",
            "gridwidth": 2,
            "linecolor": "white",
            "showbackground": true,
            "ticks": "",
            "zerolinecolor": "white"
           },
           "zaxis": {
            "backgroundcolor": "#E5ECF6",
            "gridcolor": "white",
            "gridwidth": 2,
            "linecolor": "white",
            "showbackground": true,
            "ticks": "",
            "zerolinecolor": "white"
           }
          },
          "shapedefaults": {
           "line": {
            "color": "#2a3f5f"
           }
          },
          "ternary": {
           "aaxis": {
            "gridcolor": "white",
            "linecolor": "white",
            "ticks": ""
           },
           "baxis": {
            "gridcolor": "white",
            "linecolor": "white",
            "ticks": ""
           },
           "bgcolor": "#E5ECF6",
           "caxis": {
            "gridcolor": "white",
            "linecolor": "white",
            "ticks": ""
           }
          },
          "title": {
           "x": 0.05
          },
          "xaxis": {
           "automargin": true,
           "gridcolor": "white",
           "linecolor": "white",
           "ticks": "",
           "title": {
            "standoff": 15
           },
           "zerolinecolor": "white",
           "zerolinewidth": 2
          },
          "yaxis": {
           "automargin": true,
           "gridcolor": "white",
           "linecolor": "white",
           "ticks": "",
           "title": {
            "standoff": 15
           },
           "zerolinecolor": "white",
           "zerolinewidth": 2
          }
         }
        },
        "title": {
         "text": "월별 승차 인원 추이"
        },
        "xaxis": {
         "anchor": "y",
         "domain": [
          0,
          1
         ],
         "title": {
          "text": "월"
         }
        },
        "yaxis": {
         "anchor": "x",
         "domain": [
          0,
          1
         ],
         "title": {
          "text": "합계"
         }
        }
       }
      }
     },
     "metadata": {},
     "output_type": "display_data"
    }
   ],
   "source": [
    "fig2 = px.line(data_frame=month_sum, x='월', y='합계', title='월별 승차 인원 추이')\n",
    "fig2.show()"
   ]
  },
  {
   "cell_type": "code",
   "execution_count": null,
   "metadata": {},
   "outputs": [],
   "source": []
  },
  {
   "cell_type": "markdown",
   "metadata": {},
   "source": [
    "### [3] 시간대별 가장 승차인원이 많은 역은?"
   ]
  },
  {
   "cell_type": "code",
   "execution_count": 33,
   "metadata": {},
   "outputs": [
    {
     "data": {
      "text/html": [
       "<div>\n",
       "<style scoped>\n",
       "    .dataframe tbody tr th:only-of-type {\n",
       "        vertical-align: middle;\n",
       "    }\n",
       "\n",
       "    .dataframe tbody tr th {\n",
       "        vertical-align: top;\n",
       "    }\n",
       "\n",
       "    .dataframe thead th {\n",
       "        text-align: right;\n",
       "    }\n",
       "</style>\n",
       "<table border=\"1\" class=\"dataframe\">\n",
       "  <thead>\n",
       "    <tr style=\"text-align: right;\">\n",
       "      <th></th>\n",
       "      <th>04시</th>\n",
       "      <th>05시</th>\n",
       "      <th>06시</th>\n",
       "      <th>07시</th>\n",
       "      <th>08시</th>\n",
       "      <th>09시</th>\n",
       "      <th>10시</th>\n",
       "      <th>11시</th>\n",
       "      <th>12시</th>\n",
       "      <th>13시</th>\n",
       "      <th>...</th>\n",
       "      <th>18시</th>\n",
       "      <th>19시</th>\n",
       "      <th>20시</th>\n",
       "      <th>21시</th>\n",
       "      <th>22시</th>\n",
       "      <th>23시</th>\n",
       "      <th>00시</th>\n",
       "      <th>01시</th>\n",
       "      <th>02시</th>\n",
       "      <th>03시</th>\n",
       "    </tr>\n",
       "    <tr>\n",
       "      <th>지하철역</th>\n",
       "      <th></th>\n",
       "      <th></th>\n",
       "      <th></th>\n",
       "      <th></th>\n",
       "      <th></th>\n",
       "      <th></th>\n",
       "      <th></th>\n",
       "      <th></th>\n",
       "      <th></th>\n",
       "      <th></th>\n",
       "      <th></th>\n",
       "      <th></th>\n",
       "      <th></th>\n",
       "      <th></th>\n",
       "      <th></th>\n",
       "      <th></th>\n",
       "      <th></th>\n",
       "      <th></th>\n",
       "      <th></th>\n",
       "      <th></th>\n",
       "      <th></th>\n",
       "    </tr>\n",
       "  </thead>\n",
       "  <tbody>\n",
       "    <tr>\n",
       "      <th>강남</th>\n",
       "      <td>199.761194</td>\n",
       "      <td>11267.805970</td>\n",
       "      <td>20091.656716</td>\n",
       "      <td>40044.029851</td>\n",
       "      <td>64827.731343</td>\n",
       "      <td>54185.761194</td>\n",
       "      <td>54050.656716</td>\n",
       "      <td>72620.477612</td>\n",
       "      <td>92869.746269</td>\n",
       "      <td>115656.552239</td>\n",
       "      <td>...</td>\n",
       "      <td>343752.835821</td>\n",
       "      <td>223735.164179</td>\n",
       "      <td>178879.910448</td>\n",
       "      <td>216217.447761</td>\n",
       "      <td>207535.313433</td>\n",
       "      <td>83942.656716</td>\n",
       "      <td>12218.492537</td>\n",
       "      <td>41.925373</td>\n",
       "      <td>10.014925</td>\n",
       "      <td>0.626866</td>\n",
       "    </tr>\n",
       "    <tr>\n",
       "      <th>구로디지털단지</th>\n",
       "      <td>251.492537</td>\n",
       "      <td>39288.597015</td>\n",
       "      <td>52406.089552</td>\n",
       "      <td>137133.253731</td>\n",
       "      <td>182999.328358</td>\n",
       "      <td>115665.313433</td>\n",
       "      <td>68659.567164</td>\n",
       "      <td>61427.626866</td>\n",
       "      <td>66485.970149</td>\n",
       "      <td>68082.552239</td>\n",
       "      <td>...</td>\n",
       "      <td>223309.611940</td>\n",
       "      <td>115340.179104</td>\n",
       "      <td>69854.582090</td>\n",
       "      <td>60133.388060</td>\n",
       "      <td>46033.656716</td>\n",
       "      <td>19676.313433</td>\n",
       "      <td>2521.895522</td>\n",
       "      <td>11.776119</td>\n",
       "      <td>1.343284</td>\n",
       "      <td>0.119403</td>\n",
       "    </tr>\n",
       "    <tr>\n",
       "      <th>삼성</th>\n",
       "      <td>165.776119</td>\n",
       "      <td>4758.522388</td>\n",
       "      <td>7508.895522</td>\n",
       "      <td>15993.925373</td>\n",
       "      <td>21927.223881</td>\n",
       "      <td>22378.268657</td>\n",
       "      <td>24176.477612</td>\n",
       "      <td>35510.402985</td>\n",
       "      <td>45498.417910</td>\n",
       "      <td>60130.477612</td>\n",
       "      <td>...</td>\n",
       "      <td>294941.119403</td>\n",
       "      <td>168624.970149</td>\n",
       "      <td>123201.343284</td>\n",
       "      <td>105947.029851</td>\n",
       "      <td>71970.358209</td>\n",
       "      <td>19138.029851</td>\n",
       "      <td>2394.388060</td>\n",
       "      <td>59.761194</td>\n",
       "      <td>29.626866</td>\n",
       "      <td>0.552239</td>\n",
       "    </tr>\n",
       "    <tr>\n",
       "      <th>서울대입구</th>\n",
       "      <td>4147.731343</td>\n",
       "      <td>28407.373134</td>\n",
       "      <td>42981.582090</td>\n",
       "      <td>125993.507463</td>\n",
       "      <td>180685.805970</td>\n",
       "      <td>119475.805970</td>\n",
       "      <td>68434.402985</td>\n",
       "      <td>61263.716418</td>\n",
       "      <td>66588.074627</td>\n",
       "      <td>71341.164179</td>\n",
       "      <td>...</td>\n",
       "      <td>95358.582090</td>\n",
       "      <td>59846.805970</td>\n",
       "      <td>50127.925373</td>\n",
       "      <td>52080.597015</td>\n",
       "      <td>46056.686567</td>\n",
       "      <td>21462.447761</td>\n",
       "      <td>2779.701493</td>\n",
       "      <td>10.223881</td>\n",
       "      <td>2.283582</td>\n",
       "      <td>0.208955</td>\n",
       "    </tr>\n",
       "    <tr>\n",
       "      <th>선릉</th>\n",
       "      <td>102.313433</td>\n",
       "      <td>4914.492537</td>\n",
       "      <td>11078.328358</td>\n",
       "      <td>21083.328358</td>\n",
       "      <td>32790.985075</td>\n",
       "      <td>31822.820896</td>\n",
       "      <td>34649.179104</td>\n",
       "      <td>45507.268657</td>\n",
       "      <td>53924.343284</td>\n",
       "      <td>63801.223881</td>\n",
       "      <td>...</td>\n",
       "      <td>283547.059701</td>\n",
       "      <td>143360.208955</td>\n",
       "      <td>89939.089552</td>\n",
       "      <td>91230.776119</td>\n",
       "      <td>73719.223881</td>\n",
       "      <td>25119.850746</td>\n",
       "      <td>3186.000000</td>\n",
       "      <td>10.343284</td>\n",
       "      <td>2.298507</td>\n",
       "      <td>0.179104</td>\n",
       "    </tr>\n",
       "    <tr>\n",
       "      <th>신도림</th>\n",
       "      <td>3361.597015</td>\n",
       "      <td>35786.268657</td>\n",
       "      <td>50420.179104</td>\n",
       "      <td>134114.179104</td>\n",
       "      <td>140965.089552</td>\n",
       "      <td>89916.074627</td>\n",
       "      <td>61494.925373</td>\n",
       "      <td>60289.582090</td>\n",
       "      <td>68699.716418</td>\n",
       "      <td>72645.552239</td>\n",
       "      <td>...</td>\n",
       "      <td>134345.716418</td>\n",
       "      <td>81201.895522</td>\n",
       "      <td>68743.791045</td>\n",
       "      <td>70103.014925</td>\n",
       "      <td>52677.746269</td>\n",
       "      <td>21723.238806</td>\n",
       "      <td>2043.597015</td>\n",
       "      <td>15.716418</td>\n",
       "      <td>1.597015</td>\n",
       "      <td>0.119403</td>\n",
       "    </tr>\n",
       "    <tr>\n",
       "      <th>신림</th>\n",
       "      <td>284.044776</td>\n",
       "      <td>39889.641791</td>\n",
       "      <td>75300.283582</td>\n",
       "      <td>204526.492537</td>\n",
       "      <td>305087.701493</td>\n",
       "      <td>182738.835821</td>\n",
       "      <td>98890.149254</td>\n",
       "      <td>82922.119403</td>\n",
       "      <td>87595.701493</td>\n",
       "      <td>84726.820896</td>\n",
       "      <td>...</td>\n",
       "      <td>93013.238806</td>\n",
       "      <td>63213.104478</td>\n",
       "      <td>52872.417910</td>\n",
       "      <td>51414.462687</td>\n",
       "      <td>45214.208955</td>\n",
       "      <td>22744.761194</td>\n",
       "      <td>3191.626866</td>\n",
       "      <td>18.194030</td>\n",
       "      <td>2.238806</td>\n",
       "      <td>0.268657</td>\n",
       "    </tr>\n",
       "    <tr>\n",
       "      <th>역삼</th>\n",
       "      <td>44.149254</td>\n",
       "      <td>3807.164179</td>\n",
       "      <td>8615.835821</td>\n",
       "      <td>14899.805970</td>\n",
       "      <td>25531.537313</td>\n",
       "      <td>23781.820896</td>\n",
       "      <td>24348.492537</td>\n",
       "      <td>32903.552239</td>\n",
       "      <td>40367.059701</td>\n",
       "      <td>49070.597015</td>\n",
       "      <td>...</td>\n",
       "      <td>274455.746269</td>\n",
       "      <td>141883.850746</td>\n",
       "      <td>83333.000000</td>\n",
       "      <td>84076.910448</td>\n",
       "      <td>58585.552239</td>\n",
       "      <td>21395.791045</td>\n",
       "      <td>2791.358209</td>\n",
       "      <td>5.835821</td>\n",
       "      <td>1.208955</td>\n",
       "      <td>0.104478</td>\n",
       "    </tr>\n",
       "    <tr>\n",
       "      <th>잠실</th>\n",
       "      <td>92.358209</td>\n",
       "      <td>12148.671642</td>\n",
       "      <td>46134.417910</td>\n",
       "      <td>115525.567164</td>\n",
       "      <td>166209.074627</td>\n",
       "      <td>120828.656716</td>\n",
       "      <td>81041.298507</td>\n",
       "      <td>81278.716418</td>\n",
       "      <td>90041.104478</td>\n",
       "      <td>100344.522388</td>\n",
       "      <td>...</td>\n",
       "      <td>231972.447761</td>\n",
       "      <td>159950.358209</td>\n",
       "      <td>157380.462687</td>\n",
       "      <td>137989.805970</td>\n",
       "      <td>100085.656716</td>\n",
       "      <td>30282.104478</td>\n",
       "      <td>3182.029851</td>\n",
       "      <td>24.805970</td>\n",
       "      <td>2.179104</td>\n",
       "      <td>0.104478</td>\n",
       "    </tr>\n",
       "    <tr>\n",
       "      <th>홍대입구</th>\n",
       "      <td>1016.761194</td>\n",
       "      <td>26827.671642</td>\n",
       "      <td>29698.164179</td>\n",
       "      <td>62418.805970</td>\n",
       "      <td>80009.194030</td>\n",
       "      <td>58179.014925</td>\n",
       "      <td>49503.208955</td>\n",
       "      <td>56141.328358</td>\n",
       "      <td>66214.746269</td>\n",
       "      <td>76888.850746</td>\n",
       "      <td>...</td>\n",
       "      <td>183824.522388</td>\n",
       "      <td>147057.194030</td>\n",
       "      <td>145258.447761</td>\n",
       "      <td>177889.104478</td>\n",
       "      <td>177826.716418</td>\n",
       "      <td>86287.417910</td>\n",
       "      <td>9403.656716</td>\n",
       "      <td>55.835821</td>\n",
       "      <td>9.970149</td>\n",
       "      <td>0.955224</td>\n",
       "    </tr>\n",
       "  </tbody>\n",
       "</table>\n",
       "<p>10 rows × 24 columns</p>\n",
       "</div>"
      ],
      "text/plain": [
       "                 04시           05시           06시            07시  \\\n",
       "지하철역                                                              \n",
       "강남        199.761194  11267.805970  20091.656716   40044.029851   \n",
       "구로디지털단지   251.492537  39288.597015  52406.089552  137133.253731   \n",
       "삼성        165.776119   4758.522388   7508.895522   15993.925373   \n",
       "서울대입구    4147.731343  28407.373134  42981.582090  125993.507463   \n",
       "선릉        102.313433   4914.492537  11078.328358   21083.328358   \n",
       "신도림      3361.597015  35786.268657  50420.179104  134114.179104   \n",
       "신림        284.044776  39889.641791  75300.283582  204526.492537   \n",
       "역삼         44.149254   3807.164179   8615.835821   14899.805970   \n",
       "잠실         92.358209  12148.671642  46134.417910  115525.567164   \n",
       "홍대입구     1016.761194  26827.671642  29698.164179   62418.805970   \n",
       "\n",
       "                   08시            09시           10시           11시  \\\n",
       "지하철역                                                                \n",
       "강남        64827.731343   54185.761194  54050.656716  72620.477612   \n",
       "구로디지털단지  182999.328358  115665.313433  68659.567164  61427.626866   \n",
       "삼성        21927.223881   22378.268657  24176.477612  35510.402985   \n",
       "서울대입구    180685.805970  119475.805970  68434.402985  61263.716418   \n",
       "선릉        32790.985075   31822.820896  34649.179104  45507.268657   \n",
       "신도림      140965.089552   89916.074627  61494.925373  60289.582090   \n",
       "신림       305087.701493  182738.835821  98890.149254  82922.119403   \n",
       "역삼        25531.537313   23781.820896  24348.492537  32903.552239   \n",
       "잠실       166209.074627  120828.656716  81041.298507  81278.716418   \n",
       "홍대입구      80009.194030   58179.014925  49503.208955  56141.328358   \n",
       "\n",
       "                  12시            13시  ...            18시            19시  \\\n",
       "지하철역                                  ...                                 \n",
       "강남       92869.746269  115656.552239  ...  343752.835821  223735.164179   \n",
       "구로디지털단지  66485.970149   68082.552239  ...  223309.611940  115340.179104   \n",
       "삼성       45498.417910   60130.477612  ...  294941.119403  168624.970149   \n",
       "서울대입구    66588.074627   71341.164179  ...   95358.582090   59846.805970   \n",
       "선릉       53924.343284   63801.223881  ...  283547.059701  143360.208955   \n",
       "신도림      68699.716418   72645.552239  ...  134345.716418   81201.895522   \n",
       "신림       87595.701493   84726.820896  ...   93013.238806   63213.104478   \n",
       "역삼       40367.059701   49070.597015  ...  274455.746269  141883.850746   \n",
       "잠실       90041.104478  100344.522388  ...  231972.447761  159950.358209   \n",
       "홍대입구     66214.746269   76888.850746  ...  183824.522388  147057.194030   \n",
       "\n",
       "                   20시            21시            22시           23시  \\\n",
       "지하철역                                                                 \n",
       "강남       178879.910448  216217.447761  207535.313433  83942.656716   \n",
       "구로디지털단지   69854.582090   60133.388060   46033.656716  19676.313433   \n",
       "삼성       123201.343284  105947.029851   71970.358209  19138.029851   \n",
       "서울대입구     50127.925373   52080.597015   46056.686567  21462.447761   \n",
       "선릉        89939.089552   91230.776119   73719.223881  25119.850746   \n",
       "신도림       68743.791045   70103.014925   52677.746269  21723.238806   \n",
       "신림        52872.417910   51414.462687   45214.208955  22744.761194   \n",
       "역삼        83333.000000   84076.910448   58585.552239  21395.791045   \n",
       "잠실       157380.462687  137989.805970  100085.656716  30282.104478   \n",
       "홍대입구     145258.447761  177889.104478  177826.716418  86287.417910   \n",
       "\n",
       "                  00시        01시        02시       03시  \n",
       "지하철역                                                   \n",
       "강남       12218.492537  41.925373  10.014925  0.626866  \n",
       "구로디지털단지   2521.895522  11.776119   1.343284  0.119403  \n",
       "삼성        2394.388060  59.761194  29.626866  0.552239  \n",
       "서울대입구     2779.701493  10.223881   2.283582  0.208955  \n",
       "선릉        3186.000000  10.343284   2.298507  0.179104  \n",
       "신도림       2043.597015  15.716418   1.597015  0.119403  \n",
       "신림        3191.626866  18.194030   2.238806  0.268657  \n",
       "역삼        2791.358209   5.835821   1.208955  0.104478  \n",
       "잠실        3182.029851  24.805970   2.179104  0.104478  \n",
       "홍대입구      9403.656716  55.835821   9.970149  0.955224  \n",
       "\n",
       "[10 rows x 24 columns]"
      ]
     },
     "execution_count": 33,
     "metadata": {},
     "output_type": "execute_result"
    }
   ],
   "source": [
    "df = pd.read_csv('../data/서울시 지하철 호선별 역별 시간대별 승하차 인원 정보_final.csv')\n",
    "\n",
    "top10 = df_mean.sort_values('월평균', ascending=False).head(10)['지하철역']\n",
    "top10_mean_hour = df.query('지하철역 in @top10').groupby('지하철역')[df.columns[4:]].mean()\n",
    "top10_mean_hour.columns = [i[:3] for i in top10_mean_hour.columns]\n",
    "top10_mean_hour"
   ]
  },
  {
   "cell_type": "code",
   "execution_count": 34,
   "metadata": {},
   "outputs": [
    {
     "data": {
      "text/html": [
       "<style type=\"text/css\">\n",
       "#T_f9ef4_row0_col0, #T_f9ef4_row0_col21, #T_f9ef4_row0_col22, #T_f9ef4_row0_col23, #T_f9ef4_row1_col0, #T_f9ef4_row1_col21, #T_f9ef4_row1_col22, #T_f9ef4_row1_col23, #T_f9ef4_row2_col0, #T_f9ef4_row2_col21, #T_f9ef4_row2_col22, #T_f9ef4_row2_col23, #T_f9ef4_row3_col21, #T_f9ef4_row3_col22, #T_f9ef4_row3_col23, #T_f9ef4_row4_col0, #T_f9ef4_row4_col21, #T_f9ef4_row4_col22, #T_f9ef4_row4_col23, #T_f9ef4_row5_col21, #T_f9ef4_row5_col22, #T_f9ef4_row5_col23, #T_f9ef4_row6_col0, #T_f9ef4_row6_col21, #T_f9ef4_row6_col22, #T_f9ef4_row6_col23, #T_f9ef4_row7_col0, #T_f9ef4_row7_col21, #T_f9ef4_row7_col22, #T_f9ef4_row7_col23, #T_f9ef4_row8_col0, #T_f9ef4_row8_col21, #T_f9ef4_row8_col22, #T_f9ef4_row8_col23, #T_f9ef4_row9_col0, #T_f9ef4_row9_col21, #T_f9ef4_row9_col22, #T_f9ef4_row9_col23 {\n",
       "  background-color: #ffffff;\n",
       "  color: #000000;\n",
       "}\n",
       "#T_f9ef4_row0_col1, #T_f9ef4_row4_col2 {\n",
       "  background-color: #fcfcf7;\n",
       "  color: #000000;\n",
       "}\n",
       "#T_f9ef4_row0_col2, #T_f9ef4_row1_col19, #T_f9ef4_row2_col19 {\n",
       "  background-color: #fafaf1;\n",
       "  color: #000000;\n",
       "}\n",
       "#T_f9ef4_row0_col3, #T_f9ef4_row1_col1, #T_f9ef4_row6_col1 {\n",
       "  background-color: #f5f5e0;\n",
       "  color: #000000;\n",
       "}\n",
       "#T_f9ef4_row0_col4, #T_f9ef4_row1_col11, #T_f9ef4_row3_col10 {\n",
       "  background-color: #eeeeca;\n",
       "  color: #000000;\n",
       "}\n",
       "#T_f9ef4_row0_col5, #T_f9ef4_row0_col6, #T_f9ef4_row4_col8 {\n",
       "  background-color: #f1f1d4;\n",
       "  color: #000000;\n",
       "}\n",
       "#T_f9ef4_row0_col7, #T_f9ef4_row4_col18, #T_f9ef4_row5_col9, #T_f9ef4_row7_col11 {\n",
       "  background-color: #ececc2;\n",
       "  color: #000000;\n",
       "}\n",
       "#T_f9ef4_row0_col8, #T_f9ef4_row6_col14 {\n",
       "  background-color: #e7e5b2;\n",
       "  color: #000000;\n",
       "}\n",
       "#T_f9ef4_row0_col9, #T_f9ef4_row1_col5, #T_f9ef4_row2_col12, #T_f9ef4_row8_col3 {\n",
       "  background-color: #e1d6a9;\n",
       "  color: #000000;\n",
       "}\n",
       "#T_f9ef4_row0_col10, #T_f9ef4_row1_col13, #T_f9ef4_row2_col16 {\n",
       "  background-color: #dfd1a7;\n",
       "  color: #000000;\n",
       "}\n",
       "#T_f9ef4_row0_col11 {\n",
       "  background-color: #d7bd9c;\n",
       "  color: #000000;\n",
       "}\n",
       "#T_f9ef4_row0_col12 {\n",
       "  background-color: #d0ac94;\n",
       "  color: #000000;\n",
       "}\n",
       "#T_f9ef4_row0_col13 {\n",
       "  background-color: #af7272;\n",
       "  color: #f1f1f1;\n",
       "}\n",
       "#T_f9ef4_row0_col14 {\n",
       "  background-color: #1e0000;\n",
       "  color: #f1f1f1;\n",
       "}\n",
       "#T_f9ef4_row0_col15, #T_f9ef4_row1_col14 {\n",
       "  background-color: #bd7b7b;\n",
       "  color: #f1f1f1;\n",
       "}\n",
       "#T_f9ef4_row0_col16 {\n",
       "  background-color: #cea590;\n",
       "  color: #000000;\n",
       "}\n",
       "#T_f9ef4_row0_col17 {\n",
       "  background-color: #c27f7e;\n",
       "  color: #f1f1f1;\n",
       "}\n",
       "#T_f9ef4_row0_col18 {\n",
       "  background-color: #c58a83;\n",
       "  color: #f1f1f1;\n",
       "}\n",
       "#T_f9ef4_row0_col19, #T_f9ef4_row5_col12, #T_f9ef4_row7_col16, #T_f9ef4_row7_col17, #T_f9ef4_row9_col10 {\n",
       "  background-color: #e9e9b8;\n",
       "  color: #000000;\n",
       "}\n",
       "#T_f9ef4_row0_col20, #T_f9ef4_row8_col1 {\n",
       "  background-color: #fcfcf6;\n",
       "  color: #000000;\n",
       "}\n",
       "#T_f9ef4_row1_col2, #T_f9ef4_row5_col18, #T_f9ef4_row6_col16 {\n",
       "  background-color: #f2f2d5;\n",
       "  color: #000000;\n",
       "}\n",
       "#T_f9ef4_row1_col3, #T_f9ef4_row8_col17 {\n",
       "  background-color: #dac6a1;\n",
       "  color: #000000;\n",
       "}\n",
       "#T_f9ef4_row1_col4, #T_f9ef4_row6_col5, #T_f9ef4_row9_col14 {\n",
       "  background-color: #cda18e;\n",
       "  color: #f1f1f1;\n",
       "}\n",
       "#T_f9ef4_row1_col6, #T_f9ef4_row5_col8, #T_f9ef4_row5_col16 {\n",
       "  background-color: #ededc6;\n",
       "  color: #000000;\n",
       "}\n",
       "#T_f9ef4_row1_col7, #T_f9ef4_row3_col7, #T_f9ef4_row5_col6 {\n",
       "  background-color: #f0f0ce;\n",
       "  color: #000000;\n",
       "}\n",
       "#T_f9ef4_row1_col8, #T_f9ef4_row3_col8, #T_f9ef4_row9_col8 {\n",
       "  background-color: #eeeec9;\n",
       "  color: #000000;\n",
       "}\n",
       "#T_f9ef4_row1_col9, #T_f9ef4_row3_col6, #T_f9ef4_row3_col11 {\n",
       "  background-color: #eeeec7;\n",
       "  color: #000000;\n",
       "}\n",
       "#T_f9ef4_row1_col10, #T_f9ef4_row9_col3 {\n",
       "  background-color: #efefcc;\n",
       "  color: #000000;\n",
       "}\n",
       "#T_f9ef4_row1_col12, #T_f9ef4_row6_col10, #T_f9ef4_row9_col9 {\n",
       "  background-color: #ebebbe;\n",
       "  color: #000000;\n",
       "}\n",
       "#T_f9ef4_row1_col15 {\n",
       "  background-color: #e1d7aa;\n",
       "  color: #000000;\n",
       "}\n",
       "#T_f9ef4_row1_col16, #T_f9ef4_row5_col17 {\n",
       "  background-color: #ededc5;\n",
       "  color: #000000;\n",
       "}\n",
       "#T_f9ef4_row1_col17, #T_f9ef4_row2_col9, #T_f9ef4_row3_col15, #T_f9ef4_row5_col7 {\n",
       "  background-color: #f0f0cf;\n",
       "  color: #000000;\n",
       "}\n",
       "#T_f9ef4_row1_col18, #T_f9ef4_row3_col18, #T_f9ef4_row8_col2 {\n",
       "  background-color: #f3f3db;\n",
       "  color: #000000;\n",
       "}\n",
       "#T_f9ef4_row1_col20, #T_f9ef4_row2_col20, #T_f9ef4_row5_col20 {\n",
       "  background-color: #fffffe;\n",
       "  color: #000000;\n",
       "}\n",
       "#T_f9ef4_row2_col1, #T_f9ef4_row3_col0, #T_f9ef4_row4_col1 {\n",
       "  background-color: #fefefc;\n",
       "  color: #000000;\n",
       "}\n",
       "#T_f9ef4_row2_col2 {\n",
       "  background-color: #fdfdfa;\n",
       "  color: #000000;\n",
       "}\n",
       "#T_f9ef4_row2_col3, #T_f9ef4_row7_col3 {\n",
       "  background-color: #fbfbf4;\n",
       "  color: #000000;\n",
       "}\n",
       "#T_f9ef4_row2_col4, #T_f9ef4_row2_col5, #T_f9ef4_row5_col19, #T_f9ef4_row6_col19 {\n",
       "  background-color: #fafaef;\n",
       "  color: #000000;\n",
       "}\n",
       "#T_f9ef4_row2_col6, #T_f9ef4_row4_col19, #T_f9ef4_row7_col6 {\n",
       "  background-color: #f9f9ed;\n",
       "  color: #000000;\n",
       "}\n",
       "#T_f9ef4_row2_col7, #T_f9ef4_row5_col1 {\n",
       "  background-color: #f6f6e4;\n",
       "  color: #000000;\n",
       "}\n",
       "#T_f9ef4_row2_col8, #T_f9ef4_row4_col7, #T_f9ef4_row6_col18 {\n",
       "  background-color: #f4f4dc;\n",
       "  color: #000000;\n",
       "}\n",
       "#T_f9ef4_row2_col10, #T_f9ef4_row6_col11 {\n",
       "  background-color: #ececc1;\n",
       "  color: #000000;\n",
       "}\n",
       "#T_f9ef4_row2_col11 {\n",
       "  background-color: #e6e4b1;\n",
       "  color: #000000;\n",
       "}\n",
       "#T_f9ef4_row2_col13 {\n",
       "  background-color: #cb9c8c;\n",
       "  color: #f1f1f1;\n",
       "}\n",
       "#T_f9ef4_row2_col14 {\n",
       "  background-color: #7b4e4e;\n",
       "  color: #f1f1f1;\n",
       "}\n",
       "#T_f9ef4_row2_col15 {\n",
       "  background-color: #d1ae95;\n",
       "  color: #000000;\n",
       "}\n",
       "#T_f9ef4_row2_col17, #T_f9ef4_row8_col10 {\n",
       "  background-color: #e4ddad;\n",
       "  color: #000000;\n",
       "}\n",
       "#T_f9ef4_row2_col18, #T_f9ef4_row3_col9, #T_f9ef4_row4_col10, #T_f9ef4_row5_col10 {\n",
       "  background-color: #ededc4;\n",
       "  color: #000000;\n",
       "}\n",
       "#T_f9ef4_row3_col1 {\n",
       "  background-color: #f8f8e9;\n",
       "  color: #000000;\n",
       "}\n",
       "#T_f9ef4_row3_col2 {\n",
       "  background-color: #f4f4dd;\n",
       "  color: #000000;\n",
       "}\n",
       "#T_f9ef4_row3_col3 {\n",
       "  background-color: #decfa6;\n",
       "  color: #000000;\n",
       "}\n",
       "#T_f9ef4_row3_col4 {\n",
       "  background-color: #cea48f;\n",
       "  color: #000000;\n",
       "}\n",
       "#T_f9ef4_row3_col5 {\n",
       "  background-color: #e0d4a8;\n",
       "  color: #000000;\n",
       "}\n",
       "#T_f9ef4_row3_col12, #T_f9ef4_row5_col11, #T_f9ef4_row6_col2 {\n",
       "  background-color: #ececc0;\n",
       "  color: #000000;\n",
       "}\n",
       "#T_f9ef4_row3_col13, #T_f9ef4_row6_col9 {\n",
       "  background-color: #e9e9b6;\n",
       "  color: #000000;\n",
       "}\n",
       "#T_f9ef4_row3_col14 {\n",
       "  background-color: #e6e3b1;\n",
       "  color: #000000;\n",
       "}\n",
       "#T_f9ef4_row3_col16, #T_f9ef4_row5_col2 {\n",
       "  background-color: #f2f2d7;\n",
       "  color: #000000;\n",
       "}\n",
       "#T_f9ef4_row3_col17, #T_f9ef4_row6_col17 {\n",
       "  background-color: #f2f2d6;\n",
       "  color: #000000;\n",
       "}\n",
       "#T_f9ef4_row3_col19, #T_f9ef4_row4_col3, #T_f9ef4_row7_col19 {\n",
       "  background-color: #fafaf0;\n",
       "  color: #000000;\n",
       "}\n",
       "#T_f9ef4_row3_col20, #T_f9ef4_row4_col20, #T_f9ef4_row5_col0, #T_f9ef4_row6_col20, #T_f9ef4_row7_col1, #T_f9ef4_row7_col20, #T_f9ef4_row8_col20 {\n",
       "  background-color: #fefefd;\n",
       "  color: #000000;\n",
       "}\n",
       "#T_f9ef4_row4_col4, #T_f9ef4_row7_col7 {\n",
       "  background-color: #f7f7e6;\n",
       "  color: #000000;\n",
       "}\n",
       "#T_f9ef4_row4_col5 {\n",
       "  background-color: #f7f7e7;\n",
       "  color: #000000;\n",
       "}\n",
       "#T_f9ef4_row4_col6 {\n",
       "  background-color: #f7f7e5;\n",
       "  color: #000000;\n",
       "}\n",
       "#T_f9ef4_row4_col9, #T_f9ef4_row6_col15 {\n",
       "  background-color: #efefcb;\n",
       "  color: #000000;\n",
       "}\n",
       "#T_f9ef4_row4_col11, #T_f9ef4_row4_col16, #T_f9ef4_row4_col17, #T_f9ef4_row5_col5, #T_f9ef4_row6_col13, #T_f9ef4_row8_col8 {\n",
       "  background-color: #e8e7b3;\n",
       "  color: #000000;\n",
       "}\n",
       "#T_f9ef4_row4_col12, #T_f9ef4_row8_col11 {\n",
       "  background-color: #dfd2a7;\n",
       "  color: #000000;\n",
       "}\n",
       "#T_f9ef4_row4_col13 {\n",
       "  background-color: #d1ad94;\n",
       "  color: #000000;\n",
       "}\n",
       "#T_f9ef4_row4_col14 {\n",
       "  background-color: #875656;\n",
       "  color: #f1f1f1;\n",
       "}\n",
       "#T_f9ef4_row4_col15 {\n",
       "  background-color: #d9c29f;\n",
       "  color: #000000;\n",
       "}\n",
       "#T_f9ef4_row5_col3 {\n",
       "  background-color: #dcc9a3;\n",
       "  color: #000000;\n",
       "}\n",
       "#T_f9ef4_row5_col4 {\n",
       "  background-color: #dac4a0;\n",
       "  color: #000000;\n",
       "}\n",
       "#T_f9ef4_row5_col13, #T_f9ef4_row8_col9, #T_f9ef4_row8_col18, #T_f9ef4_row9_col11 {\n",
       "  background-color: #e5e0af;\n",
       "  color: #000000;\n",
       "}\n",
       "#T_f9ef4_row5_col14 {\n",
       "  background-color: #dbc8a2;\n",
       "  color: #000000;\n",
       "}\n",
       "#T_f9ef4_row5_col15, #T_f9ef4_row6_col12, #T_f9ef4_row8_col6, #T_f9ef4_row8_col7 {\n",
       "  background-color: #eaeaba;\n",
       "  color: #000000;\n",
       "}\n",
       "#T_f9ef4_row6_col3 {\n",
       "  background-color: #c68c84;\n",
       "  color: #f1f1f1;\n",
       "}\n",
       "#T_f9ef4_row6_col4 {\n",
       "  background-color: #6d4545;\n",
       "  color: #f1f1f1;\n",
       "}\n",
       "#T_f9ef4_row6_col6 {\n",
       "  background-color: #e5e1b0;\n",
       "  color: #000000;\n",
       "}\n",
       "#T_f9ef4_row6_col7 {\n",
       "  background-color: #eaeab9;\n",
       "  color: #000000;\n",
       "}\n",
       "#T_f9ef4_row6_col8 {\n",
       "  background-color: #e8e8b4;\n",
       "  color: #000000;\n",
       "}\n",
       "#T_f9ef4_row7_col2 {\n",
       "  background-color: #fdfdf9;\n",
       "  color: #000000;\n",
       "}\n",
       "#T_f9ef4_row7_col4, #T_f9ef4_row9_col1 {\n",
       "  background-color: #f9f9eb;\n",
       "  color: #000000;\n",
       "}\n",
       "#T_f9ef4_row7_col5 {\n",
       "  background-color: #f9f9ee;\n",
       "  color: #000000;\n",
       "}\n",
       "#T_f9ef4_row7_col8 {\n",
       "  background-color: #f5f5df;\n",
       "  color: #000000;\n",
       "}\n",
       "#T_f9ef4_row7_col9, #T_f9ef4_row9_col6 {\n",
       "  background-color: #f3f3d8;\n",
       "  color: #000000;\n",
       "}\n",
       "#T_f9ef4_row7_col10 {\n",
       "  background-color: #f1f1d1;\n",
       "  color: #000000;\n",
       "}\n",
       "#T_f9ef4_row7_col12 {\n",
       "  background-color: #e7e6b2;\n",
       "  color: #000000;\n",
       "}\n",
       "#T_f9ef4_row7_col13 {\n",
       "  background-color: #cfa892;\n",
       "  color: #000000;\n",
       "}\n",
       "#T_f9ef4_row7_col14 {\n",
       "  background-color: #915d5d;\n",
       "  color: #f1f1f1;\n",
       "}\n",
       "#T_f9ef4_row7_col15, #T_f9ef4_row8_col12 {\n",
       "  background-color: #d9c3a0;\n",
       "  color: #000000;\n",
       "}\n",
       "#T_f9ef4_row7_col18, #T_f9ef4_row9_col5 {\n",
       "  background-color: #f0f0d0;\n",
       "  color: #000000;\n",
       "}\n",
       "#T_f9ef4_row8_col4 {\n",
       "  background-color: #d2b096;\n",
       "  color: #000000;\n",
       "}\n",
       "#T_f9ef4_row8_col5 {\n",
       "  background-color: #dfd3a8;\n",
       "  color: #000000;\n",
       "}\n",
       "#T_f9ef4_row8_col13 {\n",
       "  background-color: #cda28f;\n",
       "  color: #000000;\n",
       "}\n",
       "#T_f9ef4_row8_col14 {\n",
       "  background-color: #b77777;\n",
       "  color: #f1f1f1;\n",
       "}\n",
       "#T_f9ef4_row8_col15 {\n",
       "  background-color: #d4b598;\n",
       "  color: #000000;\n",
       "}\n",
       "#T_f9ef4_row8_col16 {\n",
       "  background-color: #d4b799;\n",
       "  color: #000000;\n",
       "}\n",
       "#T_f9ef4_row8_col19, #T_f9ef4_row9_col2 {\n",
       "  background-color: #f8f8e8;\n",
       "  color: #000000;\n",
       "}\n",
       "#T_f9ef4_row9_col4 {\n",
       "  background-color: #ebebbc;\n",
       "  color: #000000;\n",
       "}\n",
       "#T_f9ef4_row9_col7 {\n",
       "  background-color: #f1f1d3;\n",
       "  color: #000000;\n",
       "}\n",
       "#T_f9ef4_row9_col12 {\n",
       "  background-color: #ded0a6;\n",
       "  color: #000000;\n",
       "}\n",
       "#T_f9ef4_row9_col13 {\n",
       "  background-color: #d6bb9b;\n",
       "  color: #000000;\n",
       "}\n",
       "#T_f9ef4_row9_col15 {\n",
       "  background-color: #d8bf9e;\n",
       "  color: #000000;\n",
       "}\n",
       "#T_f9ef4_row9_col16 {\n",
       "  background-color: #d8c09e;\n",
       "  color: #000000;\n",
       "}\n",
       "#T_f9ef4_row9_col17, #T_f9ef4_row9_col18 {\n",
       "  background-color: #cea691;\n",
       "  color: #000000;\n",
       "}\n",
       "#T_f9ef4_row9_col19 {\n",
       "  background-color: #e9e9b5;\n",
       "  color: #000000;\n",
       "}\n",
       "#T_f9ef4_row9_col20 {\n",
       "  background-color: #fdfdf8;\n",
       "  color: #000000;\n",
       "}\n",
       "</style>\n",
       "<table id=\"T_f9ef4\">\n",
       "  <thead>\n",
       "    <tr>\n",
       "      <th class=\"blank level0\" >&nbsp;</th>\n",
       "      <th id=\"T_f9ef4_level0_col0\" class=\"col_heading level0 col0\" >04시</th>\n",
       "      <th id=\"T_f9ef4_level0_col1\" class=\"col_heading level0 col1\" >05시</th>\n",
       "      <th id=\"T_f9ef4_level0_col2\" class=\"col_heading level0 col2\" >06시</th>\n",
       "      <th id=\"T_f9ef4_level0_col3\" class=\"col_heading level0 col3\" >07시</th>\n",
       "      <th id=\"T_f9ef4_level0_col4\" class=\"col_heading level0 col4\" >08시</th>\n",
       "      <th id=\"T_f9ef4_level0_col5\" class=\"col_heading level0 col5\" >09시</th>\n",
       "      <th id=\"T_f9ef4_level0_col6\" class=\"col_heading level0 col6\" >10시</th>\n",
       "      <th id=\"T_f9ef4_level0_col7\" class=\"col_heading level0 col7\" >11시</th>\n",
       "      <th id=\"T_f9ef4_level0_col8\" class=\"col_heading level0 col8\" >12시</th>\n",
       "      <th id=\"T_f9ef4_level0_col9\" class=\"col_heading level0 col9\" >13시</th>\n",
       "      <th id=\"T_f9ef4_level0_col10\" class=\"col_heading level0 col10\" >14시</th>\n",
       "      <th id=\"T_f9ef4_level0_col11\" class=\"col_heading level0 col11\" >15시</th>\n",
       "      <th id=\"T_f9ef4_level0_col12\" class=\"col_heading level0 col12\" >16시</th>\n",
       "      <th id=\"T_f9ef4_level0_col13\" class=\"col_heading level0 col13\" >17시</th>\n",
       "      <th id=\"T_f9ef4_level0_col14\" class=\"col_heading level0 col14\" >18시</th>\n",
       "      <th id=\"T_f9ef4_level0_col15\" class=\"col_heading level0 col15\" >19시</th>\n",
       "      <th id=\"T_f9ef4_level0_col16\" class=\"col_heading level0 col16\" >20시</th>\n",
       "      <th id=\"T_f9ef4_level0_col17\" class=\"col_heading level0 col17\" >21시</th>\n",
       "      <th id=\"T_f9ef4_level0_col18\" class=\"col_heading level0 col18\" >22시</th>\n",
       "      <th id=\"T_f9ef4_level0_col19\" class=\"col_heading level0 col19\" >23시</th>\n",
       "      <th id=\"T_f9ef4_level0_col20\" class=\"col_heading level0 col20\" >00시</th>\n",
       "      <th id=\"T_f9ef4_level0_col21\" class=\"col_heading level0 col21\" >01시</th>\n",
       "      <th id=\"T_f9ef4_level0_col22\" class=\"col_heading level0 col22\" >02시</th>\n",
       "      <th id=\"T_f9ef4_level0_col23\" class=\"col_heading level0 col23\" >03시</th>\n",
       "    </tr>\n",
       "    <tr>\n",
       "      <th class=\"index_name level0\" >지하철역</th>\n",
       "      <th class=\"blank col0\" >&nbsp;</th>\n",
       "      <th class=\"blank col1\" >&nbsp;</th>\n",
       "      <th class=\"blank col2\" >&nbsp;</th>\n",
       "      <th class=\"blank col3\" >&nbsp;</th>\n",
       "      <th class=\"blank col4\" >&nbsp;</th>\n",
       "      <th class=\"blank col5\" >&nbsp;</th>\n",
       "      <th class=\"blank col6\" >&nbsp;</th>\n",
       "      <th class=\"blank col7\" >&nbsp;</th>\n",
       "      <th class=\"blank col8\" >&nbsp;</th>\n",
       "      <th class=\"blank col9\" >&nbsp;</th>\n",
       "      <th class=\"blank col10\" >&nbsp;</th>\n",
       "      <th class=\"blank col11\" >&nbsp;</th>\n",
       "      <th class=\"blank col12\" >&nbsp;</th>\n",
       "      <th class=\"blank col13\" >&nbsp;</th>\n",
       "      <th class=\"blank col14\" >&nbsp;</th>\n",
       "      <th class=\"blank col15\" >&nbsp;</th>\n",
       "      <th class=\"blank col16\" >&nbsp;</th>\n",
       "      <th class=\"blank col17\" >&nbsp;</th>\n",
       "      <th class=\"blank col18\" >&nbsp;</th>\n",
       "      <th class=\"blank col19\" >&nbsp;</th>\n",
       "      <th class=\"blank col20\" >&nbsp;</th>\n",
       "      <th class=\"blank col21\" >&nbsp;</th>\n",
       "      <th class=\"blank col22\" >&nbsp;</th>\n",
       "      <th class=\"blank col23\" >&nbsp;</th>\n",
       "    </tr>\n",
       "  </thead>\n",
       "  <tbody>\n",
       "    <tr>\n",
       "      <th id=\"T_f9ef4_level0_row0\" class=\"row_heading level0 row0\" >강남</th>\n",
       "      <td id=\"T_f9ef4_row0_col0\" class=\"data row0 col0\" >200</td>\n",
       "      <td id=\"T_f9ef4_row0_col1\" class=\"data row0 col1\" >11268</td>\n",
       "      <td id=\"T_f9ef4_row0_col2\" class=\"data row0 col2\" >20092</td>\n",
       "      <td id=\"T_f9ef4_row0_col3\" class=\"data row0 col3\" >40044</td>\n",
       "      <td id=\"T_f9ef4_row0_col4\" class=\"data row0 col4\" >64828</td>\n",
       "      <td id=\"T_f9ef4_row0_col5\" class=\"data row0 col5\" >54186</td>\n",
       "      <td id=\"T_f9ef4_row0_col6\" class=\"data row0 col6\" >54051</td>\n",
       "      <td id=\"T_f9ef4_row0_col7\" class=\"data row0 col7\" >72620</td>\n",
       "      <td id=\"T_f9ef4_row0_col8\" class=\"data row0 col8\" >92870</td>\n",
       "      <td id=\"T_f9ef4_row0_col9\" class=\"data row0 col9\" >115657</td>\n",
       "      <td id=\"T_f9ef4_row0_col10\" class=\"data row0 col10\" >122541</td>\n",
       "      <td id=\"T_f9ef4_row0_col11\" class=\"data row0 col11\" >149213</td>\n",
       "      <td id=\"T_f9ef4_row0_col12\" class=\"data row0 col12\" >170881</td>\n",
       "      <td id=\"T_f9ef4_row0_col13\" class=\"data row0 col13\" >240434</td>\n",
       "      <td id=\"T_f9ef4_row0_col14\" class=\"data row0 col14\" >343753</td>\n",
       "      <td id=\"T_f9ef4_row0_col15\" class=\"data row0 col15\" >223735</td>\n",
       "      <td id=\"T_f9ef4_row0_col16\" class=\"data row0 col16\" >178880</td>\n",
       "      <td id=\"T_f9ef4_row0_col17\" class=\"data row0 col17\" >216217</td>\n",
       "      <td id=\"T_f9ef4_row0_col18\" class=\"data row0 col18\" >207535</td>\n",
       "      <td id=\"T_f9ef4_row0_col19\" class=\"data row0 col19\" >83943</td>\n",
       "      <td id=\"T_f9ef4_row0_col20\" class=\"data row0 col20\" >12218</td>\n",
       "      <td id=\"T_f9ef4_row0_col21\" class=\"data row0 col21\" >42</td>\n",
       "      <td id=\"T_f9ef4_row0_col22\" class=\"data row0 col22\" >10</td>\n",
       "      <td id=\"T_f9ef4_row0_col23\" class=\"data row0 col23\" >1</td>\n",
       "    </tr>\n",
       "    <tr>\n",
       "      <th id=\"T_f9ef4_level0_row1\" class=\"row_heading level0 row1\" >구로디지털단지</th>\n",
       "      <td id=\"T_f9ef4_row1_col0\" class=\"data row1 col0\" >251</td>\n",
       "      <td id=\"T_f9ef4_row1_col1\" class=\"data row1 col1\" >39289</td>\n",
       "      <td id=\"T_f9ef4_row1_col2\" class=\"data row1 col2\" >52406</td>\n",
       "      <td id=\"T_f9ef4_row1_col3\" class=\"data row1 col3\" >137133</td>\n",
       "      <td id=\"T_f9ef4_row1_col4\" class=\"data row1 col4\" >182999</td>\n",
       "      <td id=\"T_f9ef4_row1_col5\" class=\"data row1 col5\" >115665</td>\n",
       "      <td id=\"T_f9ef4_row1_col6\" class=\"data row1 col6\" >68660</td>\n",
       "      <td id=\"T_f9ef4_row1_col7\" class=\"data row1 col7\" >61428</td>\n",
       "      <td id=\"T_f9ef4_row1_col8\" class=\"data row1 col8\" >66486</td>\n",
       "      <td id=\"T_f9ef4_row1_col9\" class=\"data row1 col9\" >68083</td>\n",
       "      <td id=\"T_f9ef4_row1_col10\" class=\"data row1 col10\" >61964</td>\n",
       "      <td id=\"T_f9ef4_row1_col11\" class=\"data row1 col11\" >64823</td>\n",
       "      <td id=\"T_f9ef4_row1_col12\" class=\"data row1 col12\" >77632</td>\n",
       "      <td id=\"T_f9ef4_row1_col13\" class=\"data row1 col13\" >122631</td>\n",
       "      <td id=\"T_f9ef4_row1_col14\" class=\"data row1 col14\" >223310</td>\n",
       "      <td id=\"T_f9ef4_row1_col15\" class=\"data row1 col15\" >115340</td>\n",
       "      <td id=\"T_f9ef4_row1_col16\" class=\"data row1 col16\" >69855</td>\n",
       "      <td id=\"T_f9ef4_row1_col17\" class=\"data row1 col17\" >60133</td>\n",
       "      <td id=\"T_f9ef4_row1_col18\" class=\"data row1 col18\" >46034</td>\n",
       "      <td id=\"T_f9ef4_row1_col19\" class=\"data row1 col19\" >19676</td>\n",
       "      <td id=\"T_f9ef4_row1_col20\" class=\"data row1 col20\" >2522</td>\n",
       "      <td id=\"T_f9ef4_row1_col21\" class=\"data row1 col21\" >12</td>\n",
       "      <td id=\"T_f9ef4_row1_col22\" class=\"data row1 col22\" >1</td>\n",
       "      <td id=\"T_f9ef4_row1_col23\" class=\"data row1 col23\" >0</td>\n",
       "    </tr>\n",
       "    <tr>\n",
       "      <th id=\"T_f9ef4_level0_row2\" class=\"row_heading level0 row2\" >삼성</th>\n",
       "      <td id=\"T_f9ef4_row2_col0\" class=\"data row2 col0\" >166</td>\n",
       "      <td id=\"T_f9ef4_row2_col1\" class=\"data row2 col1\" >4759</td>\n",
       "      <td id=\"T_f9ef4_row2_col2\" class=\"data row2 col2\" >7509</td>\n",
       "      <td id=\"T_f9ef4_row2_col3\" class=\"data row2 col3\" >15994</td>\n",
       "      <td id=\"T_f9ef4_row2_col4\" class=\"data row2 col4\" >21927</td>\n",
       "      <td id=\"T_f9ef4_row2_col5\" class=\"data row2 col5\" >22378</td>\n",
       "      <td id=\"T_f9ef4_row2_col6\" class=\"data row2 col6\" >24176</td>\n",
       "      <td id=\"T_f9ef4_row2_col7\" class=\"data row2 col7\" >35510</td>\n",
       "      <td id=\"T_f9ef4_row2_col8\" class=\"data row2 col8\" >45498</td>\n",
       "      <td id=\"T_f9ef4_row2_col9\" class=\"data row2 col9\" >60130</td>\n",
       "      <td id=\"T_f9ef4_row2_col10\" class=\"data row2 col10\" >74138</td>\n",
       "      <td id=\"T_f9ef4_row2_col11\" class=\"data row2 col11\" >94213</td>\n",
       "      <td id=\"T_f9ef4_row2_col12\" class=\"data row2 col12\" >115663</td>\n",
       "      <td id=\"T_f9ef4_row2_col13\" class=\"data row2 col13\" >188316</td>\n",
       "      <td id=\"T_f9ef4_row2_col14\" class=\"data row2 col14\" >294941</td>\n",
       "      <td id=\"T_f9ef4_row2_col15\" class=\"data row2 col15\" >168625</td>\n",
       "      <td id=\"T_f9ef4_row2_col16\" class=\"data row2 col16\" >123201</td>\n",
       "      <td id=\"T_f9ef4_row2_col17\" class=\"data row2 col17\" >105947</td>\n",
       "      <td id=\"T_f9ef4_row2_col18\" class=\"data row2 col18\" >71970</td>\n",
       "      <td id=\"T_f9ef4_row2_col19\" class=\"data row2 col19\" >19138</td>\n",
       "      <td id=\"T_f9ef4_row2_col20\" class=\"data row2 col20\" >2394</td>\n",
       "      <td id=\"T_f9ef4_row2_col21\" class=\"data row2 col21\" >60</td>\n",
       "      <td id=\"T_f9ef4_row2_col22\" class=\"data row2 col22\" >30</td>\n",
       "      <td id=\"T_f9ef4_row2_col23\" class=\"data row2 col23\" >1</td>\n",
       "    </tr>\n",
       "    <tr>\n",
       "      <th id=\"T_f9ef4_level0_row3\" class=\"row_heading level0 row3\" >서울대입구</th>\n",
       "      <td id=\"T_f9ef4_row3_col0\" class=\"data row3 col0\" >4148</td>\n",
       "      <td id=\"T_f9ef4_row3_col1\" class=\"data row3 col1\" >28407</td>\n",
       "      <td id=\"T_f9ef4_row3_col2\" class=\"data row3 col2\" >42982</td>\n",
       "      <td id=\"T_f9ef4_row3_col3\" class=\"data row3 col3\" >125994</td>\n",
       "      <td id=\"T_f9ef4_row3_col4\" class=\"data row3 col4\" >180686</td>\n",
       "      <td id=\"T_f9ef4_row3_col5\" class=\"data row3 col5\" >119476</td>\n",
       "      <td id=\"T_f9ef4_row3_col6\" class=\"data row3 col6\" >68434</td>\n",
       "      <td id=\"T_f9ef4_row3_col7\" class=\"data row3 col7\" >61264</td>\n",
       "      <td id=\"T_f9ef4_row3_col8\" class=\"data row3 col8\" >66588</td>\n",
       "      <td id=\"T_f9ef4_row3_col9\" class=\"data row3 col9\" >71341</td>\n",
       "      <td id=\"T_f9ef4_row3_col10\" class=\"data row3 col10\" >64633</td>\n",
       "      <td id=\"T_f9ef4_row3_col11\" class=\"data row3 col11\" >68216</td>\n",
       "      <td id=\"T_f9ef4_row3_col12\" class=\"data row3 col12\" >75435</td>\n",
       "      <td id=\"T_f9ef4_row3_col13\" class=\"data row3 col13\" >85348</td>\n",
       "      <td id=\"T_f9ef4_row3_col14\" class=\"data row3 col14\" >95359</td>\n",
       "      <td id=\"T_f9ef4_row3_col15\" class=\"data row3 col15\" >59847</td>\n",
       "      <td id=\"T_f9ef4_row3_col16\" class=\"data row3 col16\" >50128</td>\n",
       "      <td id=\"T_f9ef4_row3_col17\" class=\"data row3 col17\" >52081</td>\n",
       "      <td id=\"T_f9ef4_row3_col18\" class=\"data row3 col18\" >46057</td>\n",
       "      <td id=\"T_f9ef4_row3_col19\" class=\"data row3 col19\" >21462</td>\n",
       "      <td id=\"T_f9ef4_row3_col20\" class=\"data row3 col20\" >2780</td>\n",
       "      <td id=\"T_f9ef4_row3_col21\" class=\"data row3 col21\" >10</td>\n",
       "      <td id=\"T_f9ef4_row3_col22\" class=\"data row3 col22\" >2</td>\n",
       "      <td id=\"T_f9ef4_row3_col23\" class=\"data row3 col23\" >0</td>\n",
       "    </tr>\n",
       "    <tr>\n",
       "      <th id=\"T_f9ef4_level0_row4\" class=\"row_heading level0 row4\" >선릉</th>\n",
       "      <td id=\"T_f9ef4_row4_col0\" class=\"data row4 col0\" >102</td>\n",
       "      <td id=\"T_f9ef4_row4_col1\" class=\"data row4 col1\" >4914</td>\n",
       "      <td id=\"T_f9ef4_row4_col2\" class=\"data row4 col2\" >11078</td>\n",
       "      <td id=\"T_f9ef4_row4_col3\" class=\"data row4 col3\" >21083</td>\n",
       "      <td id=\"T_f9ef4_row4_col4\" class=\"data row4 col4\" >32791</td>\n",
       "      <td id=\"T_f9ef4_row4_col5\" class=\"data row4 col5\" >31823</td>\n",
       "      <td id=\"T_f9ef4_row4_col6\" class=\"data row4 col6\" >34649</td>\n",
       "      <td id=\"T_f9ef4_row4_col7\" class=\"data row4 col7\" >45507</td>\n",
       "      <td id=\"T_f9ef4_row4_col8\" class=\"data row4 col8\" >53924</td>\n",
       "      <td id=\"T_f9ef4_row4_col9\" class=\"data row4 col9\" >63801</td>\n",
       "      <td id=\"T_f9ef4_row4_col10\" class=\"data row4 col10\" >72065</td>\n",
       "      <td id=\"T_f9ef4_row4_col11\" class=\"data row4 col11\" >90514</td>\n",
       "      <td id=\"T_f9ef4_row4_col12\" class=\"data row4 col12\" >121775</td>\n",
       "      <td id=\"T_f9ef4_row4_col13\" class=\"data row4 col13\" >169803</td>\n",
       "      <td id=\"T_f9ef4_row4_col14\" class=\"data row4 col14\" >283547</td>\n",
       "      <td id=\"T_f9ef4_row4_col15\" class=\"data row4 col15\" >143360</td>\n",
       "      <td id=\"T_f9ef4_row4_col16\" class=\"data row4 col16\" >89939</td>\n",
       "      <td id=\"T_f9ef4_row4_col17\" class=\"data row4 col17\" >91231</td>\n",
       "      <td id=\"T_f9ef4_row4_col18\" class=\"data row4 col18\" >73719</td>\n",
       "      <td id=\"T_f9ef4_row4_col19\" class=\"data row4 col19\" >25120</td>\n",
       "      <td id=\"T_f9ef4_row4_col20\" class=\"data row4 col20\" >3186</td>\n",
       "      <td id=\"T_f9ef4_row4_col21\" class=\"data row4 col21\" >10</td>\n",
       "      <td id=\"T_f9ef4_row4_col22\" class=\"data row4 col22\" >2</td>\n",
       "      <td id=\"T_f9ef4_row4_col23\" class=\"data row4 col23\" >0</td>\n",
       "    </tr>\n",
       "    <tr>\n",
       "      <th id=\"T_f9ef4_level0_row5\" class=\"row_heading level0 row5\" >신도림</th>\n",
       "      <td id=\"T_f9ef4_row5_col0\" class=\"data row5 col0\" >3362</td>\n",
       "      <td id=\"T_f9ef4_row5_col1\" class=\"data row5 col1\" >35786</td>\n",
       "      <td id=\"T_f9ef4_row5_col2\" class=\"data row5 col2\" >50420</td>\n",
       "      <td id=\"T_f9ef4_row5_col3\" class=\"data row5 col3\" >134114</td>\n",
       "      <td id=\"T_f9ef4_row5_col4\" class=\"data row5 col4\" >140965</td>\n",
       "      <td id=\"T_f9ef4_row5_col5\" class=\"data row5 col5\" >89916</td>\n",
       "      <td id=\"T_f9ef4_row5_col6\" class=\"data row5 col6\" >61495</td>\n",
       "      <td id=\"T_f9ef4_row5_col7\" class=\"data row5 col7\" >60290</td>\n",
       "      <td id=\"T_f9ef4_row5_col8\" class=\"data row5 col8\" >68700</td>\n",
       "      <td id=\"T_f9ef4_row5_col9\" class=\"data row5 col9\" >72646</td>\n",
       "      <td id=\"T_f9ef4_row5_col10\" class=\"data row5 col10\" >72069</td>\n",
       "      <td id=\"T_f9ef4_row5_col11\" class=\"data row5 col11\" >75747</td>\n",
       "      <td id=\"T_f9ef4_row5_col12\" class=\"data row5 col12\" >83664</td>\n",
       "      <td id=\"T_f9ef4_row5_col13\" class=\"data row5 col13\" >101420</td>\n",
       "      <td id=\"T_f9ef4_row5_col14\" class=\"data row5 col14\" >134346</td>\n",
       "      <td id=\"T_f9ef4_row5_col15\" class=\"data row5 col15\" >81202</td>\n",
       "      <td id=\"T_f9ef4_row5_col16\" class=\"data row5 col16\" >68744</td>\n",
       "      <td id=\"T_f9ef4_row5_col17\" class=\"data row5 col17\" >70103</td>\n",
       "      <td id=\"T_f9ef4_row5_col18\" class=\"data row5 col18\" >52678</td>\n",
       "      <td id=\"T_f9ef4_row5_col19\" class=\"data row5 col19\" >21723</td>\n",
       "      <td id=\"T_f9ef4_row5_col20\" class=\"data row5 col20\" >2044</td>\n",
       "      <td id=\"T_f9ef4_row5_col21\" class=\"data row5 col21\" >16</td>\n",
       "      <td id=\"T_f9ef4_row5_col22\" class=\"data row5 col22\" >2</td>\n",
       "      <td id=\"T_f9ef4_row5_col23\" class=\"data row5 col23\" >0</td>\n",
       "    </tr>\n",
       "    <tr>\n",
       "      <th id=\"T_f9ef4_level0_row6\" class=\"row_heading level0 row6\" >신림</th>\n",
       "      <td id=\"T_f9ef4_row6_col0\" class=\"data row6 col0\" >284</td>\n",
       "      <td id=\"T_f9ef4_row6_col1\" class=\"data row6 col1\" >39890</td>\n",
       "      <td id=\"T_f9ef4_row6_col2\" class=\"data row6 col2\" >75300</td>\n",
       "      <td id=\"T_f9ef4_row6_col3\" class=\"data row6 col3\" >204526</td>\n",
       "      <td id=\"T_f9ef4_row6_col4\" class=\"data row6 col4\" >305088</td>\n",
       "      <td id=\"T_f9ef4_row6_col5\" class=\"data row6 col5\" >182739</td>\n",
       "      <td id=\"T_f9ef4_row6_col6\" class=\"data row6 col6\" >98890</td>\n",
       "      <td id=\"T_f9ef4_row6_col7\" class=\"data row6 col7\" >82922</td>\n",
       "      <td id=\"T_f9ef4_row6_col8\" class=\"data row6 col8\" >87596</td>\n",
       "      <td id=\"T_f9ef4_row6_col9\" class=\"data row6 col9\" >84727</td>\n",
       "      <td id=\"T_f9ef4_row6_col10\" class=\"data row6 col10\" >76579</td>\n",
       "      <td id=\"T_f9ef4_row6_col11\" class=\"data row6 col11\" >75055</td>\n",
       "      <td id=\"T_f9ef4_row6_col12\" class=\"data row6 col12\" >81788</td>\n",
       "      <td id=\"T_f9ef4_row6_col13\" class=\"data row6 col13\" >88834</td>\n",
       "      <td id=\"T_f9ef4_row6_col14\" class=\"data row6 col14\" >93013</td>\n",
       "      <td id=\"T_f9ef4_row6_col15\" class=\"data row6 col15\" >63213</td>\n",
       "      <td id=\"T_f9ef4_row6_col16\" class=\"data row6 col16\" >52872</td>\n",
       "      <td id=\"T_f9ef4_row6_col17\" class=\"data row6 col17\" >51414</td>\n",
       "      <td id=\"T_f9ef4_row6_col18\" class=\"data row6 col18\" >45214</td>\n",
       "      <td id=\"T_f9ef4_row6_col19\" class=\"data row6 col19\" >22745</td>\n",
       "      <td id=\"T_f9ef4_row6_col20\" class=\"data row6 col20\" >3192</td>\n",
       "      <td id=\"T_f9ef4_row6_col21\" class=\"data row6 col21\" >18</td>\n",
       "      <td id=\"T_f9ef4_row6_col22\" class=\"data row6 col22\" >2</td>\n",
       "      <td id=\"T_f9ef4_row6_col23\" class=\"data row6 col23\" >0</td>\n",
       "    </tr>\n",
       "    <tr>\n",
       "      <th id=\"T_f9ef4_level0_row7\" class=\"row_heading level0 row7\" >역삼</th>\n",
       "      <td id=\"T_f9ef4_row7_col0\" class=\"data row7 col0\" >44</td>\n",
       "      <td id=\"T_f9ef4_row7_col1\" class=\"data row7 col1\" >3807</td>\n",
       "      <td id=\"T_f9ef4_row7_col2\" class=\"data row7 col2\" >8616</td>\n",
       "      <td id=\"T_f9ef4_row7_col3\" class=\"data row7 col3\" >14900</td>\n",
       "      <td id=\"T_f9ef4_row7_col4\" class=\"data row7 col4\" >25532</td>\n",
       "      <td id=\"T_f9ef4_row7_col5\" class=\"data row7 col5\" >23782</td>\n",
       "      <td id=\"T_f9ef4_row7_col6\" class=\"data row7 col6\" >24348</td>\n",
       "      <td id=\"T_f9ef4_row7_col7\" class=\"data row7 col7\" >32904</td>\n",
       "      <td id=\"T_f9ef4_row7_col8\" class=\"data row7 col8\" >40367</td>\n",
       "      <td id=\"T_f9ef4_row7_col9\" class=\"data row7 col9\" >49071</td>\n",
       "      <td id=\"T_f9ef4_row7_col10\" class=\"data row7 col10\" >56615</td>\n",
       "      <td id=\"T_f9ef4_row7_col11\" class=\"data row7 col11\" >73720</td>\n",
       "      <td id=\"T_f9ef4_row7_col12\" class=\"data row7 col12\" >92117</td>\n",
       "      <td id=\"T_f9ef4_row7_col13\" class=\"data row7 col13\" >174617</td>\n",
       "      <td id=\"T_f9ef4_row7_col14\" class=\"data row7 col14\" >274456</td>\n",
       "      <td id=\"T_f9ef4_row7_col15\" class=\"data row7 col15\" >141884</td>\n",
       "      <td id=\"T_f9ef4_row7_col16\" class=\"data row7 col16\" >83333</td>\n",
       "      <td id=\"T_f9ef4_row7_col17\" class=\"data row7 col17\" >84077</td>\n",
       "      <td id=\"T_f9ef4_row7_col18\" class=\"data row7 col18\" >58586</td>\n",
       "      <td id=\"T_f9ef4_row7_col19\" class=\"data row7 col19\" >21396</td>\n",
       "      <td id=\"T_f9ef4_row7_col20\" class=\"data row7 col20\" >2791</td>\n",
       "      <td id=\"T_f9ef4_row7_col21\" class=\"data row7 col21\" >6</td>\n",
       "      <td id=\"T_f9ef4_row7_col22\" class=\"data row7 col22\" >1</td>\n",
       "      <td id=\"T_f9ef4_row7_col23\" class=\"data row7 col23\" >0</td>\n",
       "    </tr>\n",
       "    <tr>\n",
       "      <th id=\"T_f9ef4_level0_row8\" class=\"row_heading level0 row8\" >잠실</th>\n",
       "      <td id=\"T_f9ef4_row8_col0\" class=\"data row8 col0\" >92</td>\n",
       "      <td id=\"T_f9ef4_row8_col1\" class=\"data row8 col1\" >12149</td>\n",
       "      <td id=\"T_f9ef4_row8_col2\" class=\"data row8 col2\" >46134</td>\n",
       "      <td id=\"T_f9ef4_row8_col3\" class=\"data row8 col3\" >115526</td>\n",
       "      <td id=\"T_f9ef4_row8_col4\" class=\"data row8 col4\" >166209</td>\n",
       "      <td id=\"T_f9ef4_row8_col5\" class=\"data row8 col5\" >120829</td>\n",
       "      <td id=\"T_f9ef4_row8_col6\" class=\"data row8 col6\" >81041</td>\n",
       "      <td id=\"T_f9ef4_row8_col7\" class=\"data row8 col7\" >81279</td>\n",
       "      <td id=\"T_f9ef4_row8_col8\" class=\"data row8 col8\" >90041</td>\n",
       "      <td id=\"T_f9ef4_row8_col9\" class=\"data row8 col9\" >100345</td>\n",
       "      <td id=\"T_f9ef4_row8_col10\" class=\"data row8 col10\" >105703</td>\n",
       "      <td id=\"T_f9ef4_row8_col11\" class=\"data row8 col11\" >121147</td>\n",
       "      <td id=\"T_f9ef4_row8_col12\" class=\"data row8 col12\" >142022</td>\n",
       "      <td id=\"T_f9ef4_row8_col13\" class=\"data row8 col13\" >182116</td>\n",
       "      <td id=\"T_f9ef4_row8_col14\" class=\"data row8 col14\" >231972</td>\n",
       "      <td id=\"T_f9ef4_row8_col15\" class=\"data row8 col15\" >159950</td>\n",
       "      <td id=\"T_f9ef4_row8_col16\" class=\"data row8 col16\" >157380</td>\n",
       "      <td id=\"T_f9ef4_row8_col17\" class=\"data row8 col17\" >137990</td>\n",
       "      <td id=\"T_f9ef4_row8_col18\" class=\"data row8 col18\" >100086</td>\n",
       "      <td id=\"T_f9ef4_row8_col19\" class=\"data row8 col19\" >30282</td>\n",
       "      <td id=\"T_f9ef4_row8_col20\" class=\"data row8 col20\" >3182</td>\n",
       "      <td id=\"T_f9ef4_row8_col21\" class=\"data row8 col21\" >25</td>\n",
       "      <td id=\"T_f9ef4_row8_col22\" class=\"data row8 col22\" >2</td>\n",
       "      <td id=\"T_f9ef4_row8_col23\" class=\"data row8 col23\" >0</td>\n",
       "    </tr>\n",
       "    <tr>\n",
       "      <th id=\"T_f9ef4_level0_row9\" class=\"row_heading level0 row9\" >홍대입구</th>\n",
       "      <td id=\"T_f9ef4_row9_col0\" class=\"data row9 col0\" >1017</td>\n",
       "      <td id=\"T_f9ef4_row9_col1\" class=\"data row9 col1\" >26828</td>\n",
       "      <td id=\"T_f9ef4_row9_col2\" class=\"data row9 col2\" >29698</td>\n",
       "      <td id=\"T_f9ef4_row9_col3\" class=\"data row9 col3\" >62419</td>\n",
       "      <td id=\"T_f9ef4_row9_col4\" class=\"data row9 col4\" >80009</td>\n",
       "      <td id=\"T_f9ef4_row9_col5\" class=\"data row9 col5\" >58179</td>\n",
       "      <td id=\"T_f9ef4_row9_col6\" class=\"data row9 col6\" >49503</td>\n",
       "      <td id=\"T_f9ef4_row9_col7\" class=\"data row9 col7\" >56141</td>\n",
       "      <td id=\"T_f9ef4_row9_col8\" class=\"data row9 col8\" >66215</td>\n",
       "      <td id=\"T_f9ef4_row9_col9\" class=\"data row9 col9\" >76889</td>\n",
       "      <td id=\"T_f9ef4_row9_col10\" class=\"data row9 col10\" >83610</td>\n",
       "      <td id=\"T_f9ef4_row9_col11\" class=\"data row9 col11\" >100655</td>\n",
       "      <td id=\"T_f9ef4_row9_col12\" class=\"data row9 col12\" >124249</td>\n",
       "      <td id=\"T_f9ef4_row9_col13\" class=\"data row9 col13\" >152618</td>\n",
       "      <td id=\"T_f9ef4_row9_col14\" class=\"data row9 col14\" >183825</td>\n",
       "      <td id=\"T_f9ef4_row9_col15\" class=\"data row9 col15\" >147057</td>\n",
       "      <td id=\"T_f9ef4_row9_col16\" class=\"data row9 col16\" >145258</td>\n",
       "      <td id=\"T_f9ef4_row9_col17\" class=\"data row9 col17\" >177889</td>\n",
       "      <td id=\"T_f9ef4_row9_col18\" class=\"data row9 col18\" >177827</td>\n",
       "      <td id=\"T_f9ef4_row9_col19\" class=\"data row9 col19\" >86287</td>\n",
       "      <td id=\"T_f9ef4_row9_col20\" class=\"data row9 col20\" >9404</td>\n",
       "      <td id=\"T_f9ef4_row9_col21\" class=\"data row9 col21\" >56</td>\n",
       "      <td id=\"T_f9ef4_row9_col22\" class=\"data row9 col22\" >10</td>\n",
       "      <td id=\"T_f9ef4_row9_col23\" class=\"data row9 col23\" >1</td>\n",
       "    </tr>\n",
       "  </tbody>\n",
       "</table>\n"
      ],
      "text/plain": [
       "<pandas.io.formats.style.Styler at 0x1b6b99d3070>"
      ]
     },
     "execution_count": 34,
     "metadata": {},
     "output_type": "execute_result"
    }
   ],
   "source": [
    "top10_mean_hour.style.background_gradient(cmap = 'pink_r', axis = None).format('{:.0f}')"
   ]
  },
  {
   "cell_type": "code",
   "execution_count": 36,
   "metadata": {},
   "outputs": [
    {
     "data": {
      "text/html": [
       "<style type=\"text/css\">\n",
       "#T_a06e3_row0_col0, #T_a06e3_row0_col21, #T_a06e3_row0_col22, #T_a06e3_row0_col23, #T_a06e3_row1_col0, #T_a06e3_row1_col21, #T_a06e3_row1_col22, #T_a06e3_row1_col23, #T_a06e3_row2_col0, #T_a06e3_row2_col21, #T_a06e3_row2_col22, #T_a06e3_row2_col23, #T_a06e3_row3_col21, #T_a06e3_row3_col22, #T_a06e3_row3_col23, #T_a06e3_row4_col0, #T_a06e3_row4_col21, #T_a06e3_row4_col22, #T_a06e3_row4_col23, #T_a06e3_row5_col21, #T_a06e3_row5_col22, #T_a06e3_row5_col23, #T_a06e3_row6_col0, #T_a06e3_row6_col21, #T_a06e3_row6_col22, #T_a06e3_row6_col23, #T_a06e3_row7_col0, #T_a06e3_row7_col21, #T_a06e3_row7_col22, #T_a06e3_row7_col23, #T_a06e3_row8_col0, #T_a06e3_row8_col21, #T_a06e3_row8_col22, #T_a06e3_row8_col23, #T_a06e3_row9_col21, #T_a06e3_row9_col22, #T_a06e3_row9_col23 {\n",
       "  background-color: #ffffff;\n",
       "  color: #000000;\n",
       "}\n",
       "#T_a06e3_row0_col1, #T_a06e3_row7_col2 {\n",
       "  background-color: #fcfcf7;\n",
       "  color: #000000;\n",
       "}\n",
       "#T_a06e3_row0_col2 {\n",
       "  background-color: #fafaf1;\n",
       "  color: #000000;\n",
       "}\n",
       "#T_a06e3_row0_col3, #T_a06e3_row4_col4 {\n",
       "  background-color: #f5f5e0;\n",
       "  color: #000000;\n",
       "}\n",
       "#T_a06e3_row0_col4, #T_a06e3_row4_col8 {\n",
       "  background-color: #eeeeca;\n",
       "  color: #000000;\n",
       "}\n",
       "#T_a06e3_row0_col5, #T_a06e3_row0_col6, #T_a06e3_row3_col1 {\n",
       "  background-color: #f1f1d4;\n",
       "  color: #000000;\n",
       "}\n",
       "#T_a06e3_row0_col7, #T_a06e3_row7_col18 {\n",
       "  background-color: #ececc2;\n",
       "  color: #000000;\n",
       "}\n",
       "#T_a06e3_row0_col8, #T_a06e3_row6_col7 {\n",
       "  background-color: #e7e5b2;\n",
       "  color: #000000;\n",
       "}\n",
       "#T_a06e3_row0_col9, #T_a06e3_row3_col7, #T_a06e3_row9_col3 {\n",
       "  background-color: #e1d6a9;\n",
       "  color: #000000;\n",
       "}\n",
       "#T_a06e3_row0_col10, #T_a06e3_row2_col17, #T_a06e3_row3_col10, #T_a06e3_row5_col2 {\n",
       "  background-color: #dfd1a7;\n",
       "  color: #000000;\n",
       "}\n",
       "#T_a06e3_row0_col11, #T_a06e3_row5_col6, #T_a06e3_row9_col4 {\n",
       "  background-color: #d7bd9c;\n",
       "  color: #000000;\n",
       "}\n",
       "#T_a06e3_row0_col12, #T_a06e3_row5_col17, #T_a06e3_row8_col3 {\n",
       "  background-color: #d0ac94;\n",
       "  color: #000000;\n",
       "}\n",
       "#T_a06e3_row0_col13 {\n",
       "  background-color: #af7272;\n",
       "  color: #f1f1f1;\n",
       "}\n",
       "#T_a06e3_row0_col14, #T_a06e3_row1_col14, #T_a06e3_row2_col14, #T_a06e3_row3_col4, #T_a06e3_row4_col14, #T_a06e3_row5_col4, #T_a06e3_row6_col4, #T_a06e3_row7_col14, #T_a06e3_row8_col14, #T_a06e3_row9_col14 {\n",
       "  background-color: #1e0000;\n",
       "  color: #f1f1f1;\n",
       "}\n",
       "#T_a06e3_row0_col15 {\n",
       "  background-color: #bd7b7b;\n",
       "  color: #f1f1f1;\n",
       "}\n",
       "#T_a06e3_row0_col16, #T_a06e3_row8_col5, #T_a06e3_row8_col11 {\n",
       "  background-color: #cea590;\n",
       "  color: #000000;\n",
       "}\n",
       "#T_a06e3_row0_col17 {\n",
       "  background-color: #c27f7e;\n",
       "  color: #f1f1f1;\n",
       "}\n",
       "#T_a06e3_row0_col18 {\n",
       "  background-color: #c58a83;\n",
       "  color: #f1f1f1;\n",
       "}\n",
       "#T_a06e3_row0_col19, #T_a06e3_row2_col18, #T_a06e3_row6_col11 {\n",
       "  background-color: #e9e9b8;\n",
       "  color: #000000;\n",
       "}\n",
       "#T_a06e3_row0_col20 {\n",
       "  background-color: #fcfcf6;\n",
       "  color: #000000;\n",
       "}\n",
       "#T_a06e3_row1_col1, #T_a06e3_row7_col9 {\n",
       "  background-color: #f0f0ce;\n",
       "  color: #000000;\n",
       "}\n",
       "#T_a06e3_row1_col2, #T_a06e3_row3_col2 {\n",
       "  background-color: #eaeaba;\n",
       "  color: #000000;\n",
       "}\n",
       "#T_a06e3_row1_col3 {\n",
       "  background-color: #c48581;\n",
       "  color: #f1f1f1;\n",
       "}\n",
       "#T_a06e3_row1_col4 {\n",
       "  background-color: #8a5858;\n",
       "  color: #f1f1f1;\n",
       "}\n",
       "#T_a06e3_row1_col5, #T_a06e3_row1_col15, #T_a06e3_row7_col15 {\n",
       "  background-color: #cea691;\n",
       "  color: #000000;\n",
       "}\n",
       "#T_a06e3_row1_col6, #T_a06e3_row1_col9, #T_a06e3_row6_col14, #T_a06e3_row7_col17, #T_a06e3_row9_col7 {\n",
       "  background-color: #e4ddad;\n",
       "  color: #000000;\n",
       "}\n",
       "#T_a06e3_row1_col7 {\n",
       "  background-color: #e6e4b1;\n",
       "  color: #000000;\n",
       "}\n",
       "#T_a06e3_row1_col8 {\n",
       "  background-color: #e4dfae;\n",
       "  color: #000000;\n",
       "}\n",
       "#T_a06e3_row1_col10, #T_a06e3_row3_col16, #T_a06e3_row6_col9 {\n",
       "  background-color: #e6e3b1;\n",
       "  color: #000000;\n",
       "}\n",
       "#T_a06e3_row1_col11, #T_a06e3_row6_col13 {\n",
       "  background-color: #e5e0af;\n",
       "  color: #000000;\n",
       "}\n",
       "#T_a06e3_row1_col12 {\n",
       "  background-color: #e0d4a8;\n",
       "  color: #000000;\n",
       "}\n",
       "#T_a06e3_row1_col13, #T_a06e3_row9_col11 {\n",
       "  background-color: #cb9c8c;\n",
       "  color: #f1f1f1;\n",
       "}\n",
       "#T_a06e3_row1_col16 {\n",
       "  background-color: #e3dbac;\n",
       "  color: #000000;\n",
       "}\n",
       "#T_a06e3_row1_col17, #T_a06e3_row6_col12, #T_a06e3_row7_col11, #T_a06e3_row9_col6 {\n",
       "  background-color: #e7e6b2;\n",
       "  color: #000000;\n",
       "}\n",
       "#T_a06e3_row1_col18, #T_a06e3_row2_col9, #T_a06e3_row7_col10 {\n",
       "  background-color: #ededc5;\n",
       "  color: #000000;\n",
       "}\n",
       "#T_a06e3_row1_col19, #T_a06e3_row4_col19, #T_a06e3_row7_col5, #T_a06e3_row7_col6 {\n",
       "  background-color: #f8f8e8;\n",
       "  color: #000000;\n",
       "}\n",
       "#T_a06e3_row1_col20, #T_a06e3_row2_col20, #T_a06e3_row4_col20, #T_a06e3_row6_col20, #T_a06e3_row7_col20 {\n",
       "  background-color: #fefefd;\n",
       "  color: #000000;\n",
       "}\n",
       "#T_a06e3_row2_col1, #T_a06e3_row4_col1 {\n",
       "  background-color: #fefefb;\n",
       "  color: #000000;\n",
       "}\n",
       "#T_a06e3_row2_col2, #T_a06e3_row5_col0 {\n",
       "  background-color: #fdfdf9;\n",
       "  color: #000000;\n",
       "}\n",
       "#T_a06e3_row2_col3, #T_a06e3_row7_col3, #T_a06e3_row8_col1, #T_a06e3_row9_col20 {\n",
       "  background-color: #fbfbf2;\n",
       "  color: #000000;\n",
       "}\n",
       "#T_a06e3_row2_col4, #T_a06e3_row2_col5, #T_a06e3_row4_col3, #T_a06e3_row6_col19, #T_a06e3_row7_col19 {\n",
       "  background-color: #f9f9eb;\n",
       "  color: #000000;\n",
       "}\n",
       "#T_a06e3_row2_col6 {\n",
       "  background-color: #f8f8ea;\n",
       "  color: #000000;\n",
       "}\n",
       "#T_a06e3_row2_col7, #T_a06e3_row3_col19, #T_a06e3_row7_col7 {\n",
       "  background-color: #f5f5df;\n",
       "  color: #000000;\n",
       "}\n",
       "#T_a06e3_row2_col8, #T_a06e3_row5_col19 {\n",
       "  background-color: #f2f2d5;\n",
       "  color: #000000;\n",
       "}\n",
       "#T_a06e3_row2_col10, #T_a06e3_row5_col1, #T_a06e3_row6_col10 {\n",
       "  background-color: #e9e9b5;\n",
       "  color: #000000;\n",
       "}\n",
       "#T_a06e3_row2_col11, #T_a06e3_row4_col11, #T_a06e3_row4_col16, #T_a06e3_row9_col5 {\n",
       "  background-color: #e2daac;\n",
       "  color: #000000;\n",
       "}\n",
       "#T_a06e3_row2_col12 {\n",
       "  background-color: #dbc8a2;\n",
       "  color: #000000;\n",
       "}\n",
       "#T_a06e3_row2_col13, #T_a06e3_row5_col5 {\n",
       "  background-color: #c17d7d;\n",
       "  color: #f1f1f1;\n",
       "}\n",
       "#T_a06e3_row2_col15 {\n",
       "  background-color: #c99588;\n",
       "  color: #f1f1f1;\n",
       "}\n",
       "#T_a06e3_row2_col16, #T_a06e3_row3_col12 {\n",
       "  background-color: #d9c29f;\n",
       "  color: #000000;\n",
       "}\n",
       "#T_a06e3_row2_col19 {\n",
       "  background-color: #fafaef;\n",
       "  color: #000000;\n",
       "}\n",
       "#T_a06e3_row3_col0 {\n",
       "  background-color: #fdfdfa;\n",
       "  color: #000000;\n",
       "}\n",
       "#T_a06e3_row3_col3 {\n",
       "  background-color: #b17272;\n",
       "  color: #f1f1f1;\n",
       "}\n",
       "#T_a06e3_row3_col5 {\n",
       "  background-color: #ba7979;\n",
       "  color: #f1f1f1;\n",
       "}\n",
       "#T_a06e3_row3_col6, #T_a06e3_row3_col11 {\n",
       "  background-color: #ddcca4;\n",
       "  color: #000000;\n",
       "}\n",
       "#T_a06e3_row3_col8 {\n",
       "  background-color: #ddcea5;\n",
       "  color: #000000;\n",
       "}\n",
       "#T_a06e3_row3_col9 {\n",
       "  background-color: #dbc7a2;\n",
       "  color: #000000;\n",
       "}\n",
       "#T_a06e3_row3_col13, #T_a06e3_row9_col19 {\n",
       "  background-color: #d3b497;\n",
       "  color: #000000;\n",
       "}\n",
       "#T_a06e3_row3_col14 {\n",
       "  background-color: #cda28f;\n",
       "  color: #000000;\n",
       "}\n",
       "#T_a06e3_row3_col15 {\n",
       "  background-color: #e1d8aa;\n",
       "  color: #000000;\n",
       "}\n",
       "#T_a06e3_row3_col17, #T_a06e3_row6_col8 {\n",
       "  background-color: #e5e1b0;\n",
       "  color: #000000;\n",
       "}\n",
       "#T_a06e3_row3_col18, #T_a06e3_row4_col10 {\n",
       "  background-color: #e8e8b4;\n",
       "  color: #000000;\n",
       "}\n",
       "#T_a06e3_row3_col20, #T_a06e3_row5_col20, #T_a06e3_row7_col1, #T_a06e3_row8_col20 {\n",
       "  background-color: #fefefc;\n",
       "  color: #000000;\n",
       "}\n",
       "#T_a06e3_row4_col2 {\n",
       "  background-color: #fcfcf5;\n",
       "  color: #000000;\n",
       "}\n",
       "#T_a06e3_row4_col5 {\n",
       "  background-color: #f5f5e2;\n",
       "  color: #000000;\n",
       "}\n",
       "#T_a06e3_row4_col6 {\n",
       "  background-color: #f4f4de;\n",
       "  color: #000000;\n",
       "}\n",
       "#T_a06e3_row4_col7, #T_a06e3_row9_col2 {\n",
       "  background-color: #f1f1d3;\n",
       "  color: #000000;\n",
       "}\n",
       "#T_a06e3_row4_col9 {\n",
       "  background-color: #ebebbe;\n",
       "  color: #000000;\n",
       "}\n",
       "#T_a06e3_row4_col12, #T_a06e3_row5_col7 {\n",
       "  background-color: #d8bf9e;\n",
       "  color: #000000;\n",
       "}\n",
       "#T_a06e3_row4_col13, #T_a06e3_row6_col5 {\n",
       "  background-color: #c68b84;\n",
       "  color: #f1f1f1;\n",
       "}\n",
       "#T_a06e3_row4_col15 {\n",
       "  background-color: #d0aa92;\n",
       "  color: #000000;\n",
       "}\n",
       "#T_a06e3_row4_col17, #T_a06e3_row6_col6 {\n",
       "  background-color: #e2d9ab;\n",
       "  color: #000000;\n",
       "}\n",
       "#T_a06e3_row4_col18 {\n",
       "  background-color: #e8e7b3;\n",
       "  color: #000000;\n",
       "}\n",
       "#T_a06e3_row5_col3, #T_a06e3_row5_col14 {\n",
       "  background-color: #4b2d2d;\n",
       "  color: #f1f1f1;\n",
       "}\n",
       "#T_a06e3_row5_col8, #T_a06e3_row5_col16 {\n",
       "  background-color: #d2af95;\n",
       "  color: #000000;\n",
       "}\n",
       "#T_a06e3_row5_col9 {\n",
       "  background-color: #cfa791;\n",
       "  color: #000000;\n",
       "}\n",
       "#T_a06e3_row5_col10 {\n",
       "  background-color: #cfa892;\n",
       "  color: #000000;\n",
       "}\n",
       "#T_a06e3_row5_col11 {\n",
       "  background-color: #cca08e;\n",
       "  color: #f1f1f1;\n",
       "}\n",
       "#T_a06e3_row5_col12 {\n",
       "  background-color: #c68e85;\n",
       "  color: #f1f1f1;\n",
       "}\n",
       "#T_a06e3_row5_col13 {\n",
       "  background-color: #aa6e6e;\n",
       "  color: #f1f1f1;\n",
       "}\n",
       "#T_a06e3_row5_col15 {\n",
       "  background-color: #c89387;\n",
       "  color: #f1f1f1;\n",
       "}\n",
       "#T_a06e3_row5_col18 {\n",
       "  background-color: #ddcda5;\n",
       "  color: #000000;\n",
       "}\n",
       "#T_a06e3_row6_col1, #T_a06e3_row8_col19 {\n",
       "  background-color: #f4f4dc;\n",
       "  color: #000000;\n",
       "}\n",
       "#T_a06e3_row6_col2 {\n",
       "  background-color: #e9e9b6;\n",
       "  color: #000000;\n",
       "}\n",
       "#T_a06e3_row6_col3 {\n",
       "  background-color: #b87777;\n",
       "  color: #f1f1f1;\n",
       "}\n",
       "#T_a06e3_row6_col15 {\n",
       "  background-color: #ededc4;\n",
       "  color: #000000;\n",
       "}\n",
       "#T_a06e3_row6_col16 {\n",
       "  background-color: #f0f0cf;\n",
       "  color: #000000;\n",
       "}\n",
       "#T_a06e3_row6_col17 {\n",
       "  background-color: #f0f0d0;\n",
       "  color: #000000;\n",
       "}\n",
       "#T_a06e3_row6_col18, #T_a06e3_row7_col8, #T_a06e3_row9_col1 {\n",
       "  background-color: #f2f2d7;\n",
       "  color: #000000;\n",
       "}\n",
       "#T_a06e3_row7_col4 {\n",
       "  background-color: #f7f7e7;\n",
       "  color: #000000;\n",
       "}\n",
       "#T_a06e3_row7_col12 {\n",
       "  background-color: #e1d7aa;\n",
       "  color: #000000;\n",
       "}\n",
       "#T_a06e3_row7_col13 {\n",
       "  background-color: #c27e7e;\n",
       "  color: #f1f1f1;\n",
       "}\n",
       "#T_a06e3_row7_col16 {\n",
       "  background-color: #e4deae;\n",
       "  color: #000000;\n",
       "}\n",
       "#T_a06e3_row8_col2 {\n",
       "  background-color: #eeeec7;\n",
       "  color: #000000;\n",
       "}\n",
       "#T_a06e3_row8_col4 {\n",
       "  background-color: #ab6f6f;\n",
       "  color: #f1f1f1;\n",
       "}\n",
       "#T_a06e3_row8_col6, #T_a06e3_row8_col7 {\n",
       "  background-color: #dfd3a8;\n",
       "  color: #000000;\n",
       "}\n",
       "#T_a06e3_row8_col8 {\n",
       "  background-color: #dcc9a3;\n",
       "  color: #000000;\n",
       "}\n",
       "#T_a06e3_row8_col9, #T_a06e3_row8_col18 {\n",
       "  background-color: #d7be9d;\n",
       "  color: #000000;\n",
       "}\n",
       "#T_a06e3_row8_col10, #T_a06e3_row9_col10 {\n",
       "  background-color: #d5b89a;\n",
       "  color: #000000;\n",
       "}\n",
       "#T_a06e3_row8_col12 {\n",
       "  background-color: #c48782;\n",
       "  color: #f1f1f1;\n",
       "}\n",
       "#T_a06e3_row8_col13 {\n",
       "  background-color: #966161;\n",
       "  color: #f1f1f1;\n",
       "}\n",
       "#T_a06e3_row8_col15 {\n",
       "  background-color: #b37474;\n",
       "  color: #f1f1f1;\n",
       "}\n",
       "#T_a06e3_row8_col16, #T_a06e3_row9_col12 {\n",
       "  background-color: #b67676;\n",
       "  color: #f1f1f1;\n",
       "}\n",
       "#T_a06e3_row8_col17 {\n",
       "  background-color: #c68c84;\n",
       "  color: #f1f1f1;\n",
       "}\n",
       "#T_a06e3_row9_col0 {\n",
       "  background-color: #fffffe;\n",
       "  color: #000000;\n",
       "}\n",
       "#T_a06e3_row9_col8 {\n",
       "  background-color: #ded0a6;\n",
       "  color: #000000;\n",
       "}\n",
       "#T_a06e3_row9_col9 {\n",
       "  background-color: #d8c19f;\n",
       "  color: #000000;\n",
       "}\n",
       "#T_a06e3_row9_col13 {\n",
       "  background-color: #855555;\n",
       "  color: #f1f1f1;\n",
       "}\n",
       "#T_a06e3_row9_col15 {\n",
       "  background-color: #915d5d;\n",
       "  color: #f1f1f1;\n",
       "}\n",
       "#T_a06e3_row9_col16 {\n",
       "  background-color: #935f5f;\n",
       "  color: #f1f1f1;\n",
       "}\n",
       "#T_a06e3_row9_col17, #T_a06e3_row9_col18 {\n",
       "  background-color: #402525;\n",
       "  color: #f1f1f1;\n",
       "}\n",
       "</style>\n",
       "<table id=\"T_a06e3\">\n",
       "  <thead>\n",
       "    <tr>\n",
       "      <th class=\"blank level0\" >&nbsp;</th>\n",
       "      <th id=\"T_a06e3_level0_col0\" class=\"col_heading level0 col0\" >04시</th>\n",
       "      <th id=\"T_a06e3_level0_col1\" class=\"col_heading level0 col1\" >05시</th>\n",
       "      <th id=\"T_a06e3_level0_col2\" class=\"col_heading level0 col2\" >06시</th>\n",
       "      <th id=\"T_a06e3_level0_col3\" class=\"col_heading level0 col3\" >07시</th>\n",
       "      <th id=\"T_a06e3_level0_col4\" class=\"col_heading level0 col4\" >08시</th>\n",
       "      <th id=\"T_a06e3_level0_col5\" class=\"col_heading level0 col5\" >09시</th>\n",
       "      <th id=\"T_a06e3_level0_col6\" class=\"col_heading level0 col6\" >10시</th>\n",
       "      <th id=\"T_a06e3_level0_col7\" class=\"col_heading level0 col7\" >11시</th>\n",
       "      <th id=\"T_a06e3_level0_col8\" class=\"col_heading level0 col8\" >12시</th>\n",
       "      <th id=\"T_a06e3_level0_col9\" class=\"col_heading level0 col9\" >13시</th>\n",
       "      <th id=\"T_a06e3_level0_col10\" class=\"col_heading level0 col10\" >14시</th>\n",
       "      <th id=\"T_a06e3_level0_col11\" class=\"col_heading level0 col11\" >15시</th>\n",
       "      <th id=\"T_a06e3_level0_col12\" class=\"col_heading level0 col12\" >16시</th>\n",
       "      <th id=\"T_a06e3_level0_col13\" class=\"col_heading level0 col13\" >17시</th>\n",
       "      <th id=\"T_a06e3_level0_col14\" class=\"col_heading level0 col14\" >18시</th>\n",
       "      <th id=\"T_a06e3_level0_col15\" class=\"col_heading level0 col15\" >19시</th>\n",
       "      <th id=\"T_a06e3_level0_col16\" class=\"col_heading level0 col16\" >20시</th>\n",
       "      <th id=\"T_a06e3_level0_col17\" class=\"col_heading level0 col17\" >21시</th>\n",
       "      <th id=\"T_a06e3_level0_col18\" class=\"col_heading level0 col18\" >22시</th>\n",
       "      <th id=\"T_a06e3_level0_col19\" class=\"col_heading level0 col19\" >23시</th>\n",
       "      <th id=\"T_a06e3_level0_col20\" class=\"col_heading level0 col20\" >00시</th>\n",
       "      <th id=\"T_a06e3_level0_col21\" class=\"col_heading level0 col21\" >01시</th>\n",
       "      <th id=\"T_a06e3_level0_col22\" class=\"col_heading level0 col22\" >02시</th>\n",
       "      <th id=\"T_a06e3_level0_col23\" class=\"col_heading level0 col23\" >03시</th>\n",
       "    </tr>\n",
       "    <tr>\n",
       "      <th class=\"index_name level0\" >지하철역</th>\n",
       "      <th class=\"blank col0\" >&nbsp;</th>\n",
       "      <th class=\"blank col1\" >&nbsp;</th>\n",
       "      <th class=\"blank col2\" >&nbsp;</th>\n",
       "      <th class=\"blank col3\" >&nbsp;</th>\n",
       "      <th class=\"blank col4\" >&nbsp;</th>\n",
       "      <th class=\"blank col5\" >&nbsp;</th>\n",
       "      <th class=\"blank col6\" >&nbsp;</th>\n",
       "      <th class=\"blank col7\" >&nbsp;</th>\n",
       "      <th class=\"blank col8\" >&nbsp;</th>\n",
       "      <th class=\"blank col9\" >&nbsp;</th>\n",
       "      <th class=\"blank col10\" >&nbsp;</th>\n",
       "      <th class=\"blank col11\" >&nbsp;</th>\n",
       "      <th class=\"blank col12\" >&nbsp;</th>\n",
       "      <th class=\"blank col13\" >&nbsp;</th>\n",
       "      <th class=\"blank col14\" >&nbsp;</th>\n",
       "      <th class=\"blank col15\" >&nbsp;</th>\n",
       "      <th class=\"blank col16\" >&nbsp;</th>\n",
       "      <th class=\"blank col17\" >&nbsp;</th>\n",
       "      <th class=\"blank col18\" >&nbsp;</th>\n",
       "      <th class=\"blank col19\" >&nbsp;</th>\n",
       "      <th class=\"blank col20\" >&nbsp;</th>\n",
       "      <th class=\"blank col21\" >&nbsp;</th>\n",
       "      <th class=\"blank col22\" >&nbsp;</th>\n",
       "      <th class=\"blank col23\" >&nbsp;</th>\n",
       "    </tr>\n",
       "  </thead>\n",
       "  <tbody>\n",
       "    <tr>\n",
       "      <th id=\"T_a06e3_level0_row0\" class=\"row_heading level0 row0\" >강남</th>\n",
       "      <td id=\"T_a06e3_row0_col0\" class=\"data row0 col0\" >200</td>\n",
       "      <td id=\"T_a06e3_row0_col1\" class=\"data row0 col1\" >11268</td>\n",
       "      <td id=\"T_a06e3_row0_col2\" class=\"data row0 col2\" >20092</td>\n",
       "      <td id=\"T_a06e3_row0_col3\" class=\"data row0 col3\" >40044</td>\n",
       "      <td id=\"T_a06e3_row0_col4\" class=\"data row0 col4\" >64828</td>\n",
       "      <td id=\"T_a06e3_row0_col5\" class=\"data row0 col5\" >54186</td>\n",
       "      <td id=\"T_a06e3_row0_col6\" class=\"data row0 col6\" >54051</td>\n",
       "      <td id=\"T_a06e3_row0_col7\" class=\"data row0 col7\" >72620</td>\n",
       "      <td id=\"T_a06e3_row0_col8\" class=\"data row0 col8\" >92870</td>\n",
       "      <td id=\"T_a06e3_row0_col9\" class=\"data row0 col9\" >115657</td>\n",
       "      <td id=\"T_a06e3_row0_col10\" class=\"data row0 col10\" >122541</td>\n",
       "      <td id=\"T_a06e3_row0_col11\" class=\"data row0 col11\" >149213</td>\n",
       "      <td id=\"T_a06e3_row0_col12\" class=\"data row0 col12\" >170881</td>\n",
       "      <td id=\"T_a06e3_row0_col13\" class=\"data row0 col13\" >240434</td>\n",
       "      <td id=\"T_a06e3_row0_col14\" class=\"data row0 col14\" >343753</td>\n",
       "      <td id=\"T_a06e3_row0_col15\" class=\"data row0 col15\" >223735</td>\n",
       "      <td id=\"T_a06e3_row0_col16\" class=\"data row0 col16\" >178880</td>\n",
       "      <td id=\"T_a06e3_row0_col17\" class=\"data row0 col17\" >216217</td>\n",
       "      <td id=\"T_a06e3_row0_col18\" class=\"data row0 col18\" >207535</td>\n",
       "      <td id=\"T_a06e3_row0_col19\" class=\"data row0 col19\" >83943</td>\n",
       "      <td id=\"T_a06e3_row0_col20\" class=\"data row0 col20\" >12218</td>\n",
       "      <td id=\"T_a06e3_row0_col21\" class=\"data row0 col21\" >42</td>\n",
       "      <td id=\"T_a06e3_row0_col22\" class=\"data row0 col22\" >10</td>\n",
       "      <td id=\"T_a06e3_row0_col23\" class=\"data row0 col23\" >1</td>\n",
       "    </tr>\n",
       "    <tr>\n",
       "      <th id=\"T_a06e3_level0_row1\" class=\"row_heading level0 row1\" >구로디지털단지</th>\n",
       "      <td id=\"T_a06e3_row1_col0\" class=\"data row1 col0\" >251</td>\n",
       "      <td id=\"T_a06e3_row1_col1\" class=\"data row1 col1\" >39289</td>\n",
       "      <td id=\"T_a06e3_row1_col2\" class=\"data row1 col2\" >52406</td>\n",
       "      <td id=\"T_a06e3_row1_col3\" class=\"data row1 col3\" >137133</td>\n",
       "      <td id=\"T_a06e3_row1_col4\" class=\"data row1 col4\" >182999</td>\n",
       "      <td id=\"T_a06e3_row1_col5\" class=\"data row1 col5\" >115665</td>\n",
       "      <td id=\"T_a06e3_row1_col6\" class=\"data row1 col6\" >68660</td>\n",
       "      <td id=\"T_a06e3_row1_col7\" class=\"data row1 col7\" >61428</td>\n",
       "      <td id=\"T_a06e3_row1_col8\" class=\"data row1 col8\" >66486</td>\n",
       "      <td id=\"T_a06e3_row1_col9\" class=\"data row1 col9\" >68083</td>\n",
       "      <td id=\"T_a06e3_row1_col10\" class=\"data row1 col10\" >61964</td>\n",
       "      <td id=\"T_a06e3_row1_col11\" class=\"data row1 col11\" >64823</td>\n",
       "      <td id=\"T_a06e3_row1_col12\" class=\"data row1 col12\" >77632</td>\n",
       "      <td id=\"T_a06e3_row1_col13\" class=\"data row1 col13\" >122631</td>\n",
       "      <td id=\"T_a06e3_row1_col14\" class=\"data row1 col14\" >223310</td>\n",
       "      <td id=\"T_a06e3_row1_col15\" class=\"data row1 col15\" >115340</td>\n",
       "      <td id=\"T_a06e3_row1_col16\" class=\"data row1 col16\" >69855</td>\n",
       "      <td id=\"T_a06e3_row1_col17\" class=\"data row1 col17\" >60133</td>\n",
       "      <td id=\"T_a06e3_row1_col18\" class=\"data row1 col18\" >46034</td>\n",
       "      <td id=\"T_a06e3_row1_col19\" class=\"data row1 col19\" >19676</td>\n",
       "      <td id=\"T_a06e3_row1_col20\" class=\"data row1 col20\" >2522</td>\n",
       "      <td id=\"T_a06e3_row1_col21\" class=\"data row1 col21\" >12</td>\n",
       "      <td id=\"T_a06e3_row1_col22\" class=\"data row1 col22\" >1</td>\n",
       "      <td id=\"T_a06e3_row1_col23\" class=\"data row1 col23\" >0</td>\n",
       "    </tr>\n",
       "    <tr>\n",
       "      <th id=\"T_a06e3_level0_row2\" class=\"row_heading level0 row2\" >삼성</th>\n",
       "      <td id=\"T_a06e3_row2_col0\" class=\"data row2 col0\" >166</td>\n",
       "      <td id=\"T_a06e3_row2_col1\" class=\"data row2 col1\" >4759</td>\n",
       "      <td id=\"T_a06e3_row2_col2\" class=\"data row2 col2\" >7509</td>\n",
       "      <td id=\"T_a06e3_row2_col3\" class=\"data row2 col3\" >15994</td>\n",
       "      <td id=\"T_a06e3_row2_col4\" class=\"data row2 col4\" >21927</td>\n",
       "      <td id=\"T_a06e3_row2_col5\" class=\"data row2 col5\" >22378</td>\n",
       "      <td id=\"T_a06e3_row2_col6\" class=\"data row2 col6\" >24176</td>\n",
       "      <td id=\"T_a06e3_row2_col7\" class=\"data row2 col7\" >35510</td>\n",
       "      <td id=\"T_a06e3_row2_col8\" class=\"data row2 col8\" >45498</td>\n",
       "      <td id=\"T_a06e3_row2_col9\" class=\"data row2 col9\" >60130</td>\n",
       "      <td id=\"T_a06e3_row2_col10\" class=\"data row2 col10\" >74138</td>\n",
       "      <td id=\"T_a06e3_row2_col11\" class=\"data row2 col11\" >94213</td>\n",
       "      <td id=\"T_a06e3_row2_col12\" class=\"data row2 col12\" >115663</td>\n",
       "      <td id=\"T_a06e3_row2_col13\" class=\"data row2 col13\" >188316</td>\n",
       "      <td id=\"T_a06e3_row2_col14\" class=\"data row2 col14\" >294941</td>\n",
       "      <td id=\"T_a06e3_row2_col15\" class=\"data row2 col15\" >168625</td>\n",
       "      <td id=\"T_a06e3_row2_col16\" class=\"data row2 col16\" >123201</td>\n",
       "      <td id=\"T_a06e3_row2_col17\" class=\"data row2 col17\" >105947</td>\n",
       "      <td id=\"T_a06e3_row2_col18\" class=\"data row2 col18\" >71970</td>\n",
       "      <td id=\"T_a06e3_row2_col19\" class=\"data row2 col19\" >19138</td>\n",
       "      <td id=\"T_a06e3_row2_col20\" class=\"data row2 col20\" >2394</td>\n",
       "      <td id=\"T_a06e3_row2_col21\" class=\"data row2 col21\" >60</td>\n",
       "      <td id=\"T_a06e3_row2_col22\" class=\"data row2 col22\" >30</td>\n",
       "      <td id=\"T_a06e3_row2_col23\" class=\"data row2 col23\" >1</td>\n",
       "    </tr>\n",
       "    <tr>\n",
       "      <th id=\"T_a06e3_level0_row3\" class=\"row_heading level0 row3\" >서울대입구</th>\n",
       "      <td id=\"T_a06e3_row3_col0\" class=\"data row3 col0\" >4148</td>\n",
       "      <td id=\"T_a06e3_row3_col1\" class=\"data row3 col1\" >28407</td>\n",
       "      <td id=\"T_a06e3_row3_col2\" class=\"data row3 col2\" >42982</td>\n",
       "      <td id=\"T_a06e3_row3_col3\" class=\"data row3 col3\" >125994</td>\n",
       "      <td id=\"T_a06e3_row3_col4\" class=\"data row3 col4\" >180686</td>\n",
       "      <td id=\"T_a06e3_row3_col5\" class=\"data row3 col5\" >119476</td>\n",
       "      <td id=\"T_a06e3_row3_col6\" class=\"data row3 col6\" >68434</td>\n",
       "      <td id=\"T_a06e3_row3_col7\" class=\"data row3 col7\" >61264</td>\n",
       "      <td id=\"T_a06e3_row3_col8\" class=\"data row3 col8\" >66588</td>\n",
       "      <td id=\"T_a06e3_row3_col9\" class=\"data row3 col9\" >71341</td>\n",
       "      <td id=\"T_a06e3_row3_col10\" class=\"data row3 col10\" >64633</td>\n",
       "      <td id=\"T_a06e3_row3_col11\" class=\"data row3 col11\" >68216</td>\n",
       "      <td id=\"T_a06e3_row3_col12\" class=\"data row3 col12\" >75435</td>\n",
       "      <td id=\"T_a06e3_row3_col13\" class=\"data row3 col13\" >85348</td>\n",
       "      <td id=\"T_a06e3_row3_col14\" class=\"data row3 col14\" >95359</td>\n",
       "      <td id=\"T_a06e3_row3_col15\" class=\"data row3 col15\" >59847</td>\n",
       "      <td id=\"T_a06e3_row3_col16\" class=\"data row3 col16\" >50128</td>\n",
       "      <td id=\"T_a06e3_row3_col17\" class=\"data row3 col17\" >52081</td>\n",
       "      <td id=\"T_a06e3_row3_col18\" class=\"data row3 col18\" >46057</td>\n",
       "      <td id=\"T_a06e3_row3_col19\" class=\"data row3 col19\" >21462</td>\n",
       "      <td id=\"T_a06e3_row3_col20\" class=\"data row3 col20\" >2780</td>\n",
       "      <td id=\"T_a06e3_row3_col21\" class=\"data row3 col21\" >10</td>\n",
       "      <td id=\"T_a06e3_row3_col22\" class=\"data row3 col22\" >2</td>\n",
       "      <td id=\"T_a06e3_row3_col23\" class=\"data row3 col23\" >0</td>\n",
       "    </tr>\n",
       "    <tr>\n",
       "      <th id=\"T_a06e3_level0_row4\" class=\"row_heading level0 row4\" >선릉</th>\n",
       "      <td id=\"T_a06e3_row4_col0\" class=\"data row4 col0\" >102</td>\n",
       "      <td id=\"T_a06e3_row4_col1\" class=\"data row4 col1\" >4914</td>\n",
       "      <td id=\"T_a06e3_row4_col2\" class=\"data row4 col2\" >11078</td>\n",
       "      <td id=\"T_a06e3_row4_col3\" class=\"data row4 col3\" >21083</td>\n",
       "      <td id=\"T_a06e3_row4_col4\" class=\"data row4 col4\" >32791</td>\n",
       "      <td id=\"T_a06e3_row4_col5\" class=\"data row4 col5\" >31823</td>\n",
       "      <td id=\"T_a06e3_row4_col6\" class=\"data row4 col6\" >34649</td>\n",
       "      <td id=\"T_a06e3_row4_col7\" class=\"data row4 col7\" >45507</td>\n",
       "      <td id=\"T_a06e3_row4_col8\" class=\"data row4 col8\" >53924</td>\n",
       "      <td id=\"T_a06e3_row4_col9\" class=\"data row4 col9\" >63801</td>\n",
       "      <td id=\"T_a06e3_row4_col10\" class=\"data row4 col10\" >72065</td>\n",
       "      <td id=\"T_a06e3_row4_col11\" class=\"data row4 col11\" >90514</td>\n",
       "      <td id=\"T_a06e3_row4_col12\" class=\"data row4 col12\" >121775</td>\n",
       "      <td id=\"T_a06e3_row4_col13\" class=\"data row4 col13\" >169803</td>\n",
       "      <td id=\"T_a06e3_row4_col14\" class=\"data row4 col14\" >283547</td>\n",
       "      <td id=\"T_a06e3_row4_col15\" class=\"data row4 col15\" >143360</td>\n",
       "      <td id=\"T_a06e3_row4_col16\" class=\"data row4 col16\" >89939</td>\n",
       "      <td id=\"T_a06e3_row4_col17\" class=\"data row4 col17\" >91231</td>\n",
       "      <td id=\"T_a06e3_row4_col18\" class=\"data row4 col18\" >73719</td>\n",
       "      <td id=\"T_a06e3_row4_col19\" class=\"data row4 col19\" >25120</td>\n",
       "      <td id=\"T_a06e3_row4_col20\" class=\"data row4 col20\" >3186</td>\n",
       "      <td id=\"T_a06e3_row4_col21\" class=\"data row4 col21\" >10</td>\n",
       "      <td id=\"T_a06e3_row4_col22\" class=\"data row4 col22\" >2</td>\n",
       "      <td id=\"T_a06e3_row4_col23\" class=\"data row4 col23\" >0</td>\n",
       "    </tr>\n",
       "    <tr>\n",
       "      <th id=\"T_a06e3_level0_row5\" class=\"row_heading level0 row5\" >신도림</th>\n",
       "      <td id=\"T_a06e3_row5_col0\" class=\"data row5 col0\" >3362</td>\n",
       "      <td id=\"T_a06e3_row5_col1\" class=\"data row5 col1\" >35786</td>\n",
       "      <td id=\"T_a06e3_row5_col2\" class=\"data row5 col2\" >50420</td>\n",
       "      <td id=\"T_a06e3_row5_col3\" class=\"data row5 col3\" >134114</td>\n",
       "      <td id=\"T_a06e3_row5_col4\" class=\"data row5 col4\" >140965</td>\n",
       "      <td id=\"T_a06e3_row5_col5\" class=\"data row5 col5\" >89916</td>\n",
       "      <td id=\"T_a06e3_row5_col6\" class=\"data row5 col6\" >61495</td>\n",
       "      <td id=\"T_a06e3_row5_col7\" class=\"data row5 col7\" >60290</td>\n",
       "      <td id=\"T_a06e3_row5_col8\" class=\"data row5 col8\" >68700</td>\n",
       "      <td id=\"T_a06e3_row5_col9\" class=\"data row5 col9\" >72646</td>\n",
       "      <td id=\"T_a06e3_row5_col10\" class=\"data row5 col10\" >72069</td>\n",
       "      <td id=\"T_a06e3_row5_col11\" class=\"data row5 col11\" >75747</td>\n",
       "      <td id=\"T_a06e3_row5_col12\" class=\"data row5 col12\" >83664</td>\n",
       "      <td id=\"T_a06e3_row5_col13\" class=\"data row5 col13\" >101420</td>\n",
       "      <td id=\"T_a06e3_row5_col14\" class=\"data row5 col14\" >134346</td>\n",
       "      <td id=\"T_a06e3_row5_col15\" class=\"data row5 col15\" >81202</td>\n",
       "      <td id=\"T_a06e3_row5_col16\" class=\"data row5 col16\" >68744</td>\n",
       "      <td id=\"T_a06e3_row5_col17\" class=\"data row5 col17\" >70103</td>\n",
       "      <td id=\"T_a06e3_row5_col18\" class=\"data row5 col18\" >52678</td>\n",
       "      <td id=\"T_a06e3_row5_col19\" class=\"data row5 col19\" >21723</td>\n",
       "      <td id=\"T_a06e3_row5_col20\" class=\"data row5 col20\" >2044</td>\n",
       "      <td id=\"T_a06e3_row5_col21\" class=\"data row5 col21\" >16</td>\n",
       "      <td id=\"T_a06e3_row5_col22\" class=\"data row5 col22\" >2</td>\n",
       "      <td id=\"T_a06e3_row5_col23\" class=\"data row5 col23\" >0</td>\n",
       "    </tr>\n",
       "    <tr>\n",
       "      <th id=\"T_a06e3_level0_row6\" class=\"row_heading level0 row6\" >신림</th>\n",
       "      <td id=\"T_a06e3_row6_col0\" class=\"data row6 col0\" >284</td>\n",
       "      <td id=\"T_a06e3_row6_col1\" class=\"data row6 col1\" >39890</td>\n",
       "      <td id=\"T_a06e3_row6_col2\" class=\"data row6 col2\" >75300</td>\n",
       "      <td id=\"T_a06e3_row6_col3\" class=\"data row6 col3\" >204526</td>\n",
       "      <td id=\"T_a06e3_row6_col4\" class=\"data row6 col4\" >305088</td>\n",
       "      <td id=\"T_a06e3_row6_col5\" class=\"data row6 col5\" >182739</td>\n",
       "      <td id=\"T_a06e3_row6_col6\" class=\"data row6 col6\" >98890</td>\n",
       "      <td id=\"T_a06e3_row6_col7\" class=\"data row6 col7\" >82922</td>\n",
       "      <td id=\"T_a06e3_row6_col8\" class=\"data row6 col8\" >87596</td>\n",
       "      <td id=\"T_a06e3_row6_col9\" class=\"data row6 col9\" >84727</td>\n",
       "      <td id=\"T_a06e3_row6_col10\" class=\"data row6 col10\" >76579</td>\n",
       "      <td id=\"T_a06e3_row6_col11\" class=\"data row6 col11\" >75055</td>\n",
       "      <td id=\"T_a06e3_row6_col12\" class=\"data row6 col12\" >81788</td>\n",
       "      <td id=\"T_a06e3_row6_col13\" class=\"data row6 col13\" >88834</td>\n",
       "      <td id=\"T_a06e3_row6_col14\" class=\"data row6 col14\" >93013</td>\n",
       "      <td id=\"T_a06e3_row6_col15\" class=\"data row6 col15\" >63213</td>\n",
       "      <td id=\"T_a06e3_row6_col16\" class=\"data row6 col16\" >52872</td>\n",
       "      <td id=\"T_a06e3_row6_col17\" class=\"data row6 col17\" >51414</td>\n",
       "      <td id=\"T_a06e3_row6_col18\" class=\"data row6 col18\" >45214</td>\n",
       "      <td id=\"T_a06e3_row6_col19\" class=\"data row6 col19\" >22745</td>\n",
       "      <td id=\"T_a06e3_row6_col20\" class=\"data row6 col20\" >3192</td>\n",
       "      <td id=\"T_a06e3_row6_col21\" class=\"data row6 col21\" >18</td>\n",
       "      <td id=\"T_a06e3_row6_col22\" class=\"data row6 col22\" >2</td>\n",
       "      <td id=\"T_a06e3_row6_col23\" class=\"data row6 col23\" >0</td>\n",
       "    </tr>\n",
       "    <tr>\n",
       "      <th id=\"T_a06e3_level0_row7\" class=\"row_heading level0 row7\" >역삼</th>\n",
       "      <td id=\"T_a06e3_row7_col0\" class=\"data row7 col0\" >44</td>\n",
       "      <td id=\"T_a06e3_row7_col1\" class=\"data row7 col1\" >3807</td>\n",
       "      <td id=\"T_a06e3_row7_col2\" class=\"data row7 col2\" >8616</td>\n",
       "      <td id=\"T_a06e3_row7_col3\" class=\"data row7 col3\" >14900</td>\n",
       "      <td id=\"T_a06e3_row7_col4\" class=\"data row7 col4\" >25532</td>\n",
       "      <td id=\"T_a06e3_row7_col5\" class=\"data row7 col5\" >23782</td>\n",
       "      <td id=\"T_a06e3_row7_col6\" class=\"data row7 col6\" >24348</td>\n",
       "      <td id=\"T_a06e3_row7_col7\" class=\"data row7 col7\" >32904</td>\n",
       "      <td id=\"T_a06e3_row7_col8\" class=\"data row7 col8\" >40367</td>\n",
       "      <td id=\"T_a06e3_row7_col9\" class=\"data row7 col9\" >49071</td>\n",
       "      <td id=\"T_a06e3_row7_col10\" class=\"data row7 col10\" >56615</td>\n",
       "      <td id=\"T_a06e3_row7_col11\" class=\"data row7 col11\" >73720</td>\n",
       "      <td id=\"T_a06e3_row7_col12\" class=\"data row7 col12\" >92117</td>\n",
       "      <td id=\"T_a06e3_row7_col13\" class=\"data row7 col13\" >174617</td>\n",
       "      <td id=\"T_a06e3_row7_col14\" class=\"data row7 col14\" >274456</td>\n",
       "      <td id=\"T_a06e3_row7_col15\" class=\"data row7 col15\" >141884</td>\n",
       "      <td id=\"T_a06e3_row7_col16\" class=\"data row7 col16\" >83333</td>\n",
       "      <td id=\"T_a06e3_row7_col17\" class=\"data row7 col17\" >84077</td>\n",
       "      <td id=\"T_a06e3_row7_col18\" class=\"data row7 col18\" >58586</td>\n",
       "      <td id=\"T_a06e3_row7_col19\" class=\"data row7 col19\" >21396</td>\n",
       "      <td id=\"T_a06e3_row7_col20\" class=\"data row7 col20\" >2791</td>\n",
       "      <td id=\"T_a06e3_row7_col21\" class=\"data row7 col21\" >6</td>\n",
       "      <td id=\"T_a06e3_row7_col22\" class=\"data row7 col22\" >1</td>\n",
       "      <td id=\"T_a06e3_row7_col23\" class=\"data row7 col23\" >0</td>\n",
       "    </tr>\n",
       "    <tr>\n",
       "      <th id=\"T_a06e3_level0_row8\" class=\"row_heading level0 row8\" >잠실</th>\n",
       "      <td id=\"T_a06e3_row8_col0\" class=\"data row8 col0\" >92</td>\n",
       "      <td id=\"T_a06e3_row8_col1\" class=\"data row8 col1\" >12149</td>\n",
       "      <td id=\"T_a06e3_row8_col2\" class=\"data row8 col2\" >46134</td>\n",
       "      <td id=\"T_a06e3_row8_col3\" class=\"data row8 col3\" >115526</td>\n",
       "      <td id=\"T_a06e3_row8_col4\" class=\"data row8 col4\" >166209</td>\n",
       "      <td id=\"T_a06e3_row8_col5\" class=\"data row8 col5\" >120829</td>\n",
       "      <td id=\"T_a06e3_row8_col6\" class=\"data row8 col6\" >81041</td>\n",
       "      <td id=\"T_a06e3_row8_col7\" class=\"data row8 col7\" >81279</td>\n",
       "      <td id=\"T_a06e3_row8_col8\" class=\"data row8 col8\" >90041</td>\n",
       "      <td id=\"T_a06e3_row8_col9\" class=\"data row8 col9\" >100345</td>\n",
       "      <td id=\"T_a06e3_row8_col10\" class=\"data row8 col10\" >105703</td>\n",
       "      <td id=\"T_a06e3_row8_col11\" class=\"data row8 col11\" >121147</td>\n",
       "      <td id=\"T_a06e3_row8_col12\" class=\"data row8 col12\" >142022</td>\n",
       "      <td id=\"T_a06e3_row8_col13\" class=\"data row8 col13\" >182116</td>\n",
       "      <td id=\"T_a06e3_row8_col14\" class=\"data row8 col14\" >231972</td>\n",
       "      <td id=\"T_a06e3_row8_col15\" class=\"data row8 col15\" >159950</td>\n",
       "      <td id=\"T_a06e3_row8_col16\" class=\"data row8 col16\" >157380</td>\n",
       "      <td id=\"T_a06e3_row8_col17\" class=\"data row8 col17\" >137990</td>\n",
       "      <td id=\"T_a06e3_row8_col18\" class=\"data row8 col18\" >100086</td>\n",
       "      <td id=\"T_a06e3_row8_col19\" class=\"data row8 col19\" >30282</td>\n",
       "      <td id=\"T_a06e3_row8_col20\" class=\"data row8 col20\" >3182</td>\n",
       "      <td id=\"T_a06e3_row8_col21\" class=\"data row8 col21\" >25</td>\n",
       "      <td id=\"T_a06e3_row8_col22\" class=\"data row8 col22\" >2</td>\n",
       "      <td id=\"T_a06e3_row8_col23\" class=\"data row8 col23\" >0</td>\n",
       "    </tr>\n",
       "    <tr>\n",
       "      <th id=\"T_a06e3_level0_row9\" class=\"row_heading level0 row9\" >홍대입구</th>\n",
       "      <td id=\"T_a06e3_row9_col0\" class=\"data row9 col0\" >1017</td>\n",
       "      <td id=\"T_a06e3_row9_col1\" class=\"data row9 col1\" >26828</td>\n",
       "      <td id=\"T_a06e3_row9_col2\" class=\"data row9 col2\" >29698</td>\n",
       "      <td id=\"T_a06e3_row9_col3\" class=\"data row9 col3\" >62419</td>\n",
       "      <td id=\"T_a06e3_row9_col4\" class=\"data row9 col4\" >80009</td>\n",
       "      <td id=\"T_a06e3_row9_col5\" class=\"data row9 col5\" >58179</td>\n",
       "      <td id=\"T_a06e3_row9_col6\" class=\"data row9 col6\" >49503</td>\n",
       "      <td id=\"T_a06e3_row9_col7\" class=\"data row9 col7\" >56141</td>\n",
       "      <td id=\"T_a06e3_row9_col8\" class=\"data row9 col8\" >66215</td>\n",
       "      <td id=\"T_a06e3_row9_col9\" class=\"data row9 col9\" >76889</td>\n",
       "      <td id=\"T_a06e3_row9_col10\" class=\"data row9 col10\" >83610</td>\n",
       "      <td id=\"T_a06e3_row9_col11\" class=\"data row9 col11\" >100655</td>\n",
       "      <td id=\"T_a06e3_row9_col12\" class=\"data row9 col12\" >124249</td>\n",
       "      <td id=\"T_a06e3_row9_col13\" class=\"data row9 col13\" >152618</td>\n",
       "      <td id=\"T_a06e3_row9_col14\" class=\"data row9 col14\" >183825</td>\n",
       "      <td id=\"T_a06e3_row9_col15\" class=\"data row9 col15\" >147057</td>\n",
       "      <td id=\"T_a06e3_row9_col16\" class=\"data row9 col16\" >145258</td>\n",
       "      <td id=\"T_a06e3_row9_col17\" class=\"data row9 col17\" >177889</td>\n",
       "      <td id=\"T_a06e3_row9_col18\" class=\"data row9 col18\" >177827</td>\n",
       "      <td id=\"T_a06e3_row9_col19\" class=\"data row9 col19\" >86287</td>\n",
       "      <td id=\"T_a06e3_row9_col20\" class=\"data row9 col20\" >9404</td>\n",
       "      <td id=\"T_a06e3_row9_col21\" class=\"data row9 col21\" >56</td>\n",
       "      <td id=\"T_a06e3_row9_col22\" class=\"data row9 col22\" >10</td>\n",
       "      <td id=\"T_a06e3_row9_col23\" class=\"data row9 col23\" >1</td>\n",
       "    </tr>\n",
       "  </tbody>\n",
       "</table>\n"
      ],
      "text/plain": [
       "<pandas.io.formats.style.Styler at 0x1b6b96d4af0>"
      ]
     },
     "execution_count": 36,
     "metadata": {},
     "output_type": "execute_result"
    }
   ],
   "source": [
    "# 지하철 역 별\n",
    "top10_mean_hour.style.background_gradient(cmap = 'pink_r', axis = 1).format('{:.0f}')"
   ]
  },
  {
   "cell_type": "code",
   "execution_count": null,
   "metadata": {},
   "outputs": [],
   "source": []
  },
  {
   "cell_type": "markdown",
   "metadata": {},
   "source": [
    "### [4] 지하철역 시간대별 인원 유형 군집화\n",
    "- 승차 인원으로 유형 군집화"
   ]
  },
  {
   "cell_type": "code",
   "execution_count": 51,
   "metadata": {},
   "outputs": [],
   "source": [
    "hour_mean = df.groupby('지하철역')[df.columns[4:]].mean()\n",
    "hour_mean.columns = [i[:3] for i in hour_mean.columns]\n",
    "hour_mean_pct = hour_mean.div(hour_mean.sum(axis = 1), axis = 0)"
   ]
  },
  {
   "cell_type": "code",
   "execution_count": 52,
   "metadata": {},
   "outputs": [
    {
     "data": {
      "text/html": [
       "<div>\n",
       "<style scoped>\n",
       "    .dataframe tbody tr th:only-of-type {\n",
       "        vertical-align: middle;\n",
       "    }\n",
       "\n",
       "    .dataframe tbody tr th {\n",
       "        vertical-align: top;\n",
       "    }\n",
       "\n",
       "    .dataframe thead th {\n",
       "        text-align: right;\n",
       "    }\n",
       "</style>\n",
       "<table border=\"1\" class=\"dataframe\">\n",
       "  <thead>\n",
       "    <tr style=\"text-align: right;\">\n",
       "      <th></th>\n",
       "      <th>04시</th>\n",
       "      <th>05시</th>\n",
       "      <th>06시</th>\n",
       "      <th>07시</th>\n",
       "      <th>08시</th>\n",
       "      <th>09시</th>\n",
       "      <th>10시</th>\n",
       "      <th>11시</th>\n",
       "      <th>12시</th>\n",
       "      <th>13시</th>\n",
       "      <th>...</th>\n",
       "      <th>18시</th>\n",
       "      <th>19시</th>\n",
       "      <th>20시</th>\n",
       "      <th>21시</th>\n",
       "      <th>22시</th>\n",
       "      <th>23시</th>\n",
       "      <th>00시</th>\n",
       "      <th>01시</th>\n",
       "      <th>02시</th>\n",
       "      <th>03시</th>\n",
       "    </tr>\n",
       "    <tr>\n",
       "      <th>지하철역</th>\n",
       "      <th></th>\n",
       "      <th></th>\n",
       "      <th></th>\n",
       "      <th></th>\n",
       "      <th></th>\n",
       "      <th></th>\n",
       "      <th></th>\n",
       "      <th></th>\n",
       "      <th></th>\n",
       "      <th></th>\n",
       "      <th></th>\n",
       "      <th></th>\n",
       "      <th></th>\n",
       "      <th></th>\n",
       "      <th></th>\n",
       "      <th></th>\n",
       "      <th></th>\n",
       "      <th></th>\n",
       "      <th></th>\n",
       "      <th></th>\n",
       "      <th></th>\n",
       "    </tr>\n",
       "  </thead>\n",
       "  <tbody>\n",
       "    <tr>\n",
       "      <th>강남</th>\n",
       "      <td>0.000081</td>\n",
       "      <td>0.004552</td>\n",
       "      <td>0.008117</td>\n",
       "      <td>0.016178</td>\n",
       "      <td>0.026191</td>\n",
       "      <td>0.021891</td>\n",
       "      <td>0.021837</td>\n",
       "      <td>0.029339</td>\n",
       "      <td>0.037520</td>\n",
       "      <td>0.046726</td>\n",
       "      <td>...</td>\n",
       "      <td>0.138878</td>\n",
       "      <td>0.090390</td>\n",
       "      <td>0.072268</td>\n",
       "      <td>0.087353</td>\n",
       "      <td>0.083845</td>\n",
       "      <td>0.033913</td>\n",
       "      <td>0.004936</td>\n",
       "      <td>0.000017</td>\n",
       "      <td>4.046079e-06</td>\n",
       "      <td>2.532568e-07</td>\n",
       "    </tr>\n",
       "    <tr>\n",
       "      <th>강변</th>\n",
       "      <td>0.000024</td>\n",
       "      <td>0.008291</td>\n",
       "      <td>0.025803</td>\n",
       "      <td>0.077732</td>\n",
       "      <td>0.113357</td>\n",
       "      <td>0.083293</td>\n",
       "      <td>0.064157</td>\n",
       "      <td>0.059162</td>\n",
       "      <td>0.057255</td>\n",
       "      <td>0.055563</td>\n",
       "      <td>...</td>\n",
       "      <td>0.068137</td>\n",
       "      <td>0.052754</td>\n",
       "      <td>0.042133</td>\n",
       "      <td>0.035969</td>\n",
       "      <td>0.024721</td>\n",
       "      <td>0.009363</td>\n",
       "      <td>0.001064</td>\n",
       "      <td>0.000013</td>\n",
       "      <td>8.376464e-07</td>\n",
       "      <td>0.000000e+00</td>\n",
       "    </tr>\n",
       "    <tr>\n",
       "      <th>건대입구</th>\n",
       "      <td>0.000273</td>\n",
       "      <td>0.015434</td>\n",
       "      <td>0.020333</td>\n",
       "      <td>0.048942</td>\n",
       "      <td>0.085799</td>\n",
       "      <td>0.057246</td>\n",
       "      <td>0.034565</td>\n",
       "      <td>0.033542</td>\n",
       "      <td>0.039427</td>\n",
       "      <td>0.043753</td>\n",
       "      <td>...</td>\n",
       "      <td>0.081112</td>\n",
       "      <td>0.062243</td>\n",
       "      <td>0.063965</td>\n",
       "      <td>0.074578</td>\n",
       "      <td>0.072592</td>\n",
       "      <td>0.039948</td>\n",
       "      <td>0.005509</td>\n",
       "      <td>0.000024</td>\n",
       "      <td>3.401257e-06</td>\n",
       "      <td>2.574657e-07</td>\n",
       "    </tr>\n",
       "    <tr>\n",
       "      <th>교대</th>\n",
       "      <td>0.000024</td>\n",
       "      <td>0.002824</td>\n",
       "      <td>0.013362</td>\n",
       "      <td>0.027392</td>\n",
       "      <td>0.039924</td>\n",
       "      <td>0.032422</td>\n",
       "      <td>0.030538</td>\n",
       "      <td>0.037045</td>\n",
       "      <td>0.040450</td>\n",
       "      <td>0.049797</td>\n",
       "      <td>...</td>\n",
       "      <td>0.155522</td>\n",
       "      <td>0.076263</td>\n",
       "      <td>0.059917</td>\n",
       "      <td>0.066571</td>\n",
       "      <td>0.056303</td>\n",
       "      <td>0.019653</td>\n",
       "      <td>0.003025</td>\n",
       "      <td>0.000008</td>\n",
       "      <td>1.223232e-06</td>\n",
       "      <td>4.828549e-08</td>\n",
       "    </tr>\n",
       "    <tr>\n",
       "      <th>구로디지털단지</th>\n",
       "      <td>0.000152</td>\n",
       "      <td>0.023720</td>\n",
       "      <td>0.031640</td>\n",
       "      <td>0.082793</td>\n",
       "      <td>0.110485</td>\n",
       "      <td>0.069832</td>\n",
       "      <td>0.041453</td>\n",
       "      <td>0.037087</td>\n",
       "      <td>0.040140</td>\n",
       "      <td>0.041104</td>\n",
       "      <td>...</td>\n",
       "      <td>0.134822</td>\n",
       "      <td>0.069636</td>\n",
       "      <td>0.042174</td>\n",
       "      <td>0.036305</td>\n",
       "      <td>0.027793</td>\n",
       "      <td>0.011879</td>\n",
       "      <td>0.001523</td>\n",
       "      <td>0.000007</td>\n",
       "      <td>8.109990e-07</td>\n",
       "      <td>7.208880e-08</td>\n",
       "    </tr>\n",
       "  </tbody>\n",
       "</table>\n",
       "<p>5 rows × 24 columns</p>\n",
       "</div>"
      ],
      "text/plain": [
       "              04시       05시       06시       07시       08시       09시       10시  \\\n",
       "지하철역                                                                            \n",
       "강남       0.000081  0.004552  0.008117  0.016178  0.026191  0.021891  0.021837   \n",
       "강변       0.000024  0.008291  0.025803  0.077732  0.113357  0.083293  0.064157   \n",
       "건대입구     0.000273  0.015434  0.020333  0.048942  0.085799  0.057246  0.034565   \n",
       "교대       0.000024  0.002824  0.013362  0.027392  0.039924  0.032422  0.030538   \n",
       "구로디지털단지  0.000152  0.023720  0.031640  0.082793  0.110485  0.069832  0.041453   \n",
       "\n",
       "              11시       12시       13시  ...       18시       19시       20시  \\\n",
       "지하철역                                   ...                                 \n",
       "강남       0.029339  0.037520  0.046726  ...  0.138878  0.090390  0.072268   \n",
       "강변       0.059162  0.057255  0.055563  ...  0.068137  0.052754  0.042133   \n",
       "건대입구     0.033542  0.039427  0.043753  ...  0.081112  0.062243  0.063965   \n",
       "교대       0.037045  0.040450  0.049797  ...  0.155522  0.076263  0.059917   \n",
       "구로디지털단지  0.037087  0.040140  0.041104  ...  0.134822  0.069636  0.042174   \n",
       "\n",
       "              21시       22시       23시       00시       01시           02시  \\\n",
       "지하철역                                                                      \n",
       "강남       0.087353  0.083845  0.033913  0.004936  0.000017  4.046079e-06   \n",
       "강변       0.035969  0.024721  0.009363  0.001064  0.000013  8.376464e-07   \n",
       "건대입구     0.074578  0.072592  0.039948  0.005509  0.000024  3.401257e-06   \n",
       "교대       0.066571  0.056303  0.019653  0.003025  0.000008  1.223232e-06   \n",
       "구로디지털단지  0.036305  0.027793  0.011879  0.001523  0.000007  8.109990e-07   \n",
       "\n",
       "                  03시  \n",
       "지하철역                   \n",
       "강남       2.532568e-07  \n",
       "강변       0.000000e+00  \n",
       "건대입구     2.574657e-07  \n",
       "교대       4.828549e-08  \n",
       "구로디지털단지  7.208880e-08  \n",
       "\n",
       "[5 rows x 24 columns]"
      ]
     },
     "execution_count": 52,
     "metadata": {},
     "output_type": "execute_result"
    }
   ],
   "source": [
    "hour_mean_pct.head()"
   ]
  },
  {
   "cell_type": "code",
   "execution_count": null,
   "metadata": {},
   "outputs": [],
   "source": []
  },
  {
   "cell_type": "code",
   "execution_count": 57,
   "metadata": {},
   "outputs": [
    {
     "data": {
      "text/html": [
       "<style>#sk-container-id-1 {color: black;background-color: white;}#sk-container-id-1 pre{padding: 0;}#sk-container-id-1 div.sk-toggleable {background-color: white;}#sk-container-id-1 label.sk-toggleable__label {cursor: pointer;display: block;width: 100%;margin-bottom: 0;padding: 0.3em;box-sizing: border-box;text-align: center;}#sk-container-id-1 label.sk-toggleable__label-arrow:before {content: \"▸\";float: left;margin-right: 0.25em;color: #696969;}#sk-container-id-1 label.sk-toggleable__label-arrow:hover:before {color: black;}#sk-container-id-1 div.sk-estimator:hover label.sk-toggleable__label-arrow:before {color: black;}#sk-container-id-1 div.sk-toggleable__content {max-height: 0;max-width: 0;overflow: hidden;text-align: left;background-color: #f0f8ff;}#sk-container-id-1 div.sk-toggleable__content pre {margin: 0.2em;color: black;border-radius: 0.25em;background-color: #f0f8ff;}#sk-container-id-1 input.sk-toggleable__control:checked~div.sk-toggleable__content {max-height: 200px;max-width: 100%;overflow: auto;}#sk-container-id-1 input.sk-toggleable__control:checked~label.sk-toggleable__label-arrow:before {content: \"▾\";}#sk-container-id-1 div.sk-estimator input.sk-toggleable__control:checked~label.sk-toggleable__label {background-color: #d4ebff;}#sk-container-id-1 div.sk-label input.sk-toggleable__control:checked~label.sk-toggleable__label {background-color: #d4ebff;}#sk-container-id-1 input.sk-hidden--visually {border: 0;clip: rect(1px 1px 1px 1px);clip: rect(1px, 1px, 1px, 1px);height: 1px;margin: -1px;overflow: hidden;padding: 0;position: absolute;width: 1px;}#sk-container-id-1 div.sk-estimator {font-family: monospace;background-color: #f0f8ff;border: 1px dotted black;border-radius: 0.25em;box-sizing: border-box;margin-bottom: 0.5em;}#sk-container-id-1 div.sk-estimator:hover {background-color: #d4ebff;}#sk-container-id-1 div.sk-parallel-item::after {content: \"\";width: 100%;border-bottom: 1px solid gray;flex-grow: 1;}#sk-container-id-1 div.sk-label:hover label.sk-toggleable__label {background-color: #d4ebff;}#sk-container-id-1 div.sk-serial::before {content: \"\";position: absolute;border-left: 1px solid gray;box-sizing: border-box;top: 0;bottom: 0;left: 50%;z-index: 0;}#sk-container-id-1 div.sk-serial {display: flex;flex-direction: column;align-items: center;background-color: white;padding-right: 0.2em;padding-left: 0.2em;position: relative;}#sk-container-id-1 div.sk-item {position: relative;z-index: 1;}#sk-container-id-1 div.sk-parallel {display: flex;align-items: stretch;justify-content: center;background-color: white;position: relative;}#sk-container-id-1 div.sk-item::before, #sk-container-id-1 div.sk-parallel-item::before {content: \"\";position: absolute;border-left: 1px solid gray;box-sizing: border-box;top: 0;bottom: 0;left: 50%;z-index: -1;}#sk-container-id-1 div.sk-parallel-item {display: flex;flex-direction: column;z-index: 1;position: relative;background-color: white;}#sk-container-id-1 div.sk-parallel-item:first-child::after {align-self: flex-end;width: 50%;}#sk-container-id-1 div.sk-parallel-item:last-child::after {align-self: flex-start;width: 50%;}#sk-container-id-1 div.sk-parallel-item:only-child::after {width: 0;}#sk-container-id-1 div.sk-dashed-wrapped {border: 1px dashed gray;margin: 0 0.4em 0.5em 0.4em;box-sizing: border-box;padding-bottom: 0.4em;background-color: white;}#sk-container-id-1 div.sk-label label {font-family: monospace;font-weight: bold;display: inline-block;line-height: 1.2em;}#sk-container-id-1 div.sk-label-container {text-align: center;}#sk-container-id-1 div.sk-container {/* jupyter's `normalize.less` sets `[hidden] { display: none; }` but bootstrap.min.css set `[hidden] { display: none !important; }` so we also need the `!important` here to be able to override the default hidden behavior on the sphinx rendered scikit-learn.org. See: https://github.com/scikit-learn/scikit-learn/issues/21755 */display: inline-block !important;position: relative;}#sk-container-id-1 div.sk-text-repr-fallback {display: none;}</style><div id=\"sk-container-id-1\" class=\"sk-top-container\"><div class=\"sk-text-repr-fallback\"><pre>KElbowVisualizer(ax=&lt;Axes: &gt;, estimator=KMeans(n_clusters=9), k=(1, 10))</pre><b>In a Jupyter environment, please rerun this cell to show the HTML representation or trust the notebook. <br />On GitHub, the HTML representation is unable to render, please try loading this page with nbviewer.org.</b></div><div class=\"sk-container\" hidden><div class=\"sk-item sk-dashed-wrapped\"><div class=\"sk-label-container\"><div class=\"sk-label sk-toggleable\"><input class=\"sk-toggleable__control sk-hidden--visually\" id=\"sk-estimator-id-1\" type=\"checkbox\" ><label for=\"sk-estimator-id-1\" class=\"sk-toggleable__label sk-toggleable__label-arrow\">KElbowVisualizer</label><div class=\"sk-toggleable__content\"><pre>KElbowVisualizer(ax=&lt;Axes: &gt;, estimator=KMeans(n_clusters=9), k=(1, 10))</pre></div></div></div><div class=\"sk-parallel\"><div class=\"sk-parallel-item\"><div class=\"sk-item\"><div class=\"sk-label-container\"><div class=\"sk-label sk-toggleable\"><input class=\"sk-toggleable__control sk-hidden--visually\" id=\"sk-estimator-id-2\" type=\"checkbox\" ><label for=\"sk-estimator-id-2\" class=\"sk-toggleable__label sk-toggleable__label-arrow\">estimator: KMeans</label><div class=\"sk-toggleable__content\"><pre>KMeans(n_clusters=9)</pre></div></div></div><div class=\"sk-serial\"><div class=\"sk-item\"><div class=\"sk-estimator sk-toggleable\"><input class=\"sk-toggleable__control sk-hidden--visually\" id=\"sk-estimator-id-3\" type=\"checkbox\" ><label for=\"sk-estimator-id-3\" class=\"sk-toggleable__label sk-toggleable__label-arrow\">KMeans</label><div class=\"sk-toggleable__content\"><pre>KMeans(n_clusters=9)</pre></div></div></div></div></div></div></div></div></div></div>"
      ],
      "text/plain": [
       "KElbowVisualizer(ax=<Axes: >, estimator=KMeans(n_clusters=9), k=(1, 10))"
      ]
     },
     "execution_count": 57,
     "metadata": {},
     "output_type": "execute_result"
    },
    {
     "data": {
      "image/png": "[encoded data removed]",
      "text/plain": [
       "<Figure size 800x550 with 2 Axes>"
      ]
     },
     "metadata": {},
     "output_type": "display_data"
    }
   ],
   "source": [
    "from sklearn.cluster import KMeans\n",
    "from yellowbrick.cluster import KElbowVisualizer\n",
    "\n",
    "model = KMeans()\n",
    "visualizer = KElbowVisualizer(model, k = (1, 10))\n",
    "visualizer.fit(hour_mean_pct)"
   ]
  },
  {
   "cell_type": "code",
   "execution_count": 58,
   "metadata": {},
   "outputs": [],
   "source": [
    "k = 3\n",
    "model = KMeans(n_clusters = k, random_state = 10)\n",
    "model.fit(hour_mean_pct)\n",
    "hour_mean_pct['cluster'] = model.fit_predict(hour_mean_pct).astype(str)"
   ]
  },
  {
   "cell_type": "code",
   "execution_count": 62,
   "metadata": {},
   "outputs": [
    {
     "data": {
      "text/html": [
       "<div>\n",
       "<style scoped>\n",
       "    .dataframe tbody tr th:only-of-type {\n",
       "        vertical-align: middle;\n",
       "    }\n",
       "\n",
       "    .dataframe tbody tr th {\n",
       "        vertical-align: top;\n",
       "    }\n",
       "\n",
       "    .dataframe thead th {\n",
       "        text-align: right;\n",
       "    }\n",
       "</style>\n",
       "<table border=\"1\" class=\"dataframe\">\n",
       "  <thead>\n",
       "    <tr style=\"text-align: right;\">\n",
       "      <th></th>\n",
       "      <th>지하철역</th>\n",
       "      <th>08시</th>\n",
       "      <th>18시</th>\n",
       "      <th>cluster</th>\n",
       "    </tr>\n",
       "  </thead>\n",
       "  <tbody>\n",
       "    <tr>\n",
       "      <th>0</th>\n",
       "      <td>강남</td>\n",
       "      <td>0.026191</td>\n",
       "      <td>0.138878</td>\n",
       "      <td>1</td>\n",
       "    </tr>\n",
       "    <tr>\n",
       "      <th>1</th>\n",
       "      <td>강변</td>\n",
       "      <td>0.113357</td>\n",
       "      <td>0.068137</td>\n",
       "      <td>2</td>\n",
       "    </tr>\n",
       "    <tr>\n",
       "      <th>2</th>\n",
       "      <td>건대입구</td>\n",
       "      <td>0.085799</td>\n",
       "      <td>0.081112</td>\n",
       "      <td>0</td>\n",
       "    </tr>\n",
       "    <tr>\n",
       "      <th>3</th>\n",
       "      <td>교대</td>\n",
       "      <td>0.039924</td>\n",
       "      <td>0.155522</td>\n",
       "      <td>1</td>\n",
       "    </tr>\n",
       "    <tr>\n",
       "      <th>4</th>\n",
       "      <td>구로디지털단지</td>\n",
       "      <td>0.110485</td>\n",
       "      <td>0.134822</td>\n",
       "      <td>0</td>\n",
       "    </tr>\n",
       "    <tr>\n",
       "      <th>5</th>\n",
       "      <td>구의</td>\n",
       "      <td>0.170756</td>\n",
       "      <td>0.065635</td>\n",
       "      <td>2</td>\n",
       "    </tr>\n",
       "    <tr>\n",
       "      <th>6</th>\n",
       "      <td>낙성대</td>\n",
       "      <td>0.157552</td>\n",
       "      <td>0.065733</td>\n",
       "      <td>2</td>\n",
       "    </tr>\n",
       "    <tr>\n",
       "      <th>7</th>\n",
       "      <td>당산</td>\n",
       "      <td>0.107653</td>\n",
       "      <td>0.114429</td>\n",
       "      <td>0</td>\n",
       "    </tr>\n",
       "    <tr>\n",
       "      <th>8</th>\n",
       "      <td>대림</td>\n",
       "      <td>0.129109</td>\n",
       "      <td>0.078264</td>\n",
       "      <td>2</td>\n",
       "    </tr>\n",
       "    <tr>\n",
       "      <th>9</th>\n",
       "      <td>도림천</td>\n",
       "      <td>0.093890</td>\n",
       "      <td>0.102425</td>\n",
       "      <td>0</td>\n",
       "    </tr>\n",
       "    <tr>\n",
       "      <th>10</th>\n",
       "      <td>동대문역사문화공원</td>\n",
       "      <td>0.027887</td>\n",
       "      <td>0.118674</td>\n",
       "      <td>1</td>\n",
       "    </tr>\n",
       "    <tr>\n",
       "      <th>11</th>\n",
       "      <td>뚝섬</td>\n",
       "      <td>0.051145</td>\n",
       "      <td>0.200571</td>\n",
       "      <td>1</td>\n",
       "    </tr>\n",
       "    <tr>\n",
       "      <th>12</th>\n",
       "      <td>문래</td>\n",
       "      <td>0.081923</td>\n",
       "      <td>0.174179</td>\n",
       "      <td>0</td>\n",
       "    </tr>\n",
       "    <tr>\n",
       "      <th>13</th>\n",
       "      <td>방배</td>\n",
       "      <td>0.067796</td>\n",
       "      <td>0.139767</td>\n",
       "      <td>0</td>\n",
       "    </tr>\n",
       "    <tr>\n",
       "      <th>14</th>\n",
       "      <td>봉천</td>\n",
       "      <td>0.173386</td>\n",
       "      <td>0.050822</td>\n",
       "      <td>2</td>\n",
       "    </tr>\n",
       "    <tr>\n",
       "      <th>15</th>\n",
       "      <td>사당</td>\n",
       "      <td>0.089180</td>\n",
       "      <td>0.084250</td>\n",
       "      <td>0</td>\n",
       "    </tr>\n",
       "    <tr>\n",
       "      <th>16</th>\n",
       "      <td>삼성</td>\n",
       "      <td>0.014651</td>\n",
       "      <td>0.197063</td>\n",
       "      <td>1</td>\n",
       "    </tr>\n",
       "    <tr>\n",
       "      <th>17</th>\n",
       "      <td>상왕십리</td>\n",
       "      <td>0.154978</td>\n",
       "      <td>0.073220</td>\n",
       "      <td>2</td>\n",
       "    </tr>\n",
       "    <tr>\n",
       "      <th>18</th>\n",
       "      <td>서울대입구</td>\n",
       "      <td>0.129926</td>\n",
       "      <td>0.068570</td>\n",
       "      <td>2</td>\n",
       "    </tr>\n",
       "    <tr>\n",
       "      <th>19</th>\n",
       "      <td>서초</td>\n",
       "      <td>0.040323</td>\n",
       "      <td>0.169060</td>\n",
       "      <td>1</td>\n",
       "    </tr>\n",
       "    <tr>\n",
       "      <th>20</th>\n",
       "      <td>선릉</td>\n",
       "      <td>0.022399</td>\n",
       "      <td>0.193687</td>\n",
       "      <td>1</td>\n",
       "    </tr>\n",
       "    <tr>\n",
       "      <th>21</th>\n",
       "      <td>성수</td>\n",
       "      <td>0.035871</td>\n",
       "      <td>0.231449</td>\n",
       "      <td>1</td>\n",
       "    </tr>\n",
       "    <tr>\n",
       "      <th>22</th>\n",
       "      <td>시청</td>\n",
       "      <td>0.012054</td>\n",
       "      <td>0.257692</td>\n",
       "      <td>1</td>\n",
       "    </tr>\n",
       "    <tr>\n",
       "      <th>23</th>\n",
       "      <td>신답</td>\n",
       "      <td>0.226553</td>\n",
       "      <td>0.049321</td>\n",
       "      <td>2</td>\n",
       "    </tr>\n",
       "    <tr>\n",
       "      <th>24</th>\n",
       "      <td>신당</td>\n",
       "      <td>0.107609</td>\n",
       "      <td>0.086608</td>\n",
       "      <td>0</td>\n",
       "    </tr>\n",
       "    <tr>\n",
       "      <th>25</th>\n",
       "      <td>신대방</td>\n",
       "      <td>0.170606</td>\n",
       "      <td>0.054582</td>\n",
       "      <td>2</td>\n",
       "    </tr>\n",
       "    <tr>\n",
       "      <th>26</th>\n",
       "      <td>신도림</td>\n",
       "      <td>0.095153</td>\n",
       "      <td>0.090685</td>\n",
       "      <td>0</td>\n",
       "    </tr>\n",
       "    <tr>\n",
       "      <th>27</th>\n",
       "      <td>신림</td>\n",
       "      <td>0.168009</td>\n",
       "      <td>0.051221</td>\n",
       "      <td>2</td>\n",
       "    </tr>\n",
       "    <tr>\n",
       "      <th>28</th>\n",
       "      <td>신설동</td>\n",
       "      <td>0.057931</td>\n",
       "      <td>0.129118</td>\n",
       "      <td>0</td>\n",
       "    </tr>\n",
       "    <tr>\n",
       "      <th>29</th>\n",
       "      <td>신정네거리</td>\n",
       "      <td>0.151221</td>\n",
       "      <td>0.044373</td>\n",
       "      <td>2</td>\n",
       "    </tr>\n",
       "    <tr>\n",
       "      <th>30</th>\n",
       "      <td>신촌</td>\n",
       "      <td>0.045535</td>\n",
       "      <td>0.091016</td>\n",
       "      <td>0</td>\n",
       "    </tr>\n",
       "    <tr>\n",
       "      <th>31</th>\n",
       "      <td>아현</td>\n",
       "      <td>0.126284</td>\n",
       "      <td>0.069159</td>\n",
       "      <td>2</td>\n",
       "    </tr>\n",
       "    <tr>\n",
       "      <th>32</th>\n",
       "      <td>양천구청</td>\n",
       "      <td>0.152809</td>\n",
       "      <td>0.048154</td>\n",
       "      <td>2</td>\n",
       "    </tr>\n",
       "    <tr>\n",
       "      <th>33</th>\n",
       "      <td>역삼</td>\n",
       "      <td>0.019839</td>\n",
       "      <td>0.213257</td>\n",
       "      <td>1</td>\n",
       "    </tr>\n",
       "    <tr>\n",
       "      <th>34</th>\n",
       "      <td>영등포구청</td>\n",
       "      <td>0.077876</td>\n",
       "      <td>0.168588</td>\n",
       "      <td>0</td>\n",
       "    </tr>\n",
       "    <tr>\n",
       "      <th>35</th>\n",
       "      <td>왕십리</td>\n",
       "      <td>0.095331</td>\n",
       "      <td>0.082146</td>\n",
       "      <td>0</td>\n",
       "    </tr>\n",
       "    <tr>\n",
       "      <th>36</th>\n",
       "      <td>용답</td>\n",
       "      <td>0.163917</td>\n",
       "      <td>0.050351</td>\n",
       "      <td>2</td>\n",
       "    </tr>\n",
       "    <tr>\n",
       "      <th>37</th>\n",
       "      <td>용두</td>\n",
       "      <td>0.121707</td>\n",
       "      <td>0.088807</td>\n",
       "      <td>2</td>\n",
       "    </tr>\n",
       "    <tr>\n",
       "      <th>38</th>\n",
       "      <td>을지로3가</td>\n",
       "      <td>0.016824</td>\n",
       "      <td>0.215279</td>\n",
       "      <td>1</td>\n",
       "    </tr>\n",
       "    <tr>\n",
       "      <th>39</th>\n",
       "      <td>을지로4가</td>\n",
       "      <td>0.019233</td>\n",
       "      <td>0.191264</td>\n",
       "      <td>1</td>\n",
       "    </tr>\n",
       "    <tr>\n",
       "      <th>40</th>\n",
       "      <td>을지로입구</td>\n",
       "      <td>0.012135</td>\n",
       "      <td>0.215664</td>\n",
       "      <td>1</td>\n",
       "    </tr>\n",
       "    <tr>\n",
       "      <th>41</th>\n",
       "      <td>이대</td>\n",
       "      <td>0.063027</td>\n",
       "      <td>0.093960</td>\n",
       "      <td>0</td>\n",
       "    </tr>\n",
       "    <tr>\n",
       "      <th>42</th>\n",
       "      <td>잠실</td>\n",
       "      <td>0.076051</td>\n",
       "      <td>0.106141</td>\n",
       "      <td>0</td>\n",
       "    </tr>\n",
       "    <tr>\n",
       "      <th>43</th>\n",
       "      <td>잠실나루</td>\n",
       "      <td>0.117980</td>\n",
       "      <td>0.077217</td>\n",
       "      <td>2</td>\n",
       "    </tr>\n",
       "    <tr>\n",
       "      <th>44</th>\n",
       "      <td>잠실새내</td>\n",
       "      <td>0.119722</td>\n",
       "      <td>0.067010</td>\n",
       "      <td>2</td>\n",
       "    </tr>\n",
       "    <tr>\n",
       "      <th>45</th>\n",
       "      <td>종합운동장</td>\n",
       "      <td>0.077898</td>\n",
       "      <td>0.069923</td>\n",
       "      <td>0</td>\n",
       "    </tr>\n",
       "    <tr>\n",
       "      <th>46</th>\n",
       "      <td>충정로</td>\n",
       "      <td>0.079704</td>\n",
       "      <td>0.176685</td>\n",
       "      <td>0</td>\n",
       "    </tr>\n",
       "    <tr>\n",
       "      <th>47</th>\n",
       "      <td>한양대</td>\n",
       "      <td>0.032062</td>\n",
       "      <td>0.122112</td>\n",
       "      <td>1</td>\n",
       "    </tr>\n",
       "    <tr>\n",
       "      <th>48</th>\n",
       "      <td>합정</td>\n",
       "      <td>0.061191</td>\n",
       "      <td>0.122708</td>\n",
       "      <td>0</td>\n",
       "    </tr>\n",
       "    <tr>\n",
       "      <th>49</th>\n",
       "      <td>홍대입구</td>\n",
       "      <td>0.042207</td>\n",
       "      <td>0.096972</td>\n",
       "      <td>0</td>\n",
       "    </tr>\n",
       "  </tbody>\n",
       "</table>\n",
       "</div>"
      ],
      "text/plain": [
       "         지하철역       08시       18시 cluster\n",
       "0          강남  0.026191  0.138878       1\n",
       "1          강변  0.113357  0.068137       2\n",
       "2        건대입구  0.085799  0.081112       0\n",
       "3          교대  0.039924  0.155522       1\n",
       "4     구로디지털단지  0.110485  0.134822       0\n",
       "5          구의  0.170756  0.065635       2\n",
       "6         낙성대  0.157552  0.065733       2\n",
       "7          당산  0.107653  0.114429       0\n",
       "8          대림  0.129109  0.078264       2\n",
       "9         도림천  0.093890  0.102425       0\n",
       "10  동대문역사문화공원  0.027887  0.118674       1\n",
       "11         뚝섬  0.051145  0.200571       1\n",
       "12         문래  0.081923  0.174179       0\n",
       "13         방배  0.067796  0.139767       0\n",
       "14         봉천  0.173386  0.050822       2\n",
       "15         사당  0.089180  0.084250       0\n",
       "16         삼성  0.014651  0.197063       1\n",
       "17       상왕십리  0.154978  0.073220       2\n",
       "18      서울대입구  0.129926  0.068570       2\n",
       "19         서초  0.040323  0.169060       1\n",
       "20         선릉  0.022399  0.193687       1\n",
       "21         성수  0.035871  0.231449       1\n",
       "22         시청  0.012054  0.257692       1\n",
       "23         신답  0.226553  0.049321       2\n",
       "24         신당  0.107609  0.086608       0\n",
       "25        신대방  0.170606  0.054582       2\n",
       "26        신도림  0.095153  0.090685       0\n",
       "27         신림  0.168009  0.051221       2\n",
       "28        신설동  0.057931  0.129118       0\n",
       "29      신정네거리  0.151221  0.044373       2\n",
       "30         신촌  0.045535  0.091016       0\n",
       "31         아현  0.126284  0.069159       2\n",
       "32       양천구청  0.152809  0.048154       2\n",
       "33         역삼  0.019839  0.213257       1\n",
       "34      영등포구청  0.077876  0.168588       0\n",
       "35        왕십리  0.095331  0.082146       0\n",
       "36         용답  0.163917  0.050351       2\n",
       "37         용두  0.121707  0.088807       2\n",
       "38      을지로3가  0.016824  0.215279       1\n",
       "39      을지로4가  0.019233  0.191264       1\n",
       "40      을지로입구  0.012135  0.215664       1\n",
       "41         이대  0.063027  0.093960       0\n",
       "42         잠실  0.076051  0.106141       0\n",
       "43       잠실나루  0.117980  0.077217       2\n",
       "44       잠실새내  0.119722  0.067010       2\n",
       "45      종합운동장  0.077898  0.069923       0\n",
       "46        충정로  0.079704  0.176685       0\n",
       "47        한양대  0.032062  0.122112       1\n",
       "48         합정  0.061191  0.122708       0\n",
       "49       홍대입구  0.042207  0.096972       0"
      ]
     },
     "execution_count": 62,
     "metadata": {},
     "output_type": "execute_result"
    }
   ],
   "source": [
    "hour_mean_pct[['08시', '18시', 'cluster']].reset_index()"
   ]
  },
  {
   "cell_type": "code",
   "execution_count": 65,
   "metadata": {},
   "outputs": [
    {
     "data": {
      "application/vnd.plotly.v1+json": {
       "config": {
        "plotlyServerURL": "https://plot.ly"
       },
       "data": [
        {
         "customdata": [
          [
           "강남"
          ],
          [
           "교대"
          ],
          [
           "동대문역사문화공원"
          ],
          [
           "뚝섬"
          ],
          [
           "삼성"
          ],
          [
           "서초"
          ],
          [
           "선릉"
          ],
          [
           "성수"
          ],
          [
           "시청"
          ],
          [
           "역삼"
          ],
          [
           "을지로3가"
          ],
          [
           "을지로4가"
          ],
          [
           "을지로입구"
          ],
          [
           "한양대"
          ]
         ],
         "hovertemplate": "cluster=1<br>08시=%{x}<br>18시=%{y}<br>지하철역=%{customdata[0]}<extra></extra>",
         "legendgroup": "1",
         "marker": {
          "color": "#636efa",
          "symbol": "circle"
         },
         "mode": "markers",
         "name": "1",
         "orientation": "v",
         "showlegend": true,
         "type": "scatter",
         "x": [
          0.026190719339961678,
          0.03992381386122639,
          0.027887226284915766,
          0.05114535025755246,
          0.014650525749426572,
          0.04032314723320158,
          0.022399033420305695,
          0.035871474880813874,
          0.012054229983982154,
          0.019838503791553903,
          0.016824478967625105,
          0.01923309121675126,
          0.012134988314906817,
          0.0320622242576324
         ],
         "xaxis": "x",
         "y": [
          0.1388778206293619,
          0.15552222998116447,
          0.11867363538351204,
          0.20057065683637113,
          0.1970629062715841,
          0.16905975790513833,
          0.19368677250863034,
          0.23144865878202836,
          0.25769175275918793,
          0.21325748215325246,
          0.21527853914744713,
          0.191263943841174,
          0.2156642407695062,
          0.1221122579364511
         ],
         "yaxis": "y"
        },
        {
         "customdata": [
          [
           "강변"
          ],
          [
           "구의"
          ],
          [
           "낙성대"
          ],
          [
           "대림"
          ],
          [
           "봉천"
          ],
          [
           "상왕십리"
          ],
          [
           "서울대입구"
          ],
          [
           "신답"
          ],
          [
           "신대방"
          ],
          [
           "신림"
          ],
          [
           "신정네거리"
          ],
          [
           "아현"
          ],
          [
           "양천구청"
          ],
          [
           "용답"
          ],
          [
           "용두"
          ],
          [
           "잠실나루"
          ],
          [
           "잠실새내"
          ]
         ],
         "hovertemplate": "cluster=2<br>08시=%{x}<br>18시=%{y}<br>지하철역=%{customdata[0]}<extra></extra>",
         "legendgroup": "2",
         "marker": {
          "color": "#EF553B",
          "symbol": "circle"
         },
         "mode": "markers",
         "name": "2",
         "orientation": "v",
         "showlegend": true,
         "type": "scatter",
         "x": [
          0.11335658393607194,
          0.1707555906752922,
          0.15755154851495393,
          0.1291085512802439,
          0.17338635558743412,
          0.15497813164752006,
          0.12992641289424947,
          0.22655272320513165,
          0.17060636769301257,
          0.16800886489880643,
          0.1512205559132085,
          0.12628369664471129,
          0.1528094088613643,
          0.16391739591556514,
          0.12170695177266413,
          0.11798043261235115,
          0.11972202275682595
         ],
         "xaxis": "x",
         "y": [
          0.068137237711976,
          0.06563482840204418,
          0.06573252135132825,
          0.07826368076999066,
          0.05082179293860498,
          0.07321975531982586,
          0.06856984943036536,
          0.04932111469213943,
          0.05458232636705781,
          0.051221496625077516,
          0.04437317167539693,
          0.06915862284475305,
          0.04815433184119346,
          0.05035072216554471,
          0.08880720907768107,
          0.07721666838521456,
          0.06701017181522624
         ],
         "yaxis": "y"
        },
        {
         "customdata": [
          [
           "건대입구"
          ],
          [
           "구로디지털단지"
          ],
          [
           "당산"
          ],
          [
           "도림천"
          ],
          [
           "문래"
          ],
          [
           "방배"
          ],
          [
           "사당"
          ],
          [
           "신당"
          ],
          [
           "신도림"
          ],
          [
           "신설동"
          ],
          [
           "신촌"
          ],
          [
           "영등포구청"
          ],
          [
           "왕십리"
          ],
          [
           "이대"
          ],
          [
           "잠실"
          ],
          [
           "종합운동장"
          ],
          [
           "충정로"
          ],
          [
           "합정"
          ],
          [
           "홍대입구"
          ]
         ],
         "hovertemplate": "cluster=0<br>08시=%{x}<br>18시=%{y}<br>지하철역=%{customdata[0]}<extra></extra>",
         "legendgroup": "0",
         "marker": {
          "color": "#00cc96",
          "symbol": "circle"
         },
         "mode": "markers",
         "name": "0",
         "orientation": "v",
         "showlegend": true,
         "type": "scatter",
         "x": [
          0.08579862837994534,
          0.11048469745279708,
          0.10765343443836178,
          0.0938899971206151,
          0.08192268788962402,
          0.06779645150789161,
          0.08917956660398042,
          0.10760896413121038,
          0.09515346608663652,
          0.057931367613892275,
          0.04553513746603264,
          0.07787604589018092,
          0.09533101155151132,
          0.06302743298618885,
          0.07605075644053187,
          0.07789803188209155,
          0.07970449882798071,
          0.06119146474714067,
          0.04220687489250687
         ],
         "xaxis": "x",
         "y": [
          0.08111196671028137,
          0.13482177849981522,
          0.11442927180079905,
          0.10242525488609136,
          0.1741786226716393,
          0.1397673842959647,
          0.08424976020158742,
          0.08660782300422717,
          0.0906852938671687,
          0.12911835070598543,
          0.09101623970421413,
          0.16858839256440583,
          0.08214560288314857,
          0.09395989900727303,
          0.10614149778046478,
          0.06992291394842094,
          0.17668452965726977,
          0.12270786650751642,
          0.09697208817917821
         ],
         "yaxis": "y"
        }
       ],
       "layout": {
        "legend": {
         "title": {
          "text": "cluster"
         },
         "tracegroupgap": 0
        },
        "template": {
         "data": {
          "bar": [
           {
            "error_x": {
             "color": "#2a3f5f"
            },
            "error_y": {
             "color": "#2a3f5f"
            },
            "marker": {
             "line": {
              "color": "#E5ECF6",
              "width": 0.5
             },
             "pattern": {
              "fillmode": "overlay",
              "size": 10,
              "solidity": 0.2
             }
            },
            "type": "bar"
           }
          ],
          "barpolar": [
           {
            "marker": {
             "line": {
              "color": "#E5ECF6",
              "width": 0.5
             },
             "pattern": {
              "fillmode": "overlay",
              "size": 10,
              "solidity": 0.2
             }
            },
            "type": "barpolar"
           }
          ],
          "carpet": [
           {
            "aaxis": {
             "endlinecolor": "#2a3f5f",
             "gridcolor": "white",
             "linecolor": "white",
             "minorgridcolor": "white",
             "startlinecolor": "#2a3f5f"
            },
            "baxis": {
             "endlinecolor": "#2a3f5f",
             "gridcolor": "white",
             "linecolor": "white",
             "minorgridcolor": "white",
             "startlinecolor": "#2a3f5f"
            },
            "type": "carpet"
           }
          ],
          "choropleth": [
           {
            "colorbar": {
             "outlinewidth": 0,
             "ticks": ""
            },
            "type": "choropleth"
           }
          ],
          "contour": [
           {
            "colorbar": {
             "outlinewidth": 0,
             "ticks": ""
            },
            "colorscale": [
             [
              0,
              "#0d0887"
             ],
             [
              0.1111111111111111,
              "#46039f"
             ],
             [
              0.2222222222222222,
              "#7201a8"
             ],
             [
              0.3333333333333333,
              "#9c179e"
             ],
             [
              0.4444444444444444,
              "#bd3786"
             ],
             [
              0.5555555555555556,
              "#d8576b"
             ],
             [
              0.6666666666666666,
              "#ed7953"
             ],
             [
              0.7777777777777778,
              "#fb9f3a"
             ],
             [
              0.8888888888888888,
              "#fdca26"
             ],
             [
              1,
              "#f0f921"
             ]
            ],
            "type": "contour"
           }
          ],
          "contourcarpet": [
           {
            "colorbar": {
             "outlinewidth": 0,
             "ticks": ""
            },
            "type": "contourcarpet"
           }
          ],
          "heatmap": [
           {
            "colorbar": {
             "outlinewidth": 0,
             "ticks": ""
            },
            "colorscale": [
             [
              0,
              "#0d0887"
             ],
             [
              0.1111111111111111,
              "#46039f"
             ],
             [
              0.2222222222222222,
              "#7201a8"
             ],
             [
              0.3333333333333333,
              "#9c179e"
             ],
             [
              0.4444444444444444,
              "#bd3786"
             ],
             [
              0.5555555555555556,
              "#d8576b"
             ],
             [
              0.6666666666666666,
              "#ed7953"
             ],
             [
              0.7777777777777778,
              "#fb9f3a"
             ],
             [
              0.8888888888888888,
              "#fdca26"
             ],
             [
              1,
              "#f0f921"
             ]
            ],
            "type": "heatmap"
           }
          ],
          "heatmapgl": [
           {
            "colorbar": {
             "outlinewidth": 0,
             "ticks": ""
            },
            "colorscale": [
             [
              0,
              "#0d0887"
             ],
             [
              0.1111111111111111,
              "#46039f"
             ],
             [
              0.2222222222222222,
              "#7201a8"
             ],
             [
              0.3333333333333333,
              "#9c179e"
             ],
             [
              0.4444444444444444,
              "#bd3786"
             ],
             [
              0.5555555555555556,
              "#d8576b"
             ],
             [
              0.6666666666666666,
              "#ed7953"
             ],
             [
              0.7777777777777778,
              "#fb9f3a"
             ],
             [
              0.8888888888888888,
              "#fdca26"
             ],
             [
              1,
              "#f0f921"
             ]
            ],
            "type": "heatmapgl"
           }
          ],
          "histogram": [
           {
            "marker": {
             "pattern": {
              "fillmode": "overlay",
              "size": 10,
              "solidity": 0.2
             }
            },
            "type": "histogram"
           }
          ],
          "histogram2d": [
           {
            "colorbar": {
             "outlinewidth": 0,
             "ticks": ""
            },
            "colorscale": [
             [
              0,
              "#0d0887"
             ],
             [
              0.1111111111111111,
              "#46039f"
             ],
             [
              0.2222222222222222,
              "#7201a8"
             ],
             [
              0.3333333333333333,
              "#9c179e"
             ],
             [
              0.4444444444444444,
              "#bd3786"
             ],
             [
              0.5555555555555556,
              "#d8576b"
             ],
             [
              0.6666666666666666,
              "#ed7953"
             ],
             [
              0.7777777777777778,
              "#fb9f3a"
             ],
             [
              0.8888888888888888,
              "#fdca26"
             ],
             [
              1,
              "#f0f921"
             ]
            ],
            "type": "histogram2d"
           }
          ],
          "histogram2dcontour": [
           {
            "colorbar": {
             "outlinewidth": 0,
             "ticks": ""
            },
            "colorscale": [
             [
              0,
              "#0d0887"
             ],
             [
              0.1111111111111111,
              "#46039f"
             ],
             [
              0.2222222222222222,
              "#7201a8"
             ],
             [
              0.3333333333333333,
              "#9c179e"
             ],
             [
              0.4444444444444444,
              "#bd3786"
             ],
             [
              0.5555555555555556,
              "#d8576b"
             ],
             [
              0.6666666666666666,
              "#ed7953"
             ],
             [
              0.7777777777777778,
              "#fb9f3a"
             ],
             [
              0.8888888888888888,
              "#fdca26"
             ],
             [
              1,
              "#f0f921"
             ]
            ],
            "type": "histogram2dcontour"
           }
          ],
          "mesh3d": [
           {
            "colorbar": {
             "outlinewidth": 0,
             "ticks": ""
            },
            "type": "mesh3d"
           }
          ],
          "parcoords": [
           {
            "line": {
             "colorbar": {
              "outlinewidth": 0,
              "ticks": ""
             }
            },
            "type": "parcoords"
           }
          ],
          "pie": [
           {
            "automargin": true,
            "type": "pie"
           }
          ],
          "scatter": [
           {
            "fillpattern": {
             "fillmode": "overlay",
             "size": 10,
             "solidity": 0.2
            },
            "type": "scatter"
           }
          ],
          "scatter3d": [
           {
            "line": {
             "colorbar": {
              "outlinewidth": 0,
              "ticks": ""
             }
            },
            "marker": {
             "colorbar": {
              "outlinewidth": 0,
              "ticks": ""
             }
            },
            "type": "scatter3d"
           }
          ],
          "scattercarpet": [
           {
            "marker": {
             "colorbar": {
              "outlinewidth": 0,
              "ticks": ""
             }
            },
            "type": "scattercarpet"
           }
          ],
          "scattergeo": [
           {
            "marker": {
             "colorbar": {
              "outlinewidth": 0,
              "ticks": ""
             }
            },
            "type": "scattergeo"
           }
          ],
          "scattergl": [
           {
            "marker": {
             "colorbar": {
              "outlinewidth": 0,
              "ticks": ""
             }
            },
            "type": "scattergl"
           }
          ],
          "scattermapbox": [
           {
            "marker": {
             "colorbar": {
              "outlinewidth": 0,
              "ticks": ""
             }
            },
            "type": "scattermapbox"
           }
          ],
          "scatterpolar": [
           {
            "marker": {
             "colorbar": {
              "outlinewidth": 0,
              "ticks": ""
             }
            },
            "type": "scatterpolar"
           }
          ],
          "scatterpolargl": [
           {
            "marker": {
             "colorbar": {
              "outlinewidth": 0,
              "ticks": ""
             }
            },
            "type": "scatterpolargl"
           }
          ],
          "scatterternary": [
           {
            "marker": {
             "colorbar": {
              "outlinewidth": 0,
              "ticks": ""
             }
            },
            "type": "scatterternary"
           }
          ],
          "surface": [
           {
            "colorbar": {
             "outlinewidth": 0,
             "ticks": ""
            },
            "colorscale": [
             [
              0,
              "#0d0887"
             ],
             [
              0.1111111111111111,
              "#46039f"
             ],
             [
              0.2222222222222222,
              "#7201a8"
             ],
             [
              0.3333333333333333,
              "#9c179e"
             ],
             [
              0.4444444444444444,
              "#bd3786"
             ],
             [
              0.5555555555555556,
              "#d8576b"
             ],
             [
              0.6666666666666666,
              "#ed7953"
             ],
             [
              0.7777777777777778,
              "#fb9f3a"
             ],
             [
              0.8888888888888888,
              "#fdca26"
             ],
             [
              1,
              "#f0f921"
             ]
            ],
            "type": "surface"
           }
          ],
          "table": [
           {
            "cells": {
             "fill": {
              "color": "#EBF0F8"
             },
             "line": {
              "color": "white"
             }
            },
            "header": {
             "fill": {
              "color": "#C8D4E3"
             },
             "line": {
              "color": "white"
             }
            },
            "type": "table"
           }
          ]
         },
         "layout": {
          "annotationdefaults": {
           "arrowcolor": "#2a3f5f",
           "arrowhead": 0,
           "arrowwidth": 1
          },
          "autotypenumbers": "strict",
          "coloraxis": {
           "colorbar": {
            "outlinewidth": 0,
            "ticks": ""
           }
          },
          "colorscale": {
           "diverging": [
            [
             0,
             "#8e0152"
            ],
            [
             0.1,
             "#c51b7d"
            ],
            [
             0.2,
             "#de77ae"
            ],
            [
             0.3,
             "#f1b6da"
            ],
            [
             0.4,
             "#fde0ef"
            ],
            [
             0.5,
             "#f7f7f7"
            ],
            [
             0.6,
             "#e6f5d0"
            ],
            [
             0.7,
             "#b8e186"
            ],
            [
             0.8,
             "#7fbc41"
            ],
            [
             0.9,
             "#4d9221"
            ],
            [
             1,
             "#276419"
            ]
           ],
           "sequential": [
            [
             0,
             "#0d0887"
            ],
            [
             0.1111111111111111,
             "#46039f"
            ],
            [
             0.2222222222222222,
             "#7201a8"
            ],
            [
             0.3333333333333333,
             "#9c179e"
            ],
            [
             0.4444444444444444,
             "#bd3786"
            ],
            [
             0.5555555555555556,
             "#d8576b"
            ],
            [
             0.6666666666666666,
             "#ed7953"
            ],
            [
             0.7777777777777778,
             "#fb9f3a"
            ],
            [
             0.8888888888888888,
             "#fdca26"
            ],
            [
             1,
             "#f0f921"
            ]
           ],
           "sequentialminus": [
            [
             0,
             "#0d0887"
            ],
            [
             0.1111111111111111,
             "#46039f"
            ],
            [
             0.2222222222222222,
             "#7201a8"
            ],
            [
             0.3333333333333333,
             "#9c179e"
            ],
            [
             0.4444444444444444,
             "#bd3786"
            ],
            [
             0.5555555555555556,
             "#d8576b"
            ],
            [
             0.6666666666666666,
             "#ed7953"
            ],
            [
             0.7777777777777778,
             "#fb9f3a"
            ],
            [
             0.8888888888888888,
             "#fdca26"
            ],
            [
             1,
             "#f0f921"
            ]
           ]
          },
          "colorway": [
           "#636efa",
           "#EF553B",
           "#00cc96",
           "#ab63fa",
           "#FFA15A",
           "#19d3f3",
           "#FF6692",
           "#B6E880",
           "#FF97FF",
           "#FECB52"
          ],
          "font": {
           "color": "#2a3f5f"
          },
          "geo": {
           "bgcolor": "white",
           "lakecolor": "white",
           "landcolor": "#E5ECF6",
           "showlakes": true,
           "showland": true,
           "subunitcolor": "white"
          },
          "hoverlabel": {
           "align": "left"
          },
          "hovermode": "closest",
          "mapbox": {
           "style": "light"
          },
          "paper_bgcolor": "white",
          "plot_bgcolor": "#E5ECF6",
          "polar": {
           "angularaxis": {
            "gridcolor": "white",
            "linecolor": "white",
            "ticks": ""
           },
           "bgcolor": "#E5ECF6",
           "radialaxis": {
            "gridcolor": "white",
            "linecolor": "white",
            "ticks": ""
           }
          },
          "scene": {
           "xaxis": {
            "backgroundcolor": "#E5ECF6",
            "gridcolor": "white",
            "gridwidth": 2,
            "linecolor": "white",
            "showbackground": true,
            "ticks": "",
            "zerolinecolor": "white"
           },
           "yaxis": {
            "backgroundcolor": "#E5ECF6",
            "gridcolor": "white",
            "gridwidth": 2,
            "linecolor": "white",
            "showbackground": true,
            "ticks": "",
            "zerolinecolor": "white"
           },
           "zaxis": {
            "backgroundcolor": "#E5ECF6",
            "gridcolor": "white",
            "gridwidth": 2,
            "linecolor": "white",
            "showbackground": true,
            "ticks": "",
            "zerolinecolor": "white"
           }
          },
          "shapedefaults": {
           "line": {
            "color": "#2a3f5f"
           }
          },
          "ternary": {
           "aaxis": {
            "gridcolor": "white",
            "linecolor": "white",
            "ticks": ""
           },
           "baxis": {
            "gridcolor": "white",
            "linecolor": "white",
            "ticks": ""
           },
           "bgcolor": "#E5ECF6",
           "caxis": {
            "gridcolor": "white",
            "linecolor": "white",
            "ticks": ""
           }
          },
          "title": {
           "x": 0.05
          },
          "xaxis": {
           "automargin": true,
           "gridcolor": "white",
           "linecolor": "white",
           "ticks": "",
           "title": {
            "standoff": 15
           },
           "zerolinecolor": "white",
           "zerolinewidth": 2
          },
          "yaxis": {
           "automargin": true,
           "gridcolor": "white",
           "linecolor": "white",
           "ticks": "",
           "title": {
            "standoff": 15
           },
           "zerolinecolor": "white",
           "zerolinewidth": 2
          }
         }
        },
        "title": {
         "text": "시간대별 승차 인원 비중 군집화"
        },
        "xaxis": {
         "anchor": "y",
         "domain": [
          0,
          1
         ],
         "title": {
          "text": "08시"
         }
        },
        "yaxis": {
         "anchor": "x",
         "domain": [
          0,
          1
         ],
         "title": {
          "text": "18시"
         }
        }
       }
      }
     },
     "metadata": {},
     "output_type": "display_data"
    }
   ],
   "source": [
    "fig3 = px.scatter(data_frame=hour_mean_pct[['08시', '18시', 'cluster']].reset_index(),\n",
    "                  x='08시', y='18시', color='cluster',\n",
    "                  title = '시간대별 승차 인원 비중 군집화',\n",
    "                  hover_data=['지하철역'])\n",
    "fig3.show()"
   ]
  },
  {
   "cell_type": "code",
   "execution_count": 83,
   "metadata": {},
   "outputs": [
    {
     "name": "stdout",
     "output_type": "stream",
     "text": [
      "cluster 0\n",
      "['건대입구', '구로디지털단지', '당산', '도림천', '문래', '방배', '사당', '신당', '신도림', '신설동', '신촌', '영등포구청', '왕십리', '이대', '잠실', '종합운동장', '충정로', '합정', '홍대입구']\n",
      "cluster 1\n",
      "['강남', '교대', '동대문역사문화공원', '뚝섬', '삼성', '서초', '선릉', '성수', '시청', '역삼', '을지로3가', '을지로4가', '을지로입구', '한양대']\n",
      "cluster 2\n",
      "['강변', '구의', '낙성대', '대림', '봉천', '상왕십리', '서울대입구', '신답', '신대방', '신림', '신정네거리', '아현', '양천구청', '용답', '용두', '잠실나루', '잠실새내']\n"
     ]
    }
   ],
   "source": [
    "for i in range(k):\n",
    "    print(f'cluster {i}')\n",
    "    print(list(hour_mean_pct.query(f'cluster == \"{i}\"').index))"
   ]
  },
  {
   "cell_type": "markdown",
   "metadata": {},
   "source": [
    "- 0번 군집  :   직장, 주거단지, 학교 등 고루 분포한 중간 지역\n",
    "- 1번 군집  :   직장이 많은 지역, 퇴근이 몰리는 지역\n",
    "- 2번 군집  :   주거 지역, 출근이 몰리는 지역"
   ]
  },
  {
   "cell_type": "code",
   "execution_count": null,
   "metadata": {},
   "outputs": [],
   "source": []
  },
  {
   "cell_type": "code",
   "execution_count": null,
   "metadata": {},
   "outputs": [],
   "source": []
  },
  {
   "cell_type": "markdown",
   "metadata": {},
   "source": [
    "### [5] 지도에 분석 결과 시각화"
   ]
  },
  {
   "cell_type": "markdown",
   "metadata": {},
   "source": [
    "- 8시 승차 인원과 18시 승차 인원을 지도에 시각화\n",
    "\n",
    "- 지하철역별 위도 경도 데이터 전처리"
   ]
  },
  {
   "cell_type": "code",
   "execution_count": 86,
   "metadata": {},
   "outputs": [
    {
     "data": {
      "text/html": [
       "<div>\n",
       "<style scoped>\n",
       "    .dataframe tbody tr th:only-of-type {\n",
       "        vertical-align: middle;\n",
       "    }\n",
       "\n",
       "    .dataframe tbody tr th {\n",
       "        vertical-align: top;\n",
       "    }\n",
       "\n",
       "    .dataframe thead th {\n",
       "        text-align: right;\n",
       "    }\n",
       "</style>\n",
       "<table border=\"1\" class=\"dataframe\">\n",
       "  <thead>\n",
       "    <tr style=\"text-align: right;\">\n",
       "      <th></th>\n",
       "      <th>역사_ID</th>\n",
       "      <th>역사명</th>\n",
       "      <th>호선</th>\n",
       "      <th>위도</th>\n",
       "      <th>경도</th>\n",
       "    </tr>\n",
       "  </thead>\n",
       "  <tbody>\n",
       "    <tr>\n",
       "      <th>708</th>\n",
       "      <td>250</td>\n",
       "      <td>용두(동대문구청)</td>\n",
       "      <td>2호선</td>\n",
       "      <td>37.574028</td>\n",
       "      <td>127.038091</td>\n",
       "    </tr>\n",
       "    <tr>\n",
       "      <th>709</th>\n",
       "      <td>249</td>\n",
       "      <td>신정네거리</td>\n",
       "      <td>2호선</td>\n",
       "      <td>37.520074</td>\n",
       "      <td>126.852912</td>\n",
       "    </tr>\n",
       "    <tr>\n",
       "      <th>710</th>\n",
       "      <td>248</td>\n",
       "      <td>양천구청</td>\n",
       "      <td>2호선</td>\n",
       "      <td>37.512398</td>\n",
       "      <td>126.865819</td>\n",
       "    </tr>\n",
       "    <tr>\n",
       "      <th>711</th>\n",
       "      <td>247</td>\n",
       "      <td>도림천</td>\n",
       "      <td>2호선</td>\n",
       "      <td>37.514287</td>\n",
       "      <td>126.882768</td>\n",
       "    </tr>\n",
       "    <tr>\n",
       "      <th>712</th>\n",
       "      <td>246</td>\n",
       "      <td>신설동</td>\n",
       "      <td>2호선</td>\n",
       "      <td>37.574747</td>\n",
       "      <td>127.024932</td>\n",
       "    </tr>\n",
       "  </tbody>\n",
       "</table>\n",
       "</div>"
      ],
      "text/plain": [
       "     역사_ID        역사명   호선         위도          경도\n",
       "708    250  용두(동대문구청)  2호선  37.574028  127.038091\n",
       "709    249      신정네거리  2호선  37.520074  126.852912\n",
       "710    248       양천구청  2호선  37.512398  126.865819\n",
       "711    247        도림천  2호선  37.514287  126.882768\n",
       "712    246        신설동  2호선  37.574747  127.024932"
      ]
     },
     "execution_count": 86,
     "metadata": {},
     "output_type": "execute_result"
    }
   ],
   "source": [
    "coordinate = pd.read_csv('../data/서울시 역사마스터 정보.csv', encoding = 'cp949')\n",
    "coordinate.head()"
   ]
  },
  {
   "cell_type": "code",
   "execution_count": 88,
   "metadata": {},
   "outputs": [
    {
     "data": {
      "text/html": [
       "<div>\n",
       "<style scoped>\n",
       "    .dataframe tbody tr th:only-of-type {\n",
       "        vertical-align: middle;\n",
       "    }\n",
       "\n",
       "    .dataframe tbody tr th {\n",
       "        vertical-align: top;\n",
       "    }\n",
       "\n",
       "    .dataframe thead th {\n",
       "        text-align: right;\n",
       "    }\n",
       "</style>\n",
       "<table border=\"1\" class=\"dataframe\">\n",
       "  <thead>\n",
       "    <tr style=\"text-align: right;\">\n",
       "      <th></th>\n",
       "      <th>역사_ID</th>\n",
       "      <th>지하철역</th>\n",
       "      <th>호선</th>\n",
       "      <th>위도</th>\n",
       "      <th>경도</th>\n",
       "    </tr>\n",
       "  </thead>\n",
       "  <tbody>\n",
       "    <tr>\n",
       "      <th>708</th>\n",
       "      <td>250</td>\n",
       "      <td>용두</td>\n",
       "      <td>2호선</td>\n",
       "      <td>37.574028</td>\n",
       "      <td>127.038091</td>\n",
       "    </tr>\n",
       "    <tr>\n",
       "      <th>709</th>\n",
       "      <td>249</td>\n",
       "      <td>신정네거리</td>\n",
       "      <td>2호선</td>\n",
       "      <td>37.520074</td>\n",
       "      <td>126.852912</td>\n",
       "    </tr>\n",
       "    <tr>\n",
       "      <th>710</th>\n",
       "      <td>248</td>\n",
       "      <td>양천구청</td>\n",
       "      <td>2호선</td>\n",
       "      <td>37.512398</td>\n",
       "      <td>126.865819</td>\n",
       "    </tr>\n",
       "    <tr>\n",
       "      <th>711</th>\n",
       "      <td>247</td>\n",
       "      <td>도림천</td>\n",
       "      <td>2호선</td>\n",
       "      <td>37.514287</td>\n",
       "      <td>126.882768</td>\n",
       "    </tr>\n",
       "    <tr>\n",
       "      <th>712</th>\n",
       "      <td>246</td>\n",
       "      <td>신설동</td>\n",
       "      <td>2호선</td>\n",
       "      <td>37.574747</td>\n",
       "      <td>127.024932</td>\n",
       "    </tr>\n",
       "  </tbody>\n",
       "</table>\n",
       "</div>"
      ],
      "text/plain": [
       "     역사_ID   지하철역   호선         위도          경도\n",
       "708    250     용두  2호선  37.574028  127.038091\n",
       "709    249  신정네거리  2호선  37.520074  126.852912\n",
       "710    248   양천구청  2호선  37.512398  126.865819\n",
       "711    247    도림천  2호선  37.514287  126.882768\n",
       "712    246    신설동  2호선  37.574747  127.024932"
      ]
     },
     "execution_count": 88,
     "metadata": {},
     "output_type": "execute_result"
    }
   ],
   "source": [
    "coordinate = coordinate.query('호선 == \"2호선\"')\n",
    "coordinate['역사명'] = [i[0] for i in coordinate['역사명'].str.split('(')]\n",
    "coordinate.rename(columns = {'역사명' : '지하철역'}, inplace = True)\n",
    "coordinate.head()"
   ]
  },
  {
   "cell_type": "code",
   "execution_count": 94,
   "metadata": {},
   "outputs": [
    {
     "data": {
      "text/html": [
       "<div>\n",
       "<style scoped>\n",
       "    .dataframe tbody tr th:only-of-type {\n",
       "        vertical-align: middle;\n",
       "    }\n",
       "\n",
       "    .dataframe tbody tr th {\n",
       "        vertical-align: top;\n",
       "    }\n",
       "\n",
       "    .dataframe thead th {\n",
       "        text-align: right;\n",
       "    }\n",
       "</style>\n",
       "<table border=\"1\" class=\"dataframe\">\n",
       "  <thead>\n",
       "    <tr style=\"text-align: right;\">\n",
       "      <th></th>\n",
       "      <th>지하철역</th>\n",
       "      <th>08시</th>\n",
       "      <th>18시</th>\n",
       "      <th>위도</th>\n",
       "      <th>경도</th>\n",
       "    </tr>\n",
       "  </thead>\n",
       "  <tbody>\n",
       "    <tr>\n",
       "      <th>0</th>\n",
       "      <td>강남</td>\n",
       "      <td>64827.731343</td>\n",
       "      <td>343752.835821</td>\n",
       "      <td>37.497990</td>\n",
       "      <td>127.027912</td>\n",
       "    </tr>\n",
       "    <tr>\n",
       "      <th>1</th>\n",
       "      <td>강변</td>\n",
       "      <td>119168.985075</td>\n",
       "      <td>71631.000000</td>\n",
       "      <td>37.535095</td>\n",
       "      <td>127.094681</td>\n",
       "    </tr>\n",
       "    <tr>\n",
       "      <th>2</th>\n",
       "      <td>건대입구</td>\n",
       "      <td>94501.731343</td>\n",
       "      <td>89339.671642</td>\n",
       "      <td>37.540373</td>\n",
       "      <td>127.069191</td>\n",
       "    </tr>\n",
       "    <tr>\n",
       "      <th>3</th>\n",
       "      <td>교대</td>\n",
       "      <td>37022.164179</td>\n",
       "      <td>144218.925373</td>\n",
       "      <td>37.493961</td>\n",
       "      <td>127.014667</td>\n",
       "    </tr>\n",
       "    <tr>\n",
       "      <th>4</th>\n",
       "      <td>구로디지털단지</td>\n",
       "      <td>182999.328358</td>\n",
       "      <td>223309.611940</td>\n",
       "      <td>37.485266</td>\n",
       "      <td>126.901401</td>\n",
       "    </tr>\n",
       "    <tr>\n",
       "      <th>5</th>\n",
       "      <td>구의</td>\n",
       "      <td>112258.820896</td>\n",
       "      <td>43149.910448</td>\n",
       "      <td>37.537077</td>\n",
       "      <td>127.085916</td>\n",
       "    </tr>\n",
       "    <tr>\n",
       "      <th>6</th>\n",
       "      <td>낙성대</td>\n",
       "      <td>125625.074627</td>\n",
       "      <td>52412.388060</td>\n",
       "      <td>37.476930</td>\n",
       "      <td>126.963693</td>\n",
       "    </tr>\n",
       "    <tr>\n",
       "      <th>7</th>\n",
       "      <td>당산</td>\n",
       "      <td>58876.074627</td>\n",
       "      <td>62581.805970</td>\n",
       "      <td>37.534946</td>\n",
       "      <td>126.902767</td>\n",
       "    </tr>\n",
       "    <tr>\n",
       "      <th>8</th>\n",
       "      <td>대림</td>\n",
       "      <td>95339.776119</td>\n",
       "      <td>57793.552239</td>\n",
       "      <td>37.493243</td>\n",
       "      <td>126.894932</td>\n",
       "    </tr>\n",
       "    <tr>\n",
       "      <th>9</th>\n",
       "      <td>도림천</td>\n",
       "      <td>3241.298507</td>\n",
       "      <td>3535.955224</td>\n",
       "      <td>37.514287</td>\n",
       "      <td>126.882768</td>\n",
       "    </tr>\n",
       "    <tr>\n",
       "      <th>10</th>\n",
       "      <td>동대문역사문화공원</td>\n",
       "      <td>11720.059701</td>\n",
       "      <td>49874.522388</td>\n",
       "      <td>37.565613</td>\n",
       "      <td>127.009054</td>\n",
       "    </tr>\n",
       "    <tr>\n",
       "      <th>11</th>\n",
       "      <td>뚝섬</td>\n",
       "      <td>28300.492537</td>\n",
       "      <td>110982.686567</td>\n",
       "      <td>37.547184</td>\n",
       "      <td>127.047367</td>\n",
       "    </tr>\n",
       "    <tr>\n",
       "      <th>12</th>\n",
       "      <td>문래</td>\n",
       "      <td>45868.253731</td>\n",
       "      <td>97522.059701</td>\n",
       "      <td>37.517933</td>\n",
       "      <td>126.894760</td>\n",
       "    </tr>\n",
       "    <tr>\n",
       "      <th>13</th>\n",
       "      <td>방배</td>\n",
       "      <td>33725.850746</td>\n",
       "      <td>69528.328358</td>\n",
       "      <td>37.481426</td>\n",
       "      <td>126.997596</td>\n",
       "    </tr>\n",
       "    <tr>\n",
       "      <th>14</th>\n",
       "      <td>봉천</td>\n",
       "      <td>116951.283582</td>\n",
       "      <td>34279.940299</td>\n",
       "      <td>37.482362</td>\n",
       "      <td>126.941892</td>\n",
       "    </tr>\n",
       "    <tr>\n",
       "      <th>15</th>\n",
       "      <td>사당</td>\n",
       "      <td>98665.671642</td>\n",
       "      <td>93211.477612</td>\n",
       "      <td>37.476538</td>\n",
       "      <td>126.981544</td>\n",
       "    </tr>\n",
       "    <tr>\n",
       "      <th>16</th>\n",
       "      <td>삼성</td>\n",
       "      <td>21927.223881</td>\n",
       "      <td>294941.119403</td>\n",
       "      <td>37.508844</td>\n",
       "      <td>127.063160</td>\n",
       "    </tr>\n",
       "    <tr>\n",
       "      <th>17</th>\n",
       "      <td>상왕십리</td>\n",
       "      <td>60709.074627</td>\n",
       "      <td>28682.134328</td>\n",
       "      <td>37.564354</td>\n",
       "      <td>127.029354</td>\n",
       "    </tr>\n",
       "    <tr>\n",
       "      <th>18</th>\n",
       "      <td>서울대입구</td>\n",
       "      <td>180685.805970</td>\n",
       "      <td>95358.582090</td>\n",
       "      <td>37.481247</td>\n",
       "      <td>126.952739</td>\n",
       "    </tr>\n",
       "    <tr>\n",
       "      <th>19</th>\n",
       "      <td>서초</td>\n",
       "      <td>24362.402985</td>\n",
       "      <td>102142.373134</td>\n",
       "      <td>37.491897</td>\n",
       "      <td>127.007917</td>\n",
       "    </tr>\n",
       "    <tr>\n",
       "      <th>20</th>\n",
       "      <td>선릉</td>\n",
       "      <td>32790.985075</td>\n",
       "      <td>283547.059701</td>\n",
       "      <td>37.504286</td>\n",
       "      <td>127.048203</td>\n",
       "    </tr>\n",
       "    <tr>\n",
       "      <th>21</th>\n",
       "      <td>성수</td>\n",
       "      <td>31636.910448</td>\n",
       "      <td>204126.552239</td>\n",
       "      <td>37.544581</td>\n",
       "      <td>127.055961</td>\n",
       "    </tr>\n",
       "    <tr>\n",
       "      <th>22</th>\n",
       "      <td>시청</td>\n",
       "      <td>7772.268657</td>\n",
       "      <td>166153.253731</td>\n",
       "      <td>37.563588</td>\n",
       "      <td>126.975411</td>\n",
       "    </tr>\n",
       "    <tr>\n",
       "      <th>23</th>\n",
       "      <td>신답</td>\n",
       "      <td>9927.208955</td>\n",
       "      <td>2161.179104</td>\n",
       "      <td>37.570040</td>\n",
       "      <td>127.046481</td>\n",
       "    </tr>\n",
       "    <tr>\n",
       "      <th>24</th>\n",
       "      <td>신당</td>\n",
       "      <td>43319.164179</td>\n",
       "      <td>34864.925373</td>\n",
       "      <td>37.565640</td>\n",
       "      <td>127.019614</td>\n",
       "    </tr>\n",
       "    <tr>\n",
       "      <th>25</th>\n",
       "      <td>신대방</td>\n",
       "      <td>129882.805970</td>\n",
       "      <td>41553.582090</td>\n",
       "      <td>37.487462</td>\n",
       "      <td>126.913149</td>\n",
       "    </tr>\n",
       "    <tr>\n",
       "      <th>26</th>\n",
       "      <td>신도림</td>\n",
       "      <td>140965.089552</td>\n",
       "      <td>134345.716418</td>\n",
       "      <td>37.508961</td>\n",
       "      <td>126.891084</td>\n",
       "    </tr>\n",
       "    <tr>\n",
       "      <th>27</th>\n",
       "      <td>신림</td>\n",
       "      <td>305087.701493</td>\n",
       "      <td>93013.238806</td>\n",
       "      <td>37.484201</td>\n",
       "      <td>126.929715</td>\n",
       "    </tr>\n",
       "    <tr>\n",
       "      <th>28</th>\n",
       "      <td>신설동</td>\n",
       "      <td>6333.059701</td>\n",
       "      <td>14115.223881</td>\n",
       "      <td>37.574747</td>\n",
       "      <td>127.024932</td>\n",
       "    </tr>\n",
       "    <tr>\n",
       "      <th>29</th>\n",
       "      <td>신정네거리</td>\n",
       "      <td>41825.597015</td>\n",
       "      <td>12273.029851</td>\n",
       "      <td>37.520074</td>\n",
       "      <td>126.852912</td>\n",
       "    </tr>\n",
       "    <tr>\n",
       "      <th>30</th>\n",
       "      <td>신촌</td>\n",
       "      <td>51014.402985</td>\n",
       "      <td>101968.268657</td>\n",
       "      <td>37.555131</td>\n",
       "      <td>126.936926</td>\n",
       "    </tr>\n",
       "    <tr>\n",
       "      <th>31</th>\n",
       "      <td>아현</td>\n",
       "      <td>36793.179104</td>\n",
       "      <td>20149.597015</td>\n",
       "      <td>37.557345</td>\n",
       "      <td>126.956141</td>\n",
       "    </tr>\n",
       "    <tr>\n",
       "      <th>32</th>\n",
       "      <td>양천구청</td>\n",
       "      <td>29011.970149</td>\n",
       "      <td>9142.447761</td>\n",
       "      <td>37.512398</td>\n",
       "      <td>126.865819</td>\n",
       "    </tr>\n",
       "    <tr>\n",
       "      <th>33</th>\n",
       "      <td>역삼</td>\n",
       "      <td>25531.537313</td>\n",
       "      <td>274455.746269</td>\n",
       "      <td>37.500622</td>\n",
       "      <td>127.036456</td>\n",
       "    </tr>\n",
       "    <tr>\n",
       "      <th>34</th>\n",
       "      <td>영등포구청</td>\n",
       "      <td>46565.417910</td>\n",
       "      <td>100806.208955</td>\n",
       "      <td>37.525706</td>\n",
       "      <td>126.896610</td>\n",
       "    </tr>\n",
       "    <tr>\n",
       "      <th>35</th>\n",
       "      <td>왕십리</td>\n",
       "      <td>46934.388060</td>\n",
       "      <td>40442.805970</td>\n",
       "      <td>37.561238</td>\n",
       "      <td>127.036954</td>\n",
       "    </tr>\n",
       "    <tr>\n",
       "      <th>36</th>\n",
       "      <td>용답</td>\n",
       "      <td>12721.910448</td>\n",
       "      <td>3907.805970</td>\n",
       "      <td>37.561904</td>\n",
       "      <td>127.050899</td>\n",
       "    </tr>\n",
       "    <tr>\n",
       "      <th>37</th>\n",
       "      <td>용두</td>\n",
       "      <td>8007.223881</td>\n",
       "      <td>5842.716418</td>\n",
       "      <td>37.574028</td>\n",
       "      <td>127.038091</td>\n",
       "    </tr>\n",
       "    <tr>\n",
       "      <th>38</th>\n",
       "      <td>을지로3가</td>\n",
       "      <td>10073.119403</td>\n",
       "      <td>128891.149254</td>\n",
       "      <td>37.566306</td>\n",
       "      <td>126.991696</td>\n",
       "    </tr>\n",
       "    <tr>\n",
       "      <th>39</th>\n",
       "      <td>을지로4가</td>\n",
       "      <td>6652.104478</td>\n",
       "      <td>66152.014925</td>\n",
       "      <td>37.566595</td>\n",
       "      <td>126.997817</td>\n",
       "    </tr>\n",
       "    <tr>\n",
       "      <th>40</th>\n",
       "      <td>을지로입구</td>\n",
       "      <td>14691.388060</td>\n",
       "      <td>261096.835821</td>\n",
       "      <td>37.566014</td>\n",
       "      <td>126.982618</td>\n",
       "    </tr>\n",
       "    <tr>\n",
       "      <th>41</th>\n",
       "      <td>이대</td>\n",
       "      <td>28275.432836</td>\n",
       "      <td>42152.388060</td>\n",
       "      <td>37.556733</td>\n",
       "      <td>126.946013</td>\n",
       "    </tr>\n",
       "    <tr>\n",
       "      <th>42</th>\n",
       "      <td>잠실</td>\n",
       "      <td>166209.074627</td>\n",
       "      <td>231972.447761</td>\n",
       "      <td>37.513262</td>\n",
       "      <td>127.100159</td>\n",
       "    </tr>\n",
       "    <tr>\n",
       "      <th>43</th>\n",
       "      <td>잠실나루</td>\n",
       "      <td>48892.656716</td>\n",
       "      <td>31999.611940</td>\n",
       "      <td>37.520733</td>\n",
       "      <td>127.103790</td>\n",
       "    </tr>\n",
       "    <tr>\n",
       "      <th>44</th>\n",
       "      <td>잠실새내</td>\n",
       "      <td>76721.447761</td>\n",
       "      <td>42942.119403</td>\n",
       "      <td>37.511687</td>\n",
       "      <td>127.086162</td>\n",
       "    </tr>\n",
       "    <tr>\n",
       "      <th>45</th>\n",
       "      <td>종합운동장</td>\n",
       "      <td>24669.835821</td>\n",
       "      <td>22144.164179</td>\n",
       "      <td>37.511022</td>\n",
       "      <td>127.073704</td>\n",
       "    </tr>\n",
       "    <tr>\n",
       "      <th>46</th>\n",
       "      <td>충정로</td>\n",
       "      <td>22509.522388</td>\n",
       "      <td>49897.865672</td>\n",
       "      <td>37.559704</td>\n",
       "      <td>126.964378</td>\n",
       "    </tr>\n",
       "    <tr>\n",
       "      <th>47</th>\n",
       "      <td>한양대</td>\n",
       "      <td>8587.179104</td>\n",
       "      <td>32705.149254</td>\n",
       "      <td>37.555273</td>\n",
       "      <td>127.043655</td>\n",
       "    </tr>\n",
       "    <tr>\n",
       "      <th>48</th>\n",
       "      <td>합정</td>\n",
       "      <td>55157.477612</td>\n",
       "      <td>110607.850746</td>\n",
       "      <td>37.549457</td>\n",
       "      <td>126.913808</td>\n",
       "    </tr>\n",
       "    <tr>\n",
       "      <th>49</th>\n",
       "      <td>홍대입구</td>\n",
       "      <td>80009.194030</td>\n",
       "      <td>183824.522388</td>\n",
       "      <td>37.556790</td>\n",
       "      <td>126.923708</td>\n",
       "    </tr>\n",
       "  </tbody>\n",
       "</table>\n",
       "</div>"
      ],
      "text/plain": [
       "         지하철역            08시            18시         위도          경도\n",
       "0          강남   64827.731343  343752.835821  37.497990  127.027912\n",
       "1          강변  119168.985075   71631.000000  37.535095  127.094681\n",
       "2        건대입구   94501.731343   89339.671642  37.540373  127.069191\n",
       "3          교대   37022.164179  144218.925373  37.493961  127.014667\n",
       "4     구로디지털단지  182999.328358  223309.611940  37.485266  126.901401\n",
       "5          구의  112258.820896   43149.910448  37.537077  127.085916\n",
       "6         낙성대  125625.074627   52412.388060  37.476930  126.963693\n",
       "7          당산   58876.074627   62581.805970  37.534946  126.902767\n",
       "8          대림   95339.776119   57793.552239  37.493243  126.894932\n",
       "9         도림천    3241.298507    3535.955224  37.514287  126.882768\n",
       "10  동대문역사문화공원   11720.059701   49874.522388  37.565613  127.009054\n",
       "11         뚝섬   28300.492537  110982.686567  37.547184  127.047367\n",
       "12         문래   45868.253731   97522.059701  37.517933  126.894760\n",
       "13         방배   33725.850746   69528.328358  37.481426  126.997596\n",
       "14         봉천  116951.283582   34279.940299  37.482362  126.941892\n",
       "15         사당   98665.671642   93211.477612  37.476538  126.981544\n",
       "16         삼성   21927.223881  294941.119403  37.508844  127.063160\n",
       "17       상왕십리   60709.074627   28682.134328  37.564354  127.029354\n",
       "18      서울대입구  180685.805970   95358.582090  37.481247  126.952739\n",
       "19         서초   24362.402985  102142.373134  37.491897  127.007917\n",
       "20         선릉   32790.985075  283547.059701  37.504286  127.048203\n",
       "21         성수   31636.910448  204126.552239  37.544581  127.055961\n",
       "22         시청    7772.268657  166153.253731  37.563588  126.975411\n",
       "23         신답    9927.208955    2161.179104  37.570040  127.046481\n",
       "24         신당   43319.164179   34864.925373  37.565640  127.019614\n",
       "25        신대방  129882.805970   41553.582090  37.487462  126.913149\n",
       "26        신도림  140965.089552  134345.716418  37.508961  126.891084\n",
       "27         신림  305087.701493   93013.238806  37.484201  126.929715\n",
       "28        신설동    6333.059701   14115.223881  37.574747  127.024932\n",
       "29      신정네거리   41825.597015   12273.029851  37.520074  126.852912\n",
       "30         신촌   51014.402985  101968.268657  37.555131  126.936926\n",
       "31         아현   36793.179104   20149.597015  37.557345  126.956141\n",
       "32       양천구청   29011.970149    9142.447761  37.512398  126.865819\n",
       "33         역삼   25531.537313  274455.746269  37.500622  127.036456\n",
       "34      영등포구청   46565.417910  100806.208955  37.525706  126.896610\n",
       "35        왕십리   46934.388060   40442.805970  37.561238  127.036954\n",
       "36         용답   12721.910448    3907.805970  37.561904  127.050899\n",
       "37         용두    8007.223881    5842.716418  37.574028  127.038091\n",
       "38      을지로3가   10073.119403  128891.149254  37.566306  126.991696\n",
       "39      을지로4가    6652.104478   66152.014925  37.566595  126.997817\n",
       "40      을지로입구   14691.388060  261096.835821  37.566014  126.982618\n",
       "41         이대   28275.432836   42152.388060  37.556733  126.946013\n",
       "42         잠실  166209.074627  231972.447761  37.513262  127.100159\n",
       "43       잠실나루   48892.656716   31999.611940  37.520733  127.103790\n",
       "44       잠실새내   76721.447761   42942.119403  37.511687  127.086162\n",
       "45      종합운동장   24669.835821   22144.164179  37.511022  127.073704\n",
       "46        충정로   22509.522388   49897.865672  37.559704  126.964378\n",
       "47        한양대    8587.179104   32705.149254  37.555273  127.043655\n",
       "48         합정   55157.477612  110607.850746  37.549457  126.913808\n",
       "49       홍대입구   80009.194030  183824.522388  37.556790  126.923708"
      ]
     },
     "execution_count": 94,
     "metadata": {},
     "output_type": "execute_result"
    }
   ],
   "source": [
    "hour_mean_merge = hour_mean.reset_index()[['지하철역', '08시', '18시']]\n",
    "coordinate_merge = coordinate[['지하철역', '위도', '경도']]\n",
    "\n",
    "hour_mean_coor = pd.merge(hour_mean_merge, coordinate_merge, on = '지하철역')\n",
    "hour_mean_coor"
   ]
  },
  {
   "cell_type": "code",
   "execution_count": 95,
   "metadata": {},
   "outputs": [
    {
     "data": {
      "text/html": [
       "<div>\n",
       "<style scoped>\n",
       "    .dataframe tbody tr th:only-of-type {\n",
       "        vertical-align: middle;\n",
       "    }\n",
       "\n",
       "    .dataframe tbody tr th {\n",
       "        vertical-align: top;\n",
       "    }\n",
       "\n",
       "    .dataframe thead th {\n",
       "        text-align: right;\n",
       "    }\n",
       "</style>\n",
       "<table border=\"1\" class=\"dataframe\">\n",
       "  <thead>\n",
       "    <tr style=\"text-align: right;\">\n",
       "      <th></th>\n",
       "      <th>지하철역</th>\n",
       "      <th>08시</th>\n",
       "      <th>18시</th>\n",
       "      <th>위도</th>\n",
       "      <th>경도</th>\n",
       "      <th>cluster</th>\n",
       "    </tr>\n",
       "  </thead>\n",
       "  <tbody>\n",
       "    <tr>\n",
       "      <th>0</th>\n",
       "      <td>강남</td>\n",
       "      <td>64827.731343</td>\n",
       "      <td>343752.835821</td>\n",
       "      <td>37.497990</td>\n",
       "      <td>127.027912</td>\n",
       "      <td>2</td>\n",
       "    </tr>\n",
       "    <tr>\n",
       "      <th>1</th>\n",
       "      <td>강변</td>\n",
       "      <td>119168.985075</td>\n",
       "      <td>71631.000000</td>\n",
       "      <td>37.535095</td>\n",
       "      <td>127.094681</td>\n",
       "      <td>1</td>\n",
       "    </tr>\n",
       "    <tr>\n",
       "      <th>2</th>\n",
       "      <td>건대입구</td>\n",
       "      <td>94501.731343</td>\n",
       "      <td>89339.671642</td>\n",
       "      <td>37.540373</td>\n",
       "      <td>127.069191</td>\n",
       "      <td>0</td>\n",
       "    </tr>\n",
       "    <tr>\n",
       "      <th>3</th>\n",
       "      <td>교대</td>\n",
       "      <td>37022.164179</td>\n",
       "      <td>144218.925373</td>\n",
       "      <td>37.493961</td>\n",
       "      <td>127.014667</td>\n",
       "      <td>2</td>\n",
       "    </tr>\n",
       "    <tr>\n",
       "      <th>4</th>\n",
       "      <td>구로디지털단지</td>\n",
       "      <td>182999.328358</td>\n",
       "      <td>223309.611940</td>\n",
       "      <td>37.485266</td>\n",
       "      <td>126.901401</td>\n",
       "      <td>0</td>\n",
       "    </tr>\n",
       "  </tbody>\n",
       "</table>\n",
       "</div>"
      ],
      "text/plain": [
       "      지하철역            08시            18시         위도          경도 cluster\n",
       "0       강남   64827.731343  343752.835821  37.497990  127.027912       2\n",
       "1       강변  119168.985075   71631.000000  37.535095  127.094681       1\n",
       "2     건대입구   94501.731343   89339.671642  37.540373  127.069191       0\n",
       "3       교대   37022.164179  144218.925373  37.493961  127.014667       2\n",
       "4  구로디지털단지  182999.328358  223309.611940  37.485266  126.901401       0"
      ]
     },
     "execution_count": 95,
     "metadata": {},
     "output_type": "execute_result"
    }
   ],
   "source": [
    "hour_mean_coor['cluster'] = model.fit_predict(hour_mean_pct).astype(str)\n",
    "hour_mean_coor.head()"
   ]
  },
  {
   "cell_type": "code",
   "execution_count": null,
   "metadata": {},
   "outputs": [],
   "source": []
  },
  {
   "cell_type": "code",
   "execution_count": null,
   "metadata": {},
   "outputs": [],
   "source": [
    "# !pip install folium"
   ]
  },
  {
   "cell_type": "code",
   "execution_count": 98,
   "metadata": {},
   "outputs": [],
   "source": [
    "import folium\n",
    "from folium import plugins  # 히트맵 작성위해"
   ]
  },
  {
   "cell_type": "code",
   "execution_count": 109,
   "metadata": {},
   "outputs": [
    {
     "data": {
      "text/html": [
       "<div style=\"width:100%;\"><div style=\"position:relative;width:100%;height:0;padding-bottom:60%;\"><span style=\"color:#565656\">Make this Notebook Trusted to load map: File -> Trust Notebook</span><iframe srcdoc=\"&lt;!DOCTYPE html&gt;\n",
       "&lt;html&gt;\n",
       "&lt;head&gt;\n",
       "    \n",
       "    &lt;meta http-equiv=&quot;content-type&quot; content=&quot;text/html; charset=UTF-8&quot; /&gt;\n",
       "    \n",
       "        &lt;script&gt;\n",
       "            L_NO_TOUCH = false;\n",
       "            L_DISABLE_3D = false;\n",
       "        &lt;/script&gt;\n",
       "    \n",
       "    &lt;style&gt;html, body {width: 100%;height: 100%;margin: 0;padding: 0;}&lt;/style&gt;\n",
       "    &lt;style&gt;#map {position:absolute;top:0;bottom:0;right:0;left:0;}&lt;/style&gt;\n",
       "    &lt;script src=&quot;https://cdn.jsdelivr.net/npm/leaflet@1.9.3/dist/leaflet.js&quot;&gt;&lt;/script&gt;\n",
       "    &lt;script src=&quot;https://code.jquery.com/jquery-3.7.1.min.js&quot;&gt;&lt;/script&gt;\n",
       "    &lt;script src=&quot;https://cdn.jsdelivr.net/npm/bootstrap@5.2.2/dist/js/bootstrap.bundle.min.js&quot;&gt;&lt;/script&gt;\n",
       "    &lt;script src=&quot;https://cdnjs.cloudflare.com/ajax/libs/Leaflet.awesome-markers/2.0.2/leaflet.awesome-markers.js&quot;&gt;&lt;/script&gt;\n",
       "    &lt;link rel=&quot;stylesheet&quot; href=&quot;https://cdn.jsdelivr.net/npm/leaflet@1.9.3/dist/leaflet.css&quot;/&gt;\n",
       "    &lt;link rel=&quot;stylesheet&quot; href=&quot;https://cdn.jsdelivr.net/npm/bootstrap@5.2.2/dist/css/bootstrap.min.css&quot;/&gt;\n",
       "    &lt;link rel=&quot;stylesheet&quot; href=&quot;https://netdna.bootstrapcdn.com/bootstrap/3.0.0/css/bootstrap-glyphicons.css&quot;/&gt;\n",
       "    &lt;link rel=&quot;stylesheet&quot; href=&quot;https://cdn.jsdelivr.net/npm/@fortawesome/fontawesome-free@6.2.0/css/all.min.css&quot;/&gt;\n",
       "    &lt;link rel=&quot;stylesheet&quot; href=&quot;https://cdnjs.cloudflare.com/ajax/libs/Leaflet.awesome-markers/2.0.2/leaflet.awesome-markers.css&quot;/&gt;\n",
       "    &lt;link rel=&quot;stylesheet&quot; href=&quot;https://cdn.jsdelivr.net/gh/python-visualization/folium/folium/templates/leaflet.awesome.rotate.min.css&quot;/&gt;\n",
       "    \n",
       "            &lt;meta name=&quot;viewport&quot; content=&quot;width=device-width,\n",
       "                initial-scale=1.0, maximum-scale=1.0, user-scalable=no&quot; /&gt;\n",
       "            &lt;style&gt;\n",
       "                #map_d0684e81f5e8244b6b494bfec2f0f4ea {\n",
       "                    position: relative;\n",
       "                    width: 100.0%;\n",
       "                    height: 100.0%;\n",
       "                    left: 0.0%;\n",
       "                    top: 0.0%;\n",
       "                }\n",
       "                .leaflet-container { font-size: 1rem; }\n",
       "            &lt;/style&gt;\n",
       "        \n",
       "&lt;/head&gt;\n",
       "&lt;body&gt;\n",
       "    \n",
       "    \n",
       "            &lt;div class=&quot;folium-map&quot; id=&quot;map_d0684e81f5e8244b6b494bfec2f0f4ea&quot; &gt;&lt;/div&gt;\n",
       "        \n",
       "&lt;/body&gt;\n",
       "&lt;script&gt;\n",
       "    \n",
       "    \n",
       "            var map_d0684e81f5e8244b6b494bfec2f0f4ea = L.map(\n",
       "                &quot;map_d0684e81f5e8244b6b494bfec2f0f4ea&quot;,\n",
       "                {\n",
       "                    center: [37.541, 126.986],\n",
       "                    crs: L.CRS.EPSG3857,\n",
       "                    zoom: 12,\n",
       "                    zoomControl: true,\n",
       "                    preferCanvas: false,\n",
       "                }\n",
       "            );\n",
       "\n",
       "            \n",
       "\n",
       "        \n",
       "    \n",
       "            var tile_layer_d4bd913216a35ee361ec957144e53e63 = L.tileLayer(\n",
       "                &quot;https://tile.openstreetmap.org/{z}/{x}/{y}.png&quot;,\n",
       "                {&quot;attribution&quot;: &quot;\\u0026copy; \\u003ca href=\\&quot;https://www.openstreetmap.org/copyright\\&quot;\\u003eOpenStreetMap\\u003c/a\\u003e contributors&quot;, &quot;detectRetina&quot;: false, &quot;maxNativeZoom&quot;: 19, &quot;maxZoom&quot;: 19, &quot;minZoom&quot;: 0, &quot;noWrap&quot;: false, &quot;opacity&quot;: 1, &quot;subdomains&quot;: &quot;abc&quot;, &quot;tms&quot;: false}\n",
       "            );\n",
       "        \n",
       "    \n",
       "            tile_layer_d4bd913216a35ee361ec957144e53e63.addTo(map_d0684e81f5e8244b6b494bfec2f0f4ea);\n",
       "        \n",
       "&lt;/script&gt;\n",
       "&lt;/html&gt;\" style=\"position:absolute;width:100%;height:100%;left:0;top:0;border:none !important;\" allowfullscreen webkitallowfullscreen mozallowfullscreen></iframe></div></div>"
      ],
      "text/plain": [
       "<folium.folium.Map at 0x1b6c38ca920>"
      ]
     },
     "execution_count": 109,
     "metadata": {},
     "output_type": "execute_result"
    }
   ],
   "source": [
    "center = [37.541, 126.986]  # 서울 중간\n",
    "\n",
    "m = folium.Map(location=center, zoom_start=12)\n",
    "m"
   ]
  },
  {
   "cell_type": "code",
   "execution_count": 110,
   "metadata": {},
   "outputs": [
    {
     "data": {
      "text/html": [
       "<div style=\"width:100%;\"><div style=\"position:relative;width:100%;height:0;padding-bottom:60%;\"><span style=\"color:#565656\">Make this Notebook Trusted to load map: File -> Trust Notebook</span><iframe srcdoc=\"&lt;!DOCTYPE html&gt;\n",
       "&lt;html&gt;\n",
       "&lt;head&gt;\n",
       "    \n",
       "    &lt;meta http-equiv=&quot;content-type&quot; content=&quot;text/html; charset=UTF-8&quot; /&gt;\n",
       "    \n",
       "        &lt;script&gt;\n",
       "            L_NO_TOUCH = false;\n",
       "            L_DISABLE_3D = false;\n",
       "        &lt;/script&gt;\n",
       "    \n",
       "    &lt;style&gt;html, body {width: 100%;height: 100%;margin: 0;padding: 0;}&lt;/style&gt;\n",
       "    &lt;style&gt;#map {position:absolute;top:0;bottom:0;right:0;left:0;}&lt;/style&gt;\n",
       "    &lt;script src=&quot;https://cdn.jsdelivr.net/npm/leaflet@1.9.3/dist/leaflet.js&quot;&gt;&lt;/script&gt;\n",
       "    &lt;script src=&quot;https://code.jquery.com/jquery-3.7.1.min.js&quot;&gt;&lt;/script&gt;\n",
       "    &lt;script src=&quot;https://cdn.jsdelivr.net/npm/bootstrap@5.2.2/dist/js/bootstrap.bundle.min.js&quot;&gt;&lt;/script&gt;\n",
       "    &lt;script src=&quot;https://cdnjs.cloudflare.com/ajax/libs/Leaflet.awesome-markers/2.0.2/leaflet.awesome-markers.js&quot;&gt;&lt;/script&gt;\n",
       "    &lt;link rel=&quot;stylesheet&quot; href=&quot;https://cdn.jsdelivr.net/npm/leaflet@1.9.3/dist/leaflet.css&quot;/&gt;\n",
       "    &lt;link rel=&quot;stylesheet&quot; href=&quot;https://cdn.jsdelivr.net/npm/bootstrap@5.2.2/dist/css/bootstrap.min.css&quot;/&gt;\n",
       "    &lt;link rel=&quot;stylesheet&quot; href=&quot;https://netdna.bootstrapcdn.com/bootstrap/3.0.0/css/bootstrap-glyphicons.css&quot;/&gt;\n",
       "    &lt;link rel=&quot;stylesheet&quot; href=&quot;https://cdn.jsdelivr.net/npm/@fortawesome/fontawesome-free@6.2.0/css/all.min.css&quot;/&gt;\n",
       "    &lt;link rel=&quot;stylesheet&quot; href=&quot;https://cdnjs.cloudflare.com/ajax/libs/Leaflet.awesome-markers/2.0.2/leaflet.awesome-markers.css&quot;/&gt;\n",
       "    &lt;link rel=&quot;stylesheet&quot; href=&quot;https://cdn.jsdelivr.net/gh/python-visualization/folium/folium/templates/leaflet.awesome.rotate.min.css&quot;/&gt;\n",
       "    \n",
       "            &lt;meta name=&quot;viewport&quot; content=&quot;width=device-width,\n",
       "                initial-scale=1.0, maximum-scale=1.0, user-scalable=no&quot; /&gt;\n",
       "            &lt;style&gt;\n",
       "                #map_d0684e81f5e8244b6b494bfec2f0f4ea {\n",
       "                    position: relative;\n",
       "                    width: 100.0%;\n",
       "                    height: 100.0%;\n",
       "                    left: 0.0%;\n",
       "                    top: 0.0%;\n",
       "                }\n",
       "                .leaflet-container { font-size: 1rem; }\n",
       "            &lt;/style&gt;\n",
       "        \n",
       "    &lt;script src=&quot;https://cdn.jsdelivr.net/gh/python-visualization/folium@main/folium/templates/leaflet_heat.min.js&quot;&gt;&lt;/script&gt;\n",
       "&lt;/head&gt;\n",
       "&lt;body&gt;\n",
       "    \n",
       "    \n",
       "            &lt;div class=&quot;folium-map&quot; id=&quot;map_d0684e81f5e8244b6b494bfec2f0f4ea&quot; &gt;&lt;/div&gt;\n",
       "        \n",
       "&lt;/body&gt;\n",
       "&lt;script&gt;\n",
       "    \n",
       "    \n",
       "            var map_d0684e81f5e8244b6b494bfec2f0f4ea = L.map(\n",
       "                &quot;map_d0684e81f5e8244b6b494bfec2f0f4ea&quot;,\n",
       "                {\n",
       "                    center: [37.541, 126.986],\n",
       "                    crs: L.CRS.EPSG3857,\n",
       "                    zoom: 12,\n",
       "                    zoomControl: true,\n",
       "                    preferCanvas: false,\n",
       "                }\n",
       "            );\n",
       "\n",
       "            \n",
       "\n",
       "        \n",
       "    \n",
       "            var tile_layer_d4bd913216a35ee361ec957144e53e63 = L.tileLayer(\n",
       "                &quot;https://tile.openstreetmap.org/{z}/{x}/{y}.png&quot;,\n",
       "                {&quot;attribution&quot;: &quot;\\u0026copy; \\u003ca href=\\&quot;https://www.openstreetmap.org/copyright\\&quot;\\u003eOpenStreetMap\\u003c/a\\u003e contributors&quot;, &quot;detectRetina&quot;: false, &quot;maxNativeZoom&quot;: 19, &quot;maxZoom&quot;: 19, &quot;minZoom&quot;: 0, &quot;noWrap&quot;: false, &quot;opacity&quot;: 1, &quot;subdomains&quot;: &quot;abc&quot;, &quot;tms&quot;: false}\n",
       "            );\n",
       "        \n",
       "    \n",
       "            tile_layer_d4bd913216a35ee361ec957144e53e63.addTo(map_d0684e81f5e8244b6b494bfec2f0f4ea);\n",
       "        \n",
       "    \n",
       "            tile_layer_d4bd913216a35ee361ec957144e53e63.addTo(map_d0684e81f5e8244b6b494bfec2f0f4ea);\n",
       "        \n",
       "    \n",
       "            var heat_map_a08c2e93ca3860d6ee3050d6d1b8a6ce = L.heatLayer(\n",
       "                [[37.49799, 127.027912, 64827.73134328358], [37.535095, 127.094681, 119168.98507462686], [37.540373, 127.069191, 94501.73134328358], [37.493961, 127.014667, 37022.164179104475], [37.485266, 126.901401, 182999.32835820896], [37.537077, 127.085916, 112258.82089552238], [37.47693, 126.963693, 125625.07462686567], [37.534946, 126.902767, 58876.07462686567], [37.493243, 126.894932, 95339.77611940299], [37.514287, 126.882768, 3241.2985074626868], [37.565613, 127.009054, 11720.059701492537], [37.547184, 127.047367, 28300.492537313432], [37.517933, 126.89476, 45868.253731343284], [37.481426, 126.997596, 33725.850746268654], [37.482362, 126.941892, 116951.28358208956], [37.476538, 126.981544, 98665.67164179105], [37.508844, 127.06316, 21927.223880597016], [37.564354, 127.029354, 60709.07462686567], [37.481247, 126.952739, 180685.80597014926], [37.491897, 127.007917, 24362.402985074626], [37.504286, 127.048203, 32790.985074626864], [37.544581, 127.055961, 31636.910447761195], [37.563588, 126.975411, 7772.268656716418], [37.57004, 127.046481, 9927.208955223881], [37.56564, 127.019614, 43319.164179104475], [37.487462, 126.913149, 129882.80597014926], [37.508961, 126.891084, 140965.08955223882], [37.484201, 126.929715, 305087.70149253734], [37.574747, 127.024932, 6333.059701492537], [37.520074, 126.852912, 41825.59701492537], [37.555131, 126.936926, 51014.40298507463], [37.557345, 126.956141, 36793.17910447761], [37.512398, 126.865819, 29011.97014925373], [37.500622, 127.036456, 25531.537313432837], [37.525706, 126.89661, 46565.41791044776], [37.561238, 127.036954, 46934.388059701494], [37.561904, 127.050899, 12721.910447761195], [37.574028, 127.038091, 8007.223880597015], [37.566306, 126.991696, 10073.119402985074], [37.566595, 126.997817, 6652.104477611941], [37.566014, 126.982618, 14691.388059701492], [37.556733, 126.946013, 28275.432835820895], [37.513262, 127.100159, 166209.07462686568], [37.520733, 127.10379, 48892.65671641791], [37.511687, 127.086162, 76721.44776119402], [37.511022, 127.073704, 24669.83582089552], [37.559704, 126.964378, 22509.5223880597], [37.555273, 127.043655, 8587.179104477613], [37.549457, 126.913808, 55157.477611940296], [37.55679, 126.923708, 80009.19402985074]],\n",
       "                {&quot;blur&quot;: 15, &quot;maxZoom&quot;: 18, &quot;minOpacity&quot;: 0.5, &quot;radius&quot;: 25}\n",
       "            );\n",
       "        \n",
       "    \n",
       "            heat_map_a08c2e93ca3860d6ee3050d6d1b8a6ce.addTo(map_d0684e81f5e8244b6b494bfec2f0f4ea);\n",
       "        \n",
       "&lt;/script&gt;\n",
       "&lt;/html&gt;\" style=\"position:absolute;width:100%;height:100%;left:0;top:0;border:none !important;\" allowfullscreen webkitallowfullscreen mozallowfullscreen></iframe></div></div>"
      ],
      "text/plain": [
       "<folium.folium.Map at 0x1b6c38ca920>"
      ]
     },
     "execution_count": 110,
     "metadata": {},
     "output_type": "execute_result"
    }
   ],
   "source": [
    "m.add_child(plugins.HeatMap(zip(hour_mean_coor['위도'], hour_mean_coor['경도'], hour_mean_coor['08시'])))"
   ]
  },
  {
   "cell_type": "code",
   "execution_count": 111,
   "metadata": {},
   "outputs": [
    {
     "data": {
      "text/html": [
       "<div style=\"width:100%;\"><div style=\"position:relative;width:100%;height:0;padding-bottom:60%;\"><span style=\"color:#565656\">Make this Notebook Trusted to load map: File -> Trust Notebook</span><iframe srcdoc=\"&lt;!DOCTYPE html&gt;\n",
       "&lt;html&gt;\n",
       "&lt;head&gt;\n",
       "    \n",
       "    &lt;meta http-equiv=&quot;content-type&quot; content=&quot;text/html; charset=UTF-8&quot; /&gt;\n",
       "    \n",
       "        &lt;script&gt;\n",
       "            L_NO_TOUCH = false;\n",
       "            L_DISABLE_3D = false;\n",
       "        &lt;/script&gt;\n",
       "    \n",
       "    &lt;style&gt;html, body {width: 100%;height: 100%;margin: 0;padding: 0;}&lt;/style&gt;\n",
       "    &lt;style&gt;#map {position:absolute;top:0;bottom:0;right:0;left:0;}&lt;/style&gt;\n",
       "    &lt;script src=&quot;https://cdn.jsdelivr.net/npm/leaflet@1.9.3/dist/leaflet.js&quot;&gt;&lt;/script&gt;\n",
       "    &lt;script src=&quot;https://code.jquery.com/jquery-3.7.1.min.js&quot;&gt;&lt;/script&gt;\n",
       "    &lt;script src=&quot;https://cdn.jsdelivr.net/npm/bootstrap@5.2.2/dist/js/bootstrap.bundle.min.js&quot;&gt;&lt;/script&gt;\n",
       "    &lt;script src=&quot;https://cdnjs.cloudflare.com/ajax/libs/Leaflet.awesome-markers/2.0.2/leaflet.awesome-markers.js&quot;&gt;&lt;/script&gt;\n",
       "    &lt;link rel=&quot;stylesheet&quot; href=&quot;https://cdn.jsdelivr.net/npm/leaflet@1.9.3/dist/leaflet.css&quot;/&gt;\n",
       "    &lt;link rel=&quot;stylesheet&quot; href=&quot;https://cdn.jsdelivr.net/npm/bootstrap@5.2.2/dist/css/bootstrap.min.css&quot;/&gt;\n",
       "    &lt;link rel=&quot;stylesheet&quot; href=&quot;https://netdna.bootstrapcdn.com/bootstrap/3.0.0/css/bootstrap-glyphicons.css&quot;/&gt;\n",
       "    &lt;link rel=&quot;stylesheet&quot; href=&quot;https://cdn.jsdelivr.net/npm/@fortawesome/fontawesome-free@6.2.0/css/all.min.css&quot;/&gt;\n",
       "    &lt;link rel=&quot;stylesheet&quot; href=&quot;https://cdnjs.cloudflare.com/ajax/libs/Leaflet.awesome-markers/2.0.2/leaflet.awesome-markers.css&quot;/&gt;\n",
       "    &lt;link rel=&quot;stylesheet&quot; href=&quot;https://cdn.jsdelivr.net/gh/python-visualization/folium/folium/templates/leaflet.awesome.rotate.min.css&quot;/&gt;\n",
       "    \n",
       "            &lt;meta name=&quot;viewport&quot; content=&quot;width=device-width,\n",
       "                initial-scale=1.0, maximum-scale=1.0, user-scalable=no&quot; /&gt;\n",
       "            &lt;style&gt;\n",
       "                #map_d0684e81f5e8244b6b494bfec2f0f4ea {\n",
       "                    position: relative;\n",
       "                    width: 100.0%;\n",
       "                    height: 100.0%;\n",
       "                    left: 0.0%;\n",
       "                    top: 0.0%;\n",
       "                }\n",
       "                .leaflet-container { font-size: 1rem; }\n",
       "            &lt;/style&gt;\n",
       "        \n",
       "    &lt;script src=&quot;https://cdn.jsdelivr.net/gh/python-visualization/folium@main/folium/templates/leaflet_heat.min.js&quot;&gt;&lt;/script&gt;\n",
       "&lt;/head&gt;\n",
       "&lt;body&gt;\n",
       "    \n",
       "    \n",
       "            &lt;div class=&quot;folium-map&quot; id=&quot;map_d0684e81f5e8244b6b494bfec2f0f4ea&quot; &gt;&lt;/div&gt;\n",
       "        \n",
       "&lt;/body&gt;\n",
       "&lt;script&gt;\n",
       "    \n",
       "    \n",
       "            var map_d0684e81f5e8244b6b494bfec2f0f4ea = L.map(\n",
       "                &quot;map_d0684e81f5e8244b6b494bfec2f0f4ea&quot;,\n",
       "                {\n",
       "                    center: [37.541, 126.986],\n",
       "                    crs: L.CRS.EPSG3857,\n",
       "                    zoom: 12,\n",
       "                    zoomControl: true,\n",
       "                    preferCanvas: false,\n",
       "                }\n",
       "            );\n",
       "\n",
       "            \n",
       "\n",
       "        \n",
       "    \n",
       "            var tile_layer_d4bd913216a35ee361ec957144e53e63 = L.tileLayer(\n",
       "                &quot;https://tile.openstreetmap.org/{z}/{x}/{y}.png&quot;,\n",
       "                {&quot;attribution&quot;: &quot;\\u0026copy; \\u003ca href=\\&quot;https://www.openstreetmap.org/copyright\\&quot;\\u003eOpenStreetMap\\u003c/a\\u003e contributors&quot;, &quot;detectRetina&quot;: false, &quot;maxNativeZoom&quot;: 19, &quot;maxZoom&quot;: 19, &quot;minZoom&quot;: 0, &quot;noWrap&quot;: false, &quot;opacity&quot;: 1, &quot;subdomains&quot;: &quot;abc&quot;, &quot;tms&quot;: false}\n",
       "            );\n",
       "        \n",
       "    \n",
       "            tile_layer_d4bd913216a35ee361ec957144e53e63.addTo(map_d0684e81f5e8244b6b494bfec2f0f4ea);\n",
       "        \n",
       "    \n",
       "            tile_layer_d4bd913216a35ee361ec957144e53e63.addTo(map_d0684e81f5e8244b6b494bfec2f0f4ea);\n",
       "        \n",
       "    \n",
       "            var heat_map_a08c2e93ca3860d6ee3050d6d1b8a6ce = L.heatLayer(\n",
       "                [[37.49799, 127.027912, 64827.73134328358], [37.535095, 127.094681, 119168.98507462686], [37.540373, 127.069191, 94501.73134328358], [37.493961, 127.014667, 37022.164179104475], [37.485266, 126.901401, 182999.32835820896], [37.537077, 127.085916, 112258.82089552238], [37.47693, 126.963693, 125625.07462686567], [37.534946, 126.902767, 58876.07462686567], [37.493243, 126.894932, 95339.77611940299], [37.514287, 126.882768, 3241.2985074626868], [37.565613, 127.009054, 11720.059701492537], [37.547184, 127.047367, 28300.492537313432], [37.517933, 126.89476, 45868.253731343284], [37.481426, 126.997596, 33725.850746268654], [37.482362, 126.941892, 116951.28358208956], [37.476538, 126.981544, 98665.67164179105], [37.508844, 127.06316, 21927.223880597016], [37.564354, 127.029354, 60709.07462686567], [37.481247, 126.952739, 180685.80597014926], [37.491897, 127.007917, 24362.402985074626], [37.504286, 127.048203, 32790.985074626864], [37.544581, 127.055961, 31636.910447761195], [37.563588, 126.975411, 7772.268656716418], [37.57004, 127.046481, 9927.208955223881], [37.56564, 127.019614, 43319.164179104475], [37.487462, 126.913149, 129882.80597014926], [37.508961, 126.891084, 140965.08955223882], [37.484201, 126.929715, 305087.70149253734], [37.574747, 127.024932, 6333.059701492537], [37.520074, 126.852912, 41825.59701492537], [37.555131, 126.936926, 51014.40298507463], [37.557345, 126.956141, 36793.17910447761], [37.512398, 126.865819, 29011.97014925373], [37.500622, 127.036456, 25531.537313432837], [37.525706, 126.89661, 46565.41791044776], [37.561238, 127.036954, 46934.388059701494], [37.561904, 127.050899, 12721.910447761195], [37.574028, 127.038091, 8007.223880597015], [37.566306, 126.991696, 10073.119402985074], [37.566595, 126.997817, 6652.104477611941], [37.566014, 126.982618, 14691.388059701492], [37.556733, 126.946013, 28275.432835820895], [37.513262, 127.100159, 166209.07462686568], [37.520733, 127.10379, 48892.65671641791], [37.511687, 127.086162, 76721.44776119402], [37.511022, 127.073704, 24669.83582089552], [37.559704, 126.964378, 22509.5223880597], [37.555273, 127.043655, 8587.179104477613], [37.549457, 126.913808, 55157.477611940296], [37.55679, 126.923708, 80009.19402985074]],\n",
       "                {&quot;blur&quot;: 15, &quot;maxZoom&quot;: 18, &quot;minOpacity&quot;: 0.5, &quot;radius&quot;: 25}\n",
       "            );\n",
       "        \n",
       "    \n",
       "            heat_map_a08c2e93ca3860d6ee3050d6d1b8a6ce.addTo(map_d0684e81f5e8244b6b494bfec2f0f4ea);\n",
       "        \n",
       "    \n",
       "            tile_layer_d4bd913216a35ee361ec957144e53e63.addTo(map_d0684e81f5e8244b6b494bfec2f0f4ea);\n",
       "        \n",
       "    \n",
       "            heat_map_a08c2e93ca3860d6ee3050d6d1b8a6ce.addTo(map_d0684e81f5e8244b6b494bfec2f0f4ea);\n",
       "        \n",
       "    \n",
       "            var heat_map_4ecfb31e089a03e3ee4f9e0487691314 = L.heatLayer(\n",
       "                [[37.49799, 127.027912, 343752.8358208955], [37.535095, 127.094681, 71631.0], [37.540373, 127.069191, 89339.67164179105], [37.493961, 127.014667, 144218.92537313432], [37.485266, 126.901401, 223309.61194029852], [37.537077, 127.085916, 43149.91044776119], [37.47693, 126.963693, 52412.388059701494], [37.534946, 126.902767, 62581.80597014925], [37.493243, 126.894932, 57793.55223880597], [37.514287, 126.882768, 3535.955223880597], [37.565613, 127.009054, 49874.522388059704], [37.547184, 127.047367, 110982.68656716419], [37.517933, 126.89476, 97522.05970149254], [37.481426, 126.997596, 69528.32835820895], [37.482362, 126.941892, 34279.94029850746], [37.476538, 126.981544, 93211.4776119403], [37.508844, 127.06316, 294941.1194029851], [37.564354, 127.029354, 28682.13432835821], [37.481247, 126.952739, 95358.58208955223], [37.491897, 127.007917, 102142.37313432836], [37.504286, 127.048203, 283547.05970149254], [37.544581, 127.055961, 204126.55223880598], [37.563588, 126.975411, 166153.25373134328], [37.57004, 127.046481, 2161.179104477612], [37.56564, 127.019614, 34864.92537313433], [37.487462, 126.913149, 41553.58208955224], [37.508961, 126.891084, 134345.71641791044], [37.484201, 126.929715, 93013.23880597015], [37.574747, 127.024932, 14115.223880597016], [37.520074, 126.852912, 12273.029850746268], [37.555131, 126.936926, 101968.26865671642], [37.557345, 126.956141, 20149.597014925374], [37.512398, 126.865819, 9142.44776119403], [37.500622, 127.036456, 274455.74626865675], [37.525706, 126.89661, 100806.20895522388], [37.561238, 127.036954, 40442.80597014925], [37.561904, 127.050899, 3907.805970149254], [37.574028, 127.038091, 5842.7164179104475], [37.566306, 126.991696, 128891.14925373135], [37.566595, 126.997817, 66152.01492537314], [37.566014, 126.982618, 261096.83582089553], [37.556733, 126.946013, 42152.388059701494], [37.513262, 127.100159, 231972.44776119402], [37.520733, 127.10379, 31999.611940298506], [37.511687, 127.086162, 42942.119402985074], [37.511022, 127.073704, 22144.16417910448], [37.559704, 126.964378, 49897.86567164179], [37.555273, 127.043655, 32705.149253731342], [37.549457, 126.913808, 110607.85074626865], [37.55679, 126.923708, 183824.5223880597]],\n",
       "                {&quot;blur&quot;: 15, &quot;maxZoom&quot;: 18, &quot;minOpacity&quot;: 0.5, &quot;radius&quot;: 25}\n",
       "            );\n",
       "        \n",
       "    \n",
       "            heat_map_4ecfb31e089a03e3ee4f9e0487691314.addTo(map_d0684e81f5e8244b6b494bfec2f0f4ea);\n",
       "        \n",
       "&lt;/script&gt;\n",
       "&lt;/html&gt;\" style=\"position:absolute;width:100%;height:100%;left:0;top:0;border:none !important;\" allowfullscreen webkitallowfullscreen mozallowfullscreen></iframe></div></div>"
      ],
      "text/plain": [
       "<folium.folium.Map at 0x1b6c38ca920>"
      ]
     },
     "execution_count": 111,
     "metadata": {},
     "output_type": "execute_result"
    }
   ],
   "source": [
    "m.add_child(plugins.HeatMap(zip(hour_mean_coor['위도'], hour_mean_coor['경도'], hour_mean_coor['18시'])))"
   ]
  },
  {
   "cell_type": "code",
   "execution_count": null,
   "metadata": {},
   "outputs": [],
   "source": []
  },
  {
   "cell_type": "markdown",
   "metadata": {},
   "source": [
    "승차 인원 유형을 지도에 시각화"
   ]
  },
  {
   "cell_type": "code",
   "execution_count": 114,
   "metadata": {},
   "outputs": [
    {
     "data": {
      "text/html": [
       "<div style=\"width:100%;\"><div style=\"position:relative;width:100%;height:0;padding-bottom:60%;\"><span style=\"color:#565656\">Make this Notebook Trusted to load map: File -> Trust Notebook</span><iframe srcdoc=\"&lt;!DOCTYPE html&gt;\n",
       "&lt;html&gt;\n",
       "&lt;head&gt;\n",
       "    \n",
       "    &lt;meta http-equiv=&quot;content-type&quot; content=&quot;text/html; charset=UTF-8&quot; /&gt;\n",
       "    \n",
       "        &lt;script&gt;\n",
       "            L_NO_TOUCH = false;\n",
       "            L_DISABLE_3D = false;\n",
       "        &lt;/script&gt;\n",
       "    \n",
       "    &lt;style&gt;html, body {width: 100%;height: 100%;margin: 0;padding: 0;}&lt;/style&gt;\n",
       "    &lt;style&gt;#map {position:absolute;top:0;bottom:0;right:0;left:0;}&lt;/style&gt;\n",
       "    &lt;script src=&quot;https://cdn.jsdelivr.net/npm/leaflet@1.9.3/dist/leaflet.js&quot;&gt;&lt;/script&gt;\n",
       "    &lt;script src=&quot;https://code.jquery.com/jquery-3.7.1.min.js&quot;&gt;&lt;/script&gt;\n",
       "    &lt;script src=&quot;https://cdn.jsdelivr.net/npm/bootstrap@5.2.2/dist/js/bootstrap.bundle.min.js&quot;&gt;&lt;/script&gt;\n",
       "    &lt;script src=&quot;https://cdnjs.cloudflare.com/ajax/libs/Leaflet.awesome-markers/2.0.2/leaflet.awesome-markers.js&quot;&gt;&lt;/script&gt;\n",
       "    &lt;link rel=&quot;stylesheet&quot; href=&quot;https://cdn.jsdelivr.net/npm/leaflet@1.9.3/dist/leaflet.css&quot;/&gt;\n",
       "    &lt;link rel=&quot;stylesheet&quot; href=&quot;https://cdn.jsdelivr.net/npm/bootstrap@5.2.2/dist/css/bootstrap.min.css&quot;/&gt;\n",
       "    &lt;link rel=&quot;stylesheet&quot; href=&quot;https://netdna.bootstrapcdn.com/bootstrap/3.0.0/css/bootstrap-glyphicons.css&quot;/&gt;\n",
       "    &lt;link rel=&quot;stylesheet&quot; href=&quot;https://cdn.jsdelivr.net/npm/@fortawesome/fontawesome-free@6.2.0/css/all.min.css&quot;/&gt;\n",
       "    &lt;link rel=&quot;stylesheet&quot; href=&quot;https://cdnjs.cloudflare.com/ajax/libs/Leaflet.awesome-markers/2.0.2/leaflet.awesome-markers.css&quot;/&gt;\n",
       "    &lt;link rel=&quot;stylesheet&quot; href=&quot;https://cdn.jsdelivr.net/gh/python-visualization/folium/folium/templates/leaflet.awesome.rotate.min.css&quot;/&gt;\n",
       "    \n",
       "            &lt;meta name=&quot;viewport&quot; content=&quot;width=device-width,\n",
       "                initial-scale=1.0, maximum-scale=1.0, user-scalable=no&quot; /&gt;\n",
       "            &lt;style&gt;\n",
       "                #map_d0684e81f5e8244b6b494bfec2f0f4ea {\n",
       "                    position: relative;\n",
       "                    width: 100.0%;\n",
       "                    height: 100.0%;\n",
       "                    left: 0.0%;\n",
       "                    top: 0.0%;\n",
       "                }\n",
       "                .leaflet-container { font-size: 1rem; }\n",
       "            &lt;/style&gt;\n",
       "        \n",
       "    &lt;script src=&quot;https://cdn.jsdelivr.net/gh/python-visualization/folium@main/folium/templates/leaflet_heat.min.js&quot;&gt;&lt;/script&gt;\n",
       "&lt;/head&gt;\n",
       "&lt;body&gt;\n",
       "    \n",
       "    \n",
       "            &lt;div class=&quot;folium-map&quot; id=&quot;map_d0684e81f5e8244b6b494bfec2f0f4ea&quot; &gt;&lt;/div&gt;\n",
       "        \n",
       "&lt;/body&gt;\n",
       "&lt;script&gt;\n",
       "    \n",
       "    \n",
       "            var map_d0684e81f5e8244b6b494bfec2f0f4ea = L.map(\n",
       "                &quot;map_d0684e81f5e8244b6b494bfec2f0f4ea&quot;,\n",
       "                {\n",
       "                    center: [37.541, 126.986],\n",
       "                    crs: L.CRS.EPSG3857,\n",
       "                    zoom: 12,\n",
       "                    zoomControl: true,\n",
       "                    preferCanvas: false,\n",
       "                }\n",
       "            );\n",
       "\n",
       "            \n",
       "\n",
       "        \n",
       "    \n",
       "            var tile_layer_d4bd913216a35ee361ec957144e53e63 = L.tileLayer(\n",
       "                &quot;https://tile.openstreetmap.org/{z}/{x}/{y}.png&quot;,\n",
       "                {&quot;attribution&quot;: &quot;\\u0026copy; \\u003ca href=\\&quot;https://www.openstreetmap.org/copyright\\&quot;\\u003eOpenStreetMap\\u003c/a\\u003e contributors&quot;, &quot;detectRetina&quot;: false, &quot;maxNativeZoom&quot;: 19, &quot;maxZoom&quot;: 19, &quot;minZoom&quot;: 0, &quot;noWrap&quot;: false, &quot;opacity&quot;: 1, &quot;subdomains&quot;: &quot;abc&quot;, &quot;tms&quot;: false}\n",
       "            );\n",
       "        \n",
       "    \n",
       "            tile_layer_d4bd913216a35ee361ec957144e53e63.addTo(map_d0684e81f5e8244b6b494bfec2f0f4ea);\n",
       "        \n",
       "    \n",
       "            tile_layer_d4bd913216a35ee361ec957144e53e63.addTo(map_d0684e81f5e8244b6b494bfec2f0f4ea);\n",
       "        \n",
       "    \n",
       "            var heat_map_a08c2e93ca3860d6ee3050d6d1b8a6ce = L.heatLayer(\n",
       "                [[37.49799, 127.027912, 64827.73134328358], [37.535095, 127.094681, 119168.98507462686], [37.540373, 127.069191, 94501.73134328358], [37.493961, 127.014667, 37022.164179104475], [37.485266, 126.901401, 182999.32835820896], [37.537077, 127.085916, 112258.82089552238], [37.47693, 126.963693, 125625.07462686567], [37.534946, 126.902767, 58876.07462686567], [37.493243, 126.894932, 95339.77611940299], [37.514287, 126.882768, 3241.2985074626868], [37.565613, 127.009054, 11720.059701492537], [37.547184, 127.047367, 28300.492537313432], [37.517933, 126.89476, 45868.253731343284], [37.481426, 126.997596, 33725.850746268654], [37.482362, 126.941892, 116951.28358208956], [37.476538, 126.981544, 98665.67164179105], [37.508844, 127.06316, 21927.223880597016], [37.564354, 127.029354, 60709.07462686567], [37.481247, 126.952739, 180685.80597014926], [37.491897, 127.007917, 24362.402985074626], [37.504286, 127.048203, 32790.985074626864], [37.544581, 127.055961, 31636.910447761195], [37.563588, 126.975411, 7772.268656716418], [37.57004, 127.046481, 9927.208955223881], [37.56564, 127.019614, 43319.164179104475], [37.487462, 126.913149, 129882.80597014926], [37.508961, 126.891084, 140965.08955223882], [37.484201, 126.929715, 305087.70149253734], [37.574747, 127.024932, 6333.059701492537], [37.520074, 126.852912, 41825.59701492537], [37.555131, 126.936926, 51014.40298507463], [37.557345, 126.956141, 36793.17910447761], [37.512398, 126.865819, 29011.97014925373], [37.500622, 127.036456, 25531.537313432837], [37.525706, 126.89661, 46565.41791044776], [37.561238, 127.036954, 46934.388059701494], [37.561904, 127.050899, 12721.910447761195], [37.574028, 127.038091, 8007.223880597015], [37.566306, 126.991696, 10073.119402985074], [37.566595, 126.997817, 6652.104477611941], [37.566014, 126.982618, 14691.388059701492], [37.556733, 126.946013, 28275.432835820895], [37.513262, 127.100159, 166209.07462686568], [37.520733, 127.10379, 48892.65671641791], [37.511687, 127.086162, 76721.44776119402], [37.511022, 127.073704, 24669.83582089552], [37.559704, 126.964378, 22509.5223880597], [37.555273, 127.043655, 8587.179104477613], [37.549457, 126.913808, 55157.477611940296], [37.55679, 126.923708, 80009.19402985074]],\n",
       "                {&quot;blur&quot;: 15, &quot;maxZoom&quot;: 18, &quot;minOpacity&quot;: 0.5, &quot;radius&quot;: 25}\n",
       "            );\n",
       "        \n",
       "    \n",
       "            heat_map_a08c2e93ca3860d6ee3050d6d1b8a6ce.addTo(map_d0684e81f5e8244b6b494bfec2f0f4ea);\n",
       "        \n",
       "    \n",
       "            tile_layer_d4bd913216a35ee361ec957144e53e63.addTo(map_d0684e81f5e8244b6b494bfec2f0f4ea);\n",
       "        \n",
       "    \n",
       "            heat_map_a08c2e93ca3860d6ee3050d6d1b8a6ce.addTo(map_d0684e81f5e8244b6b494bfec2f0f4ea);\n",
       "        \n",
       "    \n",
       "            var heat_map_4ecfb31e089a03e3ee4f9e0487691314 = L.heatLayer(\n",
       "                [[37.49799, 127.027912, 343752.8358208955], [37.535095, 127.094681, 71631.0], [37.540373, 127.069191, 89339.67164179105], [37.493961, 127.014667, 144218.92537313432], [37.485266, 126.901401, 223309.61194029852], [37.537077, 127.085916, 43149.91044776119], [37.47693, 126.963693, 52412.388059701494], [37.534946, 126.902767, 62581.80597014925], [37.493243, 126.894932, 57793.55223880597], [37.514287, 126.882768, 3535.955223880597], [37.565613, 127.009054, 49874.522388059704], [37.547184, 127.047367, 110982.68656716419], [37.517933, 126.89476, 97522.05970149254], [37.481426, 126.997596, 69528.32835820895], [37.482362, 126.941892, 34279.94029850746], [37.476538, 126.981544, 93211.4776119403], [37.508844, 127.06316, 294941.1194029851], [37.564354, 127.029354, 28682.13432835821], [37.481247, 126.952739, 95358.58208955223], [37.491897, 127.007917, 102142.37313432836], [37.504286, 127.048203, 283547.05970149254], [37.544581, 127.055961, 204126.55223880598], [37.563588, 126.975411, 166153.25373134328], [37.57004, 127.046481, 2161.179104477612], [37.56564, 127.019614, 34864.92537313433], [37.487462, 126.913149, 41553.58208955224], [37.508961, 126.891084, 134345.71641791044], [37.484201, 126.929715, 93013.23880597015], [37.574747, 127.024932, 14115.223880597016], [37.520074, 126.852912, 12273.029850746268], [37.555131, 126.936926, 101968.26865671642], [37.557345, 126.956141, 20149.597014925374], [37.512398, 126.865819, 9142.44776119403], [37.500622, 127.036456, 274455.74626865675], [37.525706, 126.89661, 100806.20895522388], [37.561238, 127.036954, 40442.80597014925], [37.561904, 127.050899, 3907.805970149254], [37.574028, 127.038091, 5842.7164179104475], [37.566306, 126.991696, 128891.14925373135], [37.566595, 126.997817, 66152.01492537314], [37.566014, 126.982618, 261096.83582089553], [37.556733, 126.946013, 42152.388059701494], [37.513262, 127.100159, 231972.44776119402], [37.520733, 127.10379, 31999.611940298506], [37.511687, 127.086162, 42942.119402985074], [37.511022, 127.073704, 22144.16417910448], [37.559704, 126.964378, 49897.86567164179], [37.555273, 127.043655, 32705.149253731342], [37.549457, 126.913808, 110607.85074626865], [37.55679, 126.923708, 183824.5223880597]],\n",
       "                {&quot;blur&quot;: 15, &quot;maxZoom&quot;: 18, &quot;minOpacity&quot;: 0.5, &quot;radius&quot;: 25}\n",
       "            );\n",
       "        \n",
       "    \n",
       "            heat_map_4ecfb31e089a03e3ee4f9e0487691314.addTo(map_d0684e81f5e8244b6b494bfec2f0f4ea);\n",
       "        \n",
       "    \n",
       "            tile_layer_d4bd913216a35ee361ec957144e53e63.addTo(map_d0684e81f5e8244b6b494bfec2f0f4ea);\n",
       "        \n",
       "    \n",
       "            heat_map_a08c2e93ca3860d6ee3050d6d1b8a6ce.addTo(map_d0684e81f5e8244b6b494bfec2f0f4ea);\n",
       "        \n",
       "    \n",
       "            heat_map_4ecfb31e089a03e3ee4f9e0487691314.addTo(map_d0684e81f5e8244b6b494bfec2f0f4ea);\n",
       "        \n",
       "    \n",
       "            var circle_marker_8048eb3f6d04e9f9402c8bb198dd5a46 = L.circleMarker(\n",
       "                [37.49799, 127.027912],\n",
       "                {&quot;bubblingMouseEvents&quot;: true, &quot;color&quot;: &quot;#DF0101&quot;, &quot;dashArray&quot;: null, &quot;dashOffset&quot;: null, &quot;fill&quot;: &quot;#DF0101&quot;, &quot;fillColor&quot;: &quot;#DF0101&quot;, &quot;fillOpacity&quot;: 0.2, &quot;fillRule&quot;: &quot;evenodd&quot;, &quot;lineCap&quot;: &quot;round&quot;, &quot;lineJoin&quot;: &quot;round&quot;, &quot;opacity&quot;: 1.0, &quot;radius&quot;: 18, &quot;stroke&quot;: true, &quot;weight&quot;: 3}\n",
       "            ).addTo(map_d0684e81f5e8244b6b494bfec2f0f4ea);\n",
       "        \n",
       "    \n",
       "            circle_marker_8048eb3f6d04e9f9402c8bb198dd5a46.bindTooltip(\n",
       "                `&lt;div&gt;\n",
       "                     강남\n",
       "                 &lt;/div&gt;`,\n",
       "                {&quot;sticky&quot;: true}\n",
       "            );\n",
       "        \n",
       "    \n",
       "            var circle_marker_436b5fca5055e8a3f2665e7cbb8f704e = L.circleMarker(\n",
       "                [37.535095, 127.094681],\n",
       "                {&quot;bubblingMouseEvents&quot;: true, &quot;color&quot;: &quot;#3A01DF&quot;, &quot;dashArray&quot;: null, &quot;dashOffset&quot;: null, &quot;fill&quot;: &quot;#3A01DF&quot;, &quot;fillColor&quot;: &quot;#3A01DF&quot;, &quot;fillOpacity&quot;: 0.2, &quot;fillRule&quot;: &quot;evenodd&quot;, &quot;lineCap&quot;: &quot;round&quot;, &quot;lineJoin&quot;: &quot;round&quot;, &quot;opacity&quot;: 1.0, &quot;radius&quot;: 18, &quot;stroke&quot;: true, &quot;weight&quot;: 3}\n",
       "            ).addTo(map_d0684e81f5e8244b6b494bfec2f0f4ea);\n",
       "        \n",
       "    \n",
       "            circle_marker_436b5fca5055e8a3f2665e7cbb8f704e.bindTooltip(\n",
       "                `&lt;div&gt;\n",
       "                     강변\n",
       "                 &lt;/div&gt;`,\n",
       "                {&quot;sticky&quot;: true}\n",
       "            );\n",
       "        \n",
       "    \n",
       "            var circle_marker_81aa350ff7364dcd18997fe61194f347 = L.circleMarker(\n",
       "                [37.540373, 127.069191],\n",
       "                {&quot;bubblingMouseEvents&quot;: true, &quot;color&quot;: &quot;#000000&quot;, &quot;dashArray&quot;: null, &quot;dashOffset&quot;: null, &quot;fill&quot;: &quot;#000000&quot;, &quot;fillColor&quot;: &quot;#000000&quot;, &quot;fillOpacity&quot;: 0.2, &quot;fillRule&quot;: &quot;evenodd&quot;, &quot;lineCap&quot;: &quot;round&quot;, &quot;lineJoin&quot;: &quot;round&quot;, &quot;opacity&quot;: 1.0, &quot;radius&quot;: 18, &quot;stroke&quot;: true, &quot;weight&quot;: 3}\n",
       "            ).addTo(map_d0684e81f5e8244b6b494bfec2f0f4ea);\n",
       "        \n",
       "    \n",
       "            circle_marker_81aa350ff7364dcd18997fe61194f347.bindTooltip(\n",
       "                `&lt;div&gt;\n",
       "                     건대입구\n",
       "                 &lt;/div&gt;`,\n",
       "                {&quot;sticky&quot;: true}\n",
       "            );\n",
       "        \n",
       "    \n",
       "            var circle_marker_dafa157d42cf31c21c9cf0ff007c767f = L.circleMarker(\n",
       "                [37.493961, 127.014667],\n",
       "                {&quot;bubblingMouseEvents&quot;: true, &quot;color&quot;: &quot;#DF0101&quot;, &quot;dashArray&quot;: null, &quot;dashOffset&quot;: null, &quot;fill&quot;: &quot;#DF0101&quot;, &quot;fillColor&quot;: &quot;#DF0101&quot;, &quot;fillOpacity&quot;: 0.2, &quot;fillRule&quot;: &quot;evenodd&quot;, &quot;lineCap&quot;: &quot;round&quot;, &quot;lineJoin&quot;: &quot;round&quot;, &quot;opacity&quot;: 1.0, &quot;radius&quot;: 18, &quot;stroke&quot;: true, &quot;weight&quot;: 3}\n",
       "            ).addTo(map_d0684e81f5e8244b6b494bfec2f0f4ea);\n",
       "        \n",
       "    \n",
       "            circle_marker_dafa157d42cf31c21c9cf0ff007c767f.bindTooltip(\n",
       "                `&lt;div&gt;\n",
       "                     교대\n",
       "                 &lt;/div&gt;`,\n",
       "                {&quot;sticky&quot;: true}\n",
       "            );\n",
       "        \n",
       "    \n",
       "            var circle_marker_a34db5e5110bccfdafd0747daa9fa2d0 = L.circleMarker(\n",
       "                [37.485266, 126.901401],\n",
       "                {&quot;bubblingMouseEvents&quot;: true, &quot;color&quot;: &quot;#000000&quot;, &quot;dashArray&quot;: null, &quot;dashOffset&quot;: null, &quot;fill&quot;: &quot;#000000&quot;, &quot;fillColor&quot;: &quot;#000000&quot;, &quot;fillOpacity&quot;: 0.2, &quot;fillRule&quot;: &quot;evenodd&quot;, &quot;lineCap&quot;: &quot;round&quot;, &quot;lineJoin&quot;: &quot;round&quot;, &quot;opacity&quot;: 1.0, &quot;radius&quot;: 18, &quot;stroke&quot;: true, &quot;weight&quot;: 3}\n",
       "            ).addTo(map_d0684e81f5e8244b6b494bfec2f0f4ea);\n",
       "        \n",
       "    \n",
       "            circle_marker_a34db5e5110bccfdafd0747daa9fa2d0.bindTooltip(\n",
       "                `&lt;div&gt;\n",
       "                     구로디지털단지\n",
       "                 &lt;/div&gt;`,\n",
       "                {&quot;sticky&quot;: true}\n",
       "            );\n",
       "        \n",
       "    \n",
       "            var circle_marker_c68ec4d8d341e8e02d604fa5c28304de = L.circleMarker(\n",
       "                [37.537077, 127.085916],\n",
       "                {&quot;bubblingMouseEvents&quot;: true, &quot;color&quot;: &quot;#3A01DF&quot;, &quot;dashArray&quot;: null, &quot;dashOffset&quot;: null, &quot;fill&quot;: &quot;#3A01DF&quot;, &quot;fillColor&quot;: &quot;#3A01DF&quot;, &quot;fillOpacity&quot;: 0.2, &quot;fillRule&quot;: &quot;evenodd&quot;, &quot;lineCap&quot;: &quot;round&quot;, &quot;lineJoin&quot;: &quot;round&quot;, &quot;opacity&quot;: 1.0, &quot;radius&quot;: 18, &quot;stroke&quot;: true, &quot;weight&quot;: 3}\n",
       "            ).addTo(map_d0684e81f5e8244b6b494bfec2f0f4ea);\n",
       "        \n",
       "    \n",
       "            circle_marker_c68ec4d8d341e8e02d604fa5c28304de.bindTooltip(\n",
       "                `&lt;div&gt;\n",
       "                     구의\n",
       "                 &lt;/div&gt;`,\n",
       "                {&quot;sticky&quot;: true}\n",
       "            );\n",
       "        \n",
       "    \n",
       "            var circle_marker_0ed61bb73d44c93fc444bb4daae6d6cf = L.circleMarker(\n",
       "                [37.47693, 126.963693],\n",
       "                {&quot;bubblingMouseEvents&quot;: true, &quot;color&quot;: &quot;#3A01DF&quot;, &quot;dashArray&quot;: null, &quot;dashOffset&quot;: null, &quot;fill&quot;: &quot;#3A01DF&quot;, &quot;fillColor&quot;: &quot;#3A01DF&quot;, &quot;fillOpacity&quot;: 0.2, &quot;fillRule&quot;: &quot;evenodd&quot;, &quot;lineCap&quot;: &quot;round&quot;, &quot;lineJoin&quot;: &quot;round&quot;, &quot;opacity&quot;: 1.0, &quot;radius&quot;: 18, &quot;stroke&quot;: true, &quot;weight&quot;: 3}\n",
       "            ).addTo(map_d0684e81f5e8244b6b494bfec2f0f4ea);\n",
       "        \n",
       "    \n",
       "            circle_marker_0ed61bb73d44c93fc444bb4daae6d6cf.bindTooltip(\n",
       "                `&lt;div&gt;\n",
       "                     낙성대\n",
       "                 &lt;/div&gt;`,\n",
       "                {&quot;sticky&quot;: true}\n",
       "            );\n",
       "        \n",
       "    \n",
       "            var circle_marker_ba59b6e6eb5beb80970983098a06d3b0 = L.circleMarker(\n",
       "                [37.534946, 126.902767],\n",
       "                {&quot;bubblingMouseEvents&quot;: true, &quot;color&quot;: &quot;#000000&quot;, &quot;dashArray&quot;: null, &quot;dashOffset&quot;: null, &quot;fill&quot;: &quot;#000000&quot;, &quot;fillColor&quot;: &quot;#000000&quot;, &quot;fillOpacity&quot;: 0.2, &quot;fillRule&quot;: &quot;evenodd&quot;, &quot;lineCap&quot;: &quot;round&quot;, &quot;lineJoin&quot;: &quot;round&quot;, &quot;opacity&quot;: 1.0, &quot;radius&quot;: 18, &quot;stroke&quot;: true, &quot;weight&quot;: 3}\n",
       "            ).addTo(map_d0684e81f5e8244b6b494bfec2f0f4ea);\n",
       "        \n",
       "    \n",
       "            circle_marker_ba59b6e6eb5beb80970983098a06d3b0.bindTooltip(\n",
       "                `&lt;div&gt;\n",
       "                     당산\n",
       "                 &lt;/div&gt;`,\n",
       "                {&quot;sticky&quot;: true}\n",
       "            );\n",
       "        \n",
       "    \n",
       "            var circle_marker_0e81650baf8d5103c3cc412365698726 = L.circleMarker(\n",
       "                [37.493243, 126.894932],\n",
       "                {&quot;bubblingMouseEvents&quot;: true, &quot;color&quot;: &quot;#3A01DF&quot;, &quot;dashArray&quot;: null, &quot;dashOffset&quot;: null, &quot;fill&quot;: &quot;#3A01DF&quot;, &quot;fillColor&quot;: &quot;#3A01DF&quot;, &quot;fillOpacity&quot;: 0.2, &quot;fillRule&quot;: &quot;evenodd&quot;, &quot;lineCap&quot;: &quot;round&quot;, &quot;lineJoin&quot;: &quot;round&quot;, &quot;opacity&quot;: 1.0, &quot;radius&quot;: 18, &quot;stroke&quot;: true, &quot;weight&quot;: 3}\n",
       "            ).addTo(map_d0684e81f5e8244b6b494bfec2f0f4ea);\n",
       "        \n",
       "    \n",
       "            circle_marker_0e81650baf8d5103c3cc412365698726.bindTooltip(\n",
       "                `&lt;div&gt;\n",
       "                     대림\n",
       "                 &lt;/div&gt;`,\n",
       "                {&quot;sticky&quot;: true}\n",
       "            );\n",
       "        \n",
       "    \n",
       "            var circle_marker_51c8598a9494614ddd58ba8123225b55 = L.circleMarker(\n",
       "                [37.514287, 126.882768],\n",
       "                {&quot;bubblingMouseEvents&quot;: true, &quot;color&quot;: &quot;#000000&quot;, &quot;dashArray&quot;: null, &quot;dashOffset&quot;: null, &quot;fill&quot;: &quot;#000000&quot;, &quot;fillColor&quot;: &quot;#000000&quot;, &quot;fillOpacity&quot;: 0.2, &quot;fillRule&quot;: &quot;evenodd&quot;, &quot;lineCap&quot;: &quot;round&quot;, &quot;lineJoin&quot;: &quot;round&quot;, &quot;opacity&quot;: 1.0, &quot;radius&quot;: 18, &quot;stroke&quot;: true, &quot;weight&quot;: 3}\n",
       "            ).addTo(map_d0684e81f5e8244b6b494bfec2f0f4ea);\n",
       "        \n",
       "    \n",
       "            circle_marker_51c8598a9494614ddd58ba8123225b55.bindTooltip(\n",
       "                `&lt;div&gt;\n",
       "                     도림천\n",
       "                 &lt;/div&gt;`,\n",
       "                {&quot;sticky&quot;: true}\n",
       "            );\n",
       "        \n",
       "    \n",
       "            var circle_marker_d05e0e1655f9e65eb5f5cd95229cd335 = L.circleMarker(\n",
       "                [37.565613, 127.009054],\n",
       "                {&quot;bubblingMouseEvents&quot;: true, &quot;color&quot;: &quot;#DF0101&quot;, &quot;dashArray&quot;: null, &quot;dashOffset&quot;: null, &quot;fill&quot;: &quot;#DF0101&quot;, &quot;fillColor&quot;: &quot;#DF0101&quot;, &quot;fillOpacity&quot;: 0.2, &quot;fillRule&quot;: &quot;evenodd&quot;, &quot;lineCap&quot;: &quot;round&quot;, &quot;lineJoin&quot;: &quot;round&quot;, &quot;opacity&quot;: 1.0, &quot;radius&quot;: 18, &quot;stroke&quot;: true, &quot;weight&quot;: 3}\n",
       "            ).addTo(map_d0684e81f5e8244b6b494bfec2f0f4ea);\n",
       "        \n",
       "    \n",
       "            circle_marker_d05e0e1655f9e65eb5f5cd95229cd335.bindTooltip(\n",
       "                `&lt;div&gt;\n",
       "                     동대문역사문화공원\n",
       "                 &lt;/div&gt;`,\n",
       "                {&quot;sticky&quot;: true}\n",
       "            );\n",
       "        \n",
       "    \n",
       "            var circle_marker_90b6bb1b11a23ad06a23e57fff577abd = L.circleMarker(\n",
       "                [37.547184, 127.047367],\n",
       "                {&quot;bubblingMouseEvents&quot;: true, &quot;color&quot;: &quot;#DF0101&quot;, &quot;dashArray&quot;: null, &quot;dashOffset&quot;: null, &quot;fill&quot;: &quot;#DF0101&quot;, &quot;fillColor&quot;: &quot;#DF0101&quot;, &quot;fillOpacity&quot;: 0.2, &quot;fillRule&quot;: &quot;evenodd&quot;, &quot;lineCap&quot;: &quot;round&quot;, &quot;lineJoin&quot;: &quot;round&quot;, &quot;opacity&quot;: 1.0, &quot;radius&quot;: 18, &quot;stroke&quot;: true, &quot;weight&quot;: 3}\n",
       "            ).addTo(map_d0684e81f5e8244b6b494bfec2f0f4ea);\n",
       "        \n",
       "    \n",
       "            circle_marker_90b6bb1b11a23ad06a23e57fff577abd.bindTooltip(\n",
       "                `&lt;div&gt;\n",
       "                     뚝섬\n",
       "                 &lt;/div&gt;`,\n",
       "                {&quot;sticky&quot;: true}\n",
       "            );\n",
       "        \n",
       "    \n",
       "            var circle_marker_9d0a4e0d15513b59defc4546eb2d403d = L.circleMarker(\n",
       "                [37.517933, 126.89476],\n",
       "                {&quot;bubblingMouseEvents&quot;: true, &quot;color&quot;: &quot;#000000&quot;, &quot;dashArray&quot;: null, &quot;dashOffset&quot;: null, &quot;fill&quot;: &quot;#000000&quot;, &quot;fillColor&quot;: &quot;#000000&quot;, &quot;fillOpacity&quot;: 0.2, &quot;fillRule&quot;: &quot;evenodd&quot;, &quot;lineCap&quot;: &quot;round&quot;, &quot;lineJoin&quot;: &quot;round&quot;, &quot;opacity&quot;: 1.0, &quot;radius&quot;: 18, &quot;stroke&quot;: true, &quot;weight&quot;: 3}\n",
       "            ).addTo(map_d0684e81f5e8244b6b494bfec2f0f4ea);\n",
       "        \n",
       "    \n",
       "            circle_marker_9d0a4e0d15513b59defc4546eb2d403d.bindTooltip(\n",
       "                `&lt;div&gt;\n",
       "                     문래\n",
       "                 &lt;/div&gt;`,\n",
       "                {&quot;sticky&quot;: true}\n",
       "            );\n",
       "        \n",
       "    \n",
       "            var circle_marker_8c5fc2d1dae42e9df3d43bd49c020809 = L.circleMarker(\n",
       "                [37.481426, 126.997596],\n",
       "                {&quot;bubblingMouseEvents&quot;: true, &quot;color&quot;: &quot;#000000&quot;, &quot;dashArray&quot;: null, &quot;dashOffset&quot;: null, &quot;fill&quot;: &quot;#000000&quot;, &quot;fillColor&quot;: &quot;#000000&quot;, &quot;fillOpacity&quot;: 0.2, &quot;fillRule&quot;: &quot;evenodd&quot;, &quot;lineCap&quot;: &quot;round&quot;, &quot;lineJoin&quot;: &quot;round&quot;, &quot;opacity&quot;: 1.0, &quot;radius&quot;: 18, &quot;stroke&quot;: true, &quot;weight&quot;: 3}\n",
       "            ).addTo(map_d0684e81f5e8244b6b494bfec2f0f4ea);\n",
       "        \n",
       "    \n",
       "            circle_marker_8c5fc2d1dae42e9df3d43bd49c020809.bindTooltip(\n",
       "                `&lt;div&gt;\n",
       "                     방배\n",
       "                 &lt;/div&gt;`,\n",
       "                {&quot;sticky&quot;: true}\n",
       "            );\n",
       "        \n",
       "    \n",
       "            var circle_marker_6aabfd55bd07271e37a9528122c7432d = L.circleMarker(\n",
       "                [37.482362, 126.941892],\n",
       "                {&quot;bubblingMouseEvents&quot;: true, &quot;color&quot;: &quot;#3A01DF&quot;, &quot;dashArray&quot;: null, &quot;dashOffset&quot;: null, &quot;fill&quot;: &quot;#3A01DF&quot;, &quot;fillColor&quot;: &quot;#3A01DF&quot;, &quot;fillOpacity&quot;: 0.2, &quot;fillRule&quot;: &quot;evenodd&quot;, &quot;lineCap&quot;: &quot;round&quot;, &quot;lineJoin&quot;: &quot;round&quot;, &quot;opacity&quot;: 1.0, &quot;radius&quot;: 18, &quot;stroke&quot;: true, &quot;weight&quot;: 3}\n",
       "            ).addTo(map_d0684e81f5e8244b6b494bfec2f0f4ea);\n",
       "        \n",
       "    \n",
       "            circle_marker_6aabfd55bd07271e37a9528122c7432d.bindTooltip(\n",
       "                `&lt;div&gt;\n",
       "                     봉천\n",
       "                 &lt;/div&gt;`,\n",
       "                {&quot;sticky&quot;: true}\n",
       "            );\n",
       "        \n",
       "    \n",
       "            var circle_marker_59a5a0f3fda59d67b2661ee772986eb9 = L.circleMarker(\n",
       "                [37.476538, 126.981544],\n",
       "                {&quot;bubblingMouseEvents&quot;: true, &quot;color&quot;: &quot;#000000&quot;, &quot;dashArray&quot;: null, &quot;dashOffset&quot;: null, &quot;fill&quot;: &quot;#000000&quot;, &quot;fillColor&quot;: &quot;#000000&quot;, &quot;fillOpacity&quot;: 0.2, &quot;fillRule&quot;: &quot;evenodd&quot;, &quot;lineCap&quot;: &quot;round&quot;, &quot;lineJoin&quot;: &quot;round&quot;, &quot;opacity&quot;: 1.0, &quot;radius&quot;: 18, &quot;stroke&quot;: true, &quot;weight&quot;: 3}\n",
       "            ).addTo(map_d0684e81f5e8244b6b494bfec2f0f4ea);\n",
       "        \n",
       "    \n",
       "            circle_marker_59a5a0f3fda59d67b2661ee772986eb9.bindTooltip(\n",
       "                `&lt;div&gt;\n",
       "                     사당\n",
       "                 &lt;/div&gt;`,\n",
       "                {&quot;sticky&quot;: true}\n",
       "            );\n",
       "        \n",
       "    \n",
       "            var circle_marker_bf323b3c1928dc0bad68c3fc82817070 = L.circleMarker(\n",
       "                [37.508844, 127.06316],\n",
       "                {&quot;bubblingMouseEvents&quot;: true, &quot;color&quot;: &quot;#DF0101&quot;, &quot;dashArray&quot;: null, &quot;dashOffset&quot;: null, &quot;fill&quot;: &quot;#DF0101&quot;, &quot;fillColor&quot;: &quot;#DF0101&quot;, &quot;fillOpacity&quot;: 0.2, &quot;fillRule&quot;: &quot;evenodd&quot;, &quot;lineCap&quot;: &quot;round&quot;, &quot;lineJoin&quot;: &quot;round&quot;, &quot;opacity&quot;: 1.0, &quot;radius&quot;: 18, &quot;stroke&quot;: true, &quot;weight&quot;: 3}\n",
       "            ).addTo(map_d0684e81f5e8244b6b494bfec2f0f4ea);\n",
       "        \n",
       "    \n",
       "            circle_marker_bf323b3c1928dc0bad68c3fc82817070.bindTooltip(\n",
       "                `&lt;div&gt;\n",
       "                     삼성\n",
       "                 &lt;/div&gt;`,\n",
       "                {&quot;sticky&quot;: true}\n",
       "            );\n",
       "        \n",
       "    \n",
       "            var circle_marker_102f3e9f1686464ac8eef59627934574 = L.circleMarker(\n",
       "                [37.564354, 127.029354],\n",
       "                {&quot;bubblingMouseEvents&quot;: true, &quot;color&quot;: &quot;#3A01DF&quot;, &quot;dashArray&quot;: null, &quot;dashOffset&quot;: null, &quot;fill&quot;: &quot;#3A01DF&quot;, &quot;fillColor&quot;: &quot;#3A01DF&quot;, &quot;fillOpacity&quot;: 0.2, &quot;fillRule&quot;: &quot;evenodd&quot;, &quot;lineCap&quot;: &quot;round&quot;, &quot;lineJoin&quot;: &quot;round&quot;, &quot;opacity&quot;: 1.0, &quot;radius&quot;: 18, &quot;stroke&quot;: true, &quot;weight&quot;: 3}\n",
       "            ).addTo(map_d0684e81f5e8244b6b494bfec2f0f4ea);\n",
       "        \n",
       "    \n",
       "            circle_marker_102f3e9f1686464ac8eef59627934574.bindTooltip(\n",
       "                `&lt;div&gt;\n",
       "                     상왕십리\n",
       "                 &lt;/div&gt;`,\n",
       "                {&quot;sticky&quot;: true}\n",
       "            );\n",
       "        \n",
       "    \n",
       "            var circle_marker_129e73892bcff7f62f0fbecaec2af174 = L.circleMarker(\n",
       "                [37.481247, 126.952739],\n",
       "                {&quot;bubblingMouseEvents&quot;: true, &quot;color&quot;: &quot;#3A01DF&quot;, &quot;dashArray&quot;: null, &quot;dashOffset&quot;: null, &quot;fill&quot;: &quot;#3A01DF&quot;, &quot;fillColor&quot;: &quot;#3A01DF&quot;, &quot;fillOpacity&quot;: 0.2, &quot;fillRule&quot;: &quot;evenodd&quot;, &quot;lineCap&quot;: &quot;round&quot;, &quot;lineJoin&quot;: &quot;round&quot;, &quot;opacity&quot;: 1.0, &quot;radius&quot;: 18, &quot;stroke&quot;: true, &quot;weight&quot;: 3}\n",
       "            ).addTo(map_d0684e81f5e8244b6b494bfec2f0f4ea);\n",
       "        \n",
       "    \n",
       "            circle_marker_129e73892bcff7f62f0fbecaec2af174.bindTooltip(\n",
       "                `&lt;div&gt;\n",
       "                     서울대입구\n",
       "                 &lt;/div&gt;`,\n",
       "                {&quot;sticky&quot;: true}\n",
       "            );\n",
       "        \n",
       "    \n",
       "            var circle_marker_3ca0b6c7fe0686db4c3af04acdd58e63 = L.circleMarker(\n",
       "                [37.491897, 127.007917],\n",
       "                {&quot;bubblingMouseEvents&quot;: true, &quot;color&quot;: &quot;#DF0101&quot;, &quot;dashArray&quot;: null, &quot;dashOffset&quot;: null, &quot;fill&quot;: &quot;#DF0101&quot;, &quot;fillColor&quot;: &quot;#DF0101&quot;, &quot;fillOpacity&quot;: 0.2, &quot;fillRule&quot;: &quot;evenodd&quot;, &quot;lineCap&quot;: &quot;round&quot;, &quot;lineJoin&quot;: &quot;round&quot;, &quot;opacity&quot;: 1.0, &quot;radius&quot;: 18, &quot;stroke&quot;: true, &quot;weight&quot;: 3}\n",
       "            ).addTo(map_d0684e81f5e8244b6b494bfec2f0f4ea);\n",
       "        \n",
       "    \n",
       "            circle_marker_3ca0b6c7fe0686db4c3af04acdd58e63.bindTooltip(\n",
       "                `&lt;div&gt;\n",
       "                     서초\n",
       "                 &lt;/div&gt;`,\n",
       "                {&quot;sticky&quot;: true}\n",
       "            );\n",
       "        \n",
       "    \n",
       "            var circle_marker_39a4cf47bc976620cbe4e75cd7c7f90f = L.circleMarker(\n",
       "                [37.504286, 127.048203],\n",
       "                {&quot;bubblingMouseEvents&quot;: true, &quot;color&quot;: &quot;#DF0101&quot;, &quot;dashArray&quot;: null, &quot;dashOffset&quot;: null, &quot;fill&quot;: &quot;#DF0101&quot;, &quot;fillColor&quot;: &quot;#DF0101&quot;, &quot;fillOpacity&quot;: 0.2, &quot;fillRule&quot;: &quot;evenodd&quot;, &quot;lineCap&quot;: &quot;round&quot;, &quot;lineJoin&quot;: &quot;round&quot;, &quot;opacity&quot;: 1.0, &quot;radius&quot;: 18, &quot;stroke&quot;: true, &quot;weight&quot;: 3}\n",
       "            ).addTo(map_d0684e81f5e8244b6b494bfec2f0f4ea);\n",
       "        \n",
       "    \n",
       "            circle_marker_39a4cf47bc976620cbe4e75cd7c7f90f.bindTooltip(\n",
       "                `&lt;div&gt;\n",
       "                     선릉\n",
       "                 &lt;/div&gt;`,\n",
       "                {&quot;sticky&quot;: true}\n",
       "            );\n",
       "        \n",
       "    \n",
       "            var circle_marker_409a4a878dfe6339ed833f24a4007d61 = L.circleMarker(\n",
       "                [37.544581, 127.055961],\n",
       "                {&quot;bubblingMouseEvents&quot;: true, &quot;color&quot;: &quot;#DF0101&quot;, &quot;dashArray&quot;: null, &quot;dashOffset&quot;: null, &quot;fill&quot;: &quot;#DF0101&quot;, &quot;fillColor&quot;: &quot;#DF0101&quot;, &quot;fillOpacity&quot;: 0.2, &quot;fillRule&quot;: &quot;evenodd&quot;, &quot;lineCap&quot;: &quot;round&quot;, &quot;lineJoin&quot;: &quot;round&quot;, &quot;opacity&quot;: 1.0, &quot;radius&quot;: 18, &quot;stroke&quot;: true, &quot;weight&quot;: 3}\n",
       "            ).addTo(map_d0684e81f5e8244b6b494bfec2f0f4ea);\n",
       "        \n",
       "    \n",
       "            circle_marker_409a4a878dfe6339ed833f24a4007d61.bindTooltip(\n",
       "                `&lt;div&gt;\n",
       "                     성수\n",
       "                 &lt;/div&gt;`,\n",
       "                {&quot;sticky&quot;: true}\n",
       "            );\n",
       "        \n",
       "    \n",
       "            var circle_marker_925e36de95cbfb39ca6bedb4e348df45 = L.circleMarker(\n",
       "                [37.563588, 126.975411],\n",
       "                {&quot;bubblingMouseEvents&quot;: true, &quot;color&quot;: &quot;#DF0101&quot;, &quot;dashArray&quot;: null, &quot;dashOffset&quot;: null, &quot;fill&quot;: &quot;#DF0101&quot;, &quot;fillColor&quot;: &quot;#DF0101&quot;, &quot;fillOpacity&quot;: 0.2, &quot;fillRule&quot;: &quot;evenodd&quot;, &quot;lineCap&quot;: &quot;round&quot;, &quot;lineJoin&quot;: &quot;round&quot;, &quot;opacity&quot;: 1.0, &quot;radius&quot;: 18, &quot;stroke&quot;: true, &quot;weight&quot;: 3}\n",
       "            ).addTo(map_d0684e81f5e8244b6b494bfec2f0f4ea);\n",
       "        \n",
       "    \n",
       "            circle_marker_925e36de95cbfb39ca6bedb4e348df45.bindTooltip(\n",
       "                `&lt;div&gt;\n",
       "                     시청\n",
       "                 &lt;/div&gt;`,\n",
       "                {&quot;sticky&quot;: true}\n",
       "            );\n",
       "        \n",
       "    \n",
       "            var circle_marker_4d2e4f8b8a62438082e4189560e772dc = L.circleMarker(\n",
       "                [37.57004, 127.046481],\n",
       "                {&quot;bubblingMouseEvents&quot;: true, &quot;color&quot;: &quot;#3A01DF&quot;, &quot;dashArray&quot;: null, &quot;dashOffset&quot;: null, &quot;fill&quot;: &quot;#3A01DF&quot;, &quot;fillColor&quot;: &quot;#3A01DF&quot;, &quot;fillOpacity&quot;: 0.2, &quot;fillRule&quot;: &quot;evenodd&quot;, &quot;lineCap&quot;: &quot;round&quot;, &quot;lineJoin&quot;: &quot;round&quot;, &quot;opacity&quot;: 1.0, &quot;radius&quot;: 18, &quot;stroke&quot;: true, &quot;weight&quot;: 3}\n",
       "            ).addTo(map_d0684e81f5e8244b6b494bfec2f0f4ea);\n",
       "        \n",
       "    \n",
       "            circle_marker_4d2e4f8b8a62438082e4189560e772dc.bindTooltip(\n",
       "                `&lt;div&gt;\n",
       "                     신답\n",
       "                 &lt;/div&gt;`,\n",
       "                {&quot;sticky&quot;: true}\n",
       "            );\n",
       "        \n",
       "    \n",
       "            var circle_marker_7a02ee27f463dca09aeb9b541b05974b = L.circleMarker(\n",
       "                [37.56564, 127.019614],\n",
       "                {&quot;bubblingMouseEvents&quot;: true, &quot;color&quot;: &quot;#000000&quot;, &quot;dashArray&quot;: null, &quot;dashOffset&quot;: null, &quot;fill&quot;: &quot;#000000&quot;, &quot;fillColor&quot;: &quot;#000000&quot;, &quot;fillOpacity&quot;: 0.2, &quot;fillRule&quot;: &quot;evenodd&quot;, &quot;lineCap&quot;: &quot;round&quot;, &quot;lineJoin&quot;: &quot;round&quot;, &quot;opacity&quot;: 1.0, &quot;radius&quot;: 18, &quot;stroke&quot;: true, &quot;weight&quot;: 3}\n",
       "            ).addTo(map_d0684e81f5e8244b6b494bfec2f0f4ea);\n",
       "        \n",
       "    \n",
       "            circle_marker_7a02ee27f463dca09aeb9b541b05974b.bindTooltip(\n",
       "                `&lt;div&gt;\n",
       "                     신당\n",
       "                 &lt;/div&gt;`,\n",
       "                {&quot;sticky&quot;: true}\n",
       "            );\n",
       "        \n",
       "    \n",
       "            var circle_marker_9a16280298d00642a2277e6d507ea6a1 = L.circleMarker(\n",
       "                [37.487462, 126.913149],\n",
       "                {&quot;bubblingMouseEvents&quot;: true, &quot;color&quot;: &quot;#3A01DF&quot;, &quot;dashArray&quot;: null, &quot;dashOffset&quot;: null, &quot;fill&quot;: &quot;#3A01DF&quot;, &quot;fillColor&quot;: &quot;#3A01DF&quot;, &quot;fillOpacity&quot;: 0.2, &quot;fillRule&quot;: &quot;evenodd&quot;, &quot;lineCap&quot;: &quot;round&quot;, &quot;lineJoin&quot;: &quot;round&quot;, &quot;opacity&quot;: 1.0, &quot;radius&quot;: 18, &quot;stroke&quot;: true, &quot;weight&quot;: 3}\n",
       "            ).addTo(map_d0684e81f5e8244b6b494bfec2f0f4ea);\n",
       "        \n",
       "    \n",
       "            circle_marker_9a16280298d00642a2277e6d507ea6a1.bindTooltip(\n",
       "                `&lt;div&gt;\n",
       "                     신대방\n",
       "                 &lt;/div&gt;`,\n",
       "                {&quot;sticky&quot;: true}\n",
       "            );\n",
       "        \n",
       "    \n",
       "            var circle_marker_63330e37aa6c0c27484af839e60c8680 = L.circleMarker(\n",
       "                [37.508961, 126.891084],\n",
       "                {&quot;bubblingMouseEvents&quot;: true, &quot;color&quot;: &quot;#000000&quot;, &quot;dashArray&quot;: null, &quot;dashOffset&quot;: null, &quot;fill&quot;: &quot;#000000&quot;, &quot;fillColor&quot;: &quot;#000000&quot;, &quot;fillOpacity&quot;: 0.2, &quot;fillRule&quot;: &quot;evenodd&quot;, &quot;lineCap&quot;: &quot;round&quot;, &quot;lineJoin&quot;: &quot;round&quot;, &quot;opacity&quot;: 1.0, &quot;radius&quot;: 18, &quot;stroke&quot;: true, &quot;weight&quot;: 3}\n",
       "            ).addTo(map_d0684e81f5e8244b6b494bfec2f0f4ea);\n",
       "        \n",
       "    \n",
       "            circle_marker_63330e37aa6c0c27484af839e60c8680.bindTooltip(\n",
       "                `&lt;div&gt;\n",
       "                     신도림\n",
       "                 &lt;/div&gt;`,\n",
       "                {&quot;sticky&quot;: true}\n",
       "            );\n",
       "        \n",
       "    \n",
       "            var circle_marker_fc6d346dc04fd8dfc9cf04e6cf3a4e9e = L.circleMarker(\n",
       "                [37.484201, 126.929715],\n",
       "                {&quot;bubblingMouseEvents&quot;: true, &quot;color&quot;: &quot;#3A01DF&quot;, &quot;dashArray&quot;: null, &quot;dashOffset&quot;: null, &quot;fill&quot;: &quot;#3A01DF&quot;, &quot;fillColor&quot;: &quot;#3A01DF&quot;, &quot;fillOpacity&quot;: 0.2, &quot;fillRule&quot;: &quot;evenodd&quot;, &quot;lineCap&quot;: &quot;round&quot;, &quot;lineJoin&quot;: &quot;round&quot;, &quot;opacity&quot;: 1.0, &quot;radius&quot;: 18, &quot;stroke&quot;: true, &quot;weight&quot;: 3}\n",
       "            ).addTo(map_d0684e81f5e8244b6b494bfec2f0f4ea);\n",
       "        \n",
       "    \n",
       "            circle_marker_fc6d346dc04fd8dfc9cf04e6cf3a4e9e.bindTooltip(\n",
       "                `&lt;div&gt;\n",
       "                     신림\n",
       "                 &lt;/div&gt;`,\n",
       "                {&quot;sticky&quot;: true}\n",
       "            );\n",
       "        \n",
       "    \n",
       "            var circle_marker_5cbc9d545d4ea9e9d265db4315a2d4f3 = L.circleMarker(\n",
       "                [37.574747, 127.024932],\n",
       "                {&quot;bubblingMouseEvents&quot;: true, &quot;color&quot;: &quot;#000000&quot;, &quot;dashArray&quot;: null, &quot;dashOffset&quot;: null, &quot;fill&quot;: &quot;#000000&quot;, &quot;fillColor&quot;: &quot;#000000&quot;, &quot;fillOpacity&quot;: 0.2, &quot;fillRule&quot;: &quot;evenodd&quot;, &quot;lineCap&quot;: &quot;round&quot;, &quot;lineJoin&quot;: &quot;round&quot;, &quot;opacity&quot;: 1.0, &quot;radius&quot;: 18, &quot;stroke&quot;: true, &quot;weight&quot;: 3}\n",
       "            ).addTo(map_d0684e81f5e8244b6b494bfec2f0f4ea);\n",
       "        \n",
       "    \n",
       "            circle_marker_5cbc9d545d4ea9e9d265db4315a2d4f3.bindTooltip(\n",
       "                `&lt;div&gt;\n",
       "                     신설동\n",
       "                 &lt;/div&gt;`,\n",
       "                {&quot;sticky&quot;: true}\n",
       "            );\n",
       "        \n",
       "    \n",
       "            var circle_marker_154af96491c40bebe49ca04cdafbdcca = L.circleMarker(\n",
       "                [37.520074, 126.852912],\n",
       "                {&quot;bubblingMouseEvents&quot;: true, &quot;color&quot;: &quot;#3A01DF&quot;, &quot;dashArray&quot;: null, &quot;dashOffset&quot;: null, &quot;fill&quot;: &quot;#3A01DF&quot;, &quot;fillColor&quot;: &quot;#3A01DF&quot;, &quot;fillOpacity&quot;: 0.2, &quot;fillRule&quot;: &quot;evenodd&quot;, &quot;lineCap&quot;: &quot;round&quot;, &quot;lineJoin&quot;: &quot;round&quot;, &quot;opacity&quot;: 1.0, &quot;radius&quot;: 18, &quot;stroke&quot;: true, &quot;weight&quot;: 3}\n",
       "            ).addTo(map_d0684e81f5e8244b6b494bfec2f0f4ea);\n",
       "        \n",
       "    \n",
       "            circle_marker_154af96491c40bebe49ca04cdafbdcca.bindTooltip(\n",
       "                `&lt;div&gt;\n",
       "                     신정네거리\n",
       "                 &lt;/div&gt;`,\n",
       "                {&quot;sticky&quot;: true}\n",
       "            );\n",
       "        \n",
       "    \n",
       "            var circle_marker_7ead512834330a7d90f311f9a527c926 = L.circleMarker(\n",
       "                [37.555131, 126.936926],\n",
       "                {&quot;bubblingMouseEvents&quot;: true, &quot;color&quot;: &quot;#000000&quot;, &quot;dashArray&quot;: null, &quot;dashOffset&quot;: null, &quot;fill&quot;: &quot;#000000&quot;, &quot;fillColor&quot;: &quot;#000000&quot;, &quot;fillOpacity&quot;: 0.2, &quot;fillRule&quot;: &quot;evenodd&quot;, &quot;lineCap&quot;: &quot;round&quot;, &quot;lineJoin&quot;: &quot;round&quot;, &quot;opacity&quot;: 1.0, &quot;radius&quot;: 18, &quot;stroke&quot;: true, &quot;weight&quot;: 3}\n",
       "            ).addTo(map_d0684e81f5e8244b6b494bfec2f0f4ea);\n",
       "        \n",
       "    \n",
       "            circle_marker_7ead512834330a7d90f311f9a527c926.bindTooltip(\n",
       "                `&lt;div&gt;\n",
       "                     신촌\n",
       "                 &lt;/div&gt;`,\n",
       "                {&quot;sticky&quot;: true}\n",
       "            );\n",
       "        \n",
       "    \n",
       "            var circle_marker_57940b9c0ae21c30529ef0d8a3f83419 = L.circleMarker(\n",
       "                [37.557345, 126.956141],\n",
       "                {&quot;bubblingMouseEvents&quot;: true, &quot;color&quot;: &quot;#3A01DF&quot;, &quot;dashArray&quot;: null, &quot;dashOffset&quot;: null, &quot;fill&quot;: &quot;#3A01DF&quot;, &quot;fillColor&quot;: &quot;#3A01DF&quot;, &quot;fillOpacity&quot;: 0.2, &quot;fillRule&quot;: &quot;evenodd&quot;, &quot;lineCap&quot;: &quot;round&quot;, &quot;lineJoin&quot;: &quot;round&quot;, &quot;opacity&quot;: 1.0, &quot;radius&quot;: 18, &quot;stroke&quot;: true, &quot;weight&quot;: 3}\n",
       "            ).addTo(map_d0684e81f5e8244b6b494bfec2f0f4ea);\n",
       "        \n",
       "    \n",
       "            circle_marker_57940b9c0ae21c30529ef0d8a3f83419.bindTooltip(\n",
       "                `&lt;div&gt;\n",
       "                     아현\n",
       "                 &lt;/div&gt;`,\n",
       "                {&quot;sticky&quot;: true}\n",
       "            );\n",
       "        \n",
       "    \n",
       "            var circle_marker_994b3042b5c8344dfe2ef4cc7b6aaac1 = L.circleMarker(\n",
       "                [37.512398, 126.865819],\n",
       "                {&quot;bubblingMouseEvents&quot;: true, &quot;color&quot;: &quot;#3A01DF&quot;, &quot;dashArray&quot;: null, &quot;dashOffset&quot;: null, &quot;fill&quot;: &quot;#3A01DF&quot;, &quot;fillColor&quot;: &quot;#3A01DF&quot;, &quot;fillOpacity&quot;: 0.2, &quot;fillRule&quot;: &quot;evenodd&quot;, &quot;lineCap&quot;: &quot;round&quot;, &quot;lineJoin&quot;: &quot;round&quot;, &quot;opacity&quot;: 1.0, &quot;radius&quot;: 18, &quot;stroke&quot;: true, &quot;weight&quot;: 3}\n",
       "            ).addTo(map_d0684e81f5e8244b6b494bfec2f0f4ea);\n",
       "        \n",
       "    \n",
       "            circle_marker_994b3042b5c8344dfe2ef4cc7b6aaac1.bindTooltip(\n",
       "                `&lt;div&gt;\n",
       "                     양천구청\n",
       "                 &lt;/div&gt;`,\n",
       "                {&quot;sticky&quot;: true}\n",
       "            );\n",
       "        \n",
       "    \n",
       "            var circle_marker_3880f63b20fd5f2272958812efd0c01a = L.circleMarker(\n",
       "                [37.500622, 127.036456],\n",
       "                {&quot;bubblingMouseEvents&quot;: true, &quot;color&quot;: &quot;#DF0101&quot;, &quot;dashArray&quot;: null, &quot;dashOffset&quot;: null, &quot;fill&quot;: &quot;#DF0101&quot;, &quot;fillColor&quot;: &quot;#DF0101&quot;, &quot;fillOpacity&quot;: 0.2, &quot;fillRule&quot;: &quot;evenodd&quot;, &quot;lineCap&quot;: &quot;round&quot;, &quot;lineJoin&quot;: &quot;round&quot;, &quot;opacity&quot;: 1.0, &quot;radius&quot;: 18, &quot;stroke&quot;: true, &quot;weight&quot;: 3}\n",
       "            ).addTo(map_d0684e81f5e8244b6b494bfec2f0f4ea);\n",
       "        \n",
       "    \n",
       "            circle_marker_3880f63b20fd5f2272958812efd0c01a.bindTooltip(\n",
       "                `&lt;div&gt;\n",
       "                     역삼\n",
       "                 &lt;/div&gt;`,\n",
       "                {&quot;sticky&quot;: true}\n",
       "            );\n",
       "        \n",
       "    \n",
       "            var circle_marker_ae91c5cfc64f396d9789c9f9109e4eaa = L.circleMarker(\n",
       "                [37.525706, 126.89661],\n",
       "                {&quot;bubblingMouseEvents&quot;: true, &quot;color&quot;: &quot;#000000&quot;, &quot;dashArray&quot;: null, &quot;dashOffset&quot;: null, &quot;fill&quot;: &quot;#000000&quot;, &quot;fillColor&quot;: &quot;#000000&quot;, &quot;fillOpacity&quot;: 0.2, &quot;fillRule&quot;: &quot;evenodd&quot;, &quot;lineCap&quot;: &quot;round&quot;, &quot;lineJoin&quot;: &quot;round&quot;, &quot;opacity&quot;: 1.0, &quot;radius&quot;: 18, &quot;stroke&quot;: true, &quot;weight&quot;: 3}\n",
       "            ).addTo(map_d0684e81f5e8244b6b494bfec2f0f4ea);\n",
       "        \n",
       "    \n",
       "            circle_marker_ae91c5cfc64f396d9789c9f9109e4eaa.bindTooltip(\n",
       "                `&lt;div&gt;\n",
       "                     영등포구청\n",
       "                 &lt;/div&gt;`,\n",
       "                {&quot;sticky&quot;: true}\n",
       "            );\n",
       "        \n",
       "    \n",
       "            var circle_marker_90b7ce83dfc38be53072c32d2f28e516 = L.circleMarker(\n",
       "                [37.561238, 127.036954],\n",
       "                {&quot;bubblingMouseEvents&quot;: true, &quot;color&quot;: &quot;#000000&quot;, &quot;dashArray&quot;: null, &quot;dashOffset&quot;: null, &quot;fill&quot;: &quot;#000000&quot;, &quot;fillColor&quot;: &quot;#000000&quot;, &quot;fillOpacity&quot;: 0.2, &quot;fillRule&quot;: &quot;evenodd&quot;, &quot;lineCap&quot;: &quot;round&quot;, &quot;lineJoin&quot;: &quot;round&quot;, &quot;opacity&quot;: 1.0, &quot;radius&quot;: 18, &quot;stroke&quot;: true, &quot;weight&quot;: 3}\n",
       "            ).addTo(map_d0684e81f5e8244b6b494bfec2f0f4ea);\n",
       "        \n",
       "    \n",
       "            circle_marker_90b7ce83dfc38be53072c32d2f28e516.bindTooltip(\n",
       "                `&lt;div&gt;\n",
       "                     왕십리\n",
       "                 &lt;/div&gt;`,\n",
       "                {&quot;sticky&quot;: true}\n",
       "            );\n",
       "        \n",
       "    \n",
       "            var circle_marker_ee0426de10de507fb1a7519db4cb0b4b = L.circleMarker(\n",
       "                [37.561904, 127.050899],\n",
       "                {&quot;bubblingMouseEvents&quot;: true, &quot;color&quot;: &quot;#3A01DF&quot;, &quot;dashArray&quot;: null, &quot;dashOffset&quot;: null, &quot;fill&quot;: &quot;#3A01DF&quot;, &quot;fillColor&quot;: &quot;#3A01DF&quot;, &quot;fillOpacity&quot;: 0.2, &quot;fillRule&quot;: &quot;evenodd&quot;, &quot;lineCap&quot;: &quot;round&quot;, &quot;lineJoin&quot;: &quot;round&quot;, &quot;opacity&quot;: 1.0, &quot;radius&quot;: 18, &quot;stroke&quot;: true, &quot;weight&quot;: 3}\n",
       "            ).addTo(map_d0684e81f5e8244b6b494bfec2f0f4ea);\n",
       "        \n",
       "    \n",
       "            circle_marker_ee0426de10de507fb1a7519db4cb0b4b.bindTooltip(\n",
       "                `&lt;div&gt;\n",
       "                     용답\n",
       "                 &lt;/div&gt;`,\n",
       "                {&quot;sticky&quot;: true}\n",
       "            );\n",
       "        \n",
       "    \n",
       "            var circle_marker_81a2df00455eb799c69466bb068420d5 = L.circleMarker(\n",
       "                [37.574028, 127.038091],\n",
       "                {&quot;bubblingMouseEvents&quot;: true, &quot;color&quot;: &quot;#3A01DF&quot;, &quot;dashArray&quot;: null, &quot;dashOffset&quot;: null, &quot;fill&quot;: &quot;#3A01DF&quot;, &quot;fillColor&quot;: &quot;#3A01DF&quot;, &quot;fillOpacity&quot;: 0.2, &quot;fillRule&quot;: &quot;evenodd&quot;, &quot;lineCap&quot;: &quot;round&quot;, &quot;lineJoin&quot;: &quot;round&quot;, &quot;opacity&quot;: 1.0, &quot;radius&quot;: 18, &quot;stroke&quot;: true, &quot;weight&quot;: 3}\n",
       "            ).addTo(map_d0684e81f5e8244b6b494bfec2f0f4ea);\n",
       "        \n",
       "    \n",
       "            circle_marker_81a2df00455eb799c69466bb068420d5.bindTooltip(\n",
       "                `&lt;div&gt;\n",
       "                     용두\n",
       "                 &lt;/div&gt;`,\n",
       "                {&quot;sticky&quot;: true}\n",
       "            );\n",
       "        \n",
       "    \n",
       "            var circle_marker_3df085039b0fac60efdbf6b728f09db7 = L.circleMarker(\n",
       "                [37.566306, 126.991696],\n",
       "                {&quot;bubblingMouseEvents&quot;: true, &quot;color&quot;: &quot;#DF0101&quot;, &quot;dashArray&quot;: null, &quot;dashOffset&quot;: null, &quot;fill&quot;: &quot;#DF0101&quot;, &quot;fillColor&quot;: &quot;#DF0101&quot;, &quot;fillOpacity&quot;: 0.2, &quot;fillRule&quot;: &quot;evenodd&quot;, &quot;lineCap&quot;: &quot;round&quot;, &quot;lineJoin&quot;: &quot;round&quot;, &quot;opacity&quot;: 1.0, &quot;radius&quot;: 18, &quot;stroke&quot;: true, &quot;weight&quot;: 3}\n",
       "            ).addTo(map_d0684e81f5e8244b6b494bfec2f0f4ea);\n",
       "        \n",
       "    \n",
       "            circle_marker_3df085039b0fac60efdbf6b728f09db7.bindTooltip(\n",
       "                `&lt;div&gt;\n",
       "                     을지로3가\n",
       "                 &lt;/div&gt;`,\n",
       "                {&quot;sticky&quot;: true}\n",
       "            );\n",
       "        \n",
       "    \n",
       "            var circle_marker_a6ab1af86ae438166a9a25e8c4be51a6 = L.circleMarker(\n",
       "                [37.566595, 126.997817],\n",
       "                {&quot;bubblingMouseEvents&quot;: true, &quot;color&quot;: &quot;#DF0101&quot;, &quot;dashArray&quot;: null, &quot;dashOffset&quot;: null, &quot;fill&quot;: &quot;#DF0101&quot;, &quot;fillColor&quot;: &quot;#DF0101&quot;, &quot;fillOpacity&quot;: 0.2, &quot;fillRule&quot;: &quot;evenodd&quot;, &quot;lineCap&quot;: &quot;round&quot;, &quot;lineJoin&quot;: &quot;round&quot;, &quot;opacity&quot;: 1.0, &quot;radius&quot;: 18, &quot;stroke&quot;: true, &quot;weight&quot;: 3}\n",
       "            ).addTo(map_d0684e81f5e8244b6b494bfec2f0f4ea);\n",
       "        \n",
       "    \n",
       "            circle_marker_a6ab1af86ae438166a9a25e8c4be51a6.bindTooltip(\n",
       "                `&lt;div&gt;\n",
       "                     을지로4가\n",
       "                 &lt;/div&gt;`,\n",
       "                {&quot;sticky&quot;: true}\n",
       "            );\n",
       "        \n",
       "    \n",
       "            var circle_marker_5da79f965ccb87aad30dfc9b25b482e2 = L.circleMarker(\n",
       "                [37.566014, 126.982618],\n",
       "                {&quot;bubblingMouseEvents&quot;: true, &quot;color&quot;: &quot;#DF0101&quot;, &quot;dashArray&quot;: null, &quot;dashOffset&quot;: null, &quot;fill&quot;: &quot;#DF0101&quot;, &quot;fillColor&quot;: &quot;#DF0101&quot;, &quot;fillOpacity&quot;: 0.2, &quot;fillRule&quot;: &quot;evenodd&quot;, &quot;lineCap&quot;: &quot;round&quot;, &quot;lineJoin&quot;: &quot;round&quot;, &quot;opacity&quot;: 1.0, &quot;radius&quot;: 18, &quot;stroke&quot;: true, &quot;weight&quot;: 3}\n",
       "            ).addTo(map_d0684e81f5e8244b6b494bfec2f0f4ea);\n",
       "        \n",
       "    \n",
       "            circle_marker_5da79f965ccb87aad30dfc9b25b482e2.bindTooltip(\n",
       "                `&lt;div&gt;\n",
       "                     을지로입구\n",
       "                 &lt;/div&gt;`,\n",
       "                {&quot;sticky&quot;: true}\n",
       "            );\n",
       "        \n",
       "    \n",
       "            var circle_marker_24b8053c9a4b1be83f42f2205a27a459 = L.circleMarker(\n",
       "                [37.556733, 126.946013],\n",
       "                {&quot;bubblingMouseEvents&quot;: true, &quot;color&quot;: &quot;#000000&quot;, &quot;dashArray&quot;: null, &quot;dashOffset&quot;: null, &quot;fill&quot;: &quot;#000000&quot;, &quot;fillColor&quot;: &quot;#000000&quot;, &quot;fillOpacity&quot;: 0.2, &quot;fillRule&quot;: &quot;evenodd&quot;, &quot;lineCap&quot;: &quot;round&quot;, &quot;lineJoin&quot;: &quot;round&quot;, &quot;opacity&quot;: 1.0, &quot;radius&quot;: 18, &quot;stroke&quot;: true, &quot;weight&quot;: 3}\n",
       "            ).addTo(map_d0684e81f5e8244b6b494bfec2f0f4ea);\n",
       "        \n",
       "    \n",
       "            circle_marker_24b8053c9a4b1be83f42f2205a27a459.bindTooltip(\n",
       "                `&lt;div&gt;\n",
       "                     이대\n",
       "                 &lt;/div&gt;`,\n",
       "                {&quot;sticky&quot;: true}\n",
       "            );\n",
       "        \n",
       "    \n",
       "            var circle_marker_d59dd711a819f215d85f832b7e1efb5d = L.circleMarker(\n",
       "                [37.513262, 127.100159],\n",
       "                {&quot;bubblingMouseEvents&quot;: true, &quot;color&quot;: &quot;#000000&quot;, &quot;dashArray&quot;: null, &quot;dashOffset&quot;: null, &quot;fill&quot;: &quot;#000000&quot;, &quot;fillColor&quot;: &quot;#000000&quot;, &quot;fillOpacity&quot;: 0.2, &quot;fillRule&quot;: &quot;evenodd&quot;, &quot;lineCap&quot;: &quot;round&quot;, &quot;lineJoin&quot;: &quot;round&quot;, &quot;opacity&quot;: 1.0, &quot;radius&quot;: 18, &quot;stroke&quot;: true, &quot;weight&quot;: 3}\n",
       "            ).addTo(map_d0684e81f5e8244b6b494bfec2f0f4ea);\n",
       "        \n",
       "    \n",
       "            circle_marker_d59dd711a819f215d85f832b7e1efb5d.bindTooltip(\n",
       "                `&lt;div&gt;\n",
       "                     잠실\n",
       "                 &lt;/div&gt;`,\n",
       "                {&quot;sticky&quot;: true}\n",
       "            );\n",
       "        \n",
       "    \n",
       "            var circle_marker_83a6400744d3a002125618c3a480219c = L.circleMarker(\n",
       "                [37.520733, 127.10379],\n",
       "                {&quot;bubblingMouseEvents&quot;: true, &quot;color&quot;: &quot;#3A01DF&quot;, &quot;dashArray&quot;: null, &quot;dashOffset&quot;: null, &quot;fill&quot;: &quot;#3A01DF&quot;, &quot;fillColor&quot;: &quot;#3A01DF&quot;, &quot;fillOpacity&quot;: 0.2, &quot;fillRule&quot;: &quot;evenodd&quot;, &quot;lineCap&quot;: &quot;round&quot;, &quot;lineJoin&quot;: &quot;round&quot;, &quot;opacity&quot;: 1.0, &quot;radius&quot;: 18, &quot;stroke&quot;: true, &quot;weight&quot;: 3}\n",
       "            ).addTo(map_d0684e81f5e8244b6b494bfec2f0f4ea);\n",
       "        \n",
       "    \n",
       "            circle_marker_83a6400744d3a002125618c3a480219c.bindTooltip(\n",
       "                `&lt;div&gt;\n",
       "                     잠실나루\n",
       "                 &lt;/div&gt;`,\n",
       "                {&quot;sticky&quot;: true}\n",
       "            );\n",
       "        \n",
       "    \n",
       "            var circle_marker_175f043a2ff9f9f793f10e826e9e7793 = L.circleMarker(\n",
       "                [37.511687, 127.086162],\n",
       "                {&quot;bubblingMouseEvents&quot;: true, &quot;color&quot;: &quot;#3A01DF&quot;, &quot;dashArray&quot;: null, &quot;dashOffset&quot;: null, &quot;fill&quot;: &quot;#3A01DF&quot;, &quot;fillColor&quot;: &quot;#3A01DF&quot;, &quot;fillOpacity&quot;: 0.2, &quot;fillRule&quot;: &quot;evenodd&quot;, &quot;lineCap&quot;: &quot;round&quot;, &quot;lineJoin&quot;: &quot;round&quot;, &quot;opacity&quot;: 1.0, &quot;radius&quot;: 18, &quot;stroke&quot;: true, &quot;weight&quot;: 3}\n",
       "            ).addTo(map_d0684e81f5e8244b6b494bfec2f0f4ea);\n",
       "        \n",
       "    \n",
       "            circle_marker_175f043a2ff9f9f793f10e826e9e7793.bindTooltip(\n",
       "                `&lt;div&gt;\n",
       "                     잠실새내\n",
       "                 &lt;/div&gt;`,\n",
       "                {&quot;sticky&quot;: true}\n",
       "            );\n",
       "        \n",
       "    \n",
       "            var circle_marker_fb65d9a691a0b9522488305af3076f4c = L.circleMarker(\n",
       "                [37.511022, 127.073704],\n",
       "                {&quot;bubblingMouseEvents&quot;: true, &quot;color&quot;: &quot;#000000&quot;, &quot;dashArray&quot;: null, &quot;dashOffset&quot;: null, &quot;fill&quot;: &quot;#000000&quot;, &quot;fillColor&quot;: &quot;#000000&quot;, &quot;fillOpacity&quot;: 0.2, &quot;fillRule&quot;: &quot;evenodd&quot;, &quot;lineCap&quot;: &quot;round&quot;, &quot;lineJoin&quot;: &quot;round&quot;, &quot;opacity&quot;: 1.0, &quot;radius&quot;: 18, &quot;stroke&quot;: true, &quot;weight&quot;: 3}\n",
       "            ).addTo(map_d0684e81f5e8244b6b494bfec2f0f4ea);\n",
       "        \n",
       "    \n",
       "            circle_marker_fb65d9a691a0b9522488305af3076f4c.bindTooltip(\n",
       "                `&lt;div&gt;\n",
       "                     종합운동장\n",
       "                 &lt;/div&gt;`,\n",
       "                {&quot;sticky&quot;: true}\n",
       "            );\n",
       "        \n",
       "    \n",
       "            var circle_marker_e465490e17f2434bdec4d0d98333022e = L.circleMarker(\n",
       "                [37.559704, 126.964378],\n",
       "                {&quot;bubblingMouseEvents&quot;: true, &quot;color&quot;: &quot;#000000&quot;, &quot;dashArray&quot;: null, &quot;dashOffset&quot;: null, &quot;fill&quot;: &quot;#000000&quot;, &quot;fillColor&quot;: &quot;#000000&quot;, &quot;fillOpacity&quot;: 0.2, &quot;fillRule&quot;: &quot;evenodd&quot;, &quot;lineCap&quot;: &quot;round&quot;, &quot;lineJoin&quot;: &quot;round&quot;, &quot;opacity&quot;: 1.0, &quot;radius&quot;: 18, &quot;stroke&quot;: true, &quot;weight&quot;: 3}\n",
       "            ).addTo(map_d0684e81f5e8244b6b494bfec2f0f4ea);\n",
       "        \n",
       "    \n",
       "            circle_marker_e465490e17f2434bdec4d0d98333022e.bindTooltip(\n",
       "                `&lt;div&gt;\n",
       "                     충정로\n",
       "                 &lt;/div&gt;`,\n",
       "                {&quot;sticky&quot;: true}\n",
       "            );\n",
       "        \n",
       "    \n",
       "            var circle_marker_92af20f0f91771f023515df5c8a0f9ea = L.circleMarker(\n",
       "                [37.555273, 127.043655],\n",
       "                {&quot;bubblingMouseEvents&quot;: true, &quot;color&quot;: &quot;#DF0101&quot;, &quot;dashArray&quot;: null, &quot;dashOffset&quot;: null, &quot;fill&quot;: &quot;#DF0101&quot;, &quot;fillColor&quot;: &quot;#DF0101&quot;, &quot;fillOpacity&quot;: 0.2, &quot;fillRule&quot;: &quot;evenodd&quot;, &quot;lineCap&quot;: &quot;round&quot;, &quot;lineJoin&quot;: &quot;round&quot;, &quot;opacity&quot;: 1.0, &quot;radius&quot;: 18, &quot;stroke&quot;: true, &quot;weight&quot;: 3}\n",
       "            ).addTo(map_d0684e81f5e8244b6b494bfec2f0f4ea);\n",
       "        \n",
       "    \n",
       "            circle_marker_92af20f0f91771f023515df5c8a0f9ea.bindTooltip(\n",
       "                `&lt;div&gt;\n",
       "                     한양대\n",
       "                 &lt;/div&gt;`,\n",
       "                {&quot;sticky&quot;: true}\n",
       "            );\n",
       "        \n",
       "    \n",
       "            var circle_marker_27d33535bb73d24daf557cf89d927658 = L.circleMarker(\n",
       "                [37.549457, 126.913808],\n",
       "                {&quot;bubblingMouseEvents&quot;: true, &quot;color&quot;: &quot;#000000&quot;, &quot;dashArray&quot;: null, &quot;dashOffset&quot;: null, &quot;fill&quot;: &quot;#000000&quot;, &quot;fillColor&quot;: &quot;#000000&quot;, &quot;fillOpacity&quot;: 0.2, &quot;fillRule&quot;: &quot;evenodd&quot;, &quot;lineCap&quot;: &quot;round&quot;, &quot;lineJoin&quot;: &quot;round&quot;, &quot;opacity&quot;: 1.0, &quot;radius&quot;: 18, &quot;stroke&quot;: true, &quot;weight&quot;: 3}\n",
       "            ).addTo(map_d0684e81f5e8244b6b494bfec2f0f4ea);\n",
       "        \n",
       "    \n",
       "            circle_marker_27d33535bb73d24daf557cf89d927658.bindTooltip(\n",
       "                `&lt;div&gt;\n",
       "                     합정\n",
       "                 &lt;/div&gt;`,\n",
       "                {&quot;sticky&quot;: true}\n",
       "            );\n",
       "        \n",
       "    \n",
       "            var circle_marker_7333834e65c6e477aaa370ecfbb08798 = L.circleMarker(\n",
       "                [37.55679, 126.923708],\n",
       "                {&quot;bubblingMouseEvents&quot;: true, &quot;color&quot;: &quot;#000000&quot;, &quot;dashArray&quot;: null, &quot;dashOffset&quot;: null, &quot;fill&quot;: &quot;#000000&quot;, &quot;fillColor&quot;: &quot;#000000&quot;, &quot;fillOpacity&quot;: 0.2, &quot;fillRule&quot;: &quot;evenodd&quot;, &quot;lineCap&quot;: &quot;round&quot;, &quot;lineJoin&quot;: &quot;round&quot;, &quot;opacity&quot;: 1.0, &quot;radius&quot;: 18, &quot;stroke&quot;: true, &quot;weight&quot;: 3}\n",
       "            ).addTo(map_d0684e81f5e8244b6b494bfec2f0f4ea);\n",
       "        \n",
       "    \n",
       "            circle_marker_7333834e65c6e477aaa370ecfbb08798.bindTooltip(\n",
       "                `&lt;div&gt;\n",
       "                     홍대입구\n",
       "                 &lt;/div&gt;`,\n",
       "                {&quot;sticky&quot;: true}\n",
       "            );\n",
       "        \n",
       "    \n",
       "            var circle_marker_76443a4e788dba2588d725a6899a878c = L.circleMarker(\n",
       "                [37.49799, 127.027912],\n",
       "                {&quot;bubblingMouseEvents&quot;: true, &quot;color&quot;: &quot;#DF0101&quot;, &quot;dashArray&quot;: null, &quot;dashOffset&quot;: null, &quot;fill&quot;: &quot;#DF0101&quot;, &quot;fillColor&quot;: &quot;#DF0101&quot;, &quot;fillOpacity&quot;: 0.2, &quot;fillRule&quot;: &quot;evenodd&quot;, &quot;lineCap&quot;: &quot;round&quot;, &quot;lineJoin&quot;: &quot;round&quot;, &quot;opacity&quot;: 1.0, &quot;radius&quot;: 18, &quot;stroke&quot;: true, &quot;weight&quot;: 3}\n",
       "            ).addTo(map_d0684e81f5e8244b6b494bfec2f0f4ea);\n",
       "        \n",
       "    \n",
       "            circle_marker_76443a4e788dba2588d725a6899a878c.bindTooltip(\n",
       "                `&lt;div&gt;\n",
       "                     강남\n",
       "                 &lt;/div&gt;`,\n",
       "                {&quot;sticky&quot;: true}\n",
       "            );\n",
       "        \n",
       "    \n",
       "            var circle_marker_6d0e82b8038196279c8dba0e0f39e40a = L.circleMarker(\n",
       "                [37.535095, 127.094681],\n",
       "                {&quot;bubblingMouseEvents&quot;: true, &quot;color&quot;: &quot;#3A01DF&quot;, &quot;dashArray&quot;: null, &quot;dashOffset&quot;: null, &quot;fill&quot;: &quot;#3A01DF&quot;, &quot;fillColor&quot;: &quot;#3A01DF&quot;, &quot;fillOpacity&quot;: 0.2, &quot;fillRule&quot;: &quot;evenodd&quot;, &quot;lineCap&quot;: &quot;round&quot;, &quot;lineJoin&quot;: &quot;round&quot;, &quot;opacity&quot;: 1.0, &quot;radius&quot;: 18, &quot;stroke&quot;: true, &quot;weight&quot;: 3}\n",
       "            ).addTo(map_d0684e81f5e8244b6b494bfec2f0f4ea);\n",
       "        \n",
       "    \n",
       "            circle_marker_6d0e82b8038196279c8dba0e0f39e40a.bindTooltip(\n",
       "                `&lt;div&gt;\n",
       "                     강변\n",
       "                 &lt;/div&gt;`,\n",
       "                {&quot;sticky&quot;: true}\n",
       "            );\n",
       "        \n",
       "    \n",
       "            var circle_marker_112c8407905494675a7e7859237f856e = L.circleMarker(\n",
       "                [37.540373, 127.069191],\n",
       "                {&quot;bubblingMouseEvents&quot;: true, &quot;color&quot;: &quot;#000000&quot;, &quot;dashArray&quot;: null, &quot;dashOffset&quot;: null, &quot;fill&quot;: &quot;#000000&quot;, &quot;fillColor&quot;: &quot;#000000&quot;, &quot;fillOpacity&quot;: 0.2, &quot;fillRule&quot;: &quot;evenodd&quot;, &quot;lineCap&quot;: &quot;round&quot;, &quot;lineJoin&quot;: &quot;round&quot;, &quot;opacity&quot;: 1.0, &quot;radius&quot;: 18, &quot;stroke&quot;: true, &quot;weight&quot;: 3}\n",
       "            ).addTo(map_d0684e81f5e8244b6b494bfec2f0f4ea);\n",
       "        \n",
       "    \n",
       "            circle_marker_112c8407905494675a7e7859237f856e.bindTooltip(\n",
       "                `&lt;div&gt;\n",
       "                     건대입구\n",
       "                 &lt;/div&gt;`,\n",
       "                {&quot;sticky&quot;: true}\n",
       "            );\n",
       "        \n",
       "    \n",
       "            var circle_marker_49713c3082d5ca05dd6b2f2ecd6d57ab = L.circleMarker(\n",
       "                [37.493961, 127.014667],\n",
       "                {&quot;bubblingMouseEvents&quot;: true, &quot;color&quot;: &quot;#DF0101&quot;, &quot;dashArray&quot;: null, &quot;dashOffset&quot;: null, &quot;fill&quot;: &quot;#DF0101&quot;, &quot;fillColor&quot;: &quot;#DF0101&quot;, &quot;fillOpacity&quot;: 0.2, &quot;fillRule&quot;: &quot;evenodd&quot;, &quot;lineCap&quot;: &quot;round&quot;, &quot;lineJoin&quot;: &quot;round&quot;, &quot;opacity&quot;: 1.0, &quot;radius&quot;: 18, &quot;stroke&quot;: true, &quot;weight&quot;: 3}\n",
       "            ).addTo(map_d0684e81f5e8244b6b494bfec2f0f4ea);\n",
       "        \n",
       "    \n",
       "            circle_marker_49713c3082d5ca05dd6b2f2ecd6d57ab.bindTooltip(\n",
       "                `&lt;div&gt;\n",
       "                     교대\n",
       "                 &lt;/div&gt;`,\n",
       "                {&quot;sticky&quot;: true}\n",
       "            );\n",
       "        \n",
       "    \n",
       "            var circle_marker_5e99fa7fccfdcfc504e36d48c6b3d7f8 = L.circleMarker(\n",
       "                [37.485266, 126.901401],\n",
       "                {&quot;bubblingMouseEvents&quot;: true, &quot;color&quot;: &quot;#000000&quot;, &quot;dashArray&quot;: null, &quot;dashOffset&quot;: null, &quot;fill&quot;: &quot;#000000&quot;, &quot;fillColor&quot;: &quot;#000000&quot;, &quot;fillOpacity&quot;: 0.2, &quot;fillRule&quot;: &quot;evenodd&quot;, &quot;lineCap&quot;: &quot;round&quot;, &quot;lineJoin&quot;: &quot;round&quot;, &quot;opacity&quot;: 1.0, &quot;radius&quot;: 18, &quot;stroke&quot;: true, &quot;weight&quot;: 3}\n",
       "            ).addTo(map_d0684e81f5e8244b6b494bfec2f0f4ea);\n",
       "        \n",
       "    \n",
       "            circle_marker_5e99fa7fccfdcfc504e36d48c6b3d7f8.bindTooltip(\n",
       "                `&lt;div&gt;\n",
       "                     구로디지털단지\n",
       "                 &lt;/div&gt;`,\n",
       "                {&quot;sticky&quot;: true}\n",
       "            );\n",
       "        \n",
       "    \n",
       "            var circle_marker_83176676e6f469ffca38a0cdf7291b4c = L.circleMarker(\n",
       "                [37.537077, 127.085916],\n",
       "                {&quot;bubblingMouseEvents&quot;: true, &quot;color&quot;: &quot;#3A01DF&quot;, &quot;dashArray&quot;: null, &quot;dashOffset&quot;: null, &quot;fill&quot;: &quot;#3A01DF&quot;, &quot;fillColor&quot;: &quot;#3A01DF&quot;, &quot;fillOpacity&quot;: 0.2, &quot;fillRule&quot;: &quot;evenodd&quot;, &quot;lineCap&quot;: &quot;round&quot;, &quot;lineJoin&quot;: &quot;round&quot;, &quot;opacity&quot;: 1.0, &quot;radius&quot;: 18, &quot;stroke&quot;: true, &quot;weight&quot;: 3}\n",
       "            ).addTo(map_d0684e81f5e8244b6b494bfec2f0f4ea);\n",
       "        \n",
       "    \n",
       "            circle_marker_83176676e6f469ffca38a0cdf7291b4c.bindTooltip(\n",
       "                `&lt;div&gt;\n",
       "                     구의\n",
       "                 &lt;/div&gt;`,\n",
       "                {&quot;sticky&quot;: true}\n",
       "            );\n",
       "        \n",
       "    \n",
       "            var circle_marker_4de2965d34f921720174d77567bf35f3 = L.circleMarker(\n",
       "                [37.47693, 126.963693],\n",
       "                {&quot;bubblingMouseEvents&quot;: true, &quot;color&quot;: &quot;#3A01DF&quot;, &quot;dashArray&quot;: null, &quot;dashOffset&quot;: null, &quot;fill&quot;: &quot;#3A01DF&quot;, &quot;fillColor&quot;: &quot;#3A01DF&quot;, &quot;fillOpacity&quot;: 0.2, &quot;fillRule&quot;: &quot;evenodd&quot;, &quot;lineCap&quot;: &quot;round&quot;, &quot;lineJoin&quot;: &quot;round&quot;, &quot;opacity&quot;: 1.0, &quot;radius&quot;: 18, &quot;stroke&quot;: true, &quot;weight&quot;: 3}\n",
       "            ).addTo(map_d0684e81f5e8244b6b494bfec2f0f4ea);\n",
       "        \n",
       "    \n",
       "            circle_marker_4de2965d34f921720174d77567bf35f3.bindTooltip(\n",
       "                `&lt;div&gt;\n",
       "                     낙성대\n",
       "                 &lt;/div&gt;`,\n",
       "                {&quot;sticky&quot;: true}\n",
       "            );\n",
       "        \n",
       "    \n",
       "            var circle_marker_5a3088723d6e208713d820ea7fc46c1d = L.circleMarker(\n",
       "                [37.534946, 126.902767],\n",
       "                {&quot;bubblingMouseEvents&quot;: true, &quot;color&quot;: &quot;#000000&quot;, &quot;dashArray&quot;: null, &quot;dashOffset&quot;: null, &quot;fill&quot;: &quot;#000000&quot;, &quot;fillColor&quot;: &quot;#000000&quot;, &quot;fillOpacity&quot;: 0.2, &quot;fillRule&quot;: &quot;evenodd&quot;, &quot;lineCap&quot;: &quot;round&quot;, &quot;lineJoin&quot;: &quot;round&quot;, &quot;opacity&quot;: 1.0, &quot;radius&quot;: 18, &quot;stroke&quot;: true, &quot;weight&quot;: 3}\n",
       "            ).addTo(map_d0684e81f5e8244b6b494bfec2f0f4ea);\n",
       "        \n",
       "    \n",
       "            circle_marker_5a3088723d6e208713d820ea7fc46c1d.bindTooltip(\n",
       "                `&lt;div&gt;\n",
       "                     당산\n",
       "                 &lt;/div&gt;`,\n",
       "                {&quot;sticky&quot;: true}\n",
       "            );\n",
       "        \n",
       "    \n",
       "            var circle_marker_c131928b7770a0257bbc64c0ec552123 = L.circleMarker(\n",
       "                [37.493243, 126.894932],\n",
       "                {&quot;bubblingMouseEvents&quot;: true, &quot;color&quot;: &quot;#3A01DF&quot;, &quot;dashArray&quot;: null, &quot;dashOffset&quot;: null, &quot;fill&quot;: &quot;#3A01DF&quot;, &quot;fillColor&quot;: &quot;#3A01DF&quot;, &quot;fillOpacity&quot;: 0.2, &quot;fillRule&quot;: &quot;evenodd&quot;, &quot;lineCap&quot;: &quot;round&quot;, &quot;lineJoin&quot;: &quot;round&quot;, &quot;opacity&quot;: 1.0, &quot;radius&quot;: 18, &quot;stroke&quot;: true, &quot;weight&quot;: 3}\n",
       "            ).addTo(map_d0684e81f5e8244b6b494bfec2f0f4ea);\n",
       "        \n",
       "    \n",
       "            circle_marker_c131928b7770a0257bbc64c0ec552123.bindTooltip(\n",
       "                `&lt;div&gt;\n",
       "                     대림\n",
       "                 &lt;/div&gt;`,\n",
       "                {&quot;sticky&quot;: true}\n",
       "            );\n",
       "        \n",
       "    \n",
       "            var circle_marker_44b456f6d6b1843450501614efbbf564 = L.circleMarker(\n",
       "                [37.514287, 126.882768],\n",
       "                {&quot;bubblingMouseEvents&quot;: true, &quot;color&quot;: &quot;#000000&quot;, &quot;dashArray&quot;: null, &quot;dashOffset&quot;: null, &quot;fill&quot;: &quot;#000000&quot;, &quot;fillColor&quot;: &quot;#000000&quot;, &quot;fillOpacity&quot;: 0.2, &quot;fillRule&quot;: &quot;evenodd&quot;, &quot;lineCap&quot;: &quot;round&quot;, &quot;lineJoin&quot;: &quot;round&quot;, &quot;opacity&quot;: 1.0, &quot;radius&quot;: 18, &quot;stroke&quot;: true, &quot;weight&quot;: 3}\n",
       "            ).addTo(map_d0684e81f5e8244b6b494bfec2f0f4ea);\n",
       "        \n",
       "    \n",
       "            circle_marker_44b456f6d6b1843450501614efbbf564.bindTooltip(\n",
       "                `&lt;div&gt;\n",
       "                     도림천\n",
       "                 &lt;/div&gt;`,\n",
       "                {&quot;sticky&quot;: true}\n",
       "            );\n",
       "        \n",
       "    \n",
       "            var circle_marker_e60e8681d734c092e847ea810fe764c9 = L.circleMarker(\n",
       "                [37.565613, 127.009054],\n",
       "                {&quot;bubblingMouseEvents&quot;: true, &quot;color&quot;: &quot;#DF0101&quot;, &quot;dashArray&quot;: null, &quot;dashOffset&quot;: null, &quot;fill&quot;: &quot;#DF0101&quot;, &quot;fillColor&quot;: &quot;#DF0101&quot;, &quot;fillOpacity&quot;: 0.2, &quot;fillRule&quot;: &quot;evenodd&quot;, &quot;lineCap&quot;: &quot;round&quot;, &quot;lineJoin&quot;: &quot;round&quot;, &quot;opacity&quot;: 1.0, &quot;radius&quot;: 18, &quot;stroke&quot;: true, &quot;weight&quot;: 3}\n",
       "            ).addTo(map_d0684e81f5e8244b6b494bfec2f0f4ea);\n",
       "        \n",
       "    \n",
       "            circle_marker_e60e8681d734c092e847ea810fe764c9.bindTooltip(\n",
       "                `&lt;div&gt;\n",
       "                     동대문역사문화공원\n",
       "                 &lt;/div&gt;`,\n",
       "                {&quot;sticky&quot;: true}\n",
       "            );\n",
       "        \n",
       "    \n",
       "            var circle_marker_bb3b735d7bafc9592121f256abf15d57 = L.circleMarker(\n",
       "                [37.547184, 127.047367],\n",
       "                {&quot;bubblingMouseEvents&quot;: true, &quot;color&quot;: &quot;#DF0101&quot;, &quot;dashArray&quot;: null, &quot;dashOffset&quot;: null, &quot;fill&quot;: &quot;#DF0101&quot;, &quot;fillColor&quot;: &quot;#DF0101&quot;, &quot;fillOpacity&quot;: 0.2, &quot;fillRule&quot;: &quot;evenodd&quot;, &quot;lineCap&quot;: &quot;round&quot;, &quot;lineJoin&quot;: &quot;round&quot;, &quot;opacity&quot;: 1.0, &quot;radius&quot;: 18, &quot;stroke&quot;: true, &quot;weight&quot;: 3}\n",
       "            ).addTo(map_d0684e81f5e8244b6b494bfec2f0f4ea);\n",
       "        \n",
       "    \n",
       "            circle_marker_bb3b735d7bafc9592121f256abf15d57.bindTooltip(\n",
       "                `&lt;div&gt;\n",
       "                     뚝섬\n",
       "                 &lt;/div&gt;`,\n",
       "                {&quot;sticky&quot;: true}\n",
       "            );\n",
       "        \n",
       "    \n",
       "            var circle_marker_e2e81c3635cc3eecfb4fc320dfbef129 = L.circleMarker(\n",
       "                [37.517933, 126.89476],\n",
       "                {&quot;bubblingMouseEvents&quot;: true, &quot;color&quot;: &quot;#000000&quot;, &quot;dashArray&quot;: null, &quot;dashOffset&quot;: null, &quot;fill&quot;: &quot;#000000&quot;, &quot;fillColor&quot;: &quot;#000000&quot;, &quot;fillOpacity&quot;: 0.2, &quot;fillRule&quot;: &quot;evenodd&quot;, &quot;lineCap&quot;: &quot;round&quot;, &quot;lineJoin&quot;: &quot;round&quot;, &quot;opacity&quot;: 1.0, &quot;radius&quot;: 18, &quot;stroke&quot;: true, &quot;weight&quot;: 3}\n",
       "            ).addTo(map_d0684e81f5e8244b6b494bfec2f0f4ea);\n",
       "        \n",
       "    \n",
       "            circle_marker_e2e81c3635cc3eecfb4fc320dfbef129.bindTooltip(\n",
       "                `&lt;div&gt;\n",
       "                     문래\n",
       "                 &lt;/div&gt;`,\n",
       "                {&quot;sticky&quot;: true}\n",
       "            );\n",
       "        \n",
       "    \n",
       "            var circle_marker_334d427b673a0c7cbb6d2f630367eadc = L.circleMarker(\n",
       "                [37.481426, 126.997596],\n",
       "                {&quot;bubblingMouseEvents&quot;: true, &quot;color&quot;: &quot;#000000&quot;, &quot;dashArray&quot;: null, &quot;dashOffset&quot;: null, &quot;fill&quot;: &quot;#000000&quot;, &quot;fillColor&quot;: &quot;#000000&quot;, &quot;fillOpacity&quot;: 0.2, &quot;fillRule&quot;: &quot;evenodd&quot;, &quot;lineCap&quot;: &quot;round&quot;, &quot;lineJoin&quot;: &quot;round&quot;, &quot;opacity&quot;: 1.0, &quot;radius&quot;: 18, &quot;stroke&quot;: true, &quot;weight&quot;: 3}\n",
       "            ).addTo(map_d0684e81f5e8244b6b494bfec2f0f4ea);\n",
       "        \n",
       "    \n",
       "            circle_marker_334d427b673a0c7cbb6d2f630367eadc.bindTooltip(\n",
       "                `&lt;div&gt;\n",
       "                     방배\n",
       "                 &lt;/div&gt;`,\n",
       "                {&quot;sticky&quot;: true}\n",
       "            );\n",
       "        \n",
       "    \n",
       "            var circle_marker_3e701b4b5ad4fe2e5324aa7779251933 = L.circleMarker(\n",
       "                [37.482362, 126.941892],\n",
       "                {&quot;bubblingMouseEvents&quot;: true, &quot;color&quot;: &quot;#3A01DF&quot;, &quot;dashArray&quot;: null, &quot;dashOffset&quot;: null, &quot;fill&quot;: &quot;#3A01DF&quot;, &quot;fillColor&quot;: &quot;#3A01DF&quot;, &quot;fillOpacity&quot;: 0.2, &quot;fillRule&quot;: &quot;evenodd&quot;, &quot;lineCap&quot;: &quot;round&quot;, &quot;lineJoin&quot;: &quot;round&quot;, &quot;opacity&quot;: 1.0, &quot;radius&quot;: 18, &quot;stroke&quot;: true, &quot;weight&quot;: 3}\n",
       "            ).addTo(map_d0684e81f5e8244b6b494bfec2f0f4ea);\n",
       "        \n",
       "    \n",
       "            circle_marker_3e701b4b5ad4fe2e5324aa7779251933.bindTooltip(\n",
       "                `&lt;div&gt;\n",
       "                     봉천\n",
       "                 &lt;/div&gt;`,\n",
       "                {&quot;sticky&quot;: true}\n",
       "            );\n",
       "        \n",
       "    \n",
       "            var circle_marker_985488d00137bc6840e6b6ab36610d4d = L.circleMarker(\n",
       "                [37.476538, 126.981544],\n",
       "                {&quot;bubblingMouseEvents&quot;: true, &quot;color&quot;: &quot;#000000&quot;, &quot;dashArray&quot;: null, &quot;dashOffset&quot;: null, &quot;fill&quot;: &quot;#000000&quot;, &quot;fillColor&quot;: &quot;#000000&quot;, &quot;fillOpacity&quot;: 0.2, &quot;fillRule&quot;: &quot;evenodd&quot;, &quot;lineCap&quot;: &quot;round&quot;, &quot;lineJoin&quot;: &quot;round&quot;, &quot;opacity&quot;: 1.0, &quot;radius&quot;: 18, &quot;stroke&quot;: true, &quot;weight&quot;: 3}\n",
       "            ).addTo(map_d0684e81f5e8244b6b494bfec2f0f4ea);\n",
       "        \n",
       "    \n",
       "            circle_marker_985488d00137bc6840e6b6ab36610d4d.bindTooltip(\n",
       "                `&lt;div&gt;\n",
       "                     사당\n",
       "                 &lt;/div&gt;`,\n",
       "                {&quot;sticky&quot;: true}\n",
       "            );\n",
       "        \n",
       "    \n",
       "            var circle_marker_2be24e5ddefec7c10a3cdb093bf8f4b0 = L.circleMarker(\n",
       "                [37.508844, 127.06316],\n",
       "                {&quot;bubblingMouseEvents&quot;: true, &quot;color&quot;: &quot;#DF0101&quot;, &quot;dashArray&quot;: null, &quot;dashOffset&quot;: null, &quot;fill&quot;: &quot;#DF0101&quot;, &quot;fillColor&quot;: &quot;#DF0101&quot;, &quot;fillOpacity&quot;: 0.2, &quot;fillRule&quot;: &quot;evenodd&quot;, &quot;lineCap&quot;: &quot;round&quot;, &quot;lineJoin&quot;: &quot;round&quot;, &quot;opacity&quot;: 1.0, &quot;radius&quot;: 18, &quot;stroke&quot;: true, &quot;weight&quot;: 3}\n",
       "            ).addTo(map_d0684e81f5e8244b6b494bfec2f0f4ea);\n",
       "        \n",
       "    \n",
       "            circle_marker_2be24e5ddefec7c10a3cdb093bf8f4b0.bindTooltip(\n",
       "                `&lt;div&gt;\n",
       "                     삼성\n",
       "                 &lt;/div&gt;`,\n",
       "                {&quot;sticky&quot;: true}\n",
       "            );\n",
       "        \n",
       "    \n",
       "            var circle_marker_45043b60c4aeaec27e5ae15e4ecf0673 = L.circleMarker(\n",
       "                [37.564354, 127.029354],\n",
       "                {&quot;bubblingMouseEvents&quot;: true, &quot;color&quot;: &quot;#3A01DF&quot;, &quot;dashArray&quot;: null, &quot;dashOffset&quot;: null, &quot;fill&quot;: &quot;#3A01DF&quot;, &quot;fillColor&quot;: &quot;#3A01DF&quot;, &quot;fillOpacity&quot;: 0.2, &quot;fillRule&quot;: &quot;evenodd&quot;, &quot;lineCap&quot;: &quot;round&quot;, &quot;lineJoin&quot;: &quot;round&quot;, &quot;opacity&quot;: 1.0, &quot;radius&quot;: 18, &quot;stroke&quot;: true, &quot;weight&quot;: 3}\n",
       "            ).addTo(map_d0684e81f5e8244b6b494bfec2f0f4ea);\n",
       "        \n",
       "    \n",
       "            circle_marker_45043b60c4aeaec27e5ae15e4ecf0673.bindTooltip(\n",
       "                `&lt;div&gt;\n",
       "                     상왕십리\n",
       "                 &lt;/div&gt;`,\n",
       "                {&quot;sticky&quot;: true}\n",
       "            );\n",
       "        \n",
       "    \n",
       "            var circle_marker_425b9637200bf0f9ec4ceab4bb0cc08a = L.circleMarker(\n",
       "                [37.481247, 126.952739],\n",
       "                {&quot;bubblingMouseEvents&quot;: true, &quot;color&quot;: &quot;#3A01DF&quot;, &quot;dashArray&quot;: null, &quot;dashOffset&quot;: null, &quot;fill&quot;: &quot;#3A01DF&quot;, &quot;fillColor&quot;: &quot;#3A01DF&quot;, &quot;fillOpacity&quot;: 0.2, &quot;fillRule&quot;: &quot;evenodd&quot;, &quot;lineCap&quot;: &quot;round&quot;, &quot;lineJoin&quot;: &quot;round&quot;, &quot;opacity&quot;: 1.0, &quot;radius&quot;: 18, &quot;stroke&quot;: true, &quot;weight&quot;: 3}\n",
       "            ).addTo(map_d0684e81f5e8244b6b494bfec2f0f4ea);\n",
       "        \n",
       "    \n",
       "            circle_marker_425b9637200bf0f9ec4ceab4bb0cc08a.bindTooltip(\n",
       "                `&lt;div&gt;\n",
       "                     서울대입구\n",
       "                 &lt;/div&gt;`,\n",
       "                {&quot;sticky&quot;: true}\n",
       "            );\n",
       "        \n",
       "    \n",
       "            var circle_marker_0390b0ea506c32b050c48f3b385248f1 = L.circleMarker(\n",
       "                [37.491897, 127.007917],\n",
       "                {&quot;bubblingMouseEvents&quot;: true, &quot;color&quot;: &quot;#DF0101&quot;, &quot;dashArray&quot;: null, &quot;dashOffset&quot;: null, &quot;fill&quot;: &quot;#DF0101&quot;, &quot;fillColor&quot;: &quot;#DF0101&quot;, &quot;fillOpacity&quot;: 0.2, &quot;fillRule&quot;: &quot;evenodd&quot;, &quot;lineCap&quot;: &quot;round&quot;, &quot;lineJoin&quot;: &quot;round&quot;, &quot;opacity&quot;: 1.0, &quot;radius&quot;: 18, &quot;stroke&quot;: true, &quot;weight&quot;: 3}\n",
       "            ).addTo(map_d0684e81f5e8244b6b494bfec2f0f4ea);\n",
       "        \n",
       "    \n",
       "            circle_marker_0390b0ea506c32b050c48f3b385248f1.bindTooltip(\n",
       "                `&lt;div&gt;\n",
       "                     서초\n",
       "                 &lt;/div&gt;`,\n",
       "                {&quot;sticky&quot;: true}\n",
       "            );\n",
       "        \n",
       "    \n",
       "            var circle_marker_170ce1758b2fb5c2cea6fd0bfb69d683 = L.circleMarker(\n",
       "                [37.504286, 127.048203],\n",
       "                {&quot;bubblingMouseEvents&quot;: true, &quot;color&quot;: &quot;#DF0101&quot;, &quot;dashArray&quot;: null, &quot;dashOffset&quot;: null, &quot;fill&quot;: &quot;#DF0101&quot;, &quot;fillColor&quot;: &quot;#DF0101&quot;, &quot;fillOpacity&quot;: 0.2, &quot;fillRule&quot;: &quot;evenodd&quot;, &quot;lineCap&quot;: &quot;round&quot;, &quot;lineJoin&quot;: &quot;round&quot;, &quot;opacity&quot;: 1.0, &quot;radius&quot;: 18, &quot;stroke&quot;: true, &quot;weight&quot;: 3}\n",
       "            ).addTo(map_d0684e81f5e8244b6b494bfec2f0f4ea);\n",
       "        \n",
       "    \n",
       "            circle_marker_170ce1758b2fb5c2cea6fd0bfb69d683.bindTooltip(\n",
       "                `&lt;div&gt;\n",
       "                     선릉\n",
       "                 &lt;/div&gt;`,\n",
       "                {&quot;sticky&quot;: true}\n",
       "            );\n",
       "        \n",
       "    \n",
       "            var circle_marker_e6e6a23c267bcb60f464c5493a027abb = L.circleMarker(\n",
       "                [37.544581, 127.055961],\n",
       "                {&quot;bubblingMouseEvents&quot;: true, &quot;color&quot;: &quot;#DF0101&quot;, &quot;dashArray&quot;: null, &quot;dashOffset&quot;: null, &quot;fill&quot;: &quot;#DF0101&quot;, &quot;fillColor&quot;: &quot;#DF0101&quot;, &quot;fillOpacity&quot;: 0.2, &quot;fillRule&quot;: &quot;evenodd&quot;, &quot;lineCap&quot;: &quot;round&quot;, &quot;lineJoin&quot;: &quot;round&quot;, &quot;opacity&quot;: 1.0, &quot;radius&quot;: 18, &quot;stroke&quot;: true, &quot;weight&quot;: 3}\n",
       "            ).addTo(map_d0684e81f5e8244b6b494bfec2f0f4ea);\n",
       "        \n",
       "    \n",
       "            circle_marker_e6e6a23c267bcb60f464c5493a027abb.bindTooltip(\n",
       "                `&lt;div&gt;\n",
       "                     성수\n",
       "                 &lt;/div&gt;`,\n",
       "                {&quot;sticky&quot;: true}\n",
       "            );\n",
       "        \n",
       "    \n",
       "            var circle_marker_af1e74d90264ab7e00c3e0c7ab6c947b = L.circleMarker(\n",
       "                [37.563588, 126.975411],\n",
       "                {&quot;bubblingMouseEvents&quot;: true, &quot;color&quot;: &quot;#DF0101&quot;, &quot;dashArray&quot;: null, &quot;dashOffset&quot;: null, &quot;fill&quot;: &quot;#DF0101&quot;, &quot;fillColor&quot;: &quot;#DF0101&quot;, &quot;fillOpacity&quot;: 0.2, &quot;fillRule&quot;: &quot;evenodd&quot;, &quot;lineCap&quot;: &quot;round&quot;, &quot;lineJoin&quot;: &quot;round&quot;, &quot;opacity&quot;: 1.0, &quot;radius&quot;: 18, &quot;stroke&quot;: true, &quot;weight&quot;: 3}\n",
       "            ).addTo(map_d0684e81f5e8244b6b494bfec2f0f4ea);\n",
       "        \n",
       "    \n",
       "            circle_marker_af1e74d90264ab7e00c3e0c7ab6c947b.bindTooltip(\n",
       "                `&lt;div&gt;\n",
       "                     시청\n",
       "                 &lt;/div&gt;`,\n",
       "                {&quot;sticky&quot;: true}\n",
       "            );\n",
       "        \n",
       "    \n",
       "            var circle_marker_0ae63ea0a194c09f4fe4b9da387779e3 = L.circleMarker(\n",
       "                [37.57004, 127.046481],\n",
       "                {&quot;bubblingMouseEvents&quot;: true, &quot;color&quot;: &quot;#3A01DF&quot;, &quot;dashArray&quot;: null, &quot;dashOffset&quot;: null, &quot;fill&quot;: &quot;#3A01DF&quot;, &quot;fillColor&quot;: &quot;#3A01DF&quot;, &quot;fillOpacity&quot;: 0.2, &quot;fillRule&quot;: &quot;evenodd&quot;, &quot;lineCap&quot;: &quot;round&quot;, &quot;lineJoin&quot;: &quot;round&quot;, &quot;opacity&quot;: 1.0, &quot;radius&quot;: 18, &quot;stroke&quot;: true, &quot;weight&quot;: 3}\n",
       "            ).addTo(map_d0684e81f5e8244b6b494bfec2f0f4ea);\n",
       "        \n",
       "    \n",
       "            circle_marker_0ae63ea0a194c09f4fe4b9da387779e3.bindTooltip(\n",
       "                `&lt;div&gt;\n",
       "                     신답\n",
       "                 &lt;/div&gt;`,\n",
       "                {&quot;sticky&quot;: true}\n",
       "            );\n",
       "        \n",
       "    \n",
       "            var circle_marker_0a0e7b29dfaa5c8818d898a621751dff = L.circleMarker(\n",
       "                [37.56564, 127.019614],\n",
       "                {&quot;bubblingMouseEvents&quot;: true, &quot;color&quot;: &quot;#000000&quot;, &quot;dashArray&quot;: null, &quot;dashOffset&quot;: null, &quot;fill&quot;: &quot;#000000&quot;, &quot;fillColor&quot;: &quot;#000000&quot;, &quot;fillOpacity&quot;: 0.2, &quot;fillRule&quot;: &quot;evenodd&quot;, &quot;lineCap&quot;: &quot;round&quot;, &quot;lineJoin&quot;: &quot;round&quot;, &quot;opacity&quot;: 1.0, &quot;radius&quot;: 18, &quot;stroke&quot;: true, &quot;weight&quot;: 3}\n",
       "            ).addTo(map_d0684e81f5e8244b6b494bfec2f0f4ea);\n",
       "        \n",
       "    \n",
       "            circle_marker_0a0e7b29dfaa5c8818d898a621751dff.bindTooltip(\n",
       "                `&lt;div&gt;\n",
       "                     신당\n",
       "                 &lt;/div&gt;`,\n",
       "                {&quot;sticky&quot;: true}\n",
       "            );\n",
       "        \n",
       "    \n",
       "            var circle_marker_311e4e1fb17795c9a09486671ac5c324 = L.circleMarker(\n",
       "                [37.487462, 126.913149],\n",
       "                {&quot;bubblingMouseEvents&quot;: true, &quot;color&quot;: &quot;#3A01DF&quot;, &quot;dashArray&quot;: null, &quot;dashOffset&quot;: null, &quot;fill&quot;: &quot;#3A01DF&quot;, &quot;fillColor&quot;: &quot;#3A01DF&quot;, &quot;fillOpacity&quot;: 0.2, &quot;fillRule&quot;: &quot;evenodd&quot;, &quot;lineCap&quot;: &quot;round&quot;, &quot;lineJoin&quot;: &quot;round&quot;, &quot;opacity&quot;: 1.0, &quot;radius&quot;: 18, &quot;stroke&quot;: true, &quot;weight&quot;: 3}\n",
       "            ).addTo(map_d0684e81f5e8244b6b494bfec2f0f4ea);\n",
       "        \n",
       "    \n",
       "            circle_marker_311e4e1fb17795c9a09486671ac5c324.bindTooltip(\n",
       "                `&lt;div&gt;\n",
       "                     신대방\n",
       "                 &lt;/div&gt;`,\n",
       "                {&quot;sticky&quot;: true}\n",
       "            );\n",
       "        \n",
       "    \n",
       "            var circle_marker_085b5cff7852ef791e715a890489ce50 = L.circleMarker(\n",
       "                [37.508961, 126.891084],\n",
       "                {&quot;bubblingMouseEvents&quot;: true, &quot;color&quot;: &quot;#000000&quot;, &quot;dashArray&quot;: null, &quot;dashOffset&quot;: null, &quot;fill&quot;: &quot;#000000&quot;, &quot;fillColor&quot;: &quot;#000000&quot;, &quot;fillOpacity&quot;: 0.2, &quot;fillRule&quot;: &quot;evenodd&quot;, &quot;lineCap&quot;: &quot;round&quot;, &quot;lineJoin&quot;: &quot;round&quot;, &quot;opacity&quot;: 1.0, &quot;radius&quot;: 18, &quot;stroke&quot;: true, &quot;weight&quot;: 3}\n",
       "            ).addTo(map_d0684e81f5e8244b6b494bfec2f0f4ea);\n",
       "        \n",
       "    \n",
       "            circle_marker_085b5cff7852ef791e715a890489ce50.bindTooltip(\n",
       "                `&lt;div&gt;\n",
       "                     신도림\n",
       "                 &lt;/div&gt;`,\n",
       "                {&quot;sticky&quot;: true}\n",
       "            );\n",
       "        \n",
       "    \n",
       "            var circle_marker_0b95e5f0fea980d9391f60513e8c3886 = L.circleMarker(\n",
       "                [37.484201, 126.929715],\n",
       "                {&quot;bubblingMouseEvents&quot;: true, &quot;color&quot;: &quot;#3A01DF&quot;, &quot;dashArray&quot;: null, &quot;dashOffset&quot;: null, &quot;fill&quot;: &quot;#3A01DF&quot;, &quot;fillColor&quot;: &quot;#3A01DF&quot;, &quot;fillOpacity&quot;: 0.2, &quot;fillRule&quot;: &quot;evenodd&quot;, &quot;lineCap&quot;: &quot;round&quot;, &quot;lineJoin&quot;: &quot;round&quot;, &quot;opacity&quot;: 1.0, &quot;radius&quot;: 18, &quot;stroke&quot;: true, &quot;weight&quot;: 3}\n",
       "            ).addTo(map_d0684e81f5e8244b6b494bfec2f0f4ea);\n",
       "        \n",
       "    \n",
       "            circle_marker_0b95e5f0fea980d9391f60513e8c3886.bindTooltip(\n",
       "                `&lt;div&gt;\n",
       "                     신림\n",
       "                 &lt;/div&gt;`,\n",
       "                {&quot;sticky&quot;: true}\n",
       "            );\n",
       "        \n",
       "    \n",
       "            var circle_marker_49e7697d6af754044a22791321be5597 = L.circleMarker(\n",
       "                [37.574747, 127.024932],\n",
       "                {&quot;bubblingMouseEvents&quot;: true, &quot;color&quot;: &quot;#000000&quot;, &quot;dashArray&quot;: null, &quot;dashOffset&quot;: null, &quot;fill&quot;: &quot;#000000&quot;, &quot;fillColor&quot;: &quot;#000000&quot;, &quot;fillOpacity&quot;: 0.2, &quot;fillRule&quot;: &quot;evenodd&quot;, &quot;lineCap&quot;: &quot;round&quot;, &quot;lineJoin&quot;: &quot;round&quot;, &quot;opacity&quot;: 1.0, &quot;radius&quot;: 18, &quot;stroke&quot;: true, &quot;weight&quot;: 3}\n",
       "            ).addTo(map_d0684e81f5e8244b6b494bfec2f0f4ea);\n",
       "        \n",
       "    \n",
       "            circle_marker_49e7697d6af754044a22791321be5597.bindTooltip(\n",
       "                `&lt;div&gt;\n",
       "                     신설동\n",
       "                 &lt;/div&gt;`,\n",
       "                {&quot;sticky&quot;: true}\n",
       "            );\n",
       "        \n",
       "    \n",
       "            var circle_marker_34b959ba9a4a7a754fca5e6918b55de0 = L.circleMarker(\n",
       "                [37.520074, 126.852912],\n",
       "                {&quot;bubblingMouseEvents&quot;: true, &quot;color&quot;: &quot;#3A01DF&quot;, &quot;dashArray&quot;: null, &quot;dashOffset&quot;: null, &quot;fill&quot;: &quot;#3A01DF&quot;, &quot;fillColor&quot;: &quot;#3A01DF&quot;, &quot;fillOpacity&quot;: 0.2, &quot;fillRule&quot;: &quot;evenodd&quot;, &quot;lineCap&quot;: &quot;round&quot;, &quot;lineJoin&quot;: &quot;round&quot;, &quot;opacity&quot;: 1.0, &quot;radius&quot;: 18, &quot;stroke&quot;: true, &quot;weight&quot;: 3}\n",
       "            ).addTo(map_d0684e81f5e8244b6b494bfec2f0f4ea);\n",
       "        \n",
       "    \n",
       "            circle_marker_34b959ba9a4a7a754fca5e6918b55de0.bindTooltip(\n",
       "                `&lt;div&gt;\n",
       "                     신정네거리\n",
       "                 &lt;/div&gt;`,\n",
       "                {&quot;sticky&quot;: true}\n",
       "            );\n",
       "        \n",
       "    \n",
       "            var circle_marker_186ae47d8a52a383dcdf24b89ceb9802 = L.circleMarker(\n",
       "                [37.555131, 126.936926],\n",
       "                {&quot;bubblingMouseEvents&quot;: true, &quot;color&quot;: &quot;#000000&quot;, &quot;dashArray&quot;: null, &quot;dashOffset&quot;: null, &quot;fill&quot;: &quot;#000000&quot;, &quot;fillColor&quot;: &quot;#000000&quot;, &quot;fillOpacity&quot;: 0.2, &quot;fillRule&quot;: &quot;evenodd&quot;, &quot;lineCap&quot;: &quot;round&quot;, &quot;lineJoin&quot;: &quot;round&quot;, &quot;opacity&quot;: 1.0, &quot;radius&quot;: 18, &quot;stroke&quot;: true, &quot;weight&quot;: 3}\n",
       "            ).addTo(map_d0684e81f5e8244b6b494bfec2f0f4ea);\n",
       "        \n",
       "    \n",
       "            circle_marker_186ae47d8a52a383dcdf24b89ceb9802.bindTooltip(\n",
       "                `&lt;div&gt;\n",
       "                     신촌\n",
       "                 &lt;/div&gt;`,\n",
       "                {&quot;sticky&quot;: true}\n",
       "            );\n",
       "        \n",
       "    \n",
       "            var circle_marker_a3c5318143b9d306f148fd2af247a950 = L.circleMarker(\n",
       "                [37.557345, 126.956141],\n",
       "                {&quot;bubblingMouseEvents&quot;: true, &quot;color&quot;: &quot;#3A01DF&quot;, &quot;dashArray&quot;: null, &quot;dashOffset&quot;: null, &quot;fill&quot;: &quot;#3A01DF&quot;, &quot;fillColor&quot;: &quot;#3A01DF&quot;, &quot;fillOpacity&quot;: 0.2, &quot;fillRule&quot;: &quot;evenodd&quot;, &quot;lineCap&quot;: &quot;round&quot;, &quot;lineJoin&quot;: &quot;round&quot;, &quot;opacity&quot;: 1.0, &quot;radius&quot;: 18, &quot;stroke&quot;: true, &quot;weight&quot;: 3}\n",
       "            ).addTo(map_d0684e81f5e8244b6b494bfec2f0f4ea);\n",
       "        \n",
       "    \n",
       "            circle_marker_a3c5318143b9d306f148fd2af247a950.bindTooltip(\n",
       "                `&lt;div&gt;\n",
       "                     아현\n",
       "                 &lt;/div&gt;`,\n",
       "                {&quot;sticky&quot;: true}\n",
       "            );\n",
       "        \n",
       "    \n",
       "            var circle_marker_b4a13aae075507342753c700bcfe9f59 = L.circleMarker(\n",
       "                [37.512398, 126.865819],\n",
       "                {&quot;bubblingMouseEvents&quot;: true, &quot;color&quot;: &quot;#3A01DF&quot;, &quot;dashArray&quot;: null, &quot;dashOffset&quot;: null, &quot;fill&quot;: &quot;#3A01DF&quot;, &quot;fillColor&quot;: &quot;#3A01DF&quot;, &quot;fillOpacity&quot;: 0.2, &quot;fillRule&quot;: &quot;evenodd&quot;, &quot;lineCap&quot;: &quot;round&quot;, &quot;lineJoin&quot;: &quot;round&quot;, &quot;opacity&quot;: 1.0, &quot;radius&quot;: 18, &quot;stroke&quot;: true, &quot;weight&quot;: 3}\n",
       "            ).addTo(map_d0684e81f5e8244b6b494bfec2f0f4ea);\n",
       "        \n",
       "    \n",
       "            circle_marker_b4a13aae075507342753c700bcfe9f59.bindTooltip(\n",
       "                `&lt;div&gt;\n",
       "                     양천구청\n",
       "                 &lt;/div&gt;`,\n",
       "                {&quot;sticky&quot;: true}\n",
       "            );\n",
       "        \n",
       "    \n",
       "            var circle_marker_a24fbee2b0c77514cf9538ee8c131e97 = L.circleMarker(\n",
       "                [37.500622, 127.036456],\n",
       "                {&quot;bubblingMouseEvents&quot;: true, &quot;color&quot;: &quot;#DF0101&quot;, &quot;dashArray&quot;: null, &quot;dashOffset&quot;: null, &quot;fill&quot;: &quot;#DF0101&quot;, &quot;fillColor&quot;: &quot;#DF0101&quot;, &quot;fillOpacity&quot;: 0.2, &quot;fillRule&quot;: &quot;evenodd&quot;, &quot;lineCap&quot;: &quot;round&quot;, &quot;lineJoin&quot;: &quot;round&quot;, &quot;opacity&quot;: 1.0, &quot;radius&quot;: 18, &quot;stroke&quot;: true, &quot;weight&quot;: 3}\n",
       "            ).addTo(map_d0684e81f5e8244b6b494bfec2f0f4ea);\n",
       "        \n",
       "    \n",
       "            circle_marker_a24fbee2b0c77514cf9538ee8c131e97.bindTooltip(\n",
       "                `&lt;div&gt;\n",
       "                     역삼\n",
       "                 &lt;/div&gt;`,\n",
       "                {&quot;sticky&quot;: true}\n",
       "            );\n",
       "        \n",
       "    \n",
       "            var circle_marker_4ee077731839dc7882799e8e78ee4673 = L.circleMarker(\n",
       "                [37.525706, 126.89661],\n",
       "                {&quot;bubblingMouseEvents&quot;: true, &quot;color&quot;: &quot;#000000&quot;, &quot;dashArray&quot;: null, &quot;dashOffset&quot;: null, &quot;fill&quot;: &quot;#000000&quot;, &quot;fillColor&quot;: &quot;#000000&quot;, &quot;fillOpacity&quot;: 0.2, &quot;fillRule&quot;: &quot;evenodd&quot;, &quot;lineCap&quot;: &quot;round&quot;, &quot;lineJoin&quot;: &quot;round&quot;, &quot;opacity&quot;: 1.0, &quot;radius&quot;: 18, &quot;stroke&quot;: true, &quot;weight&quot;: 3}\n",
       "            ).addTo(map_d0684e81f5e8244b6b494bfec2f0f4ea);\n",
       "        \n",
       "    \n",
       "            circle_marker_4ee077731839dc7882799e8e78ee4673.bindTooltip(\n",
       "                `&lt;div&gt;\n",
       "                     영등포구청\n",
       "                 &lt;/div&gt;`,\n",
       "                {&quot;sticky&quot;: true}\n",
       "            );\n",
       "        \n",
       "    \n",
       "            var circle_marker_95f19d4b7beefa56e1a055a15cb25bc4 = L.circleMarker(\n",
       "                [37.561238, 127.036954],\n",
       "                {&quot;bubblingMouseEvents&quot;: true, &quot;color&quot;: &quot;#000000&quot;, &quot;dashArray&quot;: null, &quot;dashOffset&quot;: null, &quot;fill&quot;: &quot;#000000&quot;, &quot;fillColor&quot;: &quot;#000000&quot;, &quot;fillOpacity&quot;: 0.2, &quot;fillRule&quot;: &quot;evenodd&quot;, &quot;lineCap&quot;: &quot;round&quot;, &quot;lineJoin&quot;: &quot;round&quot;, &quot;opacity&quot;: 1.0, &quot;radius&quot;: 18, &quot;stroke&quot;: true, &quot;weight&quot;: 3}\n",
       "            ).addTo(map_d0684e81f5e8244b6b494bfec2f0f4ea);\n",
       "        \n",
       "    \n",
       "            circle_marker_95f19d4b7beefa56e1a055a15cb25bc4.bindTooltip(\n",
       "                `&lt;div&gt;\n",
       "                     왕십리\n",
       "                 &lt;/div&gt;`,\n",
       "                {&quot;sticky&quot;: true}\n",
       "            );\n",
       "        \n",
       "    \n",
       "            var circle_marker_56b58b7482716cfcfe62652d91eb1b71 = L.circleMarker(\n",
       "                [37.561904, 127.050899],\n",
       "                {&quot;bubblingMouseEvents&quot;: true, &quot;color&quot;: &quot;#3A01DF&quot;, &quot;dashArray&quot;: null, &quot;dashOffset&quot;: null, &quot;fill&quot;: &quot;#3A01DF&quot;, &quot;fillColor&quot;: &quot;#3A01DF&quot;, &quot;fillOpacity&quot;: 0.2, &quot;fillRule&quot;: &quot;evenodd&quot;, &quot;lineCap&quot;: &quot;round&quot;, &quot;lineJoin&quot;: &quot;round&quot;, &quot;opacity&quot;: 1.0, &quot;radius&quot;: 18, &quot;stroke&quot;: true, &quot;weight&quot;: 3}\n",
       "            ).addTo(map_d0684e81f5e8244b6b494bfec2f0f4ea);\n",
       "        \n",
       "    \n",
       "            circle_marker_56b58b7482716cfcfe62652d91eb1b71.bindTooltip(\n",
       "                `&lt;div&gt;\n",
       "                     용답\n",
       "                 &lt;/div&gt;`,\n",
       "                {&quot;sticky&quot;: true}\n",
       "            );\n",
       "        \n",
       "    \n",
       "            var circle_marker_bbb7be570f2e174f1234b47ab4b05deb = L.circleMarker(\n",
       "                [37.574028, 127.038091],\n",
       "                {&quot;bubblingMouseEvents&quot;: true, &quot;color&quot;: &quot;#3A01DF&quot;, &quot;dashArray&quot;: null, &quot;dashOffset&quot;: null, &quot;fill&quot;: &quot;#3A01DF&quot;, &quot;fillColor&quot;: &quot;#3A01DF&quot;, &quot;fillOpacity&quot;: 0.2, &quot;fillRule&quot;: &quot;evenodd&quot;, &quot;lineCap&quot;: &quot;round&quot;, &quot;lineJoin&quot;: &quot;round&quot;, &quot;opacity&quot;: 1.0, &quot;radius&quot;: 18, &quot;stroke&quot;: true, &quot;weight&quot;: 3}\n",
       "            ).addTo(map_d0684e81f5e8244b6b494bfec2f0f4ea);\n",
       "        \n",
       "    \n",
       "            circle_marker_bbb7be570f2e174f1234b47ab4b05deb.bindTooltip(\n",
       "                `&lt;div&gt;\n",
       "                     용두\n",
       "                 &lt;/div&gt;`,\n",
       "                {&quot;sticky&quot;: true}\n",
       "            );\n",
       "        \n",
       "    \n",
       "            var circle_marker_6cabcf2b71d770c38b369fbf6d23119b = L.circleMarker(\n",
       "                [37.566306, 126.991696],\n",
       "                {&quot;bubblingMouseEvents&quot;: true, &quot;color&quot;: &quot;#DF0101&quot;, &quot;dashArray&quot;: null, &quot;dashOffset&quot;: null, &quot;fill&quot;: &quot;#DF0101&quot;, &quot;fillColor&quot;: &quot;#DF0101&quot;, &quot;fillOpacity&quot;: 0.2, &quot;fillRule&quot;: &quot;evenodd&quot;, &quot;lineCap&quot;: &quot;round&quot;, &quot;lineJoin&quot;: &quot;round&quot;, &quot;opacity&quot;: 1.0, &quot;radius&quot;: 18, &quot;stroke&quot;: true, &quot;weight&quot;: 3}\n",
       "            ).addTo(map_d0684e81f5e8244b6b494bfec2f0f4ea);\n",
       "        \n",
       "    \n",
       "            circle_marker_6cabcf2b71d770c38b369fbf6d23119b.bindTooltip(\n",
       "                `&lt;div&gt;\n",
       "                     을지로3가\n",
       "                 &lt;/div&gt;`,\n",
       "                {&quot;sticky&quot;: true}\n",
       "            );\n",
       "        \n",
       "    \n",
       "            var circle_marker_32ef08272803a6bbf15c910fc111d58e = L.circleMarker(\n",
       "                [37.566595, 126.997817],\n",
       "                {&quot;bubblingMouseEvents&quot;: true, &quot;color&quot;: &quot;#DF0101&quot;, &quot;dashArray&quot;: null, &quot;dashOffset&quot;: null, &quot;fill&quot;: &quot;#DF0101&quot;, &quot;fillColor&quot;: &quot;#DF0101&quot;, &quot;fillOpacity&quot;: 0.2, &quot;fillRule&quot;: &quot;evenodd&quot;, &quot;lineCap&quot;: &quot;round&quot;, &quot;lineJoin&quot;: &quot;round&quot;, &quot;opacity&quot;: 1.0, &quot;radius&quot;: 18, &quot;stroke&quot;: true, &quot;weight&quot;: 3}\n",
       "            ).addTo(map_d0684e81f5e8244b6b494bfec2f0f4ea);\n",
       "        \n",
       "    \n",
       "            circle_marker_32ef08272803a6bbf15c910fc111d58e.bindTooltip(\n",
       "                `&lt;div&gt;\n",
       "                     을지로4가\n",
       "                 &lt;/div&gt;`,\n",
       "                {&quot;sticky&quot;: true}\n",
       "            );\n",
       "        \n",
       "    \n",
       "            var circle_marker_ed69bf9963d2586de32e944b41238240 = L.circleMarker(\n",
       "                [37.566014, 126.982618],\n",
       "                {&quot;bubblingMouseEvents&quot;: true, &quot;color&quot;: &quot;#DF0101&quot;, &quot;dashArray&quot;: null, &quot;dashOffset&quot;: null, &quot;fill&quot;: &quot;#DF0101&quot;, &quot;fillColor&quot;: &quot;#DF0101&quot;, &quot;fillOpacity&quot;: 0.2, &quot;fillRule&quot;: &quot;evenodd&quot;, &quot;lineCap&quot;: &quot;round&quot;, &quot;lineJoin&quot;: &quot;round&quot;, &quot;opacity&quot;: 1.0, &quot;radius&quot;: 18, &quot;stroke&quot;: true, &quot;weight&quot;: 3}\n",
       "            ).addTo(map_d0684e81f5e8244b6b494bfec2f0f4ea);\n",
       "        \n",
       "    \n",
       "            circle_marker_ed69bf9963d2586de32e944b41238240.bindTooltip(\n",
       "                `&lt;div&gt;\n",
       "                     을지로입구\n",
       "                 &lt;/div&gt;`,\n",
       "                {&quot;sticky&quot;: true}\n",
       "            );\n",
       "        \n",
       "    \n",
       "            var circle_marker_bc63fed048f1ad589f36c91874dbdedb = L.circleMarker(\n",
       "                [37.556733, 126.946013],\n",
       "                {&quot;bubblingMouseEvents&quot;: true, &quot;color&quot;: &quot;#000000&quot;, &quot;dashArray&quot;: null, &quot;dashOffset&quot;: null, &quot;fill&quot;: &quot;#000000&quot;, &quot;fillColor&quot;: &quot;#000000&quot;, &quot;fillOpacity&quot;: 0.2, &quot;fillRule&quot;: &quot;evenodd&quot;, &quot;lineCap&quot;: &quot;round&quot;, &quot;lineJoin&quot;: &quot;round&quot;, &quot;opacity&quot;: 1.0, &quot;radius&quot;: 18, &quot;stroke&quot;: true, &quot;weight&quot;: 3}\n",
       "            ).addTo(map_d0684e81f5e8244b6b494bfec2f0f4ea);\n",
       "        \n",
       "    \n",
       "            circle_marker_bc63fed048f1ad589f36c91874dbdedb.bindTooltip(\n",
       "                `&lt;div&gt;\n",
       "                     이대\n",
       "                 &lt;/div&gt;`,\n",
       "                {&quot;sticky&quot;: true}\n",
       "            );\n",
       "        \n",
       "    \n",
       "            var circle_marker_5408682bea828814115f8c7406a4205c = L.circleMarker(\n",
       "                [37.513262, 127.100159],\n",
       "                {&quot;bubblingMouseEvents&quot;: true, &quot;color&quot;: &quot;#000000&quot;, &quot;dashArray&quot;: null, &quot;dashOffset&quot;: null, &quot;fill&quot;: &quot;#000000&quot;, &quot;fillColor&quot;: &quot;#000000&quot;, &quot;fillOpacity&quot;: 0.2, &quot;fillRule&quot;: &quot;evenodd&quot;, &quot;lineCap&quot;: &quot;round&quot;, &quot;lineJoin&quot;: &quot;round&quot;, &quot;opacity&quot;: 1.0, &quot;radius&quot;: 18, &quot;stroke&quot;: true, &quot;weight&quot;: 3}\n",
       "            ).addTo(map_d0684e81f5e8244b6b494bfec2f0f4ea);\n",
       "        \n",
       "    \n",
       "            circle_marker_5408682bea828814115f8c7406a4205c.bindTooltip(\n",
       "                `&lt;div&gt;\n",
       "                     잠실\n",
       "                 &lt;/div&gt;`,\n",
       "                {&quot;sticky&quot;: true}\n",
       "            );\n",
       "        \n",
       "    \n",
       "            var circle_marker_ad0dab62fca64004bc62b5da5a61b460 = L.circleMarker(\n",
       "                [37.520733, 127.10379],\n",
       "                {&quot;bubblingMouseEvents&quot;: true, &quot;color&quot;: &quot;#3A01DF&quot;, &quot;dashArray&quot;: null, &quot;dashOffset&quot;: null, &quot;fill&quot;: &quot;#3A01DF&quot;, &quot;fillColor&quot;: &quot;#3A01DF&quot;, &quot;fillOpacity&quot;: 0.2, &quot;fillRule&quot;: &quot;evenodd&quot;, &quot;lineCap&quot;: &quot;round&quot;, &quot;lineJoin&quot;: &quot;round&quot;, &quot;opacity&quot;: 1.0, &quot;radius&quot;: 18, &quot;stroke&quot;: true, &quot;weight&quot;: 3}\n",
       "            ).addTo(map_d0684e81f5e8244b6b494bfec2f0f4ea);\n",
       "        \n",
       "    \n",
       "            circle_marker_ad0dab62fca64004bc62b5da5a61b460.bindTooltip(\n",
       "                `&lt;div&gt;\n",
       "                     잠실나루\n",
       "                 &lt;/div&gt;`,\n",
       "                {&quot;sticky&quot;: true}\n",
       "            );\n",
       "        \n",
       "    \n",
       "            var circle_marker_a9836034eb5bf64cc2a4f941eef241e6 = L.circleMarker(\n",
       "                [37.511687, 127.086162],\n",
       "                {&quot;bubblingMouseEvents&quot;: true, &quot;color&quot;: &quot;#3A01DF&quot;, &quot;dashArray&quot;: null, &quot;dashOffset&quot;: null, &quot;fill&quot;: &quot;#3A01DF&quot;, &quot;fillColor&quot;: &quot;#3A01DF&quot;, &quot;fillOpacity&quot;: 0.2, &quot;fillRule&quot;: &quot;evenodd&quot;, &quot;lineCap&quot;: &quot;round&quot;, &quot;lineJoin&quot;: &quot;round&quot;, &quot;opacity&quot;: 1.0, &quot;radius&quot;: 18, &quot;stroke&quot;: true, &quot;weight&quot;: 3}\n",
       "            ).addTo(map_d0684e81f5e8244b6b494bfec2f0f4ea);\n",
       "        \n",
       "    \n",
       "            circle_marker_a9836034eb5bf64cc2a4f941eef241e6.bindTooltip(\n",
       "                `&lt;div&gt;\n",
       "                     잠실새내\n",
       "                 &lt;/div&gt;`,\n",
       "                {&quot;sticky&quot;: true}\n",
       "            );\n",
       "        \n",
       "    \n",
       "            var circle_marker_34dce80caf8758763a480ace877ef13c = L.circleMarker(\n",
       "                [37.511022, 127.073704],\n",
       "                {&quot;bubblingMouseEvents&quot;: true, &quot;color&quot;: &quot;#000000&quot;, &quot;dashArray&quot;: null, &quot;dashOffset&quot;: null, &quot;fill&quot;: &quot;#000000&quot;, &quot;fillColor&quot;: &quot;#000000&quot;, &quot;fillOpacity&quot;: 0.2, &quot;fillRule&quot;: &quot;evenodd&quot;, &quot;lineCap&quot;: &quot;round&quot;, &quot;lineJoin&quot;: &quot;round&quot;, &quot;opacity&quot;: 1.0, &quot;radius&quot;: 18, &quot;stroke&quot;: true, &quot;weight&quot;: 3}\n",
       "            ).addTo(map_d0684e81f5e8244b6b494bfec2f0f4ea);\n",
       "        \n",
       "    \n",
       "            circle_marker_34dce80caf8758763a480ace877ef13c.bindTooltip(\n",
       "                `&lt;div&gt;\n",
       "                     종합운동장\n",
       "                 &lt;/div&gt;`,\n",
       "                {&quot;sticky&quot;: true}\n",
       "            );\n",
       "        \n",
       "    \n",
       "            var circle_marker_97d20165dbd8a7a457da741e4f260460 = L.circleMarker(\n",
       "                [37.559704, 126.964378],\n",
       "                {&quot;bubblingMouseEvents&quot;: true, &quot;color&quot;: &quot;#000000&quot;, &quot;dashArray&quot;: null, &quot;dashOffset&quot;: null, &quot;fill&quot;: &quot;#000000&quot;, &quot;fillColor&quot;: &quot;#000000&quot;, &quot;fillOpacity&quot;: 0.2, &quot;fillRule&quot;: &quot;evenodd&quot;, &quot;lineCap&quot;: &quot;round&quot;, &quot;lineJoin&quot;: &quot;round&quot;, &quot;opacity&quot;: 1.0, &quot;radius&quot;: 18, &quot;stroke&quot;: true, &quot;weight&quot;: 3}\n",
       "            ).addTo(map_d0684e81f5e8244b6b494bfec2f0f4ea);\n",
       "        \n",
       "    \n",
       "            circle_marker_97d20165dbd8a7a457da741e4f260460.bindTooltip(\n",
       "                `&lt;div&gt;\n",
       "                     충정로\n",
       "                 &lt;/div&gt;`,\n",
       "                {&quot;sticky&quot;: true}\n",
       "            );\n",
       "        \n",
       "    \n",
       "            var circle_marker_ce07ee5feb820c66b892263d664b2a35 = L.circleMarker(\n",
       "                [37.555273, 127.043655],\n",
       "                {&quot;bubblingMouseEvents&quot;: true, &quot;color&quot;: &quot;#DF0101&quot;, &quot;dashArray&quot;: null, &quot;dashOffset&quot;: null, &quot;fill&quot;: &quot;#DF0101&quot;, &quot;fillColor&quot;: &quot;#DF0101&quot;, &quot;fillOpacity&quot;: 0.2, &quot;fillRule&quot;: &quot;evenodd&quot;, &quot;lineCap&quot;: &quot;round&quot;, &quot;lineJoin&quot;: &quot;round&quot;, &quot;opacity&quot;: 1.0, &quot;radius&quot;: 18, &quot;stroke&quot;: true, &quot;weight&quot;: 3}\n",
       "            ).addTo(map_d0684e81f5e8244b6b494bfec2f0f4ea);\n",
       "        \n",
       "    \n",
       "            circle_marker_ce07ee5feb820c66b892263d664b2a35.bindTooltip(\n",
       "                `&lt;div&gt;\n",
       "                     한양대\n",
       "                 &lt;/div&gt;`,\n",
       "                {&quot;sticky&quot;: true}\n",
       "            );\n",
       "        \n",
       "    \n",
       "            var circle_marker_1e99342e3c729b3cfbfe13eb22c68cbc = L.circleMarker(\n",
       "                [37.549457, 126.913808],\n",
       "                {&quot;bubblingMouseEvents&quot;: true, &quot;color&quot;: &quot;#000000&quot;, &quot;dashArray&quot;: null, &quot;dashOffset&quot;: null, &quot;fill&quot;: &quot;#000000&quot;, &quot;fillColor&quot;: &quot;#000000&quot;, &quot;fillOpacity&quot;: 0.2, &quot;fillRule&quot;: &quot;evenodd&quot;, &quot;lineCap&quot;: &quot;round&quot;, &quot;lineJoin&quot;: &quot;round&quot;, &quot;opacity&quot;: 1.0, &quot;radius&quot;: 18, &quot;stroke&quot;: true, &quot;weight&quot;: 3}\n",
       "            ).addTo(map_d0684e81f5e8244b6b494bfec2f0f4ea);\n",
       "        \n",
       "    \n",
       "            circle_marker_1e99342e3c729b3cfbfe13eb22c68cbc.bindTooltip(\n",
       "                `&lt;div&gt;\n",
       "                     합정\n",
       "                 &lt;/div&gt;`,\n",
       "                {&quot;sticky&quot;: true}\n",
       "            );\n",
       "        \n",
       "    \n",
       "            var circle_marker_189fdf0cb85699def7fd164366a0bd41 = L.circleMarker(\n",
       "                [37.55679, 126.923708],\n",
       "                {&quot;bubblingMouseEvents&quot;: true, &quot;color&quot;: &quot;#000000&quot;, &quot;dashArray&quot;: null, &quot;dashOffset&quot;: null, &quot;fill&quot;: &quot;#000000&quot;, &quot;fillColor&quot;: &quot;#000000&quot;, &quot;fillOpacity&quot;: 0.2, &quot;fillRule&quot;: &quot;evenodd&quot;, &quot;lineCap&quot;: &quot;round&quot;, &quot;lineJoin&quot;: &quot;round&quot;, &quot;opacity&quot;: 1.0, &quot;radius&quot;: 18, &quot;stroke&quot;: true, &quot;weight&quot;: 3}\n",
       "            ).addTo(map_d0684e81f5e8244b6b494bfec2f0f4ea);\n",
       "        \n",
       "    \n",
       "            circle_marker_189fdf0cb85699def7fd164366a0bd41.bindTooltip(\n",
       "                `&lt;div&gt;\n",
       "                     홍대입구\n",
       "                 &lt;/div&gt;`,\n",
       "                {&quot;sticky&quot;: true}\n",
       "            );\n",
       "        \n",
       "    \n",
       "            tile_layer_d4bd913216a35ee361ec957144e53e63.addTo(map_d0684e81f5e8244b6b494bfec2f0f4ea);\n",
       "        \n",
       "    \n",
       "            heat_map_a08c2e93ca3860d6ee3050d6d1b8a6ce.addTo(map_d0684e81f5e8244b6b494bfec2f0f4ea);\n",
       "        \n",
       "    \n",
       "            heat_map_4ecfb31e089a03e3ee4f9e0487691314.addTo(map_d0684e81f5e8244b6b494bfec2f0f4ea);\n",
       "        \n",
       "    \n",
       "            var circle_marker_16798f05493dc3c5f9c877f6c9eb6ba7 = L.circleMarker(\n",
       "                [37.49799, 127.027912],\n",
       "                {&quot;bubblingMouseEvents&quot;: true, &quot;color&quot;: &quot;#DF0101&quot;, &quot;dashArray&quot;: null, &quot;dashOffset&quot;: null, &quot;fill&quot;: &quot;#DF0101&quot;, &quot;fillColor&quot;: &quot;#DF0101&quot;, &quot;fillOpacity&quot;: 0.2, &quot;fillRule&quot;: &quot;evenodd&quot;, &quot;lineCap&quot;: &quot;round&quot;, &quot;lineJoin&quot;: &quot;round&quot;, &quot;opacity&quot;: 1.0, &quot;radius&quot;: 18, &quot;stroke&quot;: true, &quot;weight&quot;: 3}\n",
       "            ).addTo(map_d0684e81f5e8244b6b494bfec2f0f4ea);\n",
       "        \n",
       "    \n",
       "            circle_marker_16798f05493dc3c5f9c877f6c9eb6ba7.bindTooltip(\n",
       "                `&lt;div&gt;\n",
       "                     강남\n",
       "                 &lt;/div&gt;`,\n",
       "                {&quot;sticky&quot;: true}\n",
       "            );\n",
       "        \n",
       "    \n",
       "            var circle_marker_a90c9ae42b32604549af184d0061bdca = L.circleMarker(\n",
       "                [37.535095, 127.094681],\n",
       "                {&quot;bubblingMouseEvents&quot;: true, &quot;color&quot;: &quot;#3A01DF&quot;, &quot;dashArray&quot;: null, &quot;dashOffset&quot;: null, &quot;fill&quot;: &quot;#3A01DF&quot;, &quot;fillColor&quot;: &quot;#3A01DF&quot;, &quot;fillOpacity&quot;: 0.2, &quot;fillRule&quot;: &quot;evenodd&quot;, &quot;lineCap&quot;: &quot;round&quot;, &quot;lineJoin&quot;: &quot;round&quot;, &quot;opacity&quot;: 1.0, &quot;radius&quot;: 18, &quot;stroke&quot;: true, &quot;weight&quot;: 3}\n",
       "            ).addTo(map_d0684e81f5e8244b6b494bfec2f0f4ea);\n",
       "        \n",
       "    \n",
       "            circle_marker_a90c9ae42b32604549af184d0061bdca.bindTooltip(\n",
       "                `&lt;div&gt;\n",
       "                     강변\n",
       "                 &lt;/div&gt;`,\n",
       "                {&quot;sticky&quot;: true}\n",
       "            );\n",
       "        \n",
       "    \n",
       "            var circle_marker_b8198c4375d1bed723e7e4817e8b80f1 = L.circleMarker(\n",
       "                [37.540373, 127.069191],\n",
       "                {&quot;bubblingMouseEvents&quot;: true, &quot;color&quot;: &quot;#000000&quot;, &quot;dashArray&quot;: null, &quot;dashOffset&quot;: null, &quot;fill&quot;: &quot;#000000&quot;, &quot;fillColor&quot;: &quot;#000000&quot;, &quot;fillOpacity&quot;: 0.2, &quot;fillRule&quot;: &quot;evenodd&quot;, &quot;lineCap&quot;: &quot;round&quot;, &quot;lineJoin&quot;: &quot;round&quot;, &quot;opacity&quot;: 1.0, &quot;radius&quot;: 18, &quot;stroke&quot;: true, &quot;weight&quot;: 3}\n",
       "            ).addTo(map_d0684e81f5e8244b6b494bfec2f0f4ea);\n",
       "        \n",
       "    \n",
       "            circle_marker_b8198c4375d1bed723e7e4817e8b80f1.bindTooltip(\n",
       "                `&lt;div&gt;\n",
       "                     건대입구\n",
       "                 &lt;/div&gt;`,\n",
       "                {&quot;sticky&quot;: true}\n",
       "            );\n",
       "        \n",
       "    \n",
       "            var circle_marker_4ddc82c8498745d67197adf890bbd8f1 = L.circleMarker(\n",
       "                [37.493961, 127.014667],\n",
       "                {&quot;bubblingMouseEvents&quot;: true, &quot;color&quot;: &quot;#DF0101&quot;, &quot;dashArray&quot;: null, &quot;dashOffset&quot;: null, &quot;fill&quot;: &quot;#DF0101&quot;, &quot;fillColor&quot;: &quot;#DF0101&quot;, &quot;fillOpacity&quot;: 0.2, &quot;fillRule&quot;: &quot;evenodd&quot;, &quot;lineCap&quot;: &quot;round&quot;, &quot;lineJoin&quot;: &quot;round&quot;, &quot;opacity&quot;: 1.0, &quot;radius&quot;: 18, &quot;stroke&quot;: true, &quot;weight&quot;: 3}\n",
       "            ).addTo(map_d0684e81f5e8244b6b494bfec2f0f4ea);\n",
       "        \n",
       "    \n",
       "            circle_marker_4ddc82c8498745d67197adf890bbd8f1.bindTooltip(\n",
       "                `&lt;div&gt;\n",
       "                     교대\n",
       "                 &lt;/div&gt;`,\n",
       "                {&quot;sticky&quot;: true}\n",
       "            );\n",
       "        \n",
       "    \n",
       "            var circle_marker_53849246c562e1965a90685c9c004555 = L.circleMarker(\n",
       "                [37.485266, 126.901401],\n",
       "                {&quot;bubblingMouseEvents&quot;: true, &quot;color&quot;: &quot;#000000&quot;, &quot;dashArray&quot;: null, &quot;dashOffset&quot;: null, &quot;fill&quot;: &quot;#000000&quot;, &quot;fillColor&quot;: &quot;#000000&quot;, &quot;fillOpacity&quot;: 0.2, &quot;fillRule&quot;: &quot;evenodd&quot;, &quot;lineCap&quot;: &quot;round&quot;, &quot;lineJoin&quot;: &quot;round&quot;, &quot;opacity&quot;: 1.0, &quot;radius&quot;: 18, &quot;stroke&quot;: true, &quot;weight&quot;: 3}\n",
       "            ).addTo(map_d0684e81f5e8244b6b494bfec2f0f4ea);\n",
       "        \n",
       "    \n",
       "            circle_marker_53849246c562e1965a90685c9c004555.bindTooltip(\n",
       "                `&lt;div&gt;\n",
       "                     구로디지털단지\n",
       "                 &lt;/div&gt;`,\n",
       "                {&quot;sticky&quot;: true}\n",
       "            );\n",
       "        \n",
       "    \n",
       "            var circle_marker_9078e1159583897546c41c4cc11e6105 = L.circleMarker(\n",
       "                [37.537077, 127.085916],\n",
       "                {&quot;bubblingMouseEvents&quot;: true, &quot;color&quot;: &quot;#3A01DF&quot;, &quot;dashArray&quot;: null, &quot;dashOffset&quot;: null, &quot;fill&quot;: &quot;#3A01DF&quot;, &quot;fillColor&quot;: &quot;#3A01DF&quot;, &quot;fillOpacity&quot;: 0.2, &quot;fillRule&quot;: &quot;evenodd&quot;, &quot;lineCap&quot;: &quot;round&quot;, &quot;lineJoin&quot;: &quot;round&quot;, &quot;opacity&quot;: 1.0, &quot;radius&quot;: 18, &quot;stroke&quot;: true, &quot;weight&quot;: 3}\n",
       "            ).addTo(map_d0684e81f5e8244b6b494bfec2f0f4ea);\n",
       "        \n",
       "    \n",
       "            circle_marker_9078e1159583897546c41c4cc11e6105.bindTooltip(\n",
       "                `&lt;div&gt;\n",
       "                     구의\n",
       "                 &lt;/div&gt;`,\n",
       "                {&quot;sticky&quot;: true}\n",
       "            );\n",
       "        \n",
       "    \n",
       "            var circle_marker_9dd2514f7dc3daca2bec6b24cd3a760b = L.circleMarker(\n",
       "                [37.47693, 126.963693],\n",
       "                {&quot;bubblingMouseEvents&quot;: true, &quot;color&quot;: &quot;#3A01DF&quot;, &quot;dashArray&quot;: null, &quot;dashOffset&quot;: null, &quot;fill&quot;: &quot;#3A01DF&quot;, &quot;fillColor&quot;: &quot;#3A01DF&quot;, &quot;fillOpacity&quot;: 0.2, &quot;fillRule&quot;: &quot;evenodd&quot;, &quot;lineCap&quot;: &quot;round&quot;, &quot;lineJoin&quot;: &quot;round&quot;, &quot;opacity&quot;: 1.0, &quot;radius&quot;: 18, &quot;stroke&quot;: true, &quot;weight&quot;: 3}\n",
       "            ).addTo(map_d0684e81f5e8244b6b494bfec2f0f4ea);\n",
       "        \n",
       "    \n",
       "            circle_marker_9dd2514f7dc3daca2bec6b24cd3a760b.bindTooltip(\n",
       "                `&lt;div&gt;\n",
       "                     낙성대\n",
       "                 &lt;/div&gt;`,\n",
       "                {&quot;sticky&quot;: true}\n",
       "            );\n",
       "        \n",
       "    \n",
       "            var circle_marker_5d6909635ede95ea26bc892f0b11ffc3 = L.circleMarker(\n",
       "                [37.534946, 126.902767],\n",
       "                {&quot;bubblingMouseEvents&quot;: true, &quot;color&quot;: &quot;#000000&quot;, &quot;dashArray&quot;: null, &quot;dashOffset&quot;: null, &quot;fill&quot;: &quot;#000000&quot;, &quot;fillColor&quot;: &quot;#000000&quot;, &quot;fillOpacity&quot;: 0.2, &quot;fillRule&quot;: &quot;evenodd&quot;, &quot;lineCap&quot;: &quot;round&quot;, &quot;lineJoin&quot;: &quot;round&quot;, &quot;opacity&quot;: 1.0, &quot;radius&quot;: 18, &quot;stroke&quot;: true, &quot;weight&quot;: 3}\n",
       "            ).addTo(map_d0684e81f5e8244b6b494bfec2f0f4ea);\n",
       "        \n",
       "    \n",
       "            circle_marker_5d6909635ede95ea26bc892f0b11ffc3.bindTooltip(\n",
       "                `&lt;div&gt;\n",
       "                     당산\n",
       "                 &lt;/div&gt;`,\n",
       "                {&quot;sticky&quot;: true}\n",
       "            );\n",
       "        \n",
       "    \n",
       "            var circle_marker_08eca2b3c698157bcd885cea113ee36d = L.circleMarker(\n",
       "                [37.493243, 126.894932],\n",
       "                {&quot;bubblingMouseEvents&quot;: true, &quot;color&quot;: &quot;#3A01DF&quot;, &quot;dashArray&quot;: null, &quot;dashOffset&quot;: null, &quot;fill&quot;: &quot;#3A01DF&quot;, &quot;fillColor&quot;: &quot;#3A01DF&quot;, &quot;fillOpacity&quot;: 0.2, &quot;fillRule&quot;: &quot;evenodd&quot;, &quot;lineCap&quot;: &quot;round&quot;, &quot;lineJoin&quot;: &quot;round&quot;, &quot;opacity&quot;: 1.0, &quot;radius&quot;: 18, &quot;stroke&quot;: true, &quot;weight&quot;: 3}\n",
       "            ).addTo(map_d0684e81f5e8244b6b494bfec2f0f4ea);\n",
       "        \n",
       "    \n",
       "            circle_marker_08eca2b3c698157bcd885cea113ee36d.bindTooltip(\n",
       "                `&lt;div&gt;\n",
       "                     대림\n",
       "                 &lt;/div&gt;`,\n",
       "                {&quot;sticky&quot;: true}\n",
       "            );\n",
       "        \n",
       "    \n",
       "            var circle_marker_a3a75a916c3d2cdfb209b36c9c7ff826 = L.circleMarker(\n",
       "                [37.514287, 126.882768],\n",
       "                {&quot;bubblingMouseEvents&quot;: true, &quot;color&quot;: &quot;#000000&quot;, &quot;dashArray&quot;: null, &quot;dashOffset&quot;: null, &quot;fill&quot;: &quot;#000000&quot;, &quot;fillColor&quot;: &quot;#000000&quot;, &quot;fillOpacity&quot;: 0.2, &quot;fillRule&quot;: &quot;evenodd&quot;, &quot;lineCap&quot;: &quot;round&quot;, &quot;lineJoin&quot;: &quot;round&quot;, &quot;opacity&quot;: 1.0, &quot;radius&quot;: 18, &quot;stroke&quot;: true, &quot;weight&quot;: 3}\n",
       "            ).addTo(map_d0684e81f5e8244b6b494bfec2f0f4ea);\n",
       "        \n",
       "    \n",
       "            circle_marker_a3a75a916c3d2cdfb209b36c9c7ff826.bindTooltip(\n",
       "                `&lt;div&gt;\n",
       "                     도림천\n",
       "                 &lt;/div&gt;`,\n",
       "                {&quot;sticky&quot;: true}\n",
       "            );\n",
       "        \n",
       "    \n",
       "            var circle_marker_f4651e1a664b35033f5ecdf68680d8be = L.circleMarker(\n",
       "                [37.565613, 127.009054],\n",
       "                {&quot;bubblingMouseEvents&quot;: true, &quot;color&quot;: &quot;#DF0101&quot;, &quot;dashArray&quot;: null, &quot;dashOffset&quot;: null, &quot;fill&quot;: &quot;#DF0101&quot;, &quot;fillColor&quot;: &quot;#DF0101&quot;, &quot;fillOpacity&quot;: 0.2, &quot;fillRule&quot;: &quot;evenodd&quot;, &quot;lineCap&quot;: &quot;round&quot;, &quot;lineJoin&quot;: &quot;round&quot;, &quot;opacity&quot;: 1.0, &quot;radius&quot;: 18, &quot;stroke&quot;: true, &quot;weight&quot;: 3}\n",
       "            ).addTo(map_d0684e81f5e8244b6b494bfec2f0f4ea);\n",
       "        \n",
       "    \n",
       "            circle_marker_f4651e1a664b35033f5ecdf68680d8be.bindTooltip(\n",
       "                `&lt;div&gt;\n",
       "                     동대문역사문화공원\n",
       "                 &lt;/div&gt;`,\n",
       "                {&quot;sticky&quot;: true}\n",
       "            );\n",
       "        \n",
       "    \n",
       "            var circle_marker_5654a35578dc52c1d958fadd837e82a9 = L.circleMarker(\n",
       "                [37.547184, 127.047367],\n",
       "                {&quot;bubblingMouseEvents&quot;: true, &quot;color&quot;: &quot;#DF0101&quot;, &quot;dashArray&quot;: null, &quot;dashOffset&quot;: null, &quot;fill&quot;: &quot;#DF0101&quot;, &quot;fillColor&quot;: &quot;#DF0101&quot;, &quot;fillOpacity&quot;: 0.2, &quot;fillRule&quot;: &quot;evenodd&quot;, &quot;lineCap&quot;: &quot;round&quot;, &quot;lineJoin&quot;: &quot;round&quot;, &quot;opacity&quot;: 1.0, &quot;radius&quot;: 18, &quot;stroke&quot;: true, &quot;weight&quot;: 3}\n",
       "            ).addTo(map_d0684e81f5e8244b6b494bfec2f0f4ea);\n",
       "        \n",
       "    \n",
       "            circle_marker_5654a35578dc52c1d958fadd837e82a9.bindTooltip(\n",
       "                `&lt;div&gt;\n",
       "                     뚝섬\n",
       "                 &lt;/div&gt;`,\n",
       "                {&quot;sticky&quot;: true}\n",
       "            );\n",
       "        \n",
       "    \n",
       "            var circle_marker_3089eabc9d42815abac7b992e0b0a104 = L.circleMarker(\n",
       "                [37.517933, 126.89476],\n",
       "                {&quot;bubblingMouseEvents&quot;: true, &quot;color&quot;: &quot;#000000&quot;, &quot;dashArray&quot;: null, &quot;dashOffset&quot;: null, &quot;fill&quot;: &quot;#000000&quot;, &quot;fillColor&quot;: &quot;#000000&quot;, &quot;fillOpacity&quot;: 0.2, &quot;fillRule&quot;: &quot;evenodd&quot;, &quot;lineCap&quot;: &quot;round&quot;, &quot;lineJoin&quot;: &quot;round&quot;, &quot;opacity&quot;: 1.0, &quot;radius&quot;: 18, &quot;stroke&quot;: true, &quot;weight&quot;: 3}\n",
       "            ).addTo(map_d0684e81f5e8244b6b494bfec2f0f4ea);\n",
       "        \n",
       "    \n",
       "            circle_marker_3089eabc9d42815abac7b992e0b0a104.bindTooltip(\n",
       "                `&lt;div&gt;\n",
       "                     문래\n",
       "                 &lt;/div&gt;`,\n",
       "                {&quot;sticky&quot;: true}\n",
       "            );\n",
       "        \n",
       "    \n",
       "            var circle_marker_7b167b6abc2c93e59b5b94ba837a187e = L.circleMarker(\n",
       "                [37.481426, 126.997596],\n",
       "                {&quot;bubblingMouseEvents&quot;: true, &quot;color&quot;: &quot;#000000&quot;, &quot;dashArray&quot;: null, &quot;dashOffset&quot;: null, &quot;fill&quot;: &quot;#000000&quot;, &quot;fillColor&quot;: &quot;#000000&quot;, &quot;fillOpacity&quot;: 0.2, &quot;fillRule&quot;: &quot;evenodd&quot;, &quot;lineCap&quot;: &quot;round&quot;, &quot;lineJoin&quot;: &quot;round&quot;, &quot;opacity&quot;: 1.0, &quot;radius&quot;: 18, &quot;stroke&quot;: true, &quot;weight&quot;: 3}\n",
       "            ).addTo(map_d0684e81f5e8244b6b494bfec2f0f4ea);\n",
       "        \n",
       "    \n",
       "            circle_marker_7b167b6abc2c93e59b5b94ba837a187e.bindTooltip(\n",
       "                `&lt;div&gt;\n",
       "                     방배\n",
       "                 &lt;/div&gt;`,\n",
       "                {&quot;sticky&quot;: true}\n",
       "            );\n",
       "        \n",
       "    \n",
       "            var circle_marker_2da8bbd08dfa764eca3f8fbd61379553 = L.circleMarker(\n",
       "                [37.482362, 126.941892],\n",
       "                {&quot;bubblingMouseEvents&quot;: true, &quot;color&quot;: &quot;#3A01DF&quot;, &quot;dashArray&quot;: null, &quot;dashOffset&quot;: null, &quot;fill&quot;: &quot;#3A01DF&quot;, &quot;fillColor&quot;: &quot;#3A01DF&quot;, &quot;fillOpacity&quot;: 0.2, &quot;fillRule&quot;: &quot;evenodd&quot;, &quot;lineCap&quot;: &quot;round&quot;, &quot;lineJoin&quot;: &quot;round&quot;, &quot;opacity&quot;: 1.0, &quot;radius&quot;: 18, &quot;stroke&quot;: true, &quot;weight&quot;: 3}\n",
       "            ).addTo(map_d0684e81f5e8244b6b494bfec2f0f4ea);\n",
       "        \n",
       "    \n",
       "            circle_marker_2da8bbd08dfa764eca3f8fbd61379553.bindTooltip(\n",
       "                `&lt;div&gt;\n",
       "                     봉천\n",
       "                 &lt;/div&gt;`,\n",
       "                {&quot;sticky&quot;: true}\n",
       "            );\n",
       "        \n",
       "    \n",
       "            var circle_marker_23118a00131aa813edc8b34a44e34909 = L.circleMarker(\n",
       "                [37.476538, 126.981544],\n",
       "                {&quot;bubblingMouseEvents&quot;: true, &quot;color&quot;: &quot;#000000&quot;, &quot;dashArray&quot;: null, &quot;dashOffset&quot;: null, &quot;fill&quot;: &quot;#000000&quot;, &quot;fillColor&quot;: &quot;#000000&quot;, &quot;fillOpacity&quot;: 0.2, &quot;fillRule&quot;: &quot;evenodd&quot;, &quot;lineCap&quot;: &quot;round&quot;, &quot;lineJoin&quot;: &quot;round&quot;, &quot;opacity&quot;: 1.0, &quot;radius&quot;: 18, &quot;stroke&quot;: true, &quot;weight&quot;: 3}\n",
       "            ).addTo(map_d0684e81f5e8244b6b494bfec2f0f4ea);\n",
       "        \n",
       "    \n",
       "            circle_marker_23118a00131aa813edc8b34a44e34909.bindTooltip(\n",
       "                `&lt;div&gt;\n",
       "                     사당\n",
       "                 &lt;/div&gt;`,\n",
       "                {&quot;sticky&quot;: true}\n",
       "            );\n",
       "        \n",
       "    \n",
       "            var circle_marker_5d70a508d356a937f74c8abd1c92bc2d = L.circleMarker(\n",
       "                [37.508844, 127.06316],\n",
       "                {&quot;bubblingMouseEvents&quot;: true, &quot;color&quot;: &quot;#DF0101&quot;, &quot;dashArray&quot;: null, &quot;dashOffset&quot;: null, &quot;fill&quot;: &quot;#DF0101&quot;, &quot;fillColor&quot;: &quot;#DF0101&quot;, &quot;fillOpacity&quot;: 0.2, &quot;fillRule&quot;: &quot;evenodd&quot;, &quot;lineCap&quot;: &quot;round&quot;, &quot;lineJoin&quot;: &quot;round&quot;, &quot;opacity&quot;: 1.0, &quot;radius&quot;: 18, &quot;stroke&quot;: true, &quot;weight&quot;: 3}\n",
       "            ).addTo(map_d0684e81f5e8244b6b494bfec2f0f4ea);\n",
       "        \n",
       "    \n",
       "            circle_marker_5d70a508d356a937f74c8abd1c92bc2d.bindTooltip(\n",
       "                `&lt;div&gt;\n",
       "                     삼성\n",
       "                 &lt;/div&gt;`,\n",
       "                {&quot;sticky&quot;: true}\n",
       "            );\n",
       "        \n",
       "    \n",
       "            var circle_marker_0aad64ae8af7c2c4dad8564db3e3c20e = L.circleMarker(\n",
       "                [37.564354, 127.029354],\n",
       "                {&quot;bubblingMouseEvents&quot;: true, &quot;color&quot;: &quot;#3A01DF&quot;, &quot;dashArray&quot;: null, &quot;dashOffset&quot;: null, &quot;fill&quot;: &quot;#3A01DF&quot;, &quot;fillColor&quot;: &quot;#3A01DF&quot;, &quot;fillOpacity&quot;: 0.2, &quot;fillRule&quot;: &quot;evenodd&quot;, &quot;lineCap&quot;: &quot;round&quot;, &quot;lineJoin&quot;: &quot;round&quot;, &quot;opacity&quot;: 1.0, &quot;radius&quot;: 18, &quot;stroke&quot;: true, &quot;weight&quot;: 3}\n",
       "            ).addTo(map_d0684e81f5e8244b6b494bfec2f0f4ea);\n",
       "        \n",
       "    \n",
       "            circle_marker_0aad64ae8af7c2c4dad8564db3e3c20e.bindTooltip(\n",
       "                `&lt;div&gt;\n",
       "                     상왕십리\n",
       "                 &lt;/div&gt;`,\n",
       "                {&quot;sticky&quot;: true}\n",
       "            );\n",
       "        \n",
       "    \n",
       "            var circle_marker_b32b3a104b9dc0b16f820c88171116c1 = L.circleMarker(\n",
       "                [37.481247, 126.952739],\n",
       "                {&quot;bubblingMouseEvents&quot;: true, &quot;color&quot;: &quot;#3A01DF&quot;, &quot;dashArray&quot;: null, &quot;dashOffset&quot;: null, &quot;fill&quot;: &quot;#3A01DF&quot;, &quot;fillColor&quot;: &quot;#3A01DF&quot;, &quot;fillOpacity&quot;: 0.2, &quot;fillRule&quot;: &quot;evenodd&quot;, &quot;lineCap&quot;: &quot;round&quot;, &quot;lineJoin&quot;: &quot;round&quot;, &quot;opacity&quot;: 1.0, &quot;radius&quot;: 18, &quot;stroke&quot;: true, &quot;weight&quot;: 3}\n",
       "            ).addTo(map_d0684e81f5e8244b6b494bfec2f0f4ea);\n",
       "        \n",
       "    \n",
       "            circle_marker_b32b3a104b9dc0b16f820c88171116c1.bindTooltip(\n",
       "                `&lt;div&gt;\n",
       "                     서울대입구\n",
       "                 &lt;/div&gt;`,\n",
       "                {&quot;sticky&quot;: true}\n",
       "            );\n",
       "        \n",
       "    \n",
       "            var circle_marker_52be540c362bbd1cd7019d8e4ebff71d = L.circleMarker(\n",
       "                [37.491897, 127.007917],\n",
       "                {&quot;bubblingMouseEvents&quot;: true, &quot;color&quot;: &quot;#DF0101&quot;, &quot;dashArray&quot;: null, &quot;dashOffset&quot;: null, &quot;fill&quot;: &quot;#DF0101&quot;, &quot;fillColor&quot;: &quot;#DF0101&quot;, &quot;fillOpacity&quot;: 0.2, &quot;fillRule&quot;: &quot;evenodd&quot;, &quot;lineCap&quot;: &quot;round&quot;, &quot;lineJoin&quot;: &quot;round&quot;, &quot;opacity&quot;: 1.0, &quot;radius&quot;: 18, &quot;stroke&quot;: true, &quot;weight&quot;: 3}\n",
       "            ).addTo(map_d0684e81f5e8244b6b494bfec2f0f4ea);\n",
       "        \n",
       "    \n",
       "            circle_marker_52be540c362bbd1cd7019d8e4ebff71d.bindTooltip(\n",
       "                `&lt;div&gt;\n",
       "                     서초\n",
       "                 &lt;/div&gt;`,\n",
       "                {&quot;sticky&quot;: true}\n",
       "            );\n",
       "        \n",
       "    \n",
       "            var circle_marker_729317d0ce861ed95be728431f27c8e9 = L.circleMarker(\n",
       "                [37.504286, 127.048203],\n",
       "                {&quot;bubblingMouseEvents&quot;: true, &quot;color&quot;: &quot;#DF0101&quot;, &quot;dashArray&quot;: null, &quot;dashOffset&quot;: null, &quot;fill&quot;: &quot;#DF0101&quot;, &quot;fillColor&quot;: &quot;#DF0101&quot;, &quot;fillOpacity&quot;: 0.2, &quot;fillRule&quot;: &quot;evenodd&quot;, &quot;lineCap&quot;: &quot;round&quot;, &quot;lineJoin&quot;: &quot;round&quot;, &quot;opacity&quot;: 1.0, &quot;radius&quot;: 18, &quot;stroke&quot;: true, &quot;weight&quot;: 3}\n",
       "            ).addTo(map_d0684e81f5e8244b6b494bfec2f0f4ea);\n",
       "        \n",
       "    \n",
       "            circle_marker_729317d0ce861ed95be728431f27c8e9.bindTooltip(\n",
       "                `&lt;div&gt;\n",
       "                     선릉\n",
       "                 &lt;/div&gt;`,\n",
       "                {&quot;sticky&quot;: true}\n",
       "            );\n",
       "        \n",
       "    \n",
       "            var circle_marker_e5958fa833c515f017949834e3501d6d = L.circleMarker(\n",
       "                [37.544581, 127.055961],\n",
       "                {&quot;bubblingMouseEvents&quot;: true, &quot;color&quot;: &quot;#DF0101&quot;, &quot;dashArray&quot;: null, &quot;dashOffset&quot;: null, &quot;fill&quot;: &quot;#DF0101&quot;, &quot;fillColor&quot;: &quot;#DF0101&quot;, &quot;fillOpacity&quot;: 0.2, &quot;fillRule&quot;: &quot;evenodd&quot;, &quot;lineCap&quot;: &quot;round&quot;, &quot;lineJoin&quot;: &quot;round&quot;, &quot;opacity&quot;: 1.0, &quot;radius&quot;: 18, &quot;stroke&quot;: true, &quot;weight&quot;: 3}\n",
       "            ).addTo(map_d0684e81f5e8244b6b494bfec2f0f4ea);\n",
       "        \n",
       "    \n",
       "            circle_marker_e5958fa833c515f017949834e3501d6d.bindTooltip(\n",
       "                `&lt;div&gt;\n",
       "                     성수\n",
       "                 &lt;/div&gt;`,\n",
       "                {&quot;sticky&quot;: true}\n",
       "            );\n",
       "        \n",
       "    \n",
       "            var circle_marker_dbf980ef3b6b19ded468ef6e81b378de = L.circleMarker(\n",
       "                [37.563588, 126.975411],\n",
       "                {&quot;bubblingMouseEvents&quot;: true, &quot;color&quot;: &quot;#DF0101&quot;, &quot;dashArray&quot;: null, &quot;dashOffset&quot;: null, &quot;fill&quot;: &quot;#DF0101&quot;, &quot;fillColor&quot;: &quot;#DF0101&quot;, &quot;fillOpacity&quot;: 0.2, &quot;fillRule&quot;: &quot;evenodd&quot;, &quot;lineCap&quot;: &quot;round&quot;, &quot;lineJoin&quot;: &quot;round&quot;, &quot;opacity&quot;: 1.0, &quot;radius&quot;: 18, &quot;stroke&quot;: true, &quot;weight&quot;: 3}\n",
       "            ).addTo(map_d0684e81f5e8244b6b494bfec2f0f4ea);\n",
       "        \n",
       "    \n",
       "            circle_marker_dbf980ef3b6b19ded468ef6e81b378de.bindTooltip(\n",
       "                `&lt;div&gt;\n",
       "                     시청\n",
       "                 &lt;/div&gt;`,\n",
       "                {&quot;sticky&quot;: true}\n",
       "            );\n",
       "        \n",
       "    \n",
       "            var circle_marker_5395a3cfa0b3a63981229819150d1cd0 = L.circleMarker(\n",
       "                [37.57004, 127.046481],\n",
       "                {&quot;bubblingMouseEvents&quot;: true, &quot;color&quot;: &quot;#3A01DF&quot;, &quot;dashArray&quot;: null, &quot;dashOffset&quot;: null, &quot;fill&quot;: &quot;#3A01DF&quot;, &quot;fillColor&quot;: &quot;#3A01DF&quot;, &quot;fillOpacity&quot;: 0.2, &quot;fillRule&quot;: &quot;evenodd&quot;, &quot;lineCap&quot;: &quot;round&quot;, &quot;lineJoin&quot;: &quot;round&quot;, &quot;opacity&quot;: 1.0, &quot;radius&quot;: 18, &quot;stroke&quot;: true, &quot;weight&quot;: 3}\n",
       "            ).addTo(map_d0684e81f5e8244b6b494bfec2f0f4ea);\n",
       "        \n",
       "    \n",
       "            circle_marker_5395a3cfa0b3a63981229819150d1cd0.bindTooltip(\n",
       "                `&lt;div&gt;\n",
       "                     신답\n",
       "                 &lt;/div&gt;`,\n",
       "                {&quot;sticky&quot;: true}\n",
       "            );\n",
       "        \n",
       "    \n",
       "            var circle_marker_bce76b5861e1ecdd9233a4556a541fcc = L.circleMarker(\n",
       "                [37.56564, 127.019614],\n",
       "                {&quot;bubblingMouseEvents&quot;: true, &quot;color&quot;: &quot;#000000&quot;, &quot;dashArray&quot;: null, &quot;dashOffset&quot;: null, &quot;fill&quot;: &quot;#000000&quot;, &quot;fillColor&quot;: &quot;#000000&quot;, &quot;fillOpacity&quot;: 0.2, &quot;fillRule&quot;: &quot;evenodd&quot;, &quot;lineCap&quot;: &quot;round&quot;, &quot;lineJoin&quot;: &quot;round&quot;, &quot;opacity&quot;: 1.0, &quot;radius&quot;: 18, &quot;stroke&quot;: true, &quot;weight&quot;: 3}\n",
       "            ).addTo(map_d0684e81f5e8244b6b494bfec2f0f4ea);\n",
       "        \n",
       "    \n",
       "            circle_marker_bce76b5861e1ecdd9233a4556a541fcc.bindTooltip(\n",
       "                `&lt;div&gt;\n",
       "                     신당\n",
       "                 &lt;/div&gt;`,\n",
       "                {&quot;sticky&quot;: true}\n",
       "            );\n",
       "        \n",
       "    \n",
       "            var circle_marker_9f9448c4b3e7d5d078c290f36973b3ee = L.circleMarker(\n",
       "                [37.487462, 126.913149],\n",
       "                {&quot;bubblingMouseEvents&quot;: true, &quot;color&quot;: &quot;#3A01DF&quot;, &quot;dashArray&quot;: null, &quot;dashOffset&quot;: null, &quot;fill&quot;: &quot;#3A01DF&quot;, &quot;fillColor&quot;: &quot;#3A01DF&quot;, &quot;fillOpacity&quot;: 0.2, &quot;fillRule&quot;: &quot;evenodd&quot;, &quot;lineCap&quot;: &quot;round&quot;, &quot;lineJoin&quot;: &quot;round&quot;, &quot;opacity&quot;: 1.0, &quot;radius&quot;: 18, &quot;stroke&quot;: true, &quot;weight&quot;: 3}\n",
       "            ).addTo(map_d0684e81f5e8244b6b494bfec2f0f4ea);\n",
       "        \n",
       "    \n",
       "            circle_marker_9f9448c4b3e7d5d078c290f36973b3ee.bindTooltip(\n",
       "                `&lt;div&gt;\n",
       "                     신대방\n",
       "                 &lt;/div&gt;`,\n",
       "                {&quot;sticky&quot;: true}\n",
       "            );\n",
       "        \n",
       "    \n",
       "            var circle_marker_ffa5cb28cc3c31afd727fb907e954d71 = L.circleMarker(\n",
       "                [37.508961, 126.891084],\n",
       "                {&quot;bubblingMouseEvents&quot;: true, &quot;color&quot;: &quot;#000000&quot;, &quot;dashArray&quot;: null, &quot;dashOffset&quot;: null, &quot;fill&quot;: &quot;#000000&quot;, &quot;fillColor&quot;: &quot;#000000&quot;, &quot;fillOpacity&quot;: 0.2, &quot;fillRule&quot;: &quot;evenodd&quot;, &quot;lineCap&quot;: &quot;round&quot;, &quot;lineJoin&quot;: &quot;round&quot;, &quot;opacity&quot;: 1.0, &quot;radius&quot;: 18, &quot;stroke&quot;: true, &quot;weight&quot;: 3}\n",
       "            ).addTo(map_d0684e81f5e8244b6b494bfec2f0f4ea);\n",
       "        \n",
       "    \n",
       "            circle_marker_ffa5cb28cc3c31afd727fb907e954d71.bindTooltip(\n",
       "                `&lt;div&gt;\n",
       "                     신도림\n",
       "                 &lt;/div&gt;`,\n",
       "                {&quot;sticky&quot;: true}\n",
       "            );\n",
       "        \n",
       "    \n",
       "            var circle_marker_032edfdaa76422fd51ab75319b1c817d = L.circleMarker(\n",
       "                [37.484201, 126.929715],\n",
       "                {&quot;bubblingMouseEvents&quot;: true, &quot;color&quot;: &quot;#3A01DF&quot;, &quot;dashArray&quot;: null, &quot;dashOffset&quot;: null, &quot;fill&quot;: &quot;#3A01DF&quot;, &quot;fillColor&quot;: &quot;#3A01DF&quot;, &quot;fillOpacity&quot;: 0.2, &quot;fillRule&quot;: &quot;evenodd&quot;, &quot;lineCap&quot;: &quot;round&quot;, &quot;lineJoin&quot;: &quot;round&quot;, &quot;opacity&quot;: 1.0, &quot;radius&quot;: 18, &quot;stroke&quot;: true, &quot;weight&quot;: 3}\n",
       "            ).addTo(map_d0684e81f5e8244b6b494bfec2f0f4ea);\n",
       "        \n",
       "    \n",
       "            circle_marker_032edfdaa76422fd51ab75319b1c817d.bindTooltip(\n",
       "                `&lt;div&gt;\n",
       "                     신림\n",
       "                 &lt;/div&gt;`,\n",
       "                {&quot;sticky&quot;: true}\n",
       "            );\n",
       "        \n",
       "    \n",
       "            var circle_marker_a50002ee3231648c06605ef1ec5cbdba = L.circleMarker(\n",
       "                [37.574747, 127.024932],\n",
       "                {&quot;bubblingMouseEvents&quot;: true, &quot;color&quot;: &quot;#000000&quot;, &quot;dashArray&quot;: null, &quot;dashOffset&quot;: null, &quot;fill&quot;: &quot;#000000&quot;, &quot;fillColor&quot;: &quot;#000000&quot;, &quot;fillOpacity&quot;: 0.2, &quot;fillRule&quot;: &quot;evenodd&quot;, &quot;lineCap&quot;: &quot;round&quot;, &quot;lineJoin&quot;: &quot;round&quot;, &quot;opacity&quot;: 1.0, &quot;radius&quot;: 18, &quot;stroke&quot;: true, &quot;weight&quot;: 3}\n",
       "            ).addTo(map_d0684e81f5e8244b6b494bfec2f0f4ea);\n",
       "        \n",
       "    \n",
       "            circle_marker_a50002ee3231648c06605ef1ec5cbdba.bindTooltip(\n",
       "                `&lt;div&gt;\n",
       "                     신설동\n",
       "                 &lt;/div&gt;`,\n",
       "                {&quot;sticky&quot;: true}\n",
       "            );\n",
       "        \n",
       "    \n",
       "            var circle_marker_cdd16aaeb8227e1b8fd5264c4804e082 = L.circleMarker(\n",
       "                [37.520074, 126.852912],\n",
       "                {&quot;bubblingMouseEvents&quot;: true, &quot;color&quot;: &quot;#3A01DF&quot;, &quot;dashArray&quot;: null, &quot;dashOffset&quot;: null, &quot;fill&quot;: &quot;#3A01DF&quot;, &quot;fillColor&quot;: &quot;#3A01DF&quot;, &quot;fillOpacity&quot;: 0.2, &quot;fillRule&quot;: &quot;evenodd&quot;, &quot;lineCap&quot;: &quot;round&quot;, &quot;lineJoin&quot;: &quot;round&quot;, &quot;opacity&quot;: 1.0, &quot;radius&quot;: 18, &quot;stroke&quot;: true, &quot;weight&quot;: 3}\n",
       "            ).addTo(map_d0684e81f5e8244b6b494bfec2f0f4ea);\n",
       "        \n",
       "    \n",
       "            circle_marker_cdd16aaeb8227e1b8fd5264c4804e082.bindTooltip(\n",
       "                `&lt;div&gt;\n",
       "                     신정네거리\n",
       "                 &lt;/div&gt;`,\n",
       "                {&quot;sticky&quot;: true}\n",
       "            );\n",
       "        \n",
       "    \n",
       "            var circle_marker_d34419cfe646d6c32387e374eea27cd6 = L.circleMarker(\n",
       "                [37.555131, 126.936926],\n",
       "                {&quot;bubblingMouseEvents&quot;: true, &quot;color&quot;: &quot;#000000&quot;, &quot;dashArray&quot;: null, &quot;dashOffset&quot;: null, &quot;fill&quot;: &quot;#000000&quot;, &quot;fillColor&quot;: &quot;#000000&quot;, &quot;fillOpacity&quot;: 0.2, &quot;fillRule&quot;: &quot;evenodd&quot;, &quot;lineCap&quot;: &quot;round&quot;, &quot;lineJoin&quot;: &quot;round&quot;, &quot;opacity&quot;: 1.0, &quot;radius&quot;: 18, &quot;stroke&quot;: true, &quot;weight&quot;: 3}\n",
       "            ).addTo(map_d0684e81f5e8244b6b494bfec2f0f4ea);\n",
       "        \n",
       "    \n",
       "            circle_marker_d34419cfe646d6c32387e374eea27cd6.bindTooltip(\n",
       "                `&lt;div&gt;\n",
       "                     신촌\n",
       "                 &lt;/div&gt;`,\n",
       "                {&quot;sticky&quot;: true}\n",
       "            );\n",
       "        \n",
       "    \n",
       "            var circle_marker_6fa9adc9afb2f68563837f64f36aef41 = L.circleMarker(\n",
       "                [37.557345, 126.956141],\n",
       "                {&quot;bubblingMouseEvents&quot;: true, &quot;color&quot;: &quot;#3A01DF&quot;, &quot;dashArray&quot;: null, &quot;dashOffset&quot;: null, &quot;fill&quot;: &quot;#3A01DF&quot;, &quot;fillColor&quot;: &quot;#3A01DF&quot;, &quot;fillOpacity&quot;: 0.2, &quot;fillRule&quot;: &quot;evenodd&quot;, &quot;lineCap&quot;: &quot;round&quot;, &quot;lineJoin&quot;: &quot;round&quot;, &quot;opacity&quot;: 1.0, &quot;radius&quot;: 18, &quot;stroke&quot;: true, &quot;weight&quot;: 3}\n",
       "            ).addTo(map_d0684e81f5e8244b6b494bfec2f0f4ea);\n",
       "        \n",
       "    \n",
       "            circle_marker_6fa9adc9afb2f68563837f64f36aef41.bindTooltip(\n",
       "                `&lt;div&gt;\n",
       "                     아현\n",
       "                 &lt;/div&gt;`,\n",
       "                {&quot;sticky&quot;: true}\n",
       "            );\n",
       "        \n",
       "    \n",
       "            var circle_marker_553a72891d5eb16f368ecc6511e26de0 = L.circleMarker(\n",
       "                [37.512398, 126.865819],\n",
       "                {&quot;bubblingMouseEvents&quot;: true, &quot;color&quot;: &quot;#3A01DF&quot;, &quot;dashArray&quot;: null, &quot;dashOffset&quot;: null, &quot;fill&quot;: &quot;#3A01DF&quot;, &quot;fillColor&quot;: &quot;#3A01DF&quot;, &quot;fillOpacity&quot;: 0.2, &quot;fillRule&quot;: &quot;evenodd&quot;, &quot;lineCap&quot;: &quot;round&quot;, &quot;lineJoin&quot;: &quot;round&quot;, &quot;opacity&quot;: 1.0, &quot;radius&quot;: 18, &quot;stroke&quot;: true, &quot;weight&quot;: 3}\n",
       "            ).addTo(map_d0684e81f5e8244b6b494bfec2f0f4ea);\n",
       "        \n",
       "    \n",
       "            circle_marker_553a72891d5eb16f368ecc6511e26de0.bindTooltip(\n",
       "                `&lt;div&gt;\n",
       "                     양천구청\n",
       "                 &lt;/div&gt;`,\n",
       "                {&quot;sticky&quot;: true}\n",
       "            );\n",
       "        \n",
       "    \n",
       "            var circle_marker_72536112b1924c109aff004f1c8b5b8a = L.circleMarker(\n",
       "                [37.500622, 127.036456],\n",
       "                {&quot;bubblingMouseEvents&quot;: true, &quot;color&quot;: &quot;#DF0101&quot;, &quot;dashArray&quot;: null, &quot;dashOffset&quot;: null, &quot;fill&quot;: &quot;#DF0101&quot;, &quot;fillColor&quot;: &quot;#DF0101&quot;, &quot;fillOpacity&quot;: 0.2, &quot;fillRule&quot;: &quot;evenodd&quot;, &quot;lineCap&quot;: &quot;round&quot;, &quot;lineJoin&quot;: &quot;round&quot;, &quot;opacity&quot;: 1.0, &quot;radius&quot;: 18, &quot;stroke&quot;: true, &quot;weight&quot;: 3}\n",
       "            ).addTo(map_d0684e81f5e8244b6b494bfec2f0f4ea);\n",
       "        \n",
       "    \n",
       "            circle_marker_72536112b1924c109aff004f1c8b5b8a.bindTooltip(\n",
       "                `&lt;div&gt;\n",
       "                     역삼\n",
       "                 &lt;/div&gt;`,\n",
       "                {&quot;sticky&quot;: true}\n",
       "            );\n",
       "        \n",
       "    \n",
       "            var circle_marker_96c3a9ff910acfa1280659fe90805476 = L.circleMarker(\n",
       "                [37.525706, 126.89661],\n",
       "                {&quot;bubblingMouseEvents&quot;: true, &quot;color&quot;: &quot;#000000&quot;, &quot;dashArray&quot;: null, &quot;dashOffset&quot;: null, &quot;fill&quot;: &quot;#000000&quot;, &quot;fillColor&quot;: &quot;#000000&quot;, &quot;fillOpacity&quot;: 0.2, &quot;fillRule&quot;: &quot;evenodd&quot;, &quot;lineCap&quot;: &quot;round&quot;, &quot;lineJoin&quot;: &quot;round&quot;, &quot;opacity&quot;: 1.0, &quot;radius&quot;: 18, &quot;stroke&quot;: true, &quot;weight&quot;: 3}\n",
       "            ).addTo(map_d0684e81f5e8244b6b494bfec2f0f4ea);\n",
       "        \n",
       "    \n",
       "            circle_marker_96c3a9ff910acfa1280659fe90805476.bindTooltip(\n",
       "                `&lt;div&gt;\n",
       "                     영등포구청\n",
       "                 &lt;/div&gt;`,\n",
       "                {&quot;sticky&quot;: true}\n",
       "            );\n",
       "        \n",
       "    \n",
       "            var circle_marker_8ebc09bbcfacd5986b81ff3a886ee599 = L.circleMarker(\n",
       "                [37.561238, 127.036954],\n",
       "                {&quot;bubblingMouseEvents&quot;: true, &quot;color&quot;: &quot;#000000&quot;, &quot;dashArray&quot;: null, &quot;dashOffset&quot;: null, &quot;fill&quot;: &quot;#000000&quot;, &quot;fillColor&quot;: &quot;#000000&quot;, &quot;fillOpacity&quot;: 0.2, &quot;fillRule&quot;: &quot;evenodd&quot;, &quot;lineCap&quot;: &quot;round&quot;, &quot;lineJoin&quot;: &quot;round&quot;, &quot;opacity&quot;: 1.0, &quot;radius&quot;: 18, &quot;stroke&quot;: true, &quot;weight&quot;: 3}\n",
       "            ).addTo(map_d0684e81f5e8244b6b494bfec2f0f4ea);\n",
       "        \n",
       "    \n",
       "            circle_marker_8ebc09bbcfacd5986b81ff3a886ee599.bindTooltip(\n",
       "                `&lt;div&gt;\n",
       "                     왕십리\n",
       "                 &lt;/div&gt;`,\n",
       "                {&quot;sticky&quot;: true}\n",
       "            );\n",
       "        \n",
       "    \n",
       "            var circle_marker_001a8c5b124607851cd7fe08ec44dd7b = L.circleMarker(\n",
       "                [37.561904, 127.050899],\n",
       "                {&quot;bubblingMouseEvents&quot;: true, &quot;color&quot;: &quot;#3A01DF&quot;, &quot;dashArray&quot;: null, &quot;dashOffset&quot;: null, &quot;fill&quot;: &quot;#3A01DF&quot;, &quot;fillColor&quot;: &quot;#3A01DF&quot;, &quot;fillOpacity&quot;: 0.2, &quot;fillRule&quot;: &quot;evenodd&quot;, &quot;lineCap&quot;: &quot;round&quot;, &quot;lineJoin&quot;: &quot;round&quot;, &quot;opacity&quot;: 1.0, &quot;radius&quot;: 18, &quot;stroke&quot;: true, &quot;weight&quot;: 3}\n",
       "            ).addTo(map_d0684e81f5e8244b6b494bfec2f0f4ea);\n",
       "        \n",
       "    \n",
       "            circle_marker_001a8c5b124607851cd7fe08ec44dd7b.bindTooltip(\n",
       "                `&lt;div&gt;\n",
       "                     용답\n",
       "                 &lt;/div&gt;`,\n",
       "                {&quot;sticky&quot;: true}\n",
       "            );\n",
       "        \n",
       "    \n",
       "            var circle_marker_a63c8db4c6e6b30545cf5e500aa12196 = L.circleMarker(\n",
       "                [37.574028, 127.038091],\n",
       "                {&quot;bubblingMouseEvents&quot;: true, &quot;color&quot;: &quot;#3A01DF&quot;, &quot;dashArray&quot;: null, &quot;dashOffset&quot;: null, &quot;fill&quot;: &quot;#3A01DF&quot;, &quot;fillColor&quot;: &quot;#3A01DF&quot;, &quot;fillOpacity&quot;: 0.2, &quot;fillRule&quot;: &quot;evenodd&quot;, &quot;lineCap&quot;: &quot;round&quot;, &quot;lineJoin&quot;: &quot;round&quot;, &quot;opacity&quot;: 1.0, &quot;radius&quot;: 18, &quot;stroke&quot;: true, &quot;weight&quot;: 3}\n",
       "            ).addTo(map_d0684e81f5e8244b6b494bfec2f0f4ea);\n",
       "        \n",
       "    \n",
       "            circle_marker_a63c8db4c6e6b30545cf5e500aa12196.bindTooltip(\n",
       "                `&lt;div&gt;\n",
       "                     용두\n",
       "                 &lt;/div&gt;`,\n",
       "                {&quot;sticky&quot;: true}\n",
       "            );\n",
       "        \n",
       "    \n",
       "            var circle_marker_6450eb0307c08c27d5ec9b8d938ee7ce = L.circleMarker(\n",
       "                [37.566306, 126.991696],\n",
       "                {&quot;bubblingMouseEvents&quot;: true, &quot;color&quot;: &quot;#DF0101&quot;, &quot;dashArray&quot;: null, &quot;dashOffset&quot;: null, &quot;fill&quot;: &quot;#DF0101&quot;, &quot;fillColor&quot;: &quot;#DF0101&quot;, &quot;fillOpacity&quot;: 0.2, &quot;fillRule&quot;: &quot;evenodd&quot;, &quot;lineCap&quot;: &quot;round&quot;, &quot;lineJoin&quot;: &quot;round&quot;, &quot;opacity&quot;: 1.0, &quot;radius&quot;: 18, &quot;stroke&quot;: true, &quot;weight&quot;: 3}\n",
       "            ).addTo(map_d0684e81f5e8244b6b494bfec2f0f4ea);\n",
       "        \n",
       "    \n",
       "            circle_marker_6450eb0307c08c27d5ec9b8d938ee7ce.bindTooltip(\n",
       "                `&lt;div&gt;\n",
       "                     을지로3가\n",
       "                 &lt;/div&gt;`,\n",
       "                {&quot;sticky&quot;: true}\n",
       "            );\n",
       "        \n",
       "    \n",
       "            var circle_marker_c8c3d4f3f40f07b670d98db85f29f672 = L.circleMarker(\n",
       "                [37.566595, 126.997817],\n",
       "                {&quot;bubblingMouseEvents&quot;: true, &quot;color&quot;: &quot;#DF0101&quot;, &quot;dashArray&quot;: null, &quot;dashOffset&quot;: null, &quot;fill&quot;: &quot;#DF0101&quot;, &quot;fillColor&quot;: &quot;#DF0101&quot;, &quot;fillOpacity&quot;: 0.2, &quot;fillRule&quot;: &quot;evenodd&quot;, &quot;lineCap&quot;: &quot;round&quot;, &quot;lineJoin&quot;: &quot;round&quot;, &quot;opacity&quot;: 1.0, &quot;radius&quot;: 18, &quot;stroke&quot;: true, &quot;weight&quot;: 3}\n",
       "            ).addTo(map_d0684e81f5e8244b6b494bfec2f0f4ea);\n",
       "        \n",
       "    \n",
       "            circle_marker_c8c3d4f3f40f07b670d98db85f29f672.bindTooltip(\n",
       "                `&lt;div&gt;\n",
       "                     을지로4가\n",
       "                 &lt;/div&gt;`,\n",
       "                {&quot;sticky&quot;: true}\n",
       "            );\n",
       "        \n",
       "    \n",
       "            var circle_marker_bdc88f19f34f523f0d66ca81d10135f7 = L.circleMarker(\n",
       "                [37.566014, 126.982618],\n",
       "                {&quot;bubblingMouseEvents&quot;: true, &quot;color&quot;: &quot;#DF0101&quot;, &quot;dashArray&quot;: null, &quot;dashOffset&quot;: null, &quot;fill&quot;: &quot;#DF0101&quot;, &quot;fillColor&quot;: &quot;#DF0101&quot;, &quot;fillOpacity&quot;: 0.2, &quot;fillRule&quot;: &quot;evenodd&quot;, &quot;lineCap&quot;: &quot;round&quot;, &quot;lineJoin&quot;: &quot;round&quot;, &quot;opacity&quot;: 1.0, &quot;radius&quot;: 18, &quot;stroke&quot;: true, &quot;weight&quot;: 3}\n",
       "            ).addTo(map_d0684e81f5e8244b6b494bfec2f0f4ea);\n",
       "        \n",
       "    \n",
       "            circle_marker_bdc88f19f34f523f0d66ca81d10135f7.bindTooltip(\n",
       "                `&lt;div&gt;\n",
       "                     을지로입구\n",
       "                 &lt;/div&gt;`,\n",
       "                {&quot;sticky&quot;: true}\n",
       "            );\n",
       "        \n",
       "    \n",
       "            var circle_marker_de8a5493f8d9a7d6b78315dd5638719a = L.circleMarker(\n",
       "                [37.556733, 126.946013],\n",
       "                {&quot;bubblingMouseEvents&quot;: true, &quot;color&quot;: &quot;#000000&quot;, &quot;dashArray&quot;: null, &quot;dashOffset&quot;: null, &quot;fill&quot;: &quot;#000000&quot;, &quot;fillColor&quot;: &quot;#000000&quot;, &quot;fillOpacity&quot;: 0.2, &quot;fillRule&quot;: &quot;evenodd&quot;, &quot;lineCap&quot;: &quot;round&quot;, &quot;lineJoin&quot;: &quot;round&quot;, &quot;opacity&quot;: 1.0, &quot;radius&quot;: 18, &quot;stroke&quot;: true, &quot;weight&quot;: 3}\n",
       "            ).addTo(map_d0684e81f5e8244b6b494bfec2f0f4ea);\n",
       "        \n",
       "    \n",
       "            circle_marker_de8a5493f8d9a7d6b78315dd5638719a.bindTooltip(\n",
       "                `&lt;div&gt;\n",
       "                     이대\n",
       "                 &lt;/div&gt;`,\n",
       "                {&quot;sticky&quot;: true}\n",
       "            );\n",
       "        \n",
       "    \n",
       "            var circle_marker_692343bf042c12b69edaedbe3313fbf3 = L.circleMarker(\n",
       "                [37.513262, 127.100159],\n",
       "                {&quot;bubblingMouseEvents&quot;: true, &quot;color&quot;: &quot;#000000&quot;, &quot;dashArray&quot;: null, &quot;dashOffset&quot;: null, &quot;fill&quot;: &quot;#000000&quot;, &quot;fillColor&quot;: &quot;#000000&quot;, &quot;fillOpacity&quot;: 0.2, &quot;fillRule&quot;: &quot;evenodd&quot;, &quot;lineCap&quot;: &quot;round&quot;, &quot;lineJoin&quot;: &quot;round&quot;, &quot;opacity&quot;: 1.0, &quot;radius&quot;: 18, &quot;stroke&quot;: true, &quot;weight&quot;: 3}\n",
       "            ).addTo(map_d0684e81f5e8244b6b494bfec2f0f4ea);\n",
       "        \n",
       "    \n",
       "            circle_marker_692343bf042c12b69edaedbe3313fbf3.bindTooltip(\n",
       "                `&lt;div&gt;\n",
       "                     잠실\n",
       "                 &lt;/div&gt;`,\n",
       "                {&quot;sticky&quot;: true}\n",
       "            );\n",
       "        \n",
       "    \n",
       "            var circle_marker_d11f0287a486ef0eb81e3f31295a5b29 = L.circleMarker(\n",
       "                [37.520733, 127.10379],\n",
       "                {&quot;bubblingMouseEvents&quot;: true, &quot;color&quot;: &quot;#3A01DF&quot;, &quot;dashArray&quot;: null, &quot;dashOffset&quot;: null, &quot;fill&quot;: &quot;#3A01DF&quot;, &quot;fillColor&quot;: &quot;#3A01DF&quot;, &quot;fillOpacity&quot;: 0.2, &quot;fillRule&quot;: &quot;evenodd&quot;, &quot;lineCap&quot;: &quot;round&quot;, &quot;lineJoin&quot;: &quot;round&quot;, &quot;opacity&quot;: 1.0, &quot;radius&quot;: 18, &quot;stroke&quot;: true, &quot;weight&quot;: 3}\n",
       "            ).addTo(map_d0684e81f5e8244b6b494bfec2f0f4ea);\n",
       "        \n",
       "    \n",
       "            circle_marker_d11f0287a486ef0eb81e3f31295a5b29.bindTooltip(\n",
       "                `&lt;div&gt;\n",
       "                     잠실나루\n",
       "                 &lt;/div&gt;`,\n",
       "                {&quot;sticky&quot;: true}\n",
       "            );\n",
       "        \n",
       "    \n",
       "            var circle_marker_3882a984b90b44573e91946734420f1c = L.circleMarker(\n",
       "                [37.511687, 127.086162],\n",
       "                {&quot;bubblingMouseEvents&quot;: true, &quot;color&quot;: &quot;#3A01DF&quot;, &quot;dashArray&quot;: null, &quot;dashOffset&quot;: null, &quot;fill&quot;: &quot;#3A01DF&quot;, &quot;fillColor&quot;: &quot;#3A01DF&quot;, &quot;fillOpacity&quot;: 0.2, &quot;fillRule&quot;: &quot;evenodd&quot;, &quot;lineCap&quot;: &quot;round&quot;, &quot;lineJoin&quot;: &quot;round&quot;, &quot;opacity&quot;: 1.0, &quot;radius&quot;: 18, &quot;stroke&quot;: true, &quot;weight&quot;: 3}\n",
       "            ).addTo(map_d0684e81f5e8244b6b494bfec2f0f4ea);\n",
       "        \n",
       "    \n",
       "            circle_marker_3882a984b90b44573e91946734420f1c.bindTooltip(\n",
       "                `&lt;div&gt;\n",
       "                     잠실새내\n",
       "                 &lt;/div&gt;`,\n",
       "                {&quot;sticky&quot;: true}\n",
       "            );\n",
       "        \n",
       "    \n",
       "            var circle_marker_da7e75d22d66ed93d6f0872de34b902c = L.circleMarker(\n",
       "                [37.511022, 127.073704],\n",
       "                {&quot;bubblingMouseEvents&quot;: true, &quot;color&quot;: &quot;#000000&quot;, &quot;dashArray&quot;: null, &quot;dashOffset&quot;: null, &quot;fill&quot;: &quot;#000000&quot;, &quot;fillColor&quot;: &quot;#000000&quot;, &quot;fillOpacity&quot;: 0.2, &quot;fillRule&quot;: &quot;evenodd&quot;, &quot;lineCap&quot;: &quot;round&quot;, &quot;lineJoin&quot;: &quot;round&quot;, &quot;opacity&quot;: 1.0, &quot;radius&quot;: 18, &quot;stroke&quot;: true, &quot;weight&quot;: 3}\n",
       "            ).addTo(map_d0684e81f5e8244b6b494bfec2f0f4ea);\n",
       "        \n",
       "    \n",
       "            circle_marker_da7e75d22d66ed93d6f0872de34b902c.bindTooltip(\n",
       "                `&lt;div&gt;\n",
       "                     종합운동장\n",
       "                 &lt;/div&gt;`,\n",
       "                {&quot;sticky&quot;: true}\n",
       "            );\n",
       "        \n",
       "    \n",
       "            var circle_marker_fb719d03490dac85d9eeeb3a7d36c5f3 = L.circleMarker(\n",
       "                [37.559704, 126.964378],\n",
       "                {&quot;bubblingMouseEvents&quot;: true, &quot;color&quot;: &quot;#000000&quot;, &quot;dashArray&quot;: null, &quot;dashOffset&quot;: null, &quot;fill&quot;: &quot;#000000&quot;, &quot;fillColor&quot;: &quot;#000000&quot;, &quot;fillOpacity&quot;: 0.2, &quot;fillRule&quot;: &quot;evenodd&quot;, &quot;lineCap&quot;: &quot;round&quot;, &quot;lineJoin&quot;: &quot;round&quot;, &quot;opacity&quot;: 1.0, &quot;radius&quot;: 18, &quot;stroke&quot;: true, &quot;weight&quot;: 3}\n",
       "            ).addTo(map_d0684e81f5e8244b6b494bfec2f0f4ea);\n",
       "        \n",
       "    \n",
       "            circle_marker_fb719d03490dac85d9eeeb3a7d36c5f3.bindTooltip(\n",
       "                `&lt;div&gt;\n",
       "                     충정로\n",
       "                 &lt;/div&gt;`,\n",
       "                {&quot;sticky&quot;: true}\n",
       "            );\n",
       "        \n",
       "    \n",
       "            var circle_marker_054cbe1c55797c626f95f12a33ae92fb = L.circleMarker(\n",
       "                [37.555273, 127.043655],\n",
       "                {&quot;bubblingMouseEvents&quot;: true, &quot;color&quot;: &quot;#DF0101&quot;, &quot;dashArray&quot;: null, &quot;dashOffset&quot;: null, &quot;fill&quot;: &quot;#DF0101&quot;, &quot;fillColor&quot;: &quot;#DF0101&quot;, &quot;fillOpacity&quot;: 0.2, &quot;fillRule&quot;: &quot;evenodd&quot;, &quot;lineCap&quot;: &quot;round&quot;, &quot;lineJoin&quot;: &quot;round&quot;, &quot;opacity&quot;: 1.0, &quot;radius&quot;: 18, &quot;stroke&quot;: true, &quot;weight&quot;: 3}\n",
       "            ).addTo(map_d0684e81f5e8244b6b494bfec2f0f4ea);\n",
       "        \n",
       "    \n",
       "            circle_marker_054cbe1c55797c626f95f12a33ae92fb.bindTooltip(\n",
       "                `&lt;div&gt;\n",
       "                     한양대\n",
       "                 &lt;/div&gt;`,\n",
       "                {&quot;sticky&quot;: true}\n",
       "            );\n",
       "        \n",
       "    \n",
       "            var circle_marker_2096fa7f8b4fa52179d52d9b71066dc7 = L.circleMarker(\n",
       "                [37.549457, 126.913808],\n",
       "                {&quot;bubblingMouseEvents&quot;: true, &quot;color&quot;: &quot;#000000&quot;, &quot;dashArray&quot;: null, &quot;dashOffset&quot;: null, &quot;fill&quot;: &quot;#000000&quot;, &quot;fillColor&quot;: &quot;#000000&quot;, &quot;fillOpacity&quot;: 0.2, &quot;fillRule&quot;: &quot;evenodd&quot;, &quot;lineCap&quot;: &quot;round&quot;, &quot;lineJoin&quot;: &quot;round&quot;, &quot;opacity&quot;: 1.0, &quot;radius&quot;: 18, &quot;stroke&quot;: true, &quot;weight&quot;: 3}\n",
       "            ).addTo(map_d0684e81f5e8244b6b494bfec2f0f4ea);\n",
       "        \n",
       "    \n",
       "            circle_marker_2096fa7f8b4fa52179d52d9b71066dc7.bindTooltip(\n",
       "                `&lt;div&gt;\n",
       "                     합정\n",
       "                 &lt;/div&gt;`,\n",
       "                {&quot;sticky&quot;: true}\n",
       "            );\n",
       "        \n",
       "    \n",
       "            var circle_marker_6eba16d438f2a754ba1934211d66fca4 = L.circleMarker(\n",
       "                [37.55679, 126.923708],\n",
       "                {&quot;bubblingMouseEvents&quot;: true, &quot;color&quot;: &quot;#000000&quot;, &quot;dashArray&quot;: null, &quot;dashOffset&quot;: null, &quot;fill&quot;: &quot;#000000&quot;, &quot;fillColor&quot;: &quot;#000000&quot;, &quot;fillOpacity&quot;: 0.2, &quot;fillRule&quot;: &quot;evenodd&quot;, &quot;lineCap&quot;: &quot;round&quot;, &quot;lineJoin&quot;: &quot;round&quot;, &quot;opacity&quot;: 1.0, &quot;radius&quot;: 18, &quot;stroke&quot;: true, &quot;weight&quot;: 3}\n",
       "            ).addTo(map_d0684e81f5e8244b6b494bfec2f0f4ea);\n",
       "        \n",
       "    \n",
       "            circle_marker_6eba16d438f2a754ba1934211d66fca4.bindTooltip(\n",
       "                `&lt;div&gt;\n",
       "                     홍대입구\n",
       "                 &lt;/div&gt;`,\n",
       "                {&quot;sticky&quot;: true}\n",
       "            );\n",
       "        \n",
       "&lt;/script&gt;\n",
       "&lt;/html&gt;\" style=\"position:absolute;width:100%;height:100%;left:0;top:0;border:none !important;\" allowfullscreen webkitallowfullscreen mozallowfullscreen></iframe></div></div>"
      ],
      "text/plain": [
       "<folium.folium.Map at 0x1b6c38ca920>"
      ]
     },
     "execution_count": 114,
     "metadata": {},
     "output_type": "execute_result"
    }
   ],
   "source": [
    "for idx in hour_mean_coor.index:\n",
    "    lat = hour_mean_coor.loc[idx, '위도']\n",
    "    long = hour_mean_coor.loc[idx, '경도']\n",
    "    title = hour_mean_coor.loc[idx, '지하철역']\n",
    "\n",
    "    if hour_mean_coor.loc[idx, 'cluster'] == '0':\n",
    "        color = '#000000'\n",
    "    elif hour_mean_coor.loc[idx, 'cluster'] == '1':\n",
    "        color = '#3A01DF'\n",
    "    else:\n",
    "        color = '#DF0101'\n",
    "    \n",
    "    folium.CircleMarker([lat, long],\n",
    "                        radius = 18,\n",
    "                        color = color,\n",
    "                        fill = color,\n",
    "                        tooltip = title).add_to(m)\n",
    "m"
   ]
  }
 ],
 "metadata": {
  "kernelspec": {
   "display_name": "base",
   "language": "python",
   "name": "python3"
  },
  "language_info": {
   "codemirror_mode": {
    "name": "ipython",
    "version": 3
   },
   "file_extension": ".py",
   "mimetype": "text/x-python",
   "name": "python",
   "nbconvert_exporter": "python",
   "pygments_lexer": "ipython3",
   "version": "3.10.9"
  }
 },
 "nbformat": 4,
 "nbformat_minor": 2
}
